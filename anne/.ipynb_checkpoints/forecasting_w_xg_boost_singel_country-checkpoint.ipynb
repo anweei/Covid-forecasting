{
 "cells": [
  {
   "cell_type": "code",
   "execution_count": 1,
   "metadata": {},
   "outputs": [],
   "source": [
    "#pip install catboost <- run first time this notebook is executed"
   ]
  },
  {
   "cell_type": "code",
   "execution_count": 2,
   "metadata": {},
   "outputs": [],
   "source": [
    "import pandas as pd\n",
    "from catboost import CatBoostRegressor\n",
    "import datetime\n",
    "from sklearn import preprocessing\n",
    "import numpy as np\n",
    "from matplotlib import pyplot as plt"
   ]
  },
  {
   "cell_type": "code",
   "execution_count": 3,
   "metadata": {},
   "outputs": [],
   "source": [
    "import warnings\n",
    "warnings.filterwarnings('ignore')"
   ]
  },
  {
   "cell_type": "code",
   "execution_count": 4,
   "metadata": {},
   "outputs": [],
   "source": [
    "df = pd.read_parquet('dataframe_cases_per_day.parquet')"
   ]
  },
  {
   "cell_type": "code",
   "execution_count": 5,
   "metadata": {},
   "outputs": [],
   "source": [
    "df_add = pd.read_parquet('dataframe_prophet_format.parquet')"
   ]
  },
  {
   "cell_type": "code",
   "execution_count": 6,
   "metadata": {},
   "outputs": [],
   "source": [
    "df['cases_tot'] = df_add['Cases']"
   ]
  },
  {
   "cell_type": "code",
   "execution_count": 7,
   "metadata": {},
   "outputs": [],
   "source": [
    "df.set_index('Date', inplace=True)"
   ]
  },
  {
   "cell_type": "code",
   "execution_count": 8,
   "metadata": {},
   "outputs": [],
   "source": [
    "def predict_horizon(model, training_df, test_df, feature_list, num_predictions=8):\n",
    "    start_period = 0\n",
    "    end_period = num_predictions\n",
    "    prediction_list = []\n",
    "    MAPE_list = []\n",
    "    \n",
    "    # We generate an encoder for ns feature\n",
    "    if 'Country' in feature_list:\n",
    "        ns_encoder = preprocessing.LabelEncoder()\n",
    "        training_df['Country'] =  ns_encoder.fit_transform(training_df['Country'])\n",
    "    \n",
    "    x_training_df = training_df[feature_list].copy()\n",
    "    y_training_df = training_df['Cases'].copy().to_frame()\n",
    "    model.fit(x_training_df, np.ravel(y_training_df))\n",
    "    \n",
    "    # Predicting on test set, while end period is not equal to end of length of test_df\n",
    "    while end_period <= len(test_df):\n",
    "        # Collect features from start to end (67 hours) and predict\n",
    "        features_df = test_df[feature_list][start_period:end_period].copy()\n",
    "        if 'Country' in feature_list:\n",
    "            features_df['Country'] = ns_encoder.transform(features_df['Country'])\n",
    "        true_df = test_df[['Cases']][start_period:end_period].copy()\n",
    "        predictions = model.predict(features_df)\n",
    "       \n",
    "        # Add the predicted data\n",
    "        predicted_df = pd.DataFrame(predictions, columns=['predicted'])\n",
    "        predicted_df.index = true_df.index.copy()        \n",
    "        prediction_list.extend(predictions)\n",
    "        # Calculate MAPE per prediction (hour) and MAPE per horizon\n",
    "        MAPE_list.extend(MAPE(true_df, predicted_df, whole_horizon=False))\n",
    "        # Move to next period\n",
    "        start_period += 1\n",
    "        end_period += 1\n",
    "    \n",
    "    test_df = test_df.assign(Predicted=prediction_list)\n",
    "    test_df = test_df.assign(MAPE_values=MAPE_list)    \n",
    "    return test_df\n"
   ]
  },
  {
   "cell_type": "code",
   "execution_count": 9,
   "metadata": {},
   "outputs": [],
   "source": [
    "def MAPE(true_df, predicted_df, column_name = 'Cases', whole_horizon=True):\n",
    "    \"\"\"\"\"Mean absolute percent error\n",
    "    Parameters\n",
    "    ----------\n",
    "    true_df         : a Dataframe with observed/true values\n",
    "    predicted_df    : a Dataframe with predicted values\n",
    "    column_name     : name of the column in the DF with the true/predicted values (assuming same name)\n",
    " \n",
    "    Returns\n",
    "    -------\n",
    "    If whole_horizon==True, a unique MAPE value for the whole horizon\n",
    "    If whole_horizon==False, a vector of MAPE values for each hour of the predicted horizon\n",
    "    \"\"\"\n",
    "    # Check for zero values in the true vector\n",
    "    if true_df[column_name].isin([0]).any():\n",
    "            print('True_df contains a 0 error, will result in nan in MAPE')\n",
    "    # \n",
    "    sum_observed = true_df['Cases'].sum()\n",
    "    abs_error_predicted = np.abs(true_df['Cases']-predicted_df['predicted'])\n",
    "    #\n",
    "    if whole_horizon == True:\n",
    "        MAPE = 100 * abs_error_predicted.sum() / sum_observed\n",
    "    else:\n",
    "        MAPE = 100 * abs_error_predicted / (sum_observed/len(true_df))\n",
    "    #\n",
    "    return MAPE"
   ]
  },
  {
   "cell_type": "code",
   "execution_count": 10,
   "metadata": {},
   "outputs": [],
   "source": [
    "def true_predicted_fig(true_df, predicted_df, title_str):\n",
    "    fig,ax = plt.subplots(figsize=[12,4])\n",
    "    p_t_max = np.max(np.maximum(true_df[:8]['Cases'].values,predicted_df[:8]['Predicted'].values))\n",
    "    p_t_min = np.min(np.minimum(true_df[:8]['Cases'].values,predicted_df[:8]['Predicted'].values))\n",
    "    t1 = ax.plot(true_df.index[:8], true_df[:8]['Cases'], 'black')\n",
    "    ax.set_ylabel('Cases')\n",
    "    ax.tick_params(axis='x', rotation=45)\n",
    "    ax.set_title(title_str)\n",
    "    p1 = ax.plot(predicted_df.index[:8], predicted_df[:8]['Predicted'], 'Red', linewidth=3)\n",
    "    ax.legend((t1[0], p1[0]), ('True', 'Predicted'), loc=1, frameon=True)\n",
    "    #ax.set_ylim(p_t_min-0.1*p_t_min, p_t_max+0.1*p_t_min)\n"
   ]
  },
  {
   "cell_type": "markdown",
   "metadata": {},
   "source": [
    "## K-means z trans, cluster 1"
   ]
  },
  {
   "cell_type": "code",
   "execution_count": 11,
   "metadata": {},
   "outputs": [],
   "source": [
    "cluster_1_countries = pd.read_parquet('../common/clustering_results/df_kmeans_z_0.parquet')"
   ]
  },
  {
   "cell_type": "code",
   "execution_count": 12,
   "metadata": {},
   "outputs": [],
   "source": [
    "cluster_1_countries_list = list(cluster_1_countries.columns)"
   ]
  },
  {
   "cell_type": "code",
   "execution_count": 13,
   "metadata": {},
   "outputs": [],
   "source": [
    "cluster_1_countries_list.remove('Ecuador')"
   ]
  },
  {
   "cell_type": "code",
   "execution_count": 14,
   "metadata": {},
   "outputs": [],
   "source": [
    "df_1 = df[df['Country'].isin(cluster_1_countries_list)]"
   ]
  },
  {
   "cell_type": "code",
   "execution_count": 15,
   "metadata": {},
   "outputs": [],
   "source": [
    "#Add feature"
   ]
  },
  {
   "cell_type": "code",
   "execution_count": 16,
   "metadata": {},
   "outputs": [],
   "source": [
    "df_1['Month'] = df_1.index.month\n",
    "df_1['Day'] = df_1.index.weekday"
   ]
  },
  {
   "cell_type": "code",
   "execution_count": 17,
   "metadata": {},
   "outputs": [],
   "source": [
    "df_1['prev_case'] = df_1['Cases'].shift(periods=1)"
   ]
  },
  {
   "cell_type": "code",
   "execution_count": 18,
   "metadata": {},
   "outputs": [],
   "source": [
    "startDate = datetime.datetime(2020, 3, 1)"
   ]
  },
  {
   "cell_type": "code",
   "execution_count": 19,
   "metadata": {},
   "outputs": [],
   "source": [
    "df_1.prev_case[df_1.index==startDate] = 0"
   ]
  },
  {
   "cell_type": "code",
   "execution_count": 20,
   "metadata": {},
   "outputs": [],
   "source": [
    "df_1['Weekend'] = ((pd.DatetimeIndex(df_1.index).dayofweek) // 5 == 1).astype(float)"
   ]
  },
  {
   "cell_type": "code",
   "execution_count": 21,
   "metadata": {},
   "outputs": [
    {
     "data": {
      "text/html": [
       "<div>\n",
       "<style scoped>\n",
       "    .dataframe tbody tr th:only-of-type {\n",
       "        vertical-align: middle;\n",
       "    }\n",
       "\n",
       "    .dataframe tbody tr th {\n",
       "        vertical-align: top;\n",
       "    }\n",
       "\n",
       "    .dataframe thead th {\n",
       "        text-align: right;\n",
       "    }\n",
       "</style>\n",
       "<table border=\"1\" class=\"dataframe\">\n",
       "  <thead>\n",
       "    <tr style=\"text-align: right;\">\n",
       "      <th></th>\n",
       "      <th>Cases</th>\n",
       "      <th>Country</th>\n",
       "      <th>cases_tot</th>\n",
       "      <th>Month</th>\n",
       "      <th>Day</th>\n",
       "      <th>prev_case</th>\n",
       "      <th>Weekend</th>\n",
       "    </tr>\n",
       "    <tr>\n",
       "      <th>Date</th>\n",
       "      <th></th>\n",
       "      <th></th>\n",
       "      <th></th>\n",
       "      <th></th>\n",
       "      <th></th>\n",
       "      <th></th>\n",
       "      <th></th>\n",
       "    </tr>\n",
       "  </thead>\n",
       "  <tbody>\n",
       "    <tr>\n",
       "      <th>2020-03-01</th>\n",
       "      <td>0.0</td>\n",
       "      <td>Bangladesh</td>\n",
       "      <td>0.0</td>\n",
       "      <td>3</td>\n",
       "      <td>6</td>\n",
       "      <td>0.0</td>\n",
       "      <td>1.0</td>\n",
       "    </tr>\n",
       "    <tr>\n",
       "      <th>2020-03-02</th>\n",
       "      <td>0.0</td>\n",
       "      <td>Bangladesh</td>\n",
       "      <td>0.0</td>\n",
       "      <td>3</td>\n",
       "      <td>0</td>\n",
       "      <td>0.0</td>\n",
       "      <td>0.0</td>\n",
       "    </tr>\n",
       "    <tr>\n",
       "      <th>2020-03-03</th>\n",
       "      <td>0.0</td>\n",
       "      <td>Bangladesh</td>\n",
       "      <td>0.0</td>\n",
       "      <td>3</td>\n",
       "      <td>1</td>\n",
       "      <td>0.0</td>\n",
       "      <td>0.0</td>\n",
       "    </tr>\n",
       "    <tr>\n",
       "      <th>2020-03-04</th>\n",
       "      <td>0.0</td>\n",
       "      <td>Bangladesh</td>\n",
       "      <td>0.0</td>\n",
       "      <td>3</td>\n",
       "      <td>2</td>\n",
       "      <td>0.0</td>\n",
       "      <td>0.0</td>\n",
       "    </tr>\n",
       "    <tr>\n",
       "      <th>2020-03-05</th>\n",
       "      <td>0.0</td>\n",
       "      <td>Bangladesh</td>\n",
       "      <td>0.0</td>\n",
       "      <td>3</td>\n",
       "      <td>3</td>\n",
       "      <td>0.0</td>\n",
       "      <td>0.0</td>\n",
       "    </tr>\n",
       "    <tr>\n",
       "      <th>...</th>\n",
       "      <td>...</td>\n",
       "      <td>...</td>\n",
       "      <td>...</td>\n",
       "      <td>...</td>\n",
       "      <td>...</td>\n",
       "      <td>...</td>\n",
       "      <td>...</td>\n",
       "    </tr>\n",
       "    <tr>\n",
       "      <th>2020-09-13</th>\n",
       "      <td>7.0</td>\n",
       "      <td>Uruguay</td>\n",
       "      <td>1780.0</td>\n",
       "      <td>9</td>\n",
       "      <td>6</td>\n",
       "      <td>14.0</td>\n",
       "      <td>1.0</td>\n",
       "    </tr>\n",
       "    <tr>\n",
       "      <th>2020-09-14</th>\n",
       "      <td>28.0</td>\n",
       "      <td>Uruguay</td>\n",
       "      <td>1808.0</td>\n",
       "      <td>9</td>\n",
       "      <td>0</td>\n",
       "      <td>7.0</td>\n",
       "      <td>0.0</td>\n",
       "    </tr>\n",
       "    <tr>\n",
       "      <th>2020-09-15</th>\n",
       "      <td>4.0</td>\n",
       "      <td>Uruguay</td>\n",
       "      <td>1812.0</td>\n",
       "      <td>9</td>\n",
       "      <td>1</td>\n",
       "      <td>28.0</td>\n",
       "      <td>0.0</td>\n",
       "    </tr>\n",
       "    <tr>\n",
       "      <th>2020-09-16</th>\n",
       "      <td>15.0</td>\n",
       "      <td>Uruguay</td>\n",
       "      <td>1827.0</td>\n",
       "      <td>9</td>\n",
       "      <td>2</td>\n",
       "      <td>4.0</td>\n",
       "      <td>0.0</td>\n",
       "    </tr>\n",
       "    <tr>\n",
       "      <th>2020-09-17</th>\n",
       "      <td>29.0</td>\n",
       "      <td>Uruguay</td>\n",
       "      <td>1856.0</td>\n",
       "      <td>9</td>\n",
       "      <td>3</td>\n",
       "      <td>15.0</td>\n",
       "      <td>0.0</td>\n",
       "    </tr>\n",
       "  </tbody>\n",
       "</table>\n",
       "<p>4221 rows × 7 columns</p>\n",
       "</div>"
      ],
      "text/plain": [
       "            Cases     Country  cases_tot  Month  Day  prev_case  Weekend\n",
       "Date                                                                    \n",
       "2020-03-01    0.0  Bangladesh        0.0      3    6        0.0      1.0\n",
       "2020-03-02    0.0  Bangladesh        0.0      3    0        0.0      0.0\n",
       "2020-03-03    0.0  Bangladesh        0.0      3    1        0.0      0.0\n",
       "2020-03-04    0.0  Bangladesh        0.0      3    2        0.0      0.0\n",
       "2020-03-05    0.0  Bangladesh        0.0      3    3        0.0      0.0\n",
       "...           ...         ...        ...    ...  ...        ...      ...\n",
       "2020-09-13    7.0     Uruguay     1780.0      9    6       14.0      1.0\n",
       "2020-09-14   28.0     Uruguay     1808.0      9    0        7.0      0.0\n",
       "2020-09-15    4.0     Uruguay     1812.0      9    1       28.0      0.0\n",
       "2020-09-16   15.0     Uruguay     1827.0      9    2        4.0      0.0\n",
       "2020-09-17   29.0     Uruguay     1856.0      9    3       15.0      0.0\n",
       "\n",
       "[4221 rows x 7 columns]"
      ]
     },
     "execution_count": 21,
     "metadata": {},
     "output_type": "execute_result"
    }
   ],
   "source": [
    "df_1"
   ]
  },
  {
   "cell_type": "code",
   "execution_count": 22,
   "metadata": {},
   "outputs": [],
   "source": [
    "df_1_Bangladesh = df[df['Country'].isin(['Bangladesh'])]"
   ]
  },
  {
   "cell_type": "code",
   "execution_count": 23,
   "metadata": {},
   "outputs": [],
   "source": [
    "df_1_Bangladesh['Month'] = df_1_Bangladesh.index.month\n",
    "df_1_Bangladesh['Day'] = df_1_Bangladesh.index.weekday"
   ]
  },
  {
   "cell_type": "code",
   "execution_count": 24,
   "metadata": {},
   "outputs": [],
   "source": [
    "df_1_Bangladesh['prev_case'] = df_1_Bangladesh['Cases'].shift(periods=1)"
   ]
  },
  {
   "cell_type": "code",
   "execution_count": 25,
   "metadata": {},
   "outputs": [],
   "source": [
    "df_1_Bangladesh.prev_case[df_1_Bangladesh.index==startDate] = 0"
   ]
  },
  {
   "cell_type": "code",
   "execution_count": 26,
   "metadata": {},
   "outputs": [],
   "source": [
    "df_1_Bangladesh['Weekend'] = ((pd.DatetimeIndex(df_1_Bangladesh.index).dayofweek) // 5 == 1).astype(float)"
   ]
  },
  {
   "cell_type": "code",
   "execution_count": 27,
   "metadata": {},
   "outputs": [],
   "source": [
    "cluster_1_training_df = df_1[(df_1.index.date >= datetime.date(2020, 3, 1)) & \n",
    "                    (df_1.index.date <= datetime.date(2020, 9, 9))].copy()"
   ]
  },
  {
   "cell_type": "code",
   "execution_count": 28,
   "metadata": {},
   "outputs": [],
   "source": [
    "cluster_1_test_df =  df_1_Bangladesh[(df_1_Bangladesh.index.date > datetime.date(2020, 9, 9)) & \n",
    "                    (df_1_Bangladesh.index.date <= datetime.date(2020, 9, 17))].copy()"
   ]
  },
  {
   "cell_type": "code",
   "execution_count": 29,
   "metadata": {},
   "outputs": [],
   "source": [
    "# Generate model\n",
    "feature_list = ['Country','Month','Day','prev_case']#,'Weekend','cases_tot']\n",
    "params= {'iterations': 5000, 'silent': True}\n",
    "model = CatBoostRegressor(**params)\n",
    "cluster1_CB_df = predict_horizon(model=model, training_df=cluster_1_training_df.copy(), \n",
    "                                                             test_df=cluster_1_test_df.copy(),\n",
    "                                                             feature_list=feature_list)\n",
    "\n"
   ]
  },
  {
   "cell_type": "code",
   "execution_count": 30,
   "metadata": {},
   "outputs": [
    {
     "data": {
      "text/html": [
       "<div>\n",
       "<style scoped>\n",
       "    .dataframe tbody tr th:only-of-type {\n",
       "        vertical-align: middle;\n",
       "    }\n",
       "\n",
       "    .dataframe tbody tr th {\n",
       "        vertical-align: top;\n",
       "    }\n",
       "\n",
       "    .dataframe thead th {\n",
       "        text-align: right;\n",
       "    }\n",
       "</style>\n",
       "<table border=\"1\" class=\"dataframe\">\n",
       "  <thead>\n",
       "    <tr style=\"text-align: right;\">\n",
       "      <th></th>\n",
       "      <th>Cases</th>\n",
       "      <th>Country</th>\n",
       "      <th>cases_tot</th>\n",
       "      <th>Month</th>\n",
       "      <th>Day</th>\n",
       "      <th>prev_case</th>\n",
       "      <th>Weekend</th>\n",
       "      <th>Predicted</th>\n",
       "      <th>MAPE_values</th>\n",
       "    </tr>\n",
       "    <tr>\n",
       "      <th>Date</th>\n",
       "      <th></th>\n",
       "      <th></th>\n",
       "      <th></th>\n",
       "      <th></th>\n",
       "      <th></th>\n",
       "      <th></th>\n",
       "      <th></th>\n",
       "      <th></th>\n",
       "      <th></th>\n",
       "    </tr>\n",
       "  </thead>\n",
       "  <tbody>\n",
       "    <tr>\n",
       "      <th>2020-09-10</th>\n",
       "      <td>1827.0</td>\n",
       "      <td>Bangladesh</td>\n",
       "      <td>331078.0</td>\n",
       "      <td>9</td>\n",
       "      <td>3</td>\n",
       "      <td>1892.0</td>\n",
       "      <td>0.0</td>\n",
       "      <td>2225.871375</td>\n",
       "      <td>23.777727</td>\n",
       "    </tr>\n",
       "    <tr>\n",
       "      <th>2020-09-11</th>\n",
       "      <td>1892.0</td>\n",
       "      <td>Bangladesh</td>\n",
       "      <td>332970.0</td>\n",
       "      <td>9</td>\n",
       "      <td>4</td>\n",
       "      <td>1827.0</td>\n",
       "      <td>0.0</td>\n",
       "      <td>2089.970431</td>\n",
       "      <td>11.801516</td>\n",
       "    </tr>\n",
       "    <tr>\n",
       "      <th>2020-09-12</th>\n",
       "      <td>1792.0</td>\n",
       "      <td>Bangladesh</td>\n",
       "      <td>334762.0</td>\n",
       "      <td>9</td>\n",
       "      <td>5</td>\n",
       "      <td>1892.0</td>\n",
       "      <td>1.0</td>\n",
       "      <td>2001.690383</td>\n",
       "      <td>12.500172</td>\n",
       "    </tr>\n",
       "    <tr>\n",
       "      <th>2020-09-13</th>\n",
       "      <td>1282.0</td>\n",
       "      <td>Bangladesh</td>\n",
       "      <td>336044.0</td>\n",
       "      <td>9</td>\n",
       "      <td>6</td>\n",
       "      <td>1792.0</td>\n",
       "      <td>1.0</td>\n",
       "      <td>1854.399360</td>\n",
       "      <td>34.122167</td>\n",
       "    </tr>\n",
       "    <tr>\n",
       "      <th>2020-09-14</th>\n",
       "      <td>1476.0</td>\n",
       "      <td>Bangladesh</td>\n",
       "      <td>337520.0</td>\n",
       "      <td>9</td>\n",
       "      <td>0</td>\n",
       "      <td>1282.0</td>\n",
       "      <td>0.0</td>\n",
       "      <td>1430.326689</td>\n",
       "      <td>2.722701</td>\n",
       "    </tr>\n",
       "    <tr>\n",
       "      <th>2020-09-15</th>\n",
       "      <td>1812.0</td>\n",
       "      <td>Bangladesh</td>\n",
       "      <td>339332.0</td>\n",
       "      <td>9</td>\n",
       "      <td>1</td>\n",
       "      <td>1476.0</td>\n",
       "      <td>0.0</td>\n",
       "      <td>1746.694407</td>\n",
       "      <td>3.893031</td>\n",
       "    </tr>\n",
       "    <tr>\n",
       "      <th>2020-09-16</th>\n",
       "      <td>1724.0</td>\n",
       "      <td>Bangladesh</td>\n",
       "      <td>341056.0</td>\n",
       "      <td>9</td>\n",
       "      <td>2</td>\n",
       "      <td>1812.0</td>\n",
       "      <td>0.0</td>\n",
       "      <td>2068.068534</td>\n",
       "      <td>20.510792</td>\n",
       "    </tr>\n",
       "    <tr>\n",
       "      <th>2020-09-17</th>\n",
       "      <td>1615.0</td>\n",
       "      <td>Bangladesh</td>\n",
       "      <td>342671.0</td>\n",
       "      <td>9</td>\n",
       "      <td>3</td>\n",
       "      <td>1724.0</td>\n",
       "      <td>0.0</td>\n",
       "      <td>2084.034640</td>\n",
       "      <td>27.960336</td>\n",
       "    </tr>\n",
       "  </tbody>\n",
       "</table>\n",
       "</div>"
      ],
      "text/plain": [
       "             Cases     Country  cases_tot  Month  Day  prev_case  Weekend  \\\n",
       "Date                                                                        \n",
       "2020-09-10  1827.0  Bangladesh   331078.0      9    3     1892.0      0.0   \n",
       "2020-09-11  1892.0  Bangladesh   332970.0      9    4     1827.0      0.0   \n",
       "2020-09-12  1792.0  Bangladesh   334762.0      9    5     1892.0      1.0   \n",
       "2020-09-13  1282.0  Bangladesh   336044.0      9    6     1792.0      1.0   \n",
       "2020-09-14  1476.0  Bangladesh   337520.0      9    0     1282.0      0.0   \n",
       "2020-09-15  1812.0  Bangladesh   339332.0      9    1     1476.0      0.0   \n",
       "2020-09-16  1724.0  Bangladesh   341056.0      9    2     1812.0      0.0   \n",
       "2020-09-17  1615.0  Bangladesh   342671.0      9    3     1724.0      0.0   \n",
       "\n",
       "              Predicted  MAPE_values  \n",
       "Date                                  \n",
       "2020-09-10  2225.871375    23.777727  \n",
       "2020-09-11  2089.970431    11.801516  \n",
       "2020-09-12  2001.690383    12.500172  \n",
       "2020-09-13  1854.399360    34.122167  \n",
       "2020-09-14  1430.326689     2.722701  \n",
       "2020-09-15  1746.694407     3.893031  \n",
       "2020-09-16  2068.068534    20.510792  \n",
       "2020-09-17  2084.034640    27.960336  "
      ]
     },
     "execution_count": 30,
     "metadata": {},
     "output_type": "execute_result"
    }
   ],
   "source": [
    "cluster1_CB_df"
   ]
  },
  {
   "cell_type": "code",
   "execution_count": 31,
   "metadata": {},
   "outputs": [
    {
     "data": {
      "image/png": "[encoded data removed]",
      "text/plain": [
       "<Figure size 864x288 with 1 Axes>"
      ]
     },
     "metadata": {
      "needs_background": "light"
     },
     "output_type": "display_data"
    }
   ],
   "source": [
    "title_str =''\n",
    "true_predicted_fig(cluster_1_test_df,cluster1_CB_df,title_str)"
   ]
  },
  {
   "cell_type": "code",
   "execution_count": 32,
   "metadata": {},
   "outputs": [],
   "source": [
    "bangladesh_start_value = df_1_Bangladesh.loc[df_1_Bangladesh.index == datetime.datetime(2020,9,9), 'cases_tot'].values[0]"
   ]
  },
  {
   "cell_type": "code",
   "execution_count": 33,
   "metadata": {},
   "outputs": [],
   "source": [
    "cluster1_CB_df['Accumulated_Prediction']=0"
   ]
  },
  {
   "cell_type": "code",
   "execution_count": 34,
   "metadata": {},
   "outputs": [],
   "source": [
    "cluster1_CB_df['Accumulated_Prediction'][0] = bangladesh_start_value + cluster1_CB_df['Predicted'][0]"
   ]
  },
  {
   "cell_type": "code",
   "execution_count": 35,
   "metadata": {},
   "outputs": [],
   "source": [
    "for i in range(1,len(cluster1_CB_df)):\n",
    "    cluster1_CB_df['Accumulated_Prediction'][i] = cluster1_CB_df['Accumulated_Prediction'][i-1]+cluster1_CB_df['Predicted'][i]"
   ]
  },
  {
   "cell_type": "code",
   "execution_count": 36,
   "metadata": {},
   "outputs": [
    {
     "data": {
      "text/plain": [
       "<matplotlib.axes._subplots.AxesSubplot at 0x120fbc1c0>"
      ]
     },
     "execution_count": 36,
     "metadata": {},
     "output_type": "execute_result"
    },
    {
     "data": {
      "image/png": "[encoded data removed]",
      "text/plain": [
       "<Figure size 720x360 with 1 Axes>"
      ]
     },
     "metadata": {
      "needs_background": "light"
     },
     "output_type": "display_data"
    }
   ],
   "source": [
    "cluster1_CB_df.plot( y=['Accumulated_Prediction', 'cases_tot'], label=['Predicted','True'], color=['red','black'], figsize=(10,5))"
   ]
  }
 ],
 "metadata": {
  "kernelspec": {
   "display_name": "Python 3",
   "language": "python",
   "name": "python3"
  },
  "language_info": {
   "codemirror_mode": {
    "name": "ipython",
    "version": 3
   },
   "file_extension": ".py",
   "mimetype": "text/x-python",
   "name": "python",
   "nbconvert_exporter": "python",
   "pygments_lexer": "ipython3",
   "version": "3.8.3"
  }
 },
 "nbformat": 4,
 "nbformat_minor": 4
}
