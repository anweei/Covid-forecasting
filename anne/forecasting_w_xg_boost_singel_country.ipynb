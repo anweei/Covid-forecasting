{
 "cells": [
  {
   "cell_type": "code",
   "execution_count": 1,
   "metadata": {},
   "outputs": [],
   "source": [
    "#pip install catboost <- run first time this notebook is executed"
   ]
  },
  {
   "cell_type": "code",
   "execution_count": 2,
   "metadata": {},
   "outputs": [],
   "source": [
    "import pandas as pd\n",
    "from catboost import CatBoostRegressor\n",
    "import datetime\n",
    "from sklearn import preprocessing\n",
    "import numpy as np\n",
    "from matplotlib import pyplot as plt"
   ]
  },
  {
   "cell_type": "code",
   "execution_count": 3,
   "metadata": {},
   "outputs": [],
   "source": [
    "import warnings\n",
    "warnings.filterwarnings('ignore')"
   ]
  },
  {
   "cell_type": "code",
   "execution_count": 4,
   "metadata": {},
   "outputs": [],
   "source": [
    "df = pd.read_parquet('dataframe_forecasting_with_features.parquet')"
   ]
  },
  {
   "cell_type": "code",
   "execution_count": 5,
   "metadata": {},
   "outputs": [],
   "source": [
    "def predict_horizon(model, training_df, test_df, feature_list, num_predictions=8):\n",
    "    start_period = 0\n",
    "    end_period = num_predictions\n",
    "    prediction_list = []\n",
    "    MAPE_list = []\n",
    "    \n",
    "    # We generate an encoder for ns feature\n",
    "    if 'Country' in feature_list:\n",
    "        ns_encoder = preprocessing.LabelEncoder()\n",
    "        training_df['Country'] =  ns_encoder.fit_transform(training_df['Country'])\n",
    "    \n",
    "    x_training_df = training_df[feature_list].copy()\n",
    "    y_training_df = training_df['Cases'].copy().to_frame()\n",
    "    model.fit(x_training_df, np.ravel(y_training_df))\n",
    "    \n",
    "    # Predicting on test set, while end period is not equal to end of length of test_df\n",
    "    while end_period <= len(test_df):\n",
    "        # Collect features from start to end (67 hours) and predict\n",
    "        features_df = test_df[feature_list][start_period:end_period].copy()\n",
    "        if 'Country' in feature_list:\n",
    "            features_df['Country'] = ns_encoder.transform(features_df['Country'])\n",
    "        true_df = test_df[['Cases']][start_period:end_period].copy()\n",
    "        predictions = model.predict(features_df)\n",
    "       \n",
    "        # Add the predicted data\n",
    "        predicted_df = pd.DataFrame(predictions, columns=['predicted'])\n",
    "        predicted_df.index = true_df.index.copy()        \n",
    "        prediction_list.extend(predictions)\n",
    "        # Calculate MAPE per prediction (hour) and MAPE per horizon\n",
    "        MAPE_list.extend(MAPE(true_df, predicted_df, whole_horizon=False))\n",
    "        # Move to next period\n",
    "        start_period += 1\n",
    "        end_period += 1\n",
    "    \n",
    "    test_df = test_df.assign(Predicted=prediction_list)\n",
    "    test_df = test_df.assign(MAPE_values=MAPE_list)    \n",
    "    return test_df\n"
   ]
  },
  {
   "cell_type": "code",
   "execution_count": 6,
   "metadata": {},
   "outputs": [],
   "source": [
    "def MAPE(true_df, predicted_df, column_name = 'Cases', whole_horizon=True):\n",
    "    \"\"\"\"\"Mean absolute percent error\n",
    "    Parameters\n",
    "    ----------\n",
    "    true_df         : a Dataframe with observed/true values\n",
    "    predicted_df    : a Dataframe with predicted values\n",
    "    column_name     : name of the column in the DF with the true/predicted values (assuming same name)\n",
    " \n",
    "    Returns\n",
    "    -------\n",
    "    If whole_horizon==True, a unique MAPE value for the whole horizon\n",
    "    If whole_horizon==False, a vector of MAPE values for each hour of the predicted horizon\n",
    "    \"\"\"\n",
    "    # Check for zero values in the true vector\n",
    "    if true_df[column_name].isin([0]).any():\n",
    "            print('True_df contains a 0 error, will result in nan in MAPE')\n",
    "    # \n",
    "    sum_observed = true_df['Cases'].sum()\n",
    "    abs_error_predicted = np.abs(true_df['Cases']-predicted_df['predicted'])\n",
    "    #\n",
    "    if whole_horizon == True:\n",
    "        MAPE = 100 * abs_error_predicted.sum() / sum_observed\n",
    "    else:\n",
    "        MAPE = 100 * abs_error_predicted / (sum_observed/len(true_df))\n",
    "    #\n",
    "    return MAPE"
   ]
  },
  {
   "cell_type": "code",
   "execution_count": 7,
   "metadata": {},
   "outputs": [],
   "source": [
    "def true_predicted_fig(true_df, predicted_df, title_str):\n",
    "    fig,ax = plt.subplots(figsize=[12,4])\n",
    "    p_t_max = np.max(np.maximum(true_df[:8]['Cases'].values,predicted_df[:8]['Predicted'].values))\n",
    "    p_t_min = np.min(np.minimum(true_df[:8]['Cases'].values,predicted_df[:8]['Predicted'].values))\n",
    "    t1 = ax.plot(true_df.index[:8], true_df[:8]['Cases'], 'black')\n",
    "    ax.set_ylabel('Cases')\n",
    "    ax.tick_params(axis='x', rotation=45)\n",
    "    ax.set_title(title_str)\n",
    "    p1 = ax.plot(predicted_df.index[:8], predicted_df[:8]['Predicted'], 'Red', linewidth=3)\n",
    "    ax.legend((t1[0], p1[0]), ('True', 'Predicted'), loc=1, frameon=True)"
   ]
  },
  {
   "cell_type": "code",
   "execution_count": 8,
   "metadata": {},
   "outputs": [],
   "source": [
    "def accumulated_dataframe_column(df_test,cluster_CB_df):\n",
    "    test_start_value = df_test.loc[df_test.index == datetime.datetime(2020,9,9), 'cases_tot'].values[0]\n",
    "    cluster_CB_df['Accumulated_Prediction']=0\n",
    "    cluster_CB_df['Accumulated_Prediction'][0] = test_start_value + cluster_CB_df['Predicted'][0]\n",
    "    for i in range(1,len(cluster_CB_df)):\n",
    "        cluster_CB_df['Accumulated_Prediction'][i] = cluster_CB_df['Accumulated_Prediction'][i-1]+cluster_CB_df['Predicted'][i]\n",
    "    return cluster_CB_df"
   ]
  },
  {
   "cell_type": "markdown",
   "metadata": {},
   "source": [
    "## Selecting test countries"
   ]
  },
  {
   "cell_type": "code",
   "execution_count": 9,
   "metadata": {},
   "outputs": [],
   "source": [
    "Algeria_df = df[df['Country'].isin(['Algeria'])]"
   ]
  },
  {
   "cell_type": "code",
   "execution_count": 10,
   "metadata": {},
   "outputs": [],
   "source": [
    "test_1_df =  Algeria_df[(Algeria_df.index.date > datetime.date(2020, 9, 9)) & \n",
    "                    (Algeria_df.index.date <= datetime.date(2020, 9, 17))].copy()"
   ]
  },
  {
   "cell_type": "code",
   "execution_count": 11,
   "metadata": {},
   "outputs": [],
   "source": [
    "Austria_df = df[df['Country'].isin(['Austria'])]"
   ]
  },
  {
   "cell_type": "code",
   "execution_count": 12,
   "metadata": {},
   "outputs": [],
   "source": [
    "test_2_df =  Austria_df[(Austria_df.index.date > datetime.date(2020, 9, 9)) & \n",
    "                    (Austria_df.index.date <= datetime.date(2020, 9, 17))].copy()"
   ]
  },
  {
   "cell_type": "code",
   "execution_count": 13,
   "metadata": {},
   "outputs": [],
   "source": [
    "Bangladesh_df = df[df['Country'].isin(['Bangladesh'])]"
   ]
  },
  {
   "cell_type": "code",
   "execution_count": 14,
   "metadata": {},
   "outputs": [],
   "source": [
    "test_3_df =  Bangladesh_df[(Bangladesh_df.index.date > datetime.date(2020, 9, 9)) & \n",
    "                    (Bangladesh_df.index.date <= datetime.date(2020, 9, 17))].copy()"
   ]
  },
  {
   "cell_type": "code",
   "execution_count": 15,
   "metadata": {},
   "outputs": [],
   "source": [
    "Croatia_df = df[df['Country'].isin(['Croatia'])]"
   ]
  },
  {
   "cell_type": "code",
   "execution_count": 16,
   "metadata": {},
   "outputs": [],
   "source": [
    "test_4_df =  Croatia_df[(Croatia_df.index.date > datetime.date(2020, 9, 9)) & \n",
    "                    (Croatia_df.index.date <= datetime.date(2020, 9, 17))].copy()"
   ]
  },
  {
   "cell_type": "markdown",
   "metadata": {},
   "source": [
    "## Test country 1, Algeria"
   ]
  },
  {
   "cell_type": "code",
   "execution_count": 17,
   "metadata": {},
   "outputs": [],
   "source": [
    "training_1_df = Algeria_df[(Algeria_df.index.date >= datetime.date(2020, 3, 1)) & \n",
    "                    (Algeria_df.index.date <= datetime.date(2020, 9, 9))].copy()"
   ]
  },
  {
   "cell_type": "code",
   "execution_count": 18,
   "metadata": {},
   "outputs": [],
   "source": [
    "# Generate model\n",
    "feature_list = ['Month','Day','prev_case']#,'Weekend','cases_tot']\n",
    "params= {'iterations': 5000, 'silent': True}\n",
    "model = CatBoostRegressor(**params)\n",
    "Algeria_CB_df = predict_horizon(model=model, training_df=training_1_df.copy(), \n",
    "                                                             test_df=test_1_df.copy(),\n",
    "                                                             feature_list=feature_list)"
   ]
  },
  {
   "cell_type": "code",
   "execution_count": 19,
   "metadata": {},
   "outputs": [
    {
     "data": {
      "image/png": "[encoded data removed]",
      "text/plain": [
       "<Figure size 864x288 with 1 Axes>"
      ]
     },
     "metadata": {
      "needs_background": "light"
     },
     "output_type": "display_data"
    }
   ],
   "source": [
    "title_str =''\n",
    "true_predicted_fig(test_1_df,Algeria_CB_df,title_str)"
   ]
  },
  {
   "cell_type": "code",
   "execution_count": 20,
   "metadata": {},
   "outputs": [],
   "source": [
    "Algeria_CB_df = accumulated_dataframe_column(Algeria_df,Algeria_CB_df)"
   ]
  },
  {
   "cell_type": "code",
   "execution_count": 21,
   "metadata": {},
   "outputs": [
    {
     "data": {
      "text/html": [
       "<div>\n",
       "<style scoped>\n",
       "    .dataframe tbody tr th:only-of-type {\n",
       "        vertical-align: middle;\n",
       "    }\n",
       "\n",
       "    .dataframe tbody tr th {\n",
       "        vertical-align: top;\n",
       "    }\n",
       "\n",
       "    .dataframe thead th {\n",
       "        text-align: right;\n",
       "    }\n",
       "</style>\n",
       "<table border=\"1\" class=\"dataframe\">\n",
       "  <thead>\n",
       "    <tr style=\"text-align: right;\">\n",
       "      <th></th>\n",
       "      <th>Cases</th>\n",
       "      <th>Country</th>\n",
       "      <th>cases_tot</th>\n",
       "      <th>Month</th>\n",
       "      <th>Day</th>\n",
       "      <th>prev_case</th>\n",
       "      <th>Weekend</th>\n",
       "      <th>Predicted</th>\n",
       "      <th>MAPE_values</th>\n",
       "      <th>Accumulated_Prediction</th>\n",
       "    </tr>\n",
       "    <tr>\n",
       "      <th>Date</th>\n",
       "      <th></th>\n",
       "      <th></th>\n",
       "      <th></th>\n",
       "      <th></th>\n",
       "      <th></th>\n",
       "      <th></th>\n",
       "      <th></th>\n",
       "      <th></th>\n",
       "      <th></th>\n",
       "      <th></th>\n",
       "    </tr>\n",
       "  </thead>\n",
       "  <tbody>\n",
       "    <tr>\n",
       "      <th>2020-09-10</th>\n",
       "      <td>278.0</td>\n",
       "      <td>Algeria</td>\n",
       "      <td>47216.0</td>\n",
       "      <td>9</td>\n",
       "      <td>3</td>\n",
       "      <td>285.0</td>\n",
       "      <td>0.0</td>\n",
       "      <td>288.381168</td>\n",
       "      <td>4.095135</td>\n",
       "      <td>47226</td>\n",
       "    </tr>\n",
       "    <tr>\n",
       "      <th>2020-09-11</th>\n",
       "      <td>272.0</td>\n",
       "      <td>Algeria</td>\n",
       "      <td>47488.0</td>\n",
       "      <td>9</td>\n",
       "      <td>4</td>\n",
       "      <td>278.0</td>\n",
       "      <td>0.0</td>\n",
       "      <td>289.303386</td>\n",
       "      <td>6.825793</td>\n",
       "      <td>47515</td>\n",
       "    </tr>\n",
       "    <tr>\n",
       "      <th>2020-09-12</th>\n",
       "      <td>264.0</td>\n",
       "      <td>Algeria</td>\n",
       "      <td>47752.0</td>\n",
       "      <td>9</td>\n",
       "      <td>5</td>\n",
       "      <td>272.0</td>\n",
       "      <td>1.0</td>\n",
       "      <td>286.484957</td>\n",
       "      <td>8.869806</td>\n",
       "      <td>47801</td>\n",
       "    </tr>\n",
       "    <tr>\n",
       "      <th>2020-09-13</th>\n",
       "      <td>255.0</td>\n",
       "      <td>Algeria</td>\n",
       "      <td>48007.0</td>\n",
       "      <td>9</td>\n",
       "      <td>6</td>\n",
       "      <td>264.0</td>\n",
       "      <td>1.0</td>\n",
       "      <td>298.094039</td>\n",
       "      <td>16.999621</td>\n",
       "      <td>48099</td>\n",
       "    </tr>\n",
       "    <tr>\n",
       "      <th>2020-09-14</th>\n",
       "      <td>247.0</td>\n",
       "      <td>Algeria</td>\n",
       "      <td>48254.0</td>\n",
       "      <td>9</td>\n",
       "      <td>0</td>\n",
       "      <td>255.0</td>\n",
       "      <td>0.0</td>\n",
       "      <td>288.527842</td>\n",
       "      <td>16.381792</td>\n",
       "      <td>48387</td>\n",
       "    </tr>\n",
       "    <tr>\n",
       "      <th>2020-09-15</th>\n",
       "      <td>242.0</td>\n",
       "      <td>Algeria</td>\n",
       "      <td>48496.0</td>\n",
       "      <td>9</td>\n",
       "      <td>1</td>\n",
       "      <td>247.0</td>\n",
       "      <td>0.0</td>\n",
       "      <td>289.215689</td>\n",
       "      <td>18.625518</td>\n",
       "      <td>48676</td>\n",
       "    </tr>\n",
       "    <tr>\n",
       "      <th>2020-09-16</th>\n",
       "      <td>238.0</td>\n",
       "      <td>Algeria</td>\n",
       "      <td>48734.0</td>\n",
       "      <td>9</td>\n",
       "      <td>2</td>\n",
       "      <td>242.0</td>\n",
       "      <td>0.0</td>\n",
       "      <td>285.099691</td>\n",
       "      <td>18.579760</td>\n",
       "      <td>48961</td>\n",
       "    </tr>\n",
       "    <tr>\n",
       "      <th>2020-09-17</th>\n",
       "      <td>232.0</td>\n",
       "      <td>Algeria</td>\n",
       "      <td>48966.0</td>\n",
       "      <td>9</td>\n",
       "      <td>3</td>\n",
       "      <td>238.0</td>\n",
       "      <td>0.0</td>\n",
       "      <td>284.726188</td>\n",
       "      <td>20.799285</td>\n",
       "      <td>49245</td>\n",
       "    </tr>\n",
       "  </tbody>\n",
       "</table>\n",
       "</div>"
      ],
      "text/plain": [
       "            Cases  Country  cases_tot  Month  Day  prev_case  Weekend  \\\n",
       "Date                                                                    \n",
       "2020-09-10  278.0  Algeria    47216.0      9    3      285.0      0.0   \n",
       "2020-09-11  272.0  Algeria    47488.0      9    4      278.0      0.0   \n",
       "2020-09-12  264.0  Algeria    47752.0      9    5      272.0      1.0   \n",
       "2020-09-13  255.0  Algeria    48007.0      9    6      264.0      1.0   \n",
       "2020-09-14  247.0  Algeria    48254.0      9    0      255.0      0.0   \n",
       "2020-09-15  242.0  Algeria    48496.0      9    1      247.0      0.0   \n",
       "2020-09-16  238.0  Algeria    48734.0      9    2      242.0      0.0   \n",
       "2020-09-17  232.0  Algeria    48966.0      9    3      238.0      0.0   \n",
       "\n",
       "             Predicted  MAPE_values  Accumulated_Prediction  \n",
       "Date                                                         \n",
       "2020-09-10  288.381168     4.095135                   47226  \n",
       "2020-09-11  289.303386     6.825793                   47515  \n",
       "2020-09-12  286.484957     8.869806                   47801  \n",
       "2020-09-13  298.094039    16.999621                   48099  \n",
       "2020-09-14  288.527842    16.381792                   48387  \n",
       "2020-09-15  289.215689    18.625518                   48676  \n",
       "2020-09-16  285.099691    18.579760                   48961  \n",
       "2020-09-17  284.726188    20.799285                   49245  "
      ]
     },
     "execution_count": 21,
     "metadata": {},
     "output_type": "execute_result"
    }
   ],
   "source": [
    "Algeria_CB_df"
   ]
  },
  {
   "cell_type": "code",
   "execution_count": 22,
   "metadata": {},
   "outputs": [
    {
     "data": {
      "text/plain": [
       "<matplotlib.axes._subplots.AxesSubplot at 0x1277315e0>"
      ]
     },
     "execution_count": 22,
     "metadata": {},
     "output_type": "execute_result"
    },
    {
     "data": {
      "image/png": "[encoded data removed]",
      "text/plain": [
       "<Figure size 720x360 with 1 Axes>"
      ]
     },
     "metadata": {
      "needs_background": "light"
     },
     "output_type": "display_data"
    }
   ],
   "source": [
    "Algeria_CB_df.plot( y=['Accumulated_Prediction', 'cases_tot'], label=['Predicted','True'], color=['red','black'], figsize=(10,5))"
   ]
  },
  {
   "cell_type": "markdown",
   "metadata": {},
   "source": [
    "## Test country 2, Austria"
   ]
  },
  {
   "cell_type": "code",
   "execution_count": 23,
   "metadata": {},
   "outputs": [],
   "source": [
    "training_2_df = Austria_df[(Austria_df.index.date >= datetime.date(2020, 3, 1)) & \n",
    "                    (Austria_df.index.date <= datetime.date(2020, 9, 9))].copy()"
   ]
  },
  {
   "cell_type": "code",
   "execution_count": 24,
   "metadata": {},
   "outputs": [],
   "source": [
    "# Generate model\n",
    "feature_list = ['Month','Day','prev_case']#,'Weekend','cases_tot']\n",
    "params= {'iterations': 5000, 'silent': True}\n",
    "model = CatBoostRegressor(**params)\n",
    "Austria_CB_df = predict_horizon(model=model, training_df=training_2_df.copy(), \n",
    "                                                             test_df=test_2_df.copy(),\n",
    "                                                             feature_list=feature_list)"
   ]
  },
  {
   "cell_type": "code",
   "execution_count": 25,
   "metadata": {},
   "outputs": [
    {
     "data": {
      "image/png": "[encoded data removed]",
      "text/plain": [
       "<Figure size 864x288 with 1 Axes>"
      ]
     },
     "metadata": {
      "needs_background": "light"
     },
     "output_type": "display_data"
    }
   ],
   "source": [
    "title_str =''\n",
    "true_predicted_fig(test_2_df,Austria_CB_df,title_str)"
   ]
  },
  {
   "cell_type": "code",
   "execution_count": 26,
   "metadata": {},
   "outputs": [],
   "source": [
    "Austria_CB_df = accumulated_dataframe_column(Austria_df,Austria_CB_df)"
   ]
  },
  {
   "cell_type": "code",
   "execution_count": 27,
   "metadata": {},
   "outputs": [
    {
     "data": {
      "text/html": [
       "<div>\n",
       "<style scoped>\n",
       "    .dataframe tbody tr th:only-of-type {\n",
       "        vertical-align: middle;\n",
       "    }\n",
       "\n",
       "    .dataframe tbody tr th {\n",
       "        vertical-align: top;\n",
       "    }\n",
       "\n",
       "    .dataframe thead th {\n",
       "        text-align: right;\n",
       "    }\n",
       "</style>\n",
       "<table border=\"1\" class=\"dataframe\">\n",
       "  <thead>\n",
       "    <tr style=\"text-align: right;\">\n",
       "      <th></th>\n",
       "      <th>Cases</th>\n",
       "      <th>Country</th>\n",
       "      <th>cases_tot</th>\n",
       "      <th>Month</th>\n",
       "      <th>Day</th>\n",
       "      <th>prev_case</th>\n",
       "      <th>Weekend</th>\n",
       "      <th>Predicted</th>\n",
       "      <th>MAPE_values</th>\n",
       "      <th>Accumulated_Prediction</th>\n",
       "    </tr>\n",
       "    <tr>\n",
       "      <th>Date</th>\n",
       "      <th></th>\n",
       "      <th></th>\n",
       "      <th></th>\n",
       "      <th></th>\n",
       "      <th></th>\n",
       "      <th></th>\n",
       "      <th></th>\n",
       "      <th></th>\n",
       "      <th></th>\n",
       "      <th></th>\n",
       "    </tr>\n",
       "  </thead>\n",
       "  <tbody>\n",
       "    <tr>\n",
       "      <th>2020-09-10</th>\n",
       "      <td>754.0</td>\n",
       "      <td>Austria</td>\n",
       "      <td>30954.0</td>\n",
       "      <td>9</td>\n",
       "      <td>3</td>\n",
       "      <td>495.0</td>\n",
       "      <td>0.0</td>\n",
       "      <td>437.492245</td>\n",
       "      <td>48.248133</td>\n",
       "      <td>30637</td>\n",
       "    </tr>\n",
       "    <tr>\n",
       "      <th>2020-09-11</th>\n",
       "      <td>497.0</td>\n",
       "      <td>Austria</td>\n",
       "      <td>31451.0</td>\n",
       "      <td>9</td>\n",
       "      <td>4</td>\n",
       "      <td>754.0</td>\n",
       "      <td>0.0</td>\n",
       "      <td>296.491934</td>\n",
       "      <td>30.565254</td>\n",
       "      <td>30933</td>\n",
       "    </tr>\n",
       "    <tr>\n",
       "      <th>2020-09-12</th>\n",
       "      <td>1005.0</td>\n",
       "      <td>Austria</td>\n",
       "      <td>32456.0</td>\n",
       "      <td>9</td>\n",
       "      <td>5</td>\n",
       "      <td>497.0</td>\n",
       "      <td>1.0</td>\n",
       "      <td>300.264326</td>\n",
       "      <td>107.429219</td>\n",
       "      <td>31233</td>\n",
       "    </tr>\n",
       "    <tr>\n",
       "      <th>2020-09-13</th>\n",
       "      <td>495.0</td>\n",
       "      <td>Austria</td>\n",
       "      <td>32951.0</td>\n",
       "      <td>9</td>\n",
       "      <td>6</td>\n",
       "      <td>1005.0</td>\n",
       "      <td>1.0</td>\n",
       "      <td>254.224167</td>\n",
       "      <td>36.703633</td>\n",
       "      <td>31487</td>\n",
       "    </tr>\n",
       "    <tr>\n",
       "      <th>2020-09-14</th>\n",
       "      <td>384.0</td>\n",
       "      <td>Austria</td>\n",
       "      <td>33335.0</td>\n",
       "      <td>9</td>\n",
       "      <td>0</td>\n",
       "      <td>495.0</td>\n",
       "      <td>0.0</td>\n",
       "      <td>379.184089</td>\n",
       "      <td>0.734133</td>\n",
       "      <td>31866</td>\n",
       "    </tr>\n",
       "    <tr>\n",
       "      <th>2020-09-15</th>\n",
       "      <td>549.0</td>\n",
       "      <td>Austria</td>\n",
       "      <td>33884.0</td>\n",
       "      <td>9</td>\n",
       "      <td>1</td>\n",
       "      <td>384.0</td>\n",
       "      <td>0.0</td>\n",
       "      <td>363.431341</td>\n",
       "      <td>28.287905</td>\n",
       "      <td>32229</td>\n",
       "    </tr>\n",
       "    <tr>\n",
       "      <th>2020-09-16</th>\n",
       "      <td>860.0</td>\n",
       "      <td>Austria</td>\n",
       "      <td>34744.0</td>\n",
       "      <td>9</td>\n",
       "      <td>2</td>\n",
       "      <td>549.0</td>\n",
       "      <td>0.0</td>\n",
       "      <td>406.686282</td>\n",
       "      <td>69.102701</td>\n",
       "      <td>32635</td>\n",
       "    </tr>\n",
       "    <tr>\n",
       "      <th>2020-09-17</th>\n",
       "      <td>704.0</td>\n",
       "      <td>Austria</td>\n",
       "      <td>35448.0</td>\n",
       "      <td>9</td>\n",
       "      <td>3</td>\n",
       "      <td>860.0</td>\n",
       "      <td>0.0</td>\n",
       "      <td>354.200483</td>\n",
       "      <td>53.323097</td>\n",
       "      <td>32989</td>\n",
       "    </tr>\n",
       "  </tbody>\n",
       "</table>\n",
       "</div>"
      ],
      "text/plain": [
       "             Cases  Country  cases_tot  Month  Day  prev_case  Weekend  \\\n",
       "Date                                                                     \n",
       "2020-09-10   754.0  Austria    30954.0      9    3      495.0      0.0   \n",
       "2020-09-11   497.0  Austria    31451.0      9    4      754.0      0.0   \n",
       "2020-09-12  1005.0  Austria    32456.0      9    5      497.0      1.0   \n",
       "2020-09-13   495.0  Austria    32951.0      9    6     1005.0      1.0   \n",
       "2020-09-14   384.0  Austria    33335.0      9    0      495.0      0.0   \n",
       "2020-09-15   549.0  Austria    33884.0      9    1      384.0      0.0   \n",
       "2020-09-16   860.0  Austria    34744.0      9    2      549.0      0.0   \n",
       "2020-09-17   704.0  Austria    35448.0      9    3      860.0      0.0   \n",
       "\n",
       "             Predicted  MAPE_values  Accumulated_Prediction  \n",
       "Date                                                         \n",
       "2020-09-10  437.492245    48.248133                   30637  \n",
       "2020-09-11  296.491934    30.565254                   30933  \n",
       "2020-09-12  300.264326   107.429219                   31233  \n",
       "2020-09-13  254.224167    36.703633                   31487  \n",
       "2020-09-14  379.184089     0.734133                   31866  \n",
       "2020-09-15  363.431341    28.287905                   32229  \n",
       "2020-09-16  406.686282    69.102701                   32635  \n",
       "2020-09-17  354.200483    53.323097                   32989  "
      ]
     },
     "execution_count": 27,
     "metadata": {},
     "output_type": "execute_result"
    }
   ],
   "source": [
    "Austria_CB_df"
   ]
  },
  {
   "cell_type": "code",
   "execution_count": 28,
   "metadata": {},
   "outputs": [
    {
     "data": {
      "text/plain": [
       "<matplotlib.axes._subplots.AxesSubplot at 0x12609d7f0>"
      ]
     },
     "execution_count": 28,
     "metadata": {},
     "output_type": "execute_result"
    },
    {
     "data": {
      "image/png": "[encoded data removed]",
      "text/plain": [
       "<Figure size 720x360 with 1 Axes>"
      ]
     },
     "metadata": {
      "needs_background": "light"
     },
     "output_type": "display_data"
    }
   ],
   "source": [
    "Austria_CB_df.plot( y=['Accumulated_Prediction', 'cases_tot'], label=['Predicted','True'], color=['red','black'], figsize=(10,5))"
   ]
  },
  {
   "cell_type": "markdown",
   "metadata": {},
   "source": [
    "## Test country 3, Bangladesh"
   ]
  },
  {
   "cell_type": "code",
   "execution_count": 29,
   "metadata": {},
   "outputs": [],
   "source": [
    "training_3_df = Bangladesh_df[(Bangladesh_df.index.date >= datetime.date(2020, 3, 1)) & \n",
    "                    (Bangladesh_df.index.date <= datetime.date(2020, 9, 9))].copy()"
   ]
  },
  {
   "cell_type": "code",
   "execution_count": 30,
   "metadata": {},
   "outputs": [],
   "source": [
    "# Generate model\n",
    "feature_list = ['Country','Month','Day','prev_case']#,'Weekend']#,'cases_tot']\n",
    "params= {'iterations': 5000, 'silent': True}\n",
    "model = CatBoostRegressor(**params)\n",
    "Bangladesh_CB_df = predict_horizon(model=model, training_df=training_3_df.copy(), \n",
    "                                                             test_df=test_3_df.copy(),\n",
    "                                                             feature_list=feature_list)\n",
    "\n"
   ]
  },
  {
   "cell_type": "code",
   "execution_count": 31,
   "metadata": {},
   "outputs": [
    {
     "data": {
      "image/png": "[encoded data removed]",
      "text/plain": [
       "<Figure size 864x288 with 1 Axes>"
      ]
     },
     "metadata": {
      "needs_background": "light"
     },
     "output_type": "display_data"
    }
   ],
   "source": [
    "title_str =''\n",
    "true_predicted_fig(test_3_df,Bangladesh_CB_df,title_str)"
   ]
  },
  {
   "cell_type": "code",
   "execution_count": 32,
   "metadata": {},
   "outputs": [],
   "source": [
    "Bangladesh_CB_df = accumulated_dataframe_column(Bangladesh_df,Bangladesh_CB_df)"
   ]
  },
  {
   "cell_type": "code",
   "execution_count": 33,
   "metadata": {},
   "outputs": [
    {
     "data": {
      "text/html": [
       "<div>\n",
       "<style scoped>\n",
       "    .dataframe tbody tr th:only-of-type {\n",
       "        vertical-align: middle;\n",
       "    }\n",
       "\n",
       "    .dataframe tbody tr th {\n",
       "        vertical-align: top;\n",
       "    }\n",
       "\n",
       "    .dataframe thead th {\n",
       "        text-align: right;\n",
       "    }\n",
       "</style>\n",
       "<table border=\"1\" class=\"dataframe\">\n",
       "  <thead>\n",
       "    <tr style=\"text-align: right;\">\n",
       "      <th></th>\n",
       "      <th>Cases</th>\n",
       "      <th>Country</th>\n",
       "      <th>cases_tot</th>\n",
       "      <th>Month</th>\n",
       "      <th>Day</th>\n",
       "      <th>prev_case</th>\n",
       "      <th>Weekend</th>\n",
       "      <th>Predicted</th>\n",
       "      <th>MAPE_values</th>\n",
       "      <th>Accumulated_Prediction</th>\n",
       "    </tr>\n",
       "    <tr>\n",
       "      <th>Date</th>\n",
       "      <th></th>\n",
       "      <th></th>\n",
       "      <th></th>\n",
       "      <th></th>\n",
       "      <th></th>\n",
       "      <th></th>\n",
       "      <th></th>\n",
       "      <th></th>\n",
       "      <th></th>\n",
       "      <th></th>\n",
       "    </tr>\n",
       "  </thead>\n",
       "  <tbody>\n",
       "    <tr>\n",
       "      <th>2020-09-10</th>\n",
       "      <td>1827.0</td>\n",
       "      <td>Bangladesh</td>\n",
       "      <td>331078.0</td>\n",
       "      <td>9</td>\n",
       "      <td>3</td>\n",
       "      <td>1892.0</td>\n",
       "      <td>0.0</td>\n",
       "      <td>2478.519146</td>\n",
       "      <td>38.838697</td>\n",
       "      <td>331729</td>\n",
       "    </tr>\n",
       "    <tr>\n",
       "      <th>2020-09-11</th>\n",
       "      <td>1892.0</td>\n",
       "      <td>Bangladesh</td>\n",
       "      <td>332970.0</td>\n",
       "      <td>9</td>\n",
       "      <td>4</td>\n",
       "      <td>1827.0</td>\n",
       "      <td>0.0</td>\n",
       "      <td>2201.811538</td>\n",
       "      <td>18.468646</td>\n",
       "      <td>333930</td>\n",
       "    </tr>\n",
       "    <tr>\n",
       "      <th>2020-09-12</th>\n",
       "      <td>1792.0</td>\n",
       "      <td>Bangladesh</td>\n",
       "      <td>334762.0</td>\n",
       "      <td>9</td>\n",
       "      <td>5</td>\n",
       "      <td>1892.0</td>\n",
       "      <td>1.0</td>\n",
       "      <td>2100.764519</td>\n",
       "      <td>18.406231</td>\n",
       "      <td>336030</td>\n",
       "    </tr>\n",
       "    <tr>\n",
       "      <th>2020-09-13</th>\n",
       "      <td>1282.0</td>\n",
       "      <td>Bangladesh</td>\n",
       "      <td>336044.0</td>\n",
       "      <td>9</td>\n",
       "      <td>6</td>\n",
       "      <td>1792.0</td>\n",
       "      <td>1.0</td>\n",
       "      <td>1966.714742</td>\n",
       "      <td>40.817570</td>\n",
       "      <td>337996</td>\n",
       "    </tr>\n",
       "    <tr>\n",
       "      <th>2020-09-14</th>\n",
       "      <td>1476.0</td>\n",
       "      <td>Bangladesh</td>\n",
       "      <td>337520.0</td>\n",
       "      <td>9</td>\n",
       "      <td>0</td>\n",
       "      <td>1282.0</td>\n",
       "      <td>0.0</td>\n",
       "      <td>1448.206057</td>\n",
       "      <td>1.656867</td>\n",
       "      <td>339444</td>\n",
       "    </tr>\n",
       "    <tr>\n",
       "      <th>2020-09-15</th>\n",
       "      <td>1812.0</td>\n",
       "      <td>Bangladesh</td>\n",
       "      <td>339332.0</td>\n",
       "      <td>9</td>\n",
       "      <td>1</td>\n",
       "      <td>1476.0</td>\n",
       "      <td>0.0</td>\n",
       "      <td>2050.828953</td>\n",
       "      <td>14.237195</td>\n",
       "      <td>341494</td>\n",
       "    </tr>\n",
       "    <tr>\n",
       "      <th>2020-09-16</th>\n",
       "      <td>1724.0</td>\n",
       "      <td>Bangladesh</td>\n",
       "      <td>341056.0</td>\n",
       "      <td>9</td>\n",
       "      <td>2</td>\n",
       "      <td>1812.0</td>\n",
       "      <td>0.0</td>\n",
       "      <td>2188.715875</td>\n",
       "      <td>27.702884</td>\n",
       "      <td>343682</td>\n",
       "    </tr>\n",
       "    <tr>\n",
       "      <th>2020-09-17</th>\n",
       "      <td>1615.0</td>\n",
       "      <td>Bangladesh</td>\n",
       "      <td>342671.0</td>\n",
       "      <td>9</td>\n",
       "      <td>3</td>\n",
       "      <td>1724.0</td>\n",
       "      <td>0.0</td>\n",
       "      <td>2463.856919</td>\n",
       "      <td>50.602499</td>\n",
       "      <td>346145</td>\n",
       "    </tr>\n",
       "  </tbody>\n",
       "</table>\n",
       "</div>"
      ],
      "text/plain": [
       "             Cases     Country  cases_tot  Month  Day  prev_case  Weekend  \\\n",
       "Date                                                                        \n",
       "2020-09-10  1827.0  Bangladesh   331078.0      9    3     1892.0      0.0   \n",
       "2020-09-11  1892.0  Bangladesh   332970.0      9    4     1827.0      0.0   \n",
       "2020-09-12  1792.0  Bangladesh   334762.0      9    5     1892.0      1.0   \n",
       "2020-09-13  1282.0  Bangladesh   336044.0      9    6     1792.0      1.0   \n",
       "2020-09-14  1476.0  Bangladesh   337520.0      9    0     1282.0      0.0   \n",
       "2020-09-15  1812.0  Bangladesh   339332.0      9    1     1476.0      0.0   \n",
       "2020-09-16  1724.0  Bangladesh   341056.0      9    2     1812.0      0.0   \n",
       "2020-09-17  1615.0  Bangladesh   342671.0      9    3     1724.0      0.0   \n",
       "\n",
       "              Predicted  MAPE_values  Accumulated_Prediction  \n",
       "Date                                                          \n",
       "2020-09-10  2478.519146    38.838697                  331729  \n",
       "2020-09-11  2201.811538    18.468646                  333930  \n",
       "2020-09-12  2100.764519    18.406231                  336030  \n",
       "2020-09-13  1966.714742    40.817570                  337996  \n",
       "2020-09-14  1448.206057     1.656867                  339444  \n",
       "2020-09-15  2050.828953    14.237195                  341494  \n",
       "2020-09-16  2188.715875    27.702884                  343682  \n",
       "2020-09-17  2463.856919    50.602499                  346145  "
      ]
     },
     "execution_count": 33,
     "metadata": {},
     "output_type": "execute_result"
    }
   ],
   "source": [
    "Bangladesh_CB_df"
   ]
  },
  {
   "cell_type": "code",
   "execution_count": 34,
   "metadata": {},
   "outputs": [
    {
     "data": {
      "text/plain": [
       "<matplotlib.axes._subplots.AxesSubplot at 0x12674b850>"
      ]
     },
     "execution_count": 34,
     "metadata": {},
     "output_type": "execute_result"
    },
    {
     "data": {
      "image/png": "[encoded data removed]",
      "text/plain": [
       "<Figure size 720x360 with 1 Axes>"
      ]
     },
     "metadata": {
      "needs_background": "light"
     },
     "output_type": "display_data"
    }
   ],
   "source": [
    "Bangladesh_CB_df.plot( y=['Accumulated_Prediction', 'cases_tot'], label=['Predicted','True'], color=['red','black'], figsize=(10,5))"
   ]
  },
  {
   "cell_type": "markdown",
   "metadata": {},
   "source": [
    "## Test country 4, Croatia"
   ]
  },
  {
   "cell_type": "code",
   "execution_count": 35,
   "metadata": {},
   "outputs": [],
   "source": [
    "training_4_df = Croatia_df[(Croatia_df.index.date >= datetime.date(2020, 3, 1)) & \n",
    "                    (Croatia_df.index.date <= datetime.date(2020, 9, 9))].copy()"
   ]
  },
  {
   "cell_type": "code",
   "execution_count": 36,
   "metadata": {},
   "outputs": [],
   "source": [
    "# Generate model\n",
    "feature_list = ['Country','Month','Day','prev_case']#,'Weekend']#,'cases_tot']\n",
    "params= {'iterations': 5000, 'silent': True}\n",
    "model = CatBoostRegressor(**params)\n",
    "Croatia_CB_df = predict_horizon(model=model, training_df=training_4_df.copy(), \n",
    "                                                             test_df=test_4_df.copy(),\n",
    "                                                             feature_list=feature_list)"
   ]
  },
  {
   "cell_type": "code",
   "execution_count": 37,
   "metadata": {},
   "outputs": [
    {
     "data": {
      "image/png": "[encoded data removed]",
      "text/plain": [
       "<Figure size 864x288 with 1 Axes>"
      ]
     },
     "metadata": {
      "needs_background": "light"
     },
     "output_type": "display_data"
    }
   ],
   "source": [
    "title_str =''\n",
    "true_predicted_fig(test_4_df,Croatia_CB_df,title_str)"
   ]
  },
  {
   "cell_type": "code",
   "execution_count": 38,
   "metadata": {},
   "outputs": [],
   "source": [
    "Croatia_CB_df = accumulated_dataframe_column(Croatia_df,Croatia_CB_df)"
   ]
  },
  {
   "cell_type": "code",
   "execution_count": 39,
   "metadata": {},
   "outputs": [
    {
     "data": {
      "text/html": [
       "<div>\n",
       "<style scoped>\n",
       "    .dataframe tbody tr th:only-of-type {\n",
       "        vertical-align: middle;\n",
       "    }\n",
       "\n",
       "    .dataframe tbody tr th {\n",
       "        vertical-align: top;\n",
       "    }\n",
       "\n",
       "    .dataframe thead th {\n",
       "        text-align: right;\n",
       "    }\n",
       "</style>\n",
       "<table border=\"1\" class=\"dataframe\">\n",
       "  <thead>\n",
       "    <tr style=\"text-align: right;\">\n",
       "      <th></th>\n",
       "      <th>Cases</th>\n",
       "      <th>Country</th>\n",
       "      <th>cases_tot</th>\n",
       "      <th>Month</th>\n",
       "      <th>Day</th>\n",
       "      <th>prev_case</th>\n",
       "      <th>Weekend</th>\n",
       "      <th>Predicted</th>\n",
       "      <th>MAPE_values</th>\n",
       "      <th>Accumulated_Prediction</th>\n",
       "    </tr>\n",
       "    <tr>\n",
       "      <th>Date</th>\n",
       "      <th></th>\n",
       "      <th></th>\n",
       "      <th></th>\n",
       "      <th></th>\n",
       "      <th></th>\n",
       "      <th></th>\n",
       "      <th></th>\n",
       "      <th></th>\n",
       "      <th></th>\n",
       "      <th></th>\n",
       "    </tr>\n",
       "  </thead>\n",
       "  <tbody>\n",
       "    <tr>\n",
       "      <th>2020-09-10</th>\n",
       "      <td>341.0</td>\n",
       "      <td>Croatia</td>\n",
       "      <td>12626.0</td>\n",
       "      <td>9</td>\n",
       "      <td>3</td>\n",
       "      <td>204.0</td>\n",
       "      <td>0.0</td>\n",
       "      <td>255.897314</td>\n",
       "      <td>39.037929</td>\n",
       "      <td>12540</td>\n",
       "    </tr>\n",
       "    <tr>\n",
       "      <th>2020-09-11</th>\n",
       "      <td>291.0</td>\n",
       "      <td>Croatia</td>\n",
       "      <td>12917.0</td>\n",
       "      <td>9</td>\n",
       "      <td>4</td>\n",
       "      <td>341.0</td>\n",
       "      <td>0.0</td>\n",
       "      <td>331.447521</td>\n",
       "      <td>18.553909</td>\n",
       "      <td>12871</td>\n",
       "    </tr>\n",
       "    <tr>\n",
       "      <th>2020-09-12</th>\n",
       "      <td>190.0</td>\n",
       "      <td>Croatia</td>\n",
       "      <td>13107.0</td>\n",
       "      <td>9</td>\n",
       "      <td>5</td>\n",
       "      <td>291.0</td>\n",
       "      <td>1.0</td>\n",
       "      <td>358.841949</td>\n",
       "      <td>77.450435</td>\n",
       "      <td>13229</td>\n",
       "    </tr>\n",
       "    <tr>\n",
       "      <th>2020-09-13</th>\n",
       "      <td>261.0</td>\n",
       "      <td>Croatia</td>\n",
       "      <td>13368.0</td>\n",
       "      <td>9</td>\n",
       "      <td>6</td>\n",
       "      <td>190.0</td>\n",
       "      <td>1.0</td>\n",
       "      <td>192.116374</td>\n",
       "      <td>31.597994</td>\n",
       "      <td>13421</td>\n",
       "    </tr>\n",
       "    <tr>\n",
       "      <th>2020-09-14</th>\n",
       "      <td>165.0</td>\n",
       "      <td>Croatia</td>\n",
       "      <td>13533.0</td>\n",
       "      <td>9</td>\n",
       "      <td>0</td>\n",
       "      <td>261.0</td>\n",
       "      <td>0.0</td>\n",
       "      <td>172.598023</td>\n",
       "      <td>3.485331</td>\n",
       "      <td>13593</td>\n",
       "    </tr>\n",
       "    <tr>\n",
       "      <th>2020-09-15</th>\n",
       "      <td>65.0</td>\n",
       "      <td>Croatia</td>\n",
       "      <td>13598.0</td>\n",
       "      <td>9</td>\n",
       "      <td>1</td>\n",
       "      <td>165.0</td>\n",
       "      <td>0.0</td>\n",
       "      <td>102.714366</td>\n",
       "      <td>17.300168</td>\n",
       "      <td>13695</td>\n",
       "    </tr>\n",
       "    <tr>\n",
       "      <th>2020-09-16</th>\n",
       "      <td>151.0</td>\n",
       "      <td>Croatia</td>\n",
       "      <td>13749.0</td>\n",
       "      <td>9</td>\n",
       "      <td>2</td>\n",
       "      <td>65.0</td>\n",
       "      <td>0.0</td>\n",
       "      <td>99.746425</td>\n",
       "      <td>23.510814</td>\n",
       "      <td>13794</td>\n",
       "    </tr>\n",
       "    <tr>\n",
       "      <th>2020-09-17</th>\n",
       "      <td>280.0</td>\n",
       "      <td>Croatia</td>\n",
       "      <td>14029.0</td>\n",
       "      <td>9</td>\n",
       "      <td>3</td>\n",
       "      <td>151.0</td>\n",
       "      <td>0.0</td>\n",
       "      <td>242.432243</td>\n",
       "      <td>17.232916</td>\n",
       "      <td>14036</td>\n",
       "    </tr>\n",
       "  </tbody>\n",
       "</table>\n",
       "</div>"
      ],
      "text/plain": [
       "            Cases  Country  cases_tot  Month  Day  prev_case  Weekend  \\\n",
       "Date                                                                    \n",
       "2020-09-10  341.0  Croatia    12626.0      9    3      204.0      0.0   \n",
       "2020-09-11  291.0  Croatia    12917.0      9    4      341.0      0.0   \n",
       "2020-09-12  190.0  Croatia    13107.0      9    5      291.0      1.0   \n",
       "2020-09-13  261.0  Croatia    13368.0      9    6      190.0      1.0   \n",
       "2020-09-14  165.0  Croatia    13533.0      9    0      261.0      0.0   \n",
       "2020-09-15   65.0  Croatia    13598.0      9    1      165.0      0.0   \n",
       "2020-09-16  151.0  Croatia    13749.0      9    2       65.0      0.0   \n",
       "2020-09-17  280.0  Croatia    14029.0      9    3      151.0      0.0   \n",
       "\n",
       "             Predicted  MAPE_values  Accumulated_Prediction  \n",
       "Date                                                         \n",
       "2020-09-10  255.897314    39.037929                   12540  \n",
       "2020-09-11  331.447521    18.553909                   12871  \n",
       "2020-09-12  358.841949    77.450435                   13229  \n",
       "2020-09-13  192.116374    31.597994                   13421  \n",
       "2020-09-14  172.598023     3.485331                   13593  \n",
       "2020-09-15  102.714366    17.300168                   13695  \n",
       "2020-09-16   99.746425    23.510814                   13794  \n",
       "2020-09-17  242.432243    17.232916                   14036  "
      ]
     },
     "execution_count": 39,
     "metadata": {},
     "output_type": "execute_result"
    }
   ],
   "source": [
    "Croatia_CB_df"
   ]
  },
  {
   "cell_type": "code",
   "execution_count": 40,
   "metadata": {},
   "outputs": [
    {
     "data": {
      "text/plain": [
       "<matplotlib.axes._subplots.AxesSubplot at 0x10aa7d130>"
      ]
     },
     "execution_count": 40,
     "metadata": {},
     "output_type": "execute_result"
    },
    {
     "data": {
      "image/png": "[encoded data removed]",
      "text/plain": [
       "<Figure size 720x360 with 1 Axes>"
      ]
     },
     "metadata": {
      "needs_background": "light"
     },
     "output_type": "display_data"
    }
   ],
   "source": [
    "Croatia_CB_df.plot( y=['Accumulated_Prediction', 'cases_tot'], label=['Predicted','True'], color=['red','black'], figsize=(10,5))"
   ]
  }
 ],
 "metadata": {
  "kernelspec": {
   "display_name": "Python 3",
   "language": "python",
   "name": "python3"
  },
  "language_info": {
   "codemirror_mode": {
    "name": "ipython",
    "version": 3
   },
   "file_extension": ".py",
   "mimetype": "text/x-python",
   "name": "python",
   "nbconvert_exporter": "python",
   "pygments_lexer": "ipython3",
   "version": "3.8.3"
  }
 },
 "nbformat": 4,
 "nbformat_minor": 4
}
