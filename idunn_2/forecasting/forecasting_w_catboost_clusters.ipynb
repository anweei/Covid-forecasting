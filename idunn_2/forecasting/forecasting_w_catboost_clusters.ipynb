{
 "cells": [
  {
   "cell_type": "code",
   "execution_count": 1,
   "metadata": {},
   "outputs": [],
   "source": [
    "#pip install catboost <- run first time this notebook is executed\n",
    "#pip install sklearn\n",
    "#pip install tabulate"
   ]
  },
  {
   "cell_type": "code",
   "execution_count": 2,
   "metadata": {},
   "outputs": [],
   "source": [
    "import pandas as pd\n",
    "from catboost import CatBoostRegressor\n",
    "import datetime\n",
    "from sklearn import preprocessing\n",
    "import numpy as np\n",
    "from matplotlib import pyplot as plt\n",
    "import math"
   ]
  },
  {
   "cell_type": "code",
   "execution_count": 3,
   "metadata": {},
   "outputs": [],
   "source": [
    "from IPython.display import HTML, display\n",
    "import tabulate"
   ]
  },
  {
   "cell_type": "code",
   "execution_count": 4,
   "metadata": {},
   "outputs": [],
   "source": [
    "df = pd.read_parquet('../data/forecasting_format/dataframe_forecasting_with_features.parquet')"
   ]
  },
  {
   "cell_type": "markdown",
   "metadata": {},
   "source": [
    "# Forecasting, training with clusters"
   ]
  },
  {
   "cell_type": "markdown",
   "metadata": {},
   "source": [
    "This notebook performs forecasting with Catboost, when trained on k-means clusters and hierarchical clusters respectivly. Each clustering method has four clusters. This notebook can be seen in connection with forecasting_w_catboost_single_country and forecasting_w_catboost_all_countries, as the ovjective of these notebooks are the same, however the training data differs."
   ]
  },
  {
   "cell_type": "markdown",
   "metadata": {},
   "source": [
    "As mentioned, the forecasting model is trained with clusters. This data is pre-processed using the pre_processing -> pre_processing notebook, formatted using the pre_processing -> forecasting_fromat_cases_per_day notebook and been given features by the pre_processing -> adding_features notebook. The clusters where found using respectivly the clustering -> clustering_k_means notebook and clustering -> clustering_hierarchical notebook. There has been selected 4 test countries that are the same for all forecasting. These were chosen at random with the condition that each of the four countries needed to be in a distinct cluster, where non of the three other test countries belonged. This had to be the case in both the k-means clusters and the hierarchical clusters. This is to ensure a fair comparison of the forecasts as possible.\n",
    "<br>\n",
    "<br>\n",
    "Training period: 01-03-2020 -> 09-09-2020\n",
    "<br>\n",
    "Testinng period: 10-09-2020 -> 17-09-2020"
   ]
  },
  {
   "cell_type": "markdown",
   "metadata": {},
   "source": [
    "Under testing, predictions where done with all combinations of features, this resulted in that the features 'weekday' and 'cases_tot' were disregarded, as prediction accuracy overall where effected negatively by these features. The used features are: 'Country', 'Month', 'Day', 'prev_case' where the last feature is a t-1 shift. These features are used for all forecasting predictions to ensure a fair basis of comparison as possible."
   ]
  },
  {
   "cell_type": "markdown",
   "metadata": {},
   "source": [
    "To evaluate accuracy, this and all forecasting notebooks utilize SMAPE, see paper for explanation and evaluation of this method of computing accuracy."
   ]
  },
  {
   "cell_type": "code",
   "execution_count": 5,
   "metadata": {},
   "outputs": [],
   "source": [
    "#Function used to perform prediction. Input: forecasting model, traning dataframe, test dataframe, \n",
    "#list of features, and number of predictions, default 8. Returns dataframe with same format as\n",
    "#additional test_df, with an additional column with predictions.\n",
    "\n",
    "def forecast(model, training_df, test_df, feature_list, num_predictions=8):\n",
    "    start_period = 0\n",
    "    end_period = num_predictions\n",
    "    prediction_list = []\n",
    "    \n",
    "    #Generating an encoder for country feature by converting country string to int value\n",
    "    if 'Country' in feature_list:\n",
    "        ns_encoder = preprocessing.LabelEncoder()\n",
    "        training_df['Country'] =  ns_encoder.fit_transform(training_df['Country'])\n",
    "    \n",
    "    #Dataframe with all features\n",
    "    x_training_df = training_df[feature_list].copy()\n",
    "    #Dataframe with all cases\n",
    "    y_training_df = training_df['Cases'].copy().to_frame()\n",
    "    model.fit(x_training_df, np.ravel(y_training_df))\n",
    "    \n",
    "    # Predicting on test set, while end period is not equal to end of length of test_df\n",
    "    while end_period <= len(test_df):\n",
    "        # Collect features from start to end and predict (10-10-2020->17-10-2020)\n",
    "        features_df = test_df[feature_list][start_period:end_period].copy()\n",
    "        #Generating an encoder for country feature by converting country string to int value\n",
    "        if 'Country' in feature_list:\n",
    "            features_df['Country'] = ns_encoder.transform(features_df['Country'])\n",
    "        true_df = test_df[['Cases']][start_period:end_period].copy()\n",
    "        predictions = model.predict(features_df)\n",
    "       \n",
    "        # Add the predicted data\n",
    "        predicted_df = pd.DataFrame(predictions, columns=['predicted'])\n",
    "        predicted_df.index = true_df.index.copy()        \n",
    "        prediction_list.extend(predictions)\n",
    "        # Move to next period\n",
    "        start_period += 1\n",
    "        end_period += 1\n",
    "    \n",
    "    df_result = test_df.assign(Predicted=prediction_list)\n",
    "    return df_result"
   ]
  },
  {
   "cell_type": "code",
   "execution_count": 6,
   "metadata": {},
   "outputs": [],
   "source": [
    "#Function that computes a SMAPE. Input: dataframe including true and prediction,\n",
    "#true_column that specifies which column of df holds the true values and \n",
    "#pred_column that specifies which column of df hold the predicted values\n",
    "def SMAPE(df,true_column,pred_column):\n",
    "    true_list = df[true_column].to_numpy()\n",
    "    pred_list = df[pred_column].to_numpy()\n",
    "    return 1/len(true_list)*np.sum(2*np.abs(pred_list-true_list)/(np.abs(true_list)+np.abs(pred_list))*100)"
   ]
  },
  {
   "cell_type": "code",
   "execution_count": 7,
   "metadata": {},
   "outputs": [],
   "source": [
    "#Function computes an additional column which sums predicted value together to form an accumulated\n",
    "#prediction. Prediction for day 0 is summed to the known total cases the day before.\n",
    "#Input: dataframe contanint all data on test country and dataframe including predictions produced\n",
    "#by def forecast. \n",
    "def accumulated_dataframe_column(df_test_country,CB_df):\n",
    "    test_start_value = df_test_country.loc[df_test_country.index == datetime.datetime(2020,9,9), 'cases_tot'].values[0]\n",
    "    accumulated_list = [math.floor(test_start_value+CB_df['Predicted'][0])]\n",
    "    for i in range(1,len(CB_df)):\n",
    "        accumulated_list.append(math.floor(accumulated_list[i-1]+CB_df['Predicted'][i]))\n",
    "    df_result = CB_df.copy()\n",
    "    df_result['Accumulated_Prediction'] = accumulated_list\n",
    "    return df_result"
   ]
  },
  {
   "cell_type": "markdown",
   "metadata": {},
   "source": [
    "## Selecting test countries"
   ]
  },
  {
   "cell_type": "code",
   "execution_count": 8,
   "metadata": {},
   "outputs": [],
   "source": [
    "Algeria_df = df[df['Country'].isin(['Algeria'])]"
   ]
  },
  {
   "cell_type": "code",
   "execution_count": 9,
   "metadata": {},
   "outputs": [],
   "source": [
    "test_1_df =  Algeria_df[(Algeria_df.index.date > datetime.date(2020, 9, 9)) & \n",
    "                    (Algeria_df.index.date <= datetime.date(2020, 9, 17))].copy()"
   ]
  },
  {
   "cell_type": "code",
   "execution_count": 10,
   "metadata": {},
   "outputs": [],
   "source": [
    "Belgium_df = df[df['Country'].isin(['Belgium'])]"
   ]
  },
  {
   "cell_type": "code",
   "execution_count": 11,
   "metadata": {},
   "outputs": [],
   "source": [
    "test_2_df =  Belgium_df[(Belgium_df.index.date > datetime.date(2020, 9, 9)) & \n",
    "                    (Belgium_df.index.date <= datetime.date(2020, 9, 17))].copy()"
   ]
  },
  {
   "cell_type": "code",
   "execution_count": 12,
   "metadata": {},
   "outputs": [],
   "source": [
    "Bangladesh_df = df[df['Country'].isin(['Bangladesh'])]"
   ]
  },
  {
   "cell_type": "code",
   "execution_count": 13,
   "metadata": {},
   "outputs": [],
   "source": [
    "test_3_df =  Bangladesh_df[(Bangladesh_df.index.date > datetime.date(2020, 9, 9)) & \n",
    "                    (Bangladesh_df.index.date <= datetime.date(2020, 9, 17))].copy()"
   ]
  },
  {
   "cell_type": "code",
   "execution_count": 14,
   "metadata": {},
   "outputs": [],
   "source": [
    "Croatia_df = df[df['Country'].isin(['Croatia'])]"
   ]
  },
  {
   "cell_type": "code",
   "execution_count": 15,
   "metadata": {},
   "outputs": [],
   "source": [
    "test_4_df =  Croatia_df[(Croatia_df.index.date > datetime.date(2020, 9, 9)) & \n",
    "                    (Croatia_df.index.date <= datetime.date(2020, 9, 17))].copy()"
   ]
  },
  {
   "cell_type": "markdown",
   "metadata": {},
   "source": [
    "## K-means z trans, cluster 1"
   ]
  },
  {
   "cell_type": "code",
   "execution_count": 16,
   "metadata": {},
   "outputs": [],
   "source": [
    "k_means_1_countries = pd.read_parquet('../results/clustering_results/df_kmeans_z_2.parquet')"
   ]
  },
  {
   "cell_type": "code",
   "execution_count": 17,
   "metadata": {},
   "outputs": [],
   "source": [
    "k_means_1_countries_list = list(k_means_1_countries.columns)"
   ]
  },
  {
   "cell_type": "markdown",
   "metadata": {},
   "source": [
    "List of countries in cluster:"
   ]
  },
  {
   "cell_type": "code",
   "execution_count": 18,
   "metadata": {},
   "outputs": [
    {
     "data": {
      "text/plain": [
       "['Algeria',\n",
       " 'Argentina',\n",
       " 'Australia',\n",
       " 'Bolivia',\n",
       " 'Bulgaria',\n",
       " 'Colombia',\n",
       " 'Costa Rica',\n",
       " 'Dominican Republic',\n",
       " 'El Salvador',\n",
       " 'Ethiopia',\n",
       " 'India',\n",
       " 'Indonesia',\n",
       " 'Iraq',\n",
       " 'Israel',\n",
       " 'Japan',\n",
       " 'Kazakhstan',\n",
       " 'Kenya',\n",
       " 'Malawi',\n",
       " 'Mexico',\n",
       " 'Mozambique',\n",
       " 'Nepal',\n",
       " 'Panama',\n",
       " 'Philippines',\n",
       " 'Romania',\n",
       " 'Rwanda',\n",
       " 'South Africa',\n",
       " 'Ukraine',\n",
       " 'Vietnam',\n",
       " 'Zambia',\n",
       " 'Zimbabwe']"
      ]
     },
     "execution_count": 18,
     "metadata": {},
     "output_type": "execute_result"
    }
   ],
   "source": [
    "k_means_1_countries_list"
   ]
  },
  {
   "cell_type": "code",
   "execution_count": 19,
   "metadata": {},
   "outputs": [],
   "source": [
    "k_means_1_df = df[df['Country'].isin(k_means_1_countries_list)]"
   ]
  },
  {
   "cell_type": "code",
   "execution_count": 20,
   "metadata": {},
   "outputs": [],
   "source": [
    "k_means_1_training_df = k_means_1_df[(k_means_1_df.index.date >= datetime.date(2020, 3, 1)) & \n",
    "                    (k_means_1_df.index.date <= datetime.date(2020, 9, 9))].copy()"
   ]
  },
  {
   "cell_type": "code",
   "execution_count": 21,
   "metadata": {},
   "outputs": [],
   "source": [
    "# Generate model\n",
    "feature_list = ['Country','Month','Day','prev_case']\n",
    "params= {'iterations': 5000, 'silent': True}\n",
    "model = CatBoostRegressor(**params)\n",
    "k_means_1_CB_df = forecast(model=model, training_df=k_means_1_training_df.copy(), \n",
    "                                                             test_df=test_1_df.copy(),\n",
    "                                                             feature_list=feature_list)"
   ]
  },
  {
   "cell_type": "code",
   "execution_count": 22,
   "metadata": {},
   "outputs": [],
   "source": [
    "k_means_1_CB_df = accumulated_dataframe_column(Algeria_df,k_means_1_CB_df)"
   ]
  },
  {
   "cell_type": "code",
   "execution_count": 23,
   "metadata": {},
   "outputs": [
    {
     "data": {
      "text/html": [
       "<div>\n",
       "<style scoped>\n",
       "    .dataframe tbody tr th:only-of-type {\n",
       "        vertical-align: middle;\n",
       "    }\n",
       "\n",
       "    .dataframe tbody tr th {\n",
       "        vertical-align: top;\n",
       "    }\n",
       "\n",
       "    .dataframe thead th {\n",
       "        text-align: right;\n",
       "    }\n",
       "</style>\n",
       "<table border=\"1\" class=\"dataframe\">\n",
       "  <thead>\n",
       "    <tr style=\"text-align: right;\">\n",
       "      <th></th>\n",
       "      <th>Cases</th>\n",
       "      <th>Country</th>\n",
       "      <th>cases_tot</th>\n",
       "      <th>Month</th>\n",
       "      <th>Day</th>\n",
       "      <th>Weekend</th>\n",
       "      <th>prev_case</th>\n",
       "      <th>Predicted</th>\n",
       "      <th>Accumulated_Prediction</th>\n",
       "    </tr>\n",
       "    <tr>\n",
       "      <th>Date</th>\n",
       "      <th></th>\n",
       "      <th></th>\n",
       "      <th></th>\n",
       "      <th></th>\n",
       "      <th></th>\n",
       "      <th></th>\n",
       "      <th></th>\n",
       "      <th></th>\n",
       "      <th></th>\n",
       "    </tr>\n",
       "  </thead>\n",
       "  <tbody>\n",
       "    <tr>\n",
       "      <th>2020-09-10</th>\n",
       "      <td>278.0</td>\n",
       "      <td>Algeria</td>\n",
       "      <td>47216.0</td>\n",
       "      <td>9</td>\n",
       "      <td>3</td>\n",
       "      <td>0.0</td>\n",
       "      <td>285.0</td>\n",
       "      <td>335.449768</td>\n",
       "      <td>47273</td>\n",
       "    </tr>\n",
       "    <tr>\n",
       "      <th>2020-09-11</th>\n",
       "      <td>272.0</td>\n",
       "      <td>Algeria</td>\n",
       "      <td>47488.0</td>\n",
       "      <td>9</td>\n",
       "      <td>4</td>\n",
       "      <td>0.0</td>\n",
       "      <td>278.0</td>\n",
       "      <td>206.084140</td>\n",
       "      <td>47479</td>\n",
       "    </tr>\n",
       "    <tr>\n",
       "      <th>2020-09-12</th>\n",
       "      <td>264.0</td>\n",
       "      <td>Algeria</td>\n",
       "      <td>47752.0</td>\n",
       "      <td>9</td>\n",
       "      <td>5</td>\n",
       "      <td>1.0</td>\n",
       "      <td>272.0</td>\n",
       "      <td>312.238193</td>\n",
       "      <td>47791</td>\n",
       "    </tr>\n",
       "    <tr>\n",
       "      <th>2020-09-13</th>\n",
       "      <td>255.0</td>\n",
       "      <td>Algeria</td>\n",
       "      <td>48007.0</td>\n",
       "      <td>9</td>\n",
       "      <td>6</td>\n",
       "      <td>1.0</td>\n",
       "      <td>264.0</td>\n",
       "      <td>288.449134</td>\n",
       "      <td>48079</td>\n",
       "    </tr>\n",
       "    <tr>\n",
       "      <th>2020-09-14</th>\n",
       "      <td>247.0</td>\n",
       "      <td>Algeria</td>\n",
       "      <td>48254.0</td>\n",
       "      <td>9</td>\n",
       "      <td>0</td>\n",
       "      <td>0.0</td>\n",
       "      <td>255.0</td>\n",
       "      <td>225.938481</td>\n",
       "      <td>48304</td>\n",
       "    </tr>\n",
       "    <tr>\n",
       "      <th>2020-09-15</th>\n",
       "      <td>242.0</td>\n",
       "      <td>Algeria</td>\n",
       "      <td>48496.0</td>\n",
       "      <td>9</td>\n",
       "      <td>1</td>\n",
       "      <td>0.0</td>\n",
       "      <td>247.0</td>\n",
       "      <td>320.564446</td>\n",
       "      <td>48624</td>\n",
       "    </tr>\n",
       "    <tr>\n",
       "      <th>2020-09-16</th>\n",
       "      <td>238.0</td>\n",
       "      <td>Algeria</td>\n",
       "      <td>48734.0</td>\n",
       "      <td>9</td>\n",
       "      <td>2</td>\n",
       "      <td>0.0</td>\n",
       "      <td>242.0</td>\n",
       "      <td>310.368518</td>\n",
       "      <td>48934</td>\n",
       "    </tr>\n",
       "    <tr>\n",
       "      <th>2020-09-17</th>\n",
       "      <td>232.0</td>\n",
       "      <td>Algeria</td>\n",
       "      <td>48966.0</td>\n",
       "      <td>9</td>\n",
       "      <td>3</td>\n",
       "      <td>0.0</td>\n",
       "      <td>238.0</td>\n",
       "      <td>318.044670</td>\n",
       "      <td>49252</td>\n",
       "    </tr>\n",
       "  </tbody>\n",
       "</table>\n",
       "</div>"
      ],
      "text/plain": [
       "            Cases  Country  cases_tot  Month  Day  Weekend  prev_case  \\\n",
       "Date                                                                    \n",
       "2020-09-10  278.0  Algeria    47216.0      9    3      0.0      285.0   \n",
       "2020-09-11  272.0  Algeria    47488.0      9    4      0.0      278.0   \n",
       "2020-09-12  264.0  Algeria    47752.0      9    5      1.0      272.0   \n",
       "2020-09-13  255.0  Algeria    48007.0      9    6      1.0      264.0   \n",
       "2020-09-14  247.0  Algeria    48254.0      9    0      0.0      255.0   \n",
       "2020-09-15  242.0  Algeria    48496.0      9    1      0.0      247.0   \n",
       "2020-09-16  238.0  Algeria    48734.0      9    2      0.0      242.0   \n",
       "2020-09-17  232.0  Algeria    48966.0      9    3      0.0      238.0   \n",
       "\n",
       "             Predicted  Accumulated_Prediction  \n",
       "Date                                            \n",
       "2020-09-10  335.449768                   47273  \n",
       "2020-09-11  206.084140                   47479  \n",
       "2020-09-12  312.238193                   47791  \n",
       "2020-09-13  288.449134                   48079  \n",
       "2020-09-14  225.938481                   48304  \n",
       "2020-09-15  320.564446                   48624  \n",
       "2020-09-16  310.368518                   48934  \n",
       "2020-09-17  318.044670                   49252  "
      ]
     },
     "execution_count": 23,
     "metadata": {},
     "output_type": "execute_result"
    }
   ],
   "source": [
    "k_means_1_CB_df"
   ]
  },
  {
   "cell_type": "markdown",
   "metadata": {},
   "source": [
    "Plot of true vs predicted when comparing cases per day and predicted cases per day:"
   ]
  },
  {
   "cell_type": "code",
   "execution_count": 24,
   "metadata": {},
   "outputs": [
    {
     "data": {
      "text/plain": [
       "Text(0, 0.5, 'Cases')"
      ]
     },
     "execution_count": 24,
     "metadata": {},
     "output_type": "execute_result"
    },
    {
     "data": {
      "text/plain": [
       "<Figure size 432x288 with 0 Axes>"
      ]
     },
     "metadata": {},
     "output_type": "display_data"
    },
    {
     "data": {
      "image/png": "[encoded data removed]",
      "text/plain": [
       "<Figure size 792x360 with 1 Axes>"
      ]
     },
     "metadata": {
      "needs_background": "light"
     },
     "output_type": "display_data"
    }
   ],
   "source": [
    "fig = plt.figure()\n",
    "k_means_1_CB_df.plot( y=['Predicted', 'Cases'], label=['Predicted','True'], color=['red','black'], figsize=(11,5))\n",
    "plt.ylabel('Cases')"
   ]
  },
  {
   "cell_type": "markdown",
   "metadata": {},
   "source": [
    "Plot of true vs. predicted when comparing total cases and accumulated prediction:"
   ]
  },
  {
   "cell_type": "code",
   "execution_count": 25,
   "metadata": {},
   "outputs": [
    {
     "data": {
      "text/plain": [
       "Text(0, 0.5, 'Cases')"
      ]
     },
     "execution_count": 25,
     "metadata": {},
     "output_type": "execute_result"
    },
    {
     "data": {
      "text/plain": [
       "<Figure size 432x288 with 0 Axes>"
      ]
     },
     "metadata": {},
     "output_type": "display_data"
    },
    {
     "data": {
      "image/png": "[encoded data removed]",
      "text/plain": [
       "<Figure size 792x360 with 1 Axes>"
      ]
     },
     "metadata": {
      "needs_background": "light"
     },
     "output_type": "display_data"
    }
   ],
   "source": [
    "fig = plt.figure()\n",
    "k_means_1_CB_df.plot( y=['Accumulated_Prediction', 'cases_tot'], label=['Predicted','True'], color=['red','black'], figsize=(11,5))\n",
    "plt.ylabel('Cases')\n",
    "#plt.savefig(\"Algeria_k_means\", bbox_inches='tight')"
   ]
  },
  {
   "cell_type": "markdown",
   "metadata": {},
   "source": [
    "SMAPE k_means 1:"
   ]
  },
  {
   "cell_type": "code",
   "execution_count": 26,
   "metadata": {},
   "outputs": [
    {
     "data": {
      "text/plain": [
       "0.2163"
      ]
     },
     "execution_count": 26,
     "metadata": {},
     "output_type": "execute_result"
    }
   ],
   "source": [
    "round(SMAPE(k_means_1_CB_df,'cases_tot','Accumulated_Prediction'),4)"
   ]
  },
  {
   "cell_type": "markdown",
   "metadata": {},
   "source": [
    "Saving result to parquet file:"
   ]
  },
  {
   "cell_type": "code",
   "execution_count": 27,
   "metadata": {},
   "outputs": [],
   "source": [
    "#k_means_1_CB_df.to_parquet('../results/forecasting_results/forecast_with_k_means_algeria.parquet')"
   ]
  },
  {
   "cell_type": "markdown",
   "metadata": {},
   "source": [
    "## Hierarchical z trans, cluster 1"
   ]
  },
  {
   "cell_type": "code",
   "execution_count": 28,
   "metadata": {},
   "outputs": [],
   "source": [
    "hac_1_countries = pd.read_parquet('../results/clustering_results/df_hac_z_1.parquet')"
   ]
  },
  {
   "cell_type": "code",
   "execution_count": 29,
   "metadata": {},
   "outputs": [],
   "source": [
    "hac_1_countries_list = list(hac_1_countries.columns)"
   ]
  },
  {
   "cell_type": "markdown",
   "metadata": {},
   "source": [
    "List of countries in cluster:"
   ]
  },
  {
   "cell_type": "code",
   "execution_count": 30,
   "metadata": {},
   "outputs": [
    {
     "data": {
      "text/plain": [
       "['Algeria',\n",
       " 'Argentina',\n",
       " 'Bolivia',\n",
       " 'Bulgaria',\n",
       " 'Colombia',\n",
       " 'Costa Rica',\n",
       " 'Dominican Republic',\n",
       " 'El Salvador',\n",
       " 'Ethiopia',\n",
       " 'India',\n",
       " 'Indonesia',\n",
       " 'Iraq',\n",
       " 'Israel',\n",
       " 'Kazakhstan',\n",
       " 'Kenya',\n",
       " 'Malawi',\n",
       " 'Mexico',\n",
       " 'Morocco',\n",
       " 'Mozambique',\n",
       " 'Nepal',\n",
       " 'Panama',\n",
       " 'Paraguay',\n",
       " 'Philippines',\n",
       " 'Rwanda',\n",
       " 'South Africa',\n",
       " 'Ukraine',\n",
       " 'Zambia',\n",
       " 'Zimbabwe']"
      ]
     },
     "execution_count": 30,
     "metadata": {},
     "output_type": "execute_result"
    }
   ],
   "source": [
    "hac_1_countries_list"
   ]
  },
  {
   "cell_type": "code",
   "execution_count": 31,
   "metadata": {},
   "outputs": [],
   "source": [
    "hac_1_df = df[df['Country'].isin(hac_1_countries_list)]"
   ]
  },
  {
   "cell_type": "code",
   "execution_count": 32,
   "metadata": {},
   "outputs": [],
   "source": [
    "hac_1_training_df = hac_1_df[(hac_1_df.index.date >= datetime.date(2020, 3, 1)) & \n",
    "                    (hac_1_df.index.date <= datetime.date(2020, 9, 9))].copy()"
   ]
  },
  {
   "cell_type": "code",
   "execution_count": 33,
   "metadata": {},
   "outputs": [],
   "source": [
    "# Generate model\n",
    "feature_list = ['Country','Month','Day','prev_case']\n",
    "params= {'iterations': 5000, 'silent': True}\n",
    "model = CatBoostRegressor(**params)\n",
    "hac_1_CB_df = forecast(model=model, training_df=hac_1_training_df.copy(), \n",
    "                                                             test_df=test_1_df.copy(),\n",
    "                                                             feature_list=feature_list)"
   ]
  },
  {
   "cell_type": "code",
   "execution_count": 34,
   "metadata": {},
   "outputs": [],
   "source": [
    "hac_1_CB_df = accumulated_dataframe_column(Algeria_df,hac_1_CB_df)"
   ]
  },
  {
   "cell_type": "code",
   "execution_count": 35,
   "metadata": {},
   "outputs": [
    {
     "data": {
      "text/html": [
       "<div>\n",
       "<style scoped>\n",
       "    .dataframe tbody tr th:only-of-type {\n",
       "        vertical-align: middle;\n",
       "    }\n",
       "\n",
       "    .dataframe tbody tr th {\n",
       "        vertical-align: top;\n",
       "    }\n",
       "\n",
       "    .dataframe thead th {\n",
       "        text-align: right;\n",
       "    }\n",
       "</style>\n",
       "<table border=\"1\" class=\"dataframe\">\n",
       "  <thead>\n",
       "    <tr style=\"text-align: right;\">\n",
       "      <th></th>\n",
       "      <th>Cases</th>\n",
       "      <th>Country</th>\n",
       "      <th>cases_tot</th>\n",
       "      <th>Month</th>\n",
       "      <th>Day</th>\n",
       "      <th>Weekend</th>\n",
       "      <th>prev_case</th>\n",
       "      <th>Predicted</th>\n",
       "      <th>Accumulated_Prediction</th>\n",
       "    </tr>\n",
       "    <tr>\n",
       "      <th>Date</th>\n",
       "      <th></th>\n",
       "      <th></th>\n",
       "      <th></th>\n",
       "      <th></th>\n",
       "      <th></th>\n",
       "      <th></th>\n",
       "      <th></th>\n",
       "      <th></th>\n",
       "      <th></th>\n",
       "    </tr>\n",
       "  </thead>\n",
       "  <tbody>\n",
       "    <tr>\n",
       "      <th>2020-09-10</th>\n",
       "      <td>278.0</td>\n",
       "      <td>Algeria</td>\n",
       "      <td>47216.0</td>\n",
       "      <td>9</td>\n",
       "      <td>3</td>\n",
       "      <td>0.0</td>\n",
       "      <td>285.0</td>\n",
       "      <td>316.402955</td>\n",
       "      <td>47254</td>\n",
       "    </tr>\n",
       "    <tr>\n",
       "      <th>2020-09-11</th>\n",
       "      <td>272.0</td>\n",
       "      <td>Algeria</td>\n",
       "      <td>47488.0</td>\n",
       "      <td>9</td>\n",
       "      <td>4</td>\n",
       "      <td>0.0</td>\n",
       "      <td>278.0</td>\n",
       "      <td>184.729802</td>\n",
       "      <td>47438</td>\n",
       "    </tr>\n",
       "    <tr>\n",
       "      <th>2020-09-12</th>\n",
       "      <td>264.0</td>\n",
       "      <td>Algeria</td>\n",
       "      <td>47752.0</td>\n",
       "      <td>9</td>\n",
       "      <td>5</td>\n",
       "      <td>1.0</td>\n",
       "      <td>272.0</td>\n",
       "      <td>237.728279</td>\n",
       "      <td>47675</td>\n",
       "    </tr>\n",
       "    <tr>\n",
       "      <th>2020-09-13</th>\n",
       "      <td>255.0</td>\n",
       "      <td>Algeria</td>\n",
       "      <td>48007.0</td>\n",
       "      <td>9</td>\n",
       "      <td>6</td>\n",
       "      <td>1.0</td>\n",
       "      <td>264.0</td>\n",
       "      <td>93.174077</td>\n",
       "      <td>47768</td>\n",
       "    </tr>\n",
       "    <tr>\n",
       "      <th>2020-09-14</th>\n",
       "      <td>247.0</td>\n",
       "      <td>Algeria</td>\n",
       "      <td>48254.0</td>\n",
       "      <td>9</td>\n",
       "      <td>0</td>\n",
       "      <td>0.0</td>\n",
       "      <td>255.0</td>\n",
       "      <td>162.505923</td>\n",
       "      <td>47930</td>\n",
       "    </tr>\n",
       "    <tr>\n",
       "      <th>2020-09-15</th>\n",
       "      <td>242.0</td>\n",
       "      <td>Algeria</td>\n",
       "      <td>48496.0</td>\n",
       "      <td>9</td>\n",
       "      <td>1</td>\n",
       "      <td>0.0</td>\n",
       "      <td>247.0</td>\n",
       "      <td>327.627525</td>\n",
       "      <td>48257</td>\n",
       "    </tr>\n",
       "    <tr>\n",
       "      <th>2020-09-16</th>\n",
       "      <td>238.0</td>\n",
       "      <td>Algeria</td>\n",
       "      <td>48734.0</td>\n",
       "      <td>9</td>\n",
       "      <td>2</td>\n",
       "      <td>0.0</td>\n",
       "      <td>242.0</td>\n",
       "      <td>305.254689</td>\n",
       "      <td>48562</td>\n",
       "    </tr>\n",
       "    <tr>\n",
       "      <th>2020-09-17</th>\n",
       "      <td>232.0</td>\n",
       "      <td>Algeria</td>\n",
       "      <td>48966.0</td>\n",
       "      <td>9</td>\n",
       "      <td>3</td>\n",
       "      <td>0.0</td>\n",
       "      <td>238.0</td>\n",
       "      <td>298.517016</td>\n",
       "      <td>48860</td>\n",
       "    </tr>\n",
       "  </tbody>\n",
       "</table>\n",
       "</div>"
      ],
      "text/plain": [
       "            Cases  Country  cases_tot  Month  Day  Weekend  prev_case  \\\n",
       "Date                                                                    \n",
       "2020-09-10  278.0  Algeria    47216.0      9    3      0.0      285.0   \n",
       "2020-09-11  272.0  Algeria    47488.0      9    4      0.0      278.0   \n",
       "2020-09-12  264.0  Algeria    47752.0      9    5      1.0      272.0   \n",
       "2020-09-13  255.0  Algeria    48007.0      9    6      1.0      264.0   \n",
       "2020-09-14  247.0  Algeria    48254.0      9    0      0.0      255.0   \n",
       "2020-09-15  242.0  Algeria    48496.0      9    1      0.0      247.0   \n",
       "2020-09-16  238.0  Algeria    48734.0      9    2      0.0      242.0   \n",
       "2020-09-17  232.0  Algeria    48966.0      9    3      0.0      238.0   \n",
       "\n",
       "             Predicted  Accumulated_Prediction  \n",
       "Date                                            \n",
       "2020-09-10  316.402955                   47254  \n",
       "2020-09-11  184.729802                   47438  \n",
       "2020-09-12  237.728279                   47675  \n",
       "2020-09-13   93.174077                   47768  \n",
       "2020-09-14  162.505923                   47930  \n",
       "2020-09-15  327.627525                   48257  \n",
       "2020-09-16  305.254689                   48562  \n",
       "2020-09-17  298.517016                   48860  "
      ]
     },
     "execution_count": 35,
     "metadata": {},
     "output_type": "execute_result"
    }
   ],
   "source": [
    "hac_1_CB_df"
   ]
  },
  {
   "cell_type": "markdown",
   "metadata": {},
   "source": [
    "Plot of true vs predicted when comparing cases per day and predicted cases per day:"
   ]
  },
  {
   "cell_type": "code",
   "execution_count": 36,
   "metadata": {},
   "outputs": [
    {
     "data": {
      "text/plain": [
       "Text(0, 0.5, 'Cases')"
      ]
     },
     "execution_count": 36,
     "metadata": {},
     "output_type": "execute_result"
    },
    {
     "data": {
      "text/plain": [
       "<Figure size 432x288 with 0 Axes>"
      ]
     },
     "metadata": {},
     "output_type": "display_data"
    },
    {
     "data": {
      "image/png": "[encoded data removed]",
      "text/plain": [
       "<Figure size 792x360 with 1 Axes>"
      ]
     },
     "metadata": {
      "needs_background": "light"
     },
     "output_type": "display_data"
    }
   ],
   "source": [
    "fig = plt.figure()\n",
    "hac_1_CB_df.plot( y=['Predicted', 'Cases'], label=['Predicted','True'], color=['red','black'], figsize=(11,5))\n",
    "plt.ylabel('Cases')"
   ]
  },
  {
   "cell_type": "markdown",
   "metadata": {},
   "source": [
    "Plot of true vs. predicted when comparing total cases and accumulated prediction:"
   ]
  },
  {
   "cell_type": "code",
   "execution_count": 37,
   "metadata": {},
   "outputs": [
    {
     "data": {
      "text/plain": [
       "Text(0, 0.5, 'Cases')"
      ]
     },
     "execution_count": 37,
     "metadata": {},
     "output_type": "execute_result"
    },
    {
     "data": {
      "text/plain": [
       "<Figure size 432x288 with 0 Axes>"
      ]
     },
     "metadata": {},
     "output_type": "display_data"
    },
    {
     "data": {
      "image/png": "[encoded data removed]",
      "text/plain": [
       "<Figure size 792x360 with 1 Axes>"
      ]
     },
     "metadata": {
      "needs_background": "light"
     },
     "output_type": "display_data"
    }
   ],
   "source": [
    "fig = plt.figure()\n",
    "hac_1_CB_df.plot( y=['Accumulated_Prediction', 'cases_tot'], label=['Predicted','True'], color=['red','black'], figsize=(11,5))\n",
    "plt.ylabel('Cases')\n",
    "#plt.savefig(\"Algeria_hac\", bbox_inches='tight')"
   ]
  },
  {
   "cell_type": "markdown",
   "metadata": {},
   "source": [
    "SMAPE Hierarchical 1:"
   ]
  },
  {
   "cell_type": "code",
   "execution_count": 38,
   "metadata": {},
   "outputs": [
    {
     "data": {
      "text/plain": [
       "0.323"
      ]
     },
     "execution_count": 38,
     "metadata": {},
     "output_type": "execute_result"
    }
   ],
   "source": [
    "round(SMAPE(hac_1_CB_df,'cases_tot','Accumulated_Prediction'),4)"
   ]
  },
  {
   "cell_type": "markdown",
   "metadata": {},
   "source": [
    "Saving result to parquet file:"
   ]
  },
  {
   "cell_type": "code",
   "execution_count": 39,
   "metadata": {},
   "outputs": [],
   "source": [
    "#hac_1_CB_df.to_parquet('../results/forecasting_results/forecast_with_hac_algeria.parquet')"
   ]
  },
  {
   "cell_type": "markdown",
   "metadata": {},
   "source": [
    "## K-means z trans, cluster 2"
   ]
  },
  {
   "cell_type": "code",
   "execution_count": 40,
   "metadata": {},
   "outputs": [],
   "source": [
    "k_means_2_countries = pd.read_parquet('../results/clustering_results/df_kmeans_z_3.parquet')"
   ]
  },
  {
   "cell_type": "code",
   "execution_count": 41,
   "metadata": {},
   "outputs": [],
   "source": [
    "k_means_2_countries_list = list(k_means_2_countries.columns)"
   ]
  },
  {
   "cell_type": "markdown",
   "metadata": {},
   "source": [
    "List of countries in cluster:"
   ]
  },
  {
   "cell_type": "code",
   "execution_count": 42,
   "metadata": {},
   "outputs": [
    {
     "data": {
      "text/plain": [
       "['Austria',\n",
       " 'Belgium',\n",
       " 'Canada',\n",
       " 'Denmark',\n",
       " 'Estonia',\n",
       " 'Fiji',\n",
       " 'Finland',\n",
       " 'Iceland',\n",
       " 'Ireland',\n",
       " 'Latvia',\n",
       " 'Malaysia',\n",
       " 'New Zealand',\n",
       " 'Norway',\n",
       " 'Switzerland',\n",
       " 'Thailand',\n",
       " 'Turkey',\n",
       " 'United Kingdom']"
      ]
     },
     "execution_count": 42,
     "metadata": {},
     "output_type": "execute_result"
    }
   ],
   "source": [
    "k_means_2_countries_list"
   ]
  },
  {
   "cell_type": "code",
   "execution_count": 43,
   "metadata": {},
   "outputs": [],
   "source": [
    "k_means_2_df = df[df['Country'].isin(k_means_2_countries_list)]"
   ]
  },
  {
   "cell_type": "code",
   "execution_count": 44,
   "metadata": {},
   "outputs": [],
   "source": [
    "k_means_2_training_df = k_means_2_df[(k_means_2_df.index.date >= datetime.date(2020, 3, 1)) & \n",
    "                    (k_means_2_df.index.date <= datetime.date(2020, 9, 9))].copy()"
   ]
  },
  {
   "cell_type": "code",
   "execution_count": 45,
   "metadata": {},
   "outputs": [],
   "source": [
    "# Generate model\n",
    "feature_list = ['Country','Month','Day','prev_case']\n",
    "params= {'iterations': 5000, 'silent': True}\n",
    "model = CatBoostRegressor(**params)\n",
    "k_means_2_CB_df = forecast(model=model, training_df=k_means_2_training_df.copy(), \n",
    "                                                             test_df=test_2_df.copy(),\n",
    "                                                             feature_list=feature_list)"
   ]
  },
  {
   "cell_type": "code",
   "execution_count": 46,
   "metadata": {},
   "outputs": [],
   "source": [
    "k_means_2_CB_df = accumulated_dataframe_column(Belgium_df,k_means_2_CB_df)"
   ]
  },
  {
   "cell_type": "code",
   "execution_count": 47,
   "metadata": {},
   "outputs": [
    {
     "data": {
      "text/html": [
       "<div>\n",
       "<style scoped>\n",
       "    .dataframe tbody tr th:only-of-type {\n",
       "        vertical-align: middle;\n",
       "    }\n",
       "\n",
       "    .dataframe tbody tr th {\n",
       "        vertical-align: top;\n",
       "    }\n",
       "\n",
       "    .dataframe thead th {\n",
       "        text-align: right;\n",
       "    }\n",
       "</style>\n",
       "<table border=\"1\" class=\"dataframe\">\n",
       "  <thead>\n",
       "    <tr style=\"text-align: right;\">\n",
       "      <th></th>\n",
       "      <th>Cases</th>\n",
       "      <th>Country</th>\n",
       "      <th>cases_tot</th>\n",
       "      <th>Month</th>\n",
       "      <th>Day</th>\n",
       "      <th>Weekend</th>\n",
       "      <th>prev_case</th>\n",
       "      <th>Predicted</th>\n",
       "      <th>Accumulated_Prediction</th>\n",
       "    </tr>\n",
       "    <tr>\n",
       "      <th>Date</th>\n",
       "      <th></th>\n",
       "      <th></th>\n",
       "      <th></th>\n",
       "      <th></th>\n",
       "      <th></th>\n",
       "      <th></th>\n",
       "      <th></th>\n",
       "      <th></th>\n",
       "      <th></th>\n",
       "    </tr>\n",
       "  </thead>\n",
       "  <tbody>\n",
       "    <tr>\n",
       "      <th>2020-09-10</th>\n",
       "      <td>1023.0</td>\n",
       "      <td>Belgium</td>\n",
       "      <td>91868.0</td>\n",
       "      <td>9</td>\n",
       "      <td>3</td>\n",
       "      <td>0.0</td>\n",
       "      <td>872.0</td>\n",
       "      <td>808.899551</td>\n",
       "      <td>91653</td>\n",
       "    </tr>\n",
       "    <tr>\n",
       "      <th>2020-09-11</th>\n",
       "      <td>1141.0</td>\n",
       "      <td>Belgium</td>\n",
       "      <td>93009.0</td>\n",
       "      <td>9</td>\n",
       "      <td>4</td>\n",
       "      <td>0.0</td>\n",
       "      <td>1023.0</td>\n",
       "      <td>923.683693</td>\n",
       "      <td>92576</td>\n",
       "    </tr>\n",
       "    <tr>\n",
       "      <th>2020-09-12</th>\n",
       "      <td>1281.0</td>\n",
       "      <td>Belgium</td>\n",
       "      <td>94290.0</td>\n",
       "      <td>9</td>\n",
       "      <td>5</td>\n",
       "      <td>1.0</td>\n",
       "      <td>1141.0</td>\n",
       "      <td>910.298329</td>\n",
       "      <td>93486</td>\n",
       "    </tr>\n",
       "    <tr>\n",
       "      <th>2020-09-13</th>\n",
       "      <td>610.0</td>\n",
       "      <td>Belgium</td>\n",
       "      <td>94900.0</td>\n",
       "      <td>9</td>\n",
       "      <td>6</td>\n",
       "      <td>1.0</td>\n",
       "      <td>1281.0</td>\n",
       "      <td>791.653929</td>\n",
       "      <td>94277</td>\n",
       "    </tr>\n",
       "    <tr>\n",
       "      <th>2020-09-14</th>\n",
       "      <td>296.0</td>\n",
       "      <td>Belgium</td>\n",
       "      <td>95196.0</td>\n",
       "      <td>9</td>\n",
       "      <td>0</td>\n",
       "      <td>0.0</td>\n",
       "      <td>610.0</td>\n",
       "      <td>420.194938</td>\n",
       "      <td>94697</td>\n",
       "    </tr>\n",
       "    <tr>\n",
       "      <th>2020-09-15</th>\n",
       "      <td>1625.0</td>\n",
       "      <td>Belgium</td>\n",
       "      <td>96821.0</td>\n",
       "      <td>9</td>\n",
       "      <td>1</td>\n",
       "      <td>0.0</td>\n",
       "      <td>296.0</td>\n",
       "      <td>681.380010</td>\n",
       "      <td>95378</td>\n",
       "    </tr>\n",
       "    <tr>\n",
       "      <th>2020-09-16</th>\n",
       "      <td>898.0</td>\n",
       "      <td>Belgium</td>\n",
       "      <td>97719.0</td>\n",
       "      <td>9</td>\n",
       "      <td>2</td>\n",
       "      <td>0.0</td>\n",
       "      <td>1625.0</td>\n",
       "      <td>1370.110540</td>\n",
       "      <td>96748</td>\n",
       "    </tr>\n",
       "    <tr>\n",
       "      <th>2020-09-17</th>\n",
       "      <td>163.0</td>\n",
       "      <td>Belgium</td>\n",
       "      <td>97882.0</td>\n",
       "      <td>9</td>\n",
       "      <td>3</td>\n",
       "      <td>0.0</td>\n",
       "      <td>898.0</td>\n",
       "      <td>824.595942</td>\n",
       "      <td>97572</td>\n",
       "    </tr>\n",
       "  </tbody>\n",
       "</table>\n",
       "</div>"
      ],
      "text/plain": [
       "             Cases  Country  cases_tot  Month  Day  Weekend  prev_case  \\\n",
       "Date                                                                     \n",
       "2020-09-10  1023.0  Belgium    91868.0      9    3      0.0      872.0   \n",
       "2020-09-11  1141.0  Belgium    93009.0      9    4      0.0     1023.0   \n",
       "2020-09-12  1281.0  Belgium    94290.0      9    5      1.0     1141.0   \n",
       "2020-09-13   610.0  Belgium    94900.0      9    6      1.0     1281.0   \n",
       "2020-09-14   296.0  Belgium    95196.0      9    0      0.0      610.0   \n",
       "2020-09-15  1625.0  Belgium    96821.0      9    1      0.0      296.0   \n",
       "2020-09-16   898.0  Belgium    97719.0      9    2      0.0     1625.0   \n",
       "2020-09-17   163.0  Belgium    97882.0      9    3      0.0      898.0   \n",
       "\n",
       "              Predicted  Accumulated_Prediction  \n",
       "Date                                             \n",
       "2020-09-10   808.899551                   91653  \n",
       "2020-09-11   923.683693                   92576  \n",
       "2020-09-12   910.298329                   93486  \n",
       "2020-09-13   791.653929                   94277  \n",
       "2020-09-14   420.194938                   94697  \n",
       "2020-09-15   681.380010                   95378  \n",
       "2020-09-16  1370.110540                   96748  \n",
       "2020-09-17   824.595942                   97572  "
      ]
     },
     "execution_count": 47,
     "metadata": {},
     "output_type": "execute_result"
    }
   ],
   "source": [
    "k_means_2_CB_df"
   ]
  },
  {
   "cell_type": "markdown",
   "metadata": {},
   "source": [
    "Plot of true vs predicted when comparing cases per day and predicted cases per day:"
   ]
  },
  {
   "cell_type": "code",
   "execution_count": 48,
   "metadata": {},
   "outputs": [
    {
     "data": {
      "text/plain": [
       "Text(0, 0.5, 'Cases')"
      ]
     },
     "execution_count": 48,
     "metadata": {},
     "output_type": "execute_result"
    },
    {
     "data": {
      "text/plain": [
       "<Figure size 432x288 with 0 Axes>"
      ]
     },
     "metadata": {},
     "output_type": "display_data"
    },
    {
     "data": {
      "image/png": "[encoded data removed]",
      "text/plain": [
       "<Figure size 792x360 with 1 Axes>"
      ]
     },
     "metadata": {
      "needs_background": "light"
     },
     "output_type": "display_data"
    }
   ],
   "source": [
    "fig = plt.figure()\n",
    "k_means_2_CB_df.plot( y=['Predicted', 'Cases'], label=['Predicted','True'], color=['red','black'], figsize=(11,5))\n",
    "plt.ylabel('Cases')"
   ]
  },
  {
   "cell_type": "markdown",
   "metadata": {},
   "source": [
    "Plot of true vs. predicted when comparing total cases and accumulated prediction:"
   ]
  },
  {
   "cell_type": "code",
   "execution_count": 49,
   "metadata": {},
   "outputs": [
    {
     "data": {
      "text/plain": [
       "Text(0, 0.5, 'Cases')"
      ]
     },
     "execution_count": 49,
     "metadata": {},
     "output_type": "execute_result"
    },
    {
     "data": {
      "text/plain": [
       "<Figure size 432x288 with 0 Axes>"
      ]
     },
     "metadata": {},
     "output_type": "display_data"
    },
    {
     "data": {
      "image/png": "[encoded data removed]",
      "text/plain": [
       "<Figure size 792x360 with 1 Axes>"
      ]
     },
     "metadata": {
      "needs_background": "light"
     },
     "output_type": "display_data"
    }
   ],
   "source": [
    "fig = plt.figure()\n",
    "k_means_2_CB_df.plot( y=['Accumulated_Prediction', 'cases_tot'], label=['Predicted','True'], color=['red','black'], figsize=(11,5))\n",
    "plt.ylabel('Cases')\n",
    "#plt.savefig(\"Belgium_k_means\", bbox_inches='tight')"
   ]
  },
  {
   "cell_type": "markdown",
   "metadata": {},
   "source": [
    "SMAPE K-means 2:"
   ]
  },
  {
   "cell_type": "code",
   "execution_count": 50,
   "metadata": {},
   "outputs": [
    {
     "data": {
      "text/plain": [
       "0.6949"
      ]
     },
     "execution_count": 50,
     "metadata": {},
     "output_type": "execute_result"
    }
   ],
   "source": [
    "round(SMAPE(k_means_2_CB_df,'cases_tot','Accumulated_Prediction'),4)"
   ]
  },
  {
   "cell_type": "markdown",
   "metadata": {},
   "source": [
    "Saving result to parquet file:"
   ]
  },
  {
   "cell_type": "code",
   "execution_count": 51,
   "metadata": {},
   "outputs": [],
   "source": [
    "#k_means_2_CB_df.to_parquet('../results/forecasting_results/forecast_with_k_means_belgium.parquet')"
   ]
  },
  {
   "cell_type": "markdown",
   "metadata": {},
   "source": [
    "## Hierarchical z trans, cluster 2"
   ]
  },
  {
   "cell_type": "code",
   "execution_count": 52,
   "metadata": {},
   "outputs": [],
   "source": [
    "hac_2_countries = pd.read_parquet('../results/clustering_results/df_hac_z_3.parquet')"
   ]
  },
  {
   "cell_type": "code",
   "execution_count": 53,
   "metadata": {},
   "outputs": [],
   "source": [
    "hac_2_countries_list = list(hac_2_countries.columns)"
   ]
  },
  {
   "cell_type": "markdown",
   "metadata": {},
   "source": [
    "List of countries in cluster:"
   ]
  },
  {
   "cell_type": "code",
   "execution_count": 54,
   "metadata": {},
   "outputs": [
    {
     "data": {
      "text/plain": [
       "['Belgium',\n",
       " 'Canada',\n",
       " 'Denmark',\n",
       " 'Estonia',\n",
       " 'Fiji',\n",
       " 'Finland',\n",
       " 'Iceland',\n",
       " 'Ireland',\n",
       " 'Latvia',\n",
       " 'Malaysia',\n",
       " 'New Zealand',\n",
       " 'Norway',\n",
       " 'Switzerland',\n",
       " 'Thailand',\n",
       " 'Turkey',\n",
       " 'United Kingdom']"
      ]
     },
     "execution_count": 54,
     "metadata": {},
     "output_type": "execute_result"
    }
   ],
   "source": [
    "hac_2_countries_list"
   ]
  },
  {
   "cell_type": "code",
   "execution_count": 55,
   "metadata": {},
   "outputs": [],
   "source": [
    "hac_2_df = df[df['Country'].isin(hac_2_countries_list)]"
   ]
  },
  {
   "cell_type": "code",
   "execution_count": 56,
   "metadata": {},
   "outputs": [],
   "source": [
    "hac_2_training_df = hac_2_df[(hac_2_df.index.date >= datetime.date(2020, 3, 1)) & \n",
    "                    (hac_2_df.index.date <= datetime.date(2020, 9, 9))].copy()"
   ]
  },
  {
   "cell_type": "code",
   "execution_count": 57,
   "metadata": {},
   "outputs": [],
   "source": [
    "# Generate model\n",
    "feature_list = ['Country','Month','Day','prev_case']\n",
    "params= {'iterations': 5000, 'silent': True}\n",
    "model = CatBoostRegressor(**params)\n",
    "hac_2_CB_df = forecast(model=model, training_df=hac_2_training_df.copy(), \n",
    "                                                             test_df=test_2_df.copy(),\n",
    "                                                             feature_list=feature_list)"
   ]
  },
  {
   "cell_type": "code",
   "execution_count": 58,
   "metadata": {},
   "outputs": [],
   "source": [
    "hac_2_CB_df = accumulated_dataframe_column(Belgium_df,hac_2_CB_df)"
   ]
  },
  {
   "cell_type": "code",
   "execution_count": 59,
   "metadata": {},
   "outputs": [
    {
     "data": {
      "text/html": [
       "<div>\n",
       "<style scoped>\n",
       "    .dataframe tbody tr th:only-of-type {\n",
       "        vertical-align: middle;\n",
       "    }\n",
       "\n",
       "    .dataframe tbody tr th {\n",
       "        vertical-align: top;\n",
       "    }\n",
       "\n",
       "    .dataframe thead th {\n",
       "        text-align: right;\n",
       "    }\n",
       "</style>\n",
       "<table border=\"1\" class=\"dataframe\">\n",
       "  <thead>\n",
       "    <tr style=\"text-align: right;\">\n",
       "      <th></th>\n",
       "      <th>Cases</th>\n",
       "      <th>Country</th>\n",
       "      <th>cases_tot</th>\n",
       "      <th>Month</th>\n",
       "      <th>Day</th>\n",
       "      <th>Weekend</th>\n",
       "      <th>prev_case</th>\n",
       "      <th>Predicted</th>\n",
       "      <th>Accumulated_Prediction</th>\n",
       "    </tr>\n",
       "    <tr>\n",
       "      <th>Date</th>\n",
       "      <th></th>\n",
       "      <th></th>\n",
       "      <th></th>\n",
       "      <th></th>\n",
       "      <th></th>\n",
       "      <th></th>\n",
       "      <th></th>\n",
       "      <th></th>\n",
       "      <th></th>\n",
       "    </tr>\n",
       "  </thead>\n",
       "  <tbody>\n",
       "    <tr>\n",
       "      <th>2020-09-10</th>\n",
       "      <td>1023.0</td>\n",
       "      <td>Belgium</td>\n",
       "      <td>91868.0</td>\n",
       "      <td>9</td>\n",
       "      <td>3</td>\n",
       "      <td>0.0</td>\n",
       "      <td>872.0</td>\n",
       "      <td>814.426390</td>\n",
       "      <td>91659</td>\n",
       "    </tr>\n",
       "    <tr>\n",
       "      <th>2020-09-11</th>\n",
       "      <td>1141.0</td>\n",
       "      <td>Belgium</td>\n",
       "      <td>93009.0</td>\n",
       "      <td>9</td>\n",
       "      <td>4</td>\n",
       "      <td>0.0</td>\n",
       "      <td>1023.0</td>\n",
       "      <td>944.183707</td>\n",
       "      <td>92603</td>\n",
       "    </tr>\n",
       "    <tr>\n",
       "      <th>2020-09-12</th>\n",
       "      <td>1281.0</td>\n",
       "      <td>Belgium</td>\n",
       "      <td>94290.0</td>\n",
       "      <td>9</td>\n",
       "      <td>5</td>\n",
       "      <td>1.0</td>\n",
       "      <td>1141.0</td>\n",
       "      <td>1003.258063</td>\n",
       "      <td>93606</td>\n",
       "    </tr>\n",
       "    <tr>\n",
       "      <th>2020-09-13</th>\n",
       "      <td>610.0</td>\n",
       "      <td>Belgium</td>\n",
       "      <td>94900.0</td>\n",
       "      <td>9</td>\n",
       "      <td>6</td>\n",
       "      <td>1.0</td>\n",
       "      <td>1281.0</td>\n",
       "      <td>761.701527</td>\n",
       "      <td>94367</td>\n",
       "    </tr>\n",
       "    <tr>\n",
       "      <th>2020-09-14</th>\n",
       "      <td>296.0</td>\n",
       "      <td>Belgium</td>\n",
       "      <td>95196.0</td>\n",
       "      <td>9</td>\n",
       "      <td>0</td>\n",
       "      <td>0.0</td>\n",
       "      <td>610.0</td>\n",
       "      <td>301.798401</td>\n",
       "      <td>94668</td>\n",
       "    </tr>\n",
       "    <tr>\n",
       "      <th>2020-09-15</th>\n",
       "      <td>1625.0</td>\n",
       "      <td>Belgium</td>\n",
       "      <td>96821.0</td>\n",
       "      <td>9</td>\n",
       "      <td>1</td>\n",
       "      <td>0.0</td>\n",
       "      <td>296.0</td>\n",
       "      <td>689.707224</td>\n",
       "      <td>95357</td>\n",
       "    </tr>\n",
       "    <tr>\n",
       "      <th>2020-09-16</th>\n",
       "      <td>898.0</td>\n",
       "      <td>Belgium</td>\n",
       "      <td>97719.0</td>\n",
       "      <td>9</td>\n",
       "      <td>2</td>\n",
       "      <td>0.0</td>\n",
       "      <td>1625.0</td>\n",
       "      <td>1455.576100</td>\n",
       "      <td>96812</td>\n",
       "    </tr>\n",
       "    <tr>\n",
       "      <th>2020-09-17</th>\n",
       "      <td>163.0</td>\n",
       "      <td>Belgium</td>\n",
       "      <td>97882.0</td>\n",
       "      <td>9</td>\n",
       "      <td>3</td>\n",
       "      <td>0.0</td>\n",
       "      <td>898.0</td>\n",
       "      <td>821.547048</td>\n",
       "      <td>97633</td>\n",
       "    </tr>\n",
       "  </tbody>\n",
       "</table>\n",
       "</div>"
      ],
      "text/plain": [
       "             Cases  Country  cases_tot  Month  Day  Weekend  prev_case  \\\n",
       "Date                                                                     \n",
       "2020-09-10  1023.0  Belgium    91868.0      9    3      0.0      872.0   \n",
       "2020-09-11  1141.0  Belgium    93009.0      9    4      0.0     1023.0   \n",
       "2020-09-12  1281.0  Belgium    94290.0      9    5      1.0     1141.0   \n",
       "2020-09-13   610.0  Belgium    94900.0      9    6      1.0     1281.0   \n",
       "2020-09-14   296.0  Belgium    95196.0      9    0      0.0      610.0   \n",
       "2020-09-15  1625.0  Belgium    96821.0      9    1      0.0      296.0   \n",
       "2020-09-16   898.0  Belgium    97719.0      9    2      0.0     1625.0   \n",
       "2020-09-17   163.0  Belgium    97882.0      9    3      0.0      898.0   \n",
       "\n",
       "              Predicted  Accumulated_Prediction  \n",
       "Date                                             \n",
       "2020-09-10   814.426390                   91659  \n",
       "2020-09-11   944.183707                   92603  \n",
       "2020-09-12  1003.258063                   93606  \n",
       "2020-09-13   761.701527                   94367  \n",
       "2020-09-14   301.798401                   94668  \n",
       "2020-09-15   689.707224                   95357  \n",
       "2020-09-16  1455.576100                   96812  \n",
       "2020-09-17   821.547048                   97633  "
      ]
     },
     "execution_count": 59,
     "metadata": {},
     "output_type": "execute_result"
    }
   ],
   "source": [
    "hac_2_CB_df"
   ]
  },
  {
   "cell_type": "markdown",
   "metadata": {},
   "source": [
    "Plot of true vs predicted when comparing cases per day and predicted cases per day:"
   ]
  },
  {
   "cell_type": "code",
   "execution_count": 60,
   "metadata": {},
   "outputs": [
    {
     "data": {
      "text/plain": [
       "Text(0, 0.5, 'Cases')"
      ]
     },
     "execution_count": 60,
     "metadata": {},
     "output_type": "execute_result"
    },
    {
     "data": {
      "text/plain": [
       "<Figure size 432x288 with 0 Axes>"
      ]
     },
     "metadata": {},
     "output_type": "display_data"
    },
    {
     "data": {
      "image/png": "[encoded data removed]",
      "text/plain": [
       "<Figure size 792x360 with 1 Axes>"
      ]
     },
     "metadata": {
      "needs_background": "light"
     },
     "output_type": "display_data"
    }
   ],
   "source": [
    "fig = plt.figure()\n",
    "hac_2_CB_df.plot( y=['Predicted', 'Cases'], label=['Predicted','True'], color=['red','black'], figsize=(11,5))\n",
    "plt.ylabel('Cases')"
   ]
  },
  {
   "cell_type": "markdown",
   "metadata": {},
   "source": [
    "Plot of true vs. predicted when comparing total cases and accumulated prediction:"
   ]
  },
  {
   "cell_type": "code",
   "execution_count": 61,
   "metadata": {},
   "outputs": [
    {
     "data": {
      "text/plain": [
       "Text(0, 0.5, 'Cases')"
      ]
     },
     "execution_count": 61,
     "metadata": {},
     "output_type": "execute_result"
    },
    {
     "data": {
      "text/plain": [
       "<Figure size 432x288 with 0 Axes>"
      ]
     },
     "metadata": {},
     "output_type": "display_data"
    },
    {
     "data": {
      "image/png": "[encoded data removed]",
      "text/plain": [
       "<Figure size 792x360 with 1 Axes>"
      ]
     },
     "metadata": {
      "needs_background": "light"
     },
     "output_type": "display_data"
    }
   ],
   "source": [
    "fig = plt.figure()\n",
    "hac_2_CB_df.plot( y=['Accumulated_Prediction', 'cases_tot'], label=['Predicted','True'], color=['red','black'], figsize=(11,5))\n",
    "plt.ylabel('Cases')\n",
    "#plt.savefig(\"Belgium_hac\", bbox_inches='tight')"
   ]
  },
  {
   "cell_type": "markdown",
   "metadata": {},
   "source": [
    "SMAPE Hierarchical 2:"
   ]
  },
  {
   "cell_type": "code",
   "execution_count": 62,
   "metadata": {},
   "outputs": [
    {
     "data": {
      "text/plain": [
       "0.6529"
      ]
     },
     "execution_count": 62,
     "metadata": {},
     "output_type": "execute_result"
    }
   ],
   "source": [
    "round(SMAPE(hac_2_CB_df,'cases_tot','Accumulated_Prediction'),4)"
   ]
  },
  {
   "cell_type": "markdown",
   "metadata": {},
   "source": [
    "Saving result to parquet file:"
   ]
  },
  {
   "cell_type": "code",
   "execution_count": 63,
   "metadata": {},
   "outputs": [],
   "source": [
    "#hac_2_CB_df.to_parquet('../results/forecasting_results/forecast_with_hac_beligum.parquet')"
   ]
  },
  {
   "cell_type": "markdown",
   "metadata": {},
   "source": [
    "## K-means z trans, cluster 3"
   ]
  },
  {
   "cell_type": "code",
   "execution_count": 64,
   "metadata": {},
   "outputs": [],
   "source": [
    "k_means_3_countries = pd.read_parquet('../results/clustering_results/df_kmeans_z_1.parquet')"
   ]
  },
  {
   "cell_type": "code",
   "execution_count": 65,
   "metadata": {},
   "outputs": [],
   "source": [
    "k_means_3_countries_list = list(k_means_3_countries.columns)"
   ]
  },
  {
   "cell_type": "markdown",
   "metadata": {},
   "source": [
    "List of countries in cluster:"
   ]
  },
  {
   "cell_type": "code",
   "execution_count": 66,
   "metadata": {},
   "outputs": [
    {
     "data": {
      "text/plain": [
       "['Bahrain',\n",
       " 'Bangladesh',\n",
       " 'Belarus',\n",
       " 'Chile',\n",
       " 'Cuba',\n",
       " 'Ghana',\n",
       " 'Iran',\n",
       " 'Kuwait',\n",
       " 'Nigeria',\n",
       " 'Oman',\n",
       " 'Pakistan',\n",
       " 'Peru',\n",
       " 'Poland',\n",
       " 'Qatar',\n",
       " 'Russia',\n",
       " 'Saudi Arabia',\n",
       " 'Senegal',\n",
       " 'Serbia',\n",
       " 'Sri Lanka',\n",
       " 'Sweden',\n",
       " 'Togo',\n",
       " 'United Arab Emirates',\n",
       " 'United States',\n",
       " 'Uruguay']"
      ]
     },
     "execution_count": 66,
     "metadata": {},
     "output_type": "execute_result"
    }
   ],
   "source": [
    "k_means_3_countries_list"
   ]
  },
  {
   "cell_type": "code",
   "execution_count": 67,
   "metadata": {},
   "outputs": [],
   "source": [
    "k_means_3_df = df[df['Country'].isin(k_means_3_countries_list)]"
   ]
  },
  {
   "cell_type": "code",
   "execution_count": 68,
   "metadata": {},
   "outputs": [],
   "source": [
    "k_means_3_training_df = k_means_3_df[( k_means_3_df.index.date >= datetime.date(2020, 3, 1)) & \n",
    "                    (k_means_3_df.index.date <= datetime.date(2020, 9, 9))].copy()"
   ]
  },
  {
   "cell_type": "code",
   "execution_count": 69,
   "metadata": {},
   "outputs": [],
   "source": [
    "# Generate model\n",
    "feature_list = ['Country','Month','Day','prev_case']\n",
    "params= {'iterations': 5000, 'silent': True}\n",
    "model = CatBoostRegressor(**params)\n",
    "k_means_3_CB_df = forecast(model=model, training_df=k_means_3_training_df.copy(), \n",
    "                                                             test_df=test_3_df.copy(),\n",
    "                                                             feature_list=feature_list)\n",
    "\n"
   ]
  },
  {
   "cell_type": "code",
   "execution_count": 70,
   "metadata": {},
   "outputs": [],
   "source": [
    "k_means_3_CB_df = accumulated_dataframe_column(Bangladesh_df,k_means_3_CB_df)"
   ]
  },
  {
   "cell_type": "code",
   "execution_count": 71,
   "metadata": {},
   "outputs": [
    {
     "data": {
      "text/html": [
       "<div>\n",
       "<style scoped>\n",
       "    .dataframe tbody tr th:only-of-type {\n",
       "        vertical-align: middle;\n",
       "    }\n",
       "\n",
       "    .dataframe tbody tr th {\n",
       "        vertical-align: top;\n",
       "    }\n",
       "\n",
       "    .dataframe thead th {\n",
       "        text-align: right;\n",
       "    }\n",
       "</style>\n",
       "<table border=\"1\" class=\"dataframe\">\n",
       "  <thead>\n",
       "    <tr style=\"text-align: right;\">\n",
       "      <th></th>\n",
       "      <th>Cases</th>\n",
       "      <th>Country</th>\n",
       "      <th>cases_tot</th>\n",
       "      <th>Month</th>\n",
       "      <th>Day</th>\n",
       "      <th>Weekend</th>\n",
       "      <th>prev_case</th>\n",
       "      <th>Predicted</th>\n",
       "      <th>Accumulated_Prediction</th>\n",
       "    </tr>\n",
       "    <tr>\n",
       "      <th>Date</th>\n",
       "      <th></th>\n",
       "      <th></th>\n",
       "      <th></th>\n",
       "      <th></th>\n",
       "      <th></th>\n",
       "      <th></th>\n",
       "      <th></th>\n",
       "      <th></th>\n",
       "      <th></th>\n",
       "    </tr>\n",
       "  </thead>\n",
       "  <tbody>\n",
       "    <tr>\n",
       "      <th>2020-09-10</th>\n",
       "      <td>1827.0</td>\n",
       "      <td>Bangladesh</td>\n",
       "      <td>331078.0</td>\n",
       "      <td>9</td>\n",
       "      <td>3</td>\n",
       "      <td>0.0</td>\n",
       "      <td>1892.0</td>\n",
       "      <td>2137.342307</td>\n",
       "      <td>331388</td>\n",
       "    </tr>\n",
       "    <tr>\n",
       "      <th>2020-09-11</th>\n",
       "      <td>1892.0</td>\n",
       "      <td>Bangladesh</td>\n",
       "      <td>332970.0</td>\n",
       "      <td>9</td>\n",
       "      <td>4</td>\n",
       "      <td>0.0</td>\n",
       "      <td>1827.0</td>\n",
       "      <td>1991.689993</td>\n",
       "      <td>333379</td>\n",
       "    </tr>\n",
       "    <tr>\n",
       "      <th>2020-09-12</th>\n",
       "      <td>1792.0</td>\n",
       "      <td>Bangladesh</td>\n",
       "      <td>334762.0</td>\n",
       "      <td>9</td>\n",
       "      <td>5</td>\n",
       "      <td>1.0</td>\n",
       "      <td>1892.0</td>\n",
       "      <td>2037.365591</td>\n",
       "      <td>335416</td>\n",
       "    </tr>\n",
       "    <tr>\n",
       "      <th>2020-09-13</th>\n",
       "      <td>1282.0</td>\n",
       "      <td>Bangladesh</td>\n",
       "      <td>336044.0</td>\n",
       "      <td>9</td>\n",
       "      <td>6</td>\n",
       "      <td>1.0</td>\n",
       "      <td>1792.0</td>\n",
       "      <td>1838.140314</td>\n",
       "      <td>337254</td>\n",
       "    </tr>\n",
       "    <tr>\n",
       "      <th>2020-09-14</th>\n",
       "      <td>1476.0</td>\n",
       "      <td>Bangladesh</td>\n",
       "      <td>337520.0</td>\n",
       "      <td>9</td>\n",
       "      <td>0</td>\n",
       "      <td>0.0</td>\n",
       "      <td>1282.0</td>\n",
       "      <td>1140.986351</td>\n",
       "      <td>338394</td>\n",
       "    </tr>\n",
       "    <tr>\n",
       "      <th>2020-09-15</th>\n",
       "      <td>1812.0</td>\n",
       "      <td>Bangladesh</td>\n",
       "      <td>339332.0</td>\n",
       "      <td>9</td>\n",
       "      <td>1</td>\n",
       "      <td>0.0</td>\n",
       "      <td>1476.0</td>\n",
       "      <td>1553.898320</td>\n",
       "      <td>339947</td>\n",
       "    </tr>\n",
       "    <tr>\n",
       "      <th>2020-09-16</th>\n",
       "      <td>1724.0</td>\n",
       "      <td>Bangladesh</td>\n",
       "      <td>341056.0</td>\n",
       "      <td>9</td>\n",
       "      <td>2</td>\n",
       "      <td>0.0</td>\n",
       "      <td>1812.0</td>\n",
       "      <td>1937.730272</td>\n",
       "      <td>341884</td>\n",
       "    </tr>\n",
       "    <tr>\n",
       "      <th>2020-09-17</th>\n",
       "      <td>1615.0</td>\n",
       "      <td>Bangladesh</td>\n",
       "      <td>342671.0</td>\n",
       "      <td>9</td>\n",
       "      <td>3</td>\n",
       "      <td>0.0</td>\n",
       "      <td>1724.0</td>\n",
       "      <td>1914.222642</td>\n",
       "      <td>343798</td>\n",
       "    </tr>\n",
       "  </tbody>\n",
       "</table>\n",
       "</div>"
      ],
      "text/plain": [
       "             Cases     Country  cases_tot  Month  Day  Weekend  prev_case  \\\n",
       "Date                                                                        \n",
       "2020-09-10  1827.0  Bangladesh   331078.0      9    3      0.0     1892.0   \n",
       "2020-09-11  1892.0  Bangladesh   332970.0      9    4      0.0     1827.0   \n",
       "2020-09-12  1792.0  Bangladesh   334762.0      9    5      1.0     1892.0   \n",
       "2020-09-13  1282.0  Bangladesh   336044.0      9    6      1.0     1792.0   \n",
       "2020-09-14  1476.0  Bangladesh   337520.0      9    0      0.0     1282.0   \n",
       "2020-09-15  1812.0  Bangladesh   339332.0      9    1      0.0     1476.0   \n",
       "2020-09-16  1724.0  Bangladesh   341056.0      9    2      0.0     1812.0   \n",
       "2020-09-17  1615.0  Bangladesh   342671.0      9    3      0.0     1724.0   \n",
       "\n",
       "              Predicted  Accumulated_Prediction  \n",
       "Date                                             \n",
       "2020-09-10  2137.342307                  331388  \n",
       "2020-09-11  1991.689993                  333379  \n",
       "2020-09-12  2037.365591                  335416  \n",
       "2020-09-13  1838.140314                  337254  \n",
       "2020-09-14  1140.986351                  338394  \n",
       "2020-09-15  1553.898320                  339947  \n",
       "2020-09-16  1937.730272                  341884  \n",
       "2020-09-17  1914.222642                  343798  "
      ]
     },
     "execution_count": 71,
     "metadata": {},
     "output_type": "execute_result"
    }
   ],
   "source": [
    "k_means_3_CB_df"
   ]
  },
  {
   "cell_type": "markdown",
   "metadata": {},
   "source": [
    "Plot of true vs predicted when comparing cases per day and predicted cases per day:"
   ]
  },
  {
   "cell_type": "code",
   "execution_count": 72,
   "metadata": {},
   "outputs": [
    {
     "data": {
      "text/plain": [
       "Text(0, 0.5, 'Cases')"
      ]
     },
     "execution_count": 72,
     "metadata": {},
     "output_type": "execute_result"
    },
    {
     "data": {
      "text/plain": [
       "<Figure size 432x288 with 0 Axes>"
      ]
     },
     "metadata": {},
     "output_type": "display_data"
    },
    {
     "data": {
      "image/png": "[encoded data removed]",
      "text/plain": [
       "<Figure size 792x360 with 1 Axes>"
      ]
     },
     "metadata": {
      "needs_background": "light"
     },
     "output_type": "display_data"
    }
   ],
   "source": [
    "fig = plt.figure()\n",
    "k_means_3_CB_df.plot( y=['Predicted', 'Cases'], label=['Predicted','True'], color=['red','black'], figsize=(11,5))\n",
    "plt.ylabel('Cases')"
   ]
  },
  {
   "cell_type": "markdown",
   "metadata": {},
   "source": [
    "Plot of true vs. predicted when comparing total cases and accumulated prediction:"
   ]
  },
  {
   "cell_type": "code",
   "execution_count": 73,
   "metadata": {},
   "outputs": [
    {
     "data": {
      "text/plain": [
       "Text(0, 0.5, 'Cases')"
      ]
     },
     "execution_count": 73,
     "metadata": {},
     "output_type": "execute_result"
    },
    {
     "data": {
      "text/plain": [
       "<Figure size 432x288 with 0 Axes>"
      ]
     },
     "metadata": {},
     "output_type": "display_data"
    },
    {
     "data": {
      "image/png": "[encoded data removed]",
      "text/plain": [
       "<Figure size 792x360 with 1 Axes>"
      ]
     },
     "metadata": {
      "needs_background": "light"
     },
     "output_type": "display_data"
    }
   ],
   "source": [
    "fig = plt.figure()\n",
    "k_means_3_CB_df.plot( y=['Accumulated_Prediction', 'cases_tot'], label=['Predicted','True'], color=['red','black'], figsize=(11,5))\n",
    "plt.ylabel('Cases')\n",
    "#plt.savefig(\"Bangladesh_k_means\", bbox_inches='tight')"
   ]
  },
  {
   "cell_type": "markdown",
   "metadata": {},
   "source": [
    "SMAPE K-means 3:"
   ]
  },
  {
   "cell_type": "code",
   "execution_count": 74,
   "metadata": {},
   "outputs": [
    {
     "data": {
      "text/plain": [
       "0.2227"
      ]
     },
     "execution_count": 74,
     "metadata": {},
     "output_type": "execute_result"
    }
   ],
   "source": [
    "round(SMAPE(k_means_3_CB_df,'cases_tot','Accumulated_Prediction'),4)"
   ]
  },
  {
   "cell_type": "markdown",
   "metadata": {},
   "source": [
    "Saving result to parquet file:"
   ]
  },
  {
   "cell_type": "code",
   "execution_count": 75,
   "metadata": {},
   "outputs": [],
   "source": [
    "#k_means_3_CB_df.to_parquet('../results/forecasting_results/forecast_with_k_means_bangladesh.parquet')"
   ]
  },
  {
   "cell_type": "markdown",
   "metadata": {},
   "source": [
    "## Hierarchical z trans, cluster 3"
   ]
  },
  {
   "cell_type": "code",
   "execution_count": 76,
   "metadata": {},
   "outputs": [],
   "source": [
    "hac_3_countries = pd.read_parquet('../results/clustering_results/df_hac_z_2.parquet')"
   ]
  },
  {
   "cell_type": "code",
   "execution_count": 77,
   "metadata": {},
   "outputs": [],
   "source": [
    "hac_3_countries_list = list(hac_3_countries.columns)"
   ]
  },
  {
   "cell_type": "markdown",
   "metadata": {},
   "source": [
    "List of countries in cluster:"
   ]
  },
  {
   "cell_type": "code",
   "execution_count": 78,
   "metadata": {},
   "outputs": [
    {
     "data": {
      "text/plain": [
       "['Bahrain',\n",
       " 'Bangladesh',\n",
       " 'Belarus',\n",
       " 'Chile',\n",
       " 'Ghana',\n",
       " 'Iran',\n",
       " 'Kuwait',\n",
       " 'Nigeria',\n",
       " 'Oman',\n",
       " 'Pakistan',\n",
       " 'Peru',\n",
       " 'Poland',\n",
       " 'Qatar',\n",
       " 'Russia',\n",
       " 'Saudi Arabia',\n",
       " 'Senegal',\n",
       " 'Serbia',\n",
       " 'Sri Lanka',\n",
       " 'Sweden',\n",
       " 'Togo',\n",
       " 'United Arab Emirates',\n",
       " 'United States']"
      ]
     },
     "execution_count": 78,
     "metadata": {},
     "output_type": "execute_result"
    }
   ],
   "source": [
    "hac_3_countries_list"
   ]
  },
  {
   "cell_type": "code",
   "execution_count": 79,
   "metadata": {},
   "outputs": [],
   "source": [
    "hac_3_df = df[df['Country'].isin(hac_3_countries_list)]"
   ]
  },
  {
   "cell_type": "code",
   "execution_count": 80,
   "metadata": {},
   "outputs": [],
   "source": [
    "hac_3_training_df = hac_3_df[(hac_3_df.index.date >= datetime.date(2020, 3, 1)) & \n",
    "                    (hac_3_df.index.date <= datetime.date(2020, 9, 9))].copy()"
   ]
  },
  {
   "cell_type": "code",
   "execution_count": 81,
   "metadata": {},
   "outputs": [],
   "source": [
    "# Generate model\n",
    "feature_list = ['Country','Month','Day','prev_case']\n",
    "params= {'iterations': 5000, 'silent': True}\n",
    "model = CatBoostRegressor(**params)\n",
    "hac_3_CB_df = forecast(model=model, training_df=hac_3_training_df.copy(), \n",
    "                                                             test_df=test_3_df.copy(),\n",
    "                                                             feature_list=feature_list)"
   ]
  },
  {
   "cell_type": "code",
   "execution_count": 82,
   "metadata": {},
   "outputs": [],
   "source": [
    "hac_3_CB_df = accumulated_dataframe_column(Bangladesh_df,hac_3_CB_df)"
   ]
  },
  {
   "cell_type": "code",
   "execution_count": 83,
   "metadata": {},
   "outputs": [
    {
     "data": {
      "text/html": [
       "<div>\n",
       "<style scoped>\n",
       "    .dataframe tbody tr th:only-of-type {\n",
       "        vertical-align: middle;\n",
       "    }\n",
       "\n",
       "    .dataframe tbody tr th {\n",
       "        vertical-align: top;\n",
       "    }\n",
       "\n",
       "    .dataframe thead th {\n",
       "        text-align: right;\n",
       "    }\n",
       "</style>\n",
       "<table border=\"1\" class=\"dataframe\">\n",
       "  <thead>\n",
       "    <tr style=\"text-align: right;\">\n",
       "      <th></th>\n",
       "      <th>Cases</th>\n",
       "      <th>Country</th>\n",
       "      <th>cases_tot</th>\n",
       "      <th>Month</th>\n",
       "      <th>Day</th>\n",
       "      <th>Weekend</th>\n",
       "      <th>prev_case</th>\n",
       "      <th>Predicted</th>\n",
       "      <th>Accumulated_Prediction</th>\n",
       "    </tr>\n",
       "    <tr>\n",
       "      <th>Date</th>\n",
       "      <th></th>\n",
       "      <th></th>\n",
       "      <th></th>\n",
       "      <th></th>\n",
       "      <th></th>\n",
       "      <th></th>\n",
       "      <th></th>\n",
       "      <th></th>\n",
       "      <th></th>\n",
       "    </tr>\n",
       "  </thead>\n",
       "  <tbody>\n",
       "    <tr>\n",
       "      <th>2020-09-10</th>\n",
       "      <td>1827.0</td>\n",
       "      <td>Bangladesh</td>\n",
       "      <td>331078.0</td>\n",
       "      <td>9</td>\n",
       "      <td>3</td>\n",
       "      <td>0.0</td>\n",
       "      <td>1892.0</td>\n",
       "      <td>2060.506894</td>\n",
       "      <td>331311</td>\n",
       "    </tr>\n",
       "    <tr>\n",
       "      <th>2020-09-11</th>\n",
       "      <td>1892.0</td>\n",
       "      <td>Bangladesh</td>\n",
       "      <td>332970.0</td>\n",
       "      <td>9</td>\n",
       "      <td>4</td>\n",
       "      <td>0.0</td>\n",
       "      <td>1827.0</td>\n",
       "      <td>1960.986204</td>\n",
       "      <td>333271</td>\n",
       "    </tr>\n",
       "    <tr>\n",
       "      <th>2020-09-12</th>\n",
       "      <td>1792.0</td>\n",
       "      <td>Bangladesh</td>\n",
       "      <td>334762.0</td>\n",
       "      <td>9</td>\n",
       "      <td>5</td>\n",
       "      <td>1.0</td>\n",
       "      <td>1892.0</td>\n",
       "      <td>1939.458104</td>\n",
       "      <td>335210</td>\n",
       "    </tr>\n",
       "    <tr>\n",
       "      <th>2020-09-13</th>\n",
       "      <td>1282.0</td>\n",
       "      <td>Bangladesh</td>\n",
       "      <td>336044.0</td>\n",
       "      <td>9</td>\n",
       "      <td>6</td>\n",
       "      <td>1.0</td>\n",
       "      <td>1792.0</td>\n",
       "      <td>1843.672406</td>\n",
       "      <td>337053</td>\n",
       "    </tr>\n",
       "    <tr>\n",
       "      <th>2020-09-14</th>\n",
       "      <td>1476.0</td>\n",
       "      <td>Bangladesh</td>\n",
       "      <td>337520.0</td>\n",
       "      <td>9</td>\n",
       "      <td>0</td>\n",
       "      <td>0.0</td>\n",
       "      <td>1282.0</td>\n",
       "      <td>1344.508525</td>\n",
       "      <td>338397</td>\n",
       "    </tr>\n",
       "    <tr>\n",
       "      <th>2020-09-15</th>\n",
       "      <td>1812.0</td>\n",
       "      <td>Bangladesh</td>\n",
       "      <td>339332.0</td>\n",
       "      <td>9</td>\n",
       "      <td>1</td>\n",
       "      <td>0.0</td>\n",
       "      <td>1476.0</td>\n",
       "      <td>1638.743577</td>\n",
       "      <td>340035</td>\n",
       "    </tr>\n",
       "    <tr>\n",
       "      <th>2020-09-16</th>\n",
       "      <td>1724.0</td>\n",
       "      <td>Bangladesh</td>\n",
       "      <td>341056.0</td>\n",
       "      <td>9</td>\n",
       "      <td>2</td>\n",
       "      <td>0.0</td>\n",
       "      <td>1812.0</td>\n",
       "      <td>1833.290365</td>\n",
       "      <td>341868</td>\n",
       "    </tr>\n",
       "    <tr>\n",
       "      <th>2020-09-17</th>\n",
       "      <td>1615.0</td>\n",
       "      <td>Bangladesh</td>\n",
       "      <td>342671.0</td>\n",
       "      <td>9</td>\n",
       "      <td>3</td>\n",
       "      <td>0.0</td>\n",
       "      <td>1724.0</td>\n",
       "      <td>1809.668263</td>\n",
       "      <td>343677</td>\n",
       "    </tr>\n",
       "  </tbody>\n",
       "</table>\n",
       "</div>"
      ],
      "text/plain": [
       "             Cases     Country  cases_tot  Month  Day  Weekend  prev_case  \\\n",
       "Date                                                                        \n",
       "2020-09-10  1827.0  Bangladesh   331078.0      9    3      0.0     1892.0   \n",
       "2020-09-11  1892.0  Bangladesh   332970.0      9    4      0.0     1827.0   \n",
       "2020-09-12  1792.0  Bangladesh   334762.0      9    5      1.0     1892.0   \n",
       "2020-09-13  1282.0  Bangladesh   336044.0      9    6      1.0     1792.0   \n",
       "2020-09-14  1476.0  Bangladesh   337520.0      9    0      0.0     1282.0   \n",
       "2020-09-15  1812.0  Bangladesh   339332.0      9    1      0.0     1476.0   \n",
       "2020-09-16  1724.0  Bangladesh   341056.0      9    2      0.0     1812.0   \n",
       "2020-09-17  1615.0  Bangladesh   342671.0      9    3      0.0     1724.0   \n",
       "\n",
       "              Predicted  Accumulated_Prediction  \n",
       "Date                                             \n",
       "2020-09-10  2060.506894                  331311  \n",
       "2020-09-11  1960.986204                  333271  \n",
       "2020-09-12  1939.458104                  335210  \n",
       "2020-09-13  1843.672406                  337053  \n",
       "2020-09-14  1344.508525                  338397  \n",
       "2020-09-15  1638.743577                  340035  \n",
       "2020-09-16  1833.290365                  341868  \n",
       "2020-09-17  1809.668263                  343677  "
      ]
     },
     "execution_count": 83,
     "metadata": {},
     "output_type": "execute_result"
    }
   ],
   "source": [
    "hac_3_CB_df"
   ]
  },
  {
   "cell_type": "markdown",
   "metadata": {},
   "source": [
    "Plot of true vs predicted when comparing cases per day and predicted cases per day:"
   ]
  },
  {
   "cell_type": "code",
   "execution_count": 84,
   "metadata": {},
   "outputs": [
    {
     "data": {
      "text/plain": [
       "Text(0, 0.5, 'Cases')"
      ]
     },
     "execution_count": 84,
     "metadata": {},
     "output_type": "execute_result"
    },
    {
     "data": {
      "text/plain": [
       "<Figure size 432x288 with 0 Axes>"
      ]
     },
     "metadata": {},
     "output_type": "display_data"
    },
    {
     "data": {
      "image/png": "[encoded data removed]",
      "text/plain": [
       "<Figure size 792x360 with 1 Axes>"
      ]
     },
     "metadata": {
      "needs_background": "light"
     },
     "output_type": "display_data"
    }
   ],
   "source": [
    "fig = plt.figure()\n",
    "hac_3_CB_df.plot( y=['Predicted', 'Cases'], label=['Predicted','True'], color=['red','black'], figsize=(11,5))\n",
    "plt.ylabel('Cases')"
   ]
  },
  {
   "cell_type": "markdown",
   "metadata": {},
   "source": [
    "Plot of true vs. predicted when comparing total cases and accumulated prediction:"
   ]
  },
  {
   "cell_type": "code",
   "execution_count": 85,
   "metadata": {},
   "outputs": [
    {
     "data": {
      "text/plain": [
       "Text(0, 0.5, 'Cases')"
      ]
     },
     "execution_count": 85,
     "metadata": {},
     "output_type": "execute_result"
    },
    {
     "data": {
      "text/plain": [
       "<Figure size 432x288 with 0 Axes>"
      ]
     },
     "metadata": {},
     "output_type": "display_data"
    },
    {
     "data": {
      "image/png": "[encoded data removed]",
      "text/plain": [
       "<Figure size 792x360 with 1 Axes>"
      ]
     },
     "metadata": {
      "needs_background": "light"
     },
     "output_type": "display_data"
    }
   ],
   "source": [
    "fig = plt.figure()\n",
    "hac_3_CB_df.plot( y=['Accumulated_Prediction', 'cases_tot'], label=['Predicted','True'], color=['red','black'], figsize=(11,5))\n",
    "plt.ylabel('Cases')\n",
    "#plt.savefig(\"Bangladesh_hac\", bbox_inches='tight')"
   ]
  },
  {
   "cell_type": "markdown",
   "metadata": {},
   "source": [
    "SMAPE Hierarchical 3:"
   ]
  },
  {
   "cell_type": "code",
   "execution_count": 86,
   "metadata": {},
   "outputs": [
    {
     "data": {
      "text/plain": [
       "0.199"
      ]
     },
     "execution_count": 86,
     "metadata": {},
     "output_type": "execute_result"
    }
   ],
   "source": [
    "round(SMAPE(hac_3_CB_df,'cases_tot','Accumulated_Prediction'),4)"
   ]
  },
  {
   "cell_type": "markdown",
   "metadata": {},
   "source": [
    "Saving result to parquet file:"
   ]
  },
  {
   "cell_type": "code",
   "execution_count": 87,
   "metadata": {},
   "outputs": [],
   "source": [
    "#hac_3_CB_df.to_parquet('../results/forecasting_results/forecast_with_hac_bangladesh.parquet')"
   ]
  },
  {
   "cell_type": "markdown",
   "metadata": {},
   "source": [
    "## K-means z trans, cluster 4"
   ]
  },
  {
   "cell_type": "code",
   "execution_count": 88,
   "metadata": {},
   "outputs": [],
   "source": [
    "k_means_4_countries = pd.read_parquet('../results/clustering_results/df_kmeans_z_0.parquet')"
   ]
  },
  {
   "cell_type": "code",
   "execution_count": 89,
   "metadata": {},
   "outputs": [],
   "source": [
    "k_means_4_countries_list = list(k_means_4_countries.columns)"
   ]
  },
  {
   "cell_type": "markdown",
   "metadata": {},
   "source": [
    "List of countries in cluster:"
   ]
  },
  {
   "cell_type": "code",
   "execution_count": 90,
   "metadata": {},
   "outputs": [
    {
     "data": {
      "text/plain": [
       "['Croatia',\n",
       " 'Czech Republic',\n",
       " 'Greece',\n",
       " 'Hungary',\n",
       " 'Malta',\n",
       " 'Morocco',\n",
       " 'Myanmar',\n",
       " 'Paraguay',\n",
       " 'Slovakia',\n",
       " 'Slovenia',\n",
       " 'South Korea',\n",
       " 'Tunisia']"
      ]
     },
     "execution_count": 90,
     "metadata": {},
     "output_type": "execute_result"
    }
   ],
   "source": [
    "k_means_4_countries_list"
   ]
  },
  {
   "cell_type": "code",
   "execution_count": 91,
   "metadata": {},
   "outputs": [],
   "source": [
    "k_means_4_df = df[df['Country'].isin(k_means_4_countries_list)]"
   ]
  },
  {
   "cell_type": "code",
   "execution_count": 92,
   "metadata": {},
   "outputs": [],
   "source": [
    "k_means_4_training_df = k_means_4_df[(k_means_4_df.index.date >= datetime.date(2020, 3, 1)) & \n",
    "                    (k_means_4_df.index.date <= datetime.date(2020, 9, 9))].copy()"
   ]
  },
  {
   "cell_type": "code",
   "execution_count": 93,
   "metadata": {},
   "outputs": [],
   "source": [
    "# Generate model\n",
    "feature_list = ['Country','Month','Day','prev_case']\n",
    "params= {'iterations': 5000, 'silent': True}\n",
    "model = CatBoostRegressor(**params)\n",
    "k_means_4_CB_df = forecast(model=model, training_df=k_means_4_training_df.copy(), \n",
    "                                                             test_df=test_4_df.copy(),\n",
    "                                                             feature_list=feature_list)"
   ]
  },
  {
   "cell_type": "code",
   "execution_count": 94,
   "metadata": {},
   "outputs": [],
   "source": [
    "k_means_4_CB_df = accumulated_dataframe_column(Croatia_df,k_means_4_CB_df)"
   ]
  },
  {
   "cell_type": "code",
   "execution_count": 95,
   "metadata": {},
   "outputs": [
    {
     "data": {
      "text/html": [
       "<div>\n",
       "<style scoped>\n",
       "    .dataframe tbody tr th:only-of-type {\n",
       "        vertical-align: middle;\n",
       "    }\n",
       "\n",
       "    .dataframe tbody tr th {\n",
       "        vertical-align: top;\n",
       "    }\n",
       "\n",
       "    .dataframe thead th {\n",
       "        text-align: right;\n",
       "    }\n",
       "</style>\n",
       "<table border=\"1\" class=\"dataframe\">\n",
       "  <thead>\n",
       "    <tr style=\"text-align: right;\">\n",
       "      <th></th>\n",
       "      <th>Cases</th>\n",
       "      <th>Country</th>\n",
       "      <th>cases_tot</th>\n",
       "      <th>Month</th>\n",
       "      <th>Day</th>\n",
       "      <th>Weekend</th>\n",
       "      <th>prev_case</th>\n",
       "      <th>Predicted</th>\n",
       "      <th>Accumulated_Prediction</th>\n",
       "    </tr>\n",
       "    <tr>\n",
       "      <th>Date</th>\n",
       "      <th></th>\n",
       "      <th></th>\n",
       "      <th></th>\n",
       "      <th></th>\n",
       "      <th></th>\n",
       "      <th></th>\n",
       "      <th></th>\n",
       "      <th></th>\n",
       "      <th></th>\n",
       "    </tr>\n",
       "  </thead>\n",
       "  <tbody>\n",
       "    <tr>\n",
       "      <th>2020-09-10</th>\n",
       "      <td>341.0</td>\n",
       "      <td>Croatia</td>\n",
       "      <td>12626.0</td>\n",
       "      <td>9</td>\n",
       "      <td>3</td>\n",
       "      <td>0.0</td>\n",
       "      <td>204.0</td>\n",
       "      <td>279.258777</td>\n",
       "      <td>12564</td>\n",
       "    </tr>\n",
       "    <tr>\n",
       "      <th>2020-09-11</th>\n",
       "      <td>291.0</td>\n",
       "      <td>Croatia</td>\n",
       "      <td>12917.0</td>\n",
       "      <td>9</td>\n",
       "      <td>4</td>\n",
       "      <td>0.0</td>\n",
       "      <td>341.0</td>\n",
       "      <td>343.592684</td>\n",
       "      <td>12907</td>\n",
       "    </tr>\n",
       "    <tr>\n",
       "      <th>2020-09-12</th>\n",
       "      <td>190.0</td>\n",
       "      <td>Croatia</td>\n",
       "      <td>13107.0</td>\n",
       "      <td>9</td>\n",
       "      <td>5</td>\n",
       "      <td>1.0</td>\n",
       "      <td>291.0</td>\n",
       "      <td>281.550985</td>\n",
       "      <td>13188</td>\n",
       "    </tr>\n",
       "    <tr>\n",
       "      <th>2020-09-13</th>\n",
       "      <td>261.0</td>\n",
       "      <td>Croatia</td>\n",
       "      <td>13368.0</td>\n",
       "      <td>9</td>\n",
       "      <td>6</td>\n",
       "      <td>1.0</td>\n",
       "      <td>190.0</td>\n",
       "      <td>191.746712</td>\n",
       "      <td>13379</td>\n",
       "    </tr>\n",
       "    <tr>\n",
       "      <th>2020-09-14</th>\n",
       "      <td>165.0</td>\n",
       "      <td>Croatia</td>\n",
       "      <td>13533.0</td>\n",
       "      <td>9</td>\n",
       "      <td>0</td>\n",
       "      <td>0.0</td>\n",
       "      <td>261.0</td>\n",
       "      <td>154.657799</td>\n",
       "      <td>13533</td>\n",
       "    </tr>\n",
       "    <tr>\n",
       "      <th>2020-09-15</th>\n",
       "      <td>65.0</td>\n",
       "      <td>Croatia</td>\n",
       "      <td>13598.0</td>\n",
       "      <td>9</td>\n",
       "      <td>1</td>\n",
       "      <td>0.0</td>\n",
       "      <td>165.0</td>\n",
       "      <td>148.150691</td>\n",
       "      <td>13681</td>\n",
       "    </tr>\n",
       "    <tr>\n",
       "      <th>2020-09-16</th>\n",
       "      <td>151.0</td>\n",
       "      <td>Croatia</td>\n",
       "      <td>13749.0</td>\n",
       "      <td>9</td>\n",
       "      <td>2</td>\n",
       "      <td>0.0</td>\n",
       "      <td>65.0</td>\n",
       "      <td>103.883144</td>\n",
       "      <td>13784</td>\n",
       "    </tr>\n",
       "    <tr>\n",
       "      <th>2020-09-17</th>\n",
       "      <td>280.0</td>\n",
       "      <td>Croatia</td>\n",
       "      <td>14029.0</td>\n",
       "      <td>9</td>\n",
       "      <td>3</td>\n",
       "      <td>0.0</td>\n",
       "      <td>151.0</td>\n",
       "      <td>249.421476</td>\n",
       "      <td>14033</td>\n",
       "    </tr>\n",
       "  </tbody>\n",
       "</table>\n",
       "</div>"
      ],
      "text/plain": [
       "            Cases  Country  cases_tot  Month  Day  Weekend  prev_case  \\\n",
       "Date                                                                    \n",
       "2020-09-10  341.0  Croatia    12626.0      9    3      0.0      204.0   \n",
       "2020-09-11  291.0  Croatia    12917.0      9    4      0.0      341.0   \n",
       "2020-09-12  190.0  Croatia    13107.0      9    5      1.0      291.0   \n",
       "2020-09-13  261.0  Croatia    13368.0      9    6      1.0      190.0   \n",
       "2020-09-14  165.0  Croatia    13533.0      9    0      0.0      261.0   \n",
       "2020-09-15   65.0  Croatia    13598.0      9    1      0.0      165.0   \n",
       "2020-09-16  151.0  Croatia    13749.0      9    2      0.0       65.0   \n",
       "2020-09-17  280.0  Croatia    14029.0      9    3      0.0      151.0   \n",
       "\n",
       "             Predicted  Accumulated_Prediction  \n",
       "Date                                            \n",
       "2020-09-10  279.258777                   12564  \n",
       "2020-09-11  343.592684                   12907  \n",
       "2020-09-12  281.550985                   13188  \n",
       "2020-09-13  191.746712                   13379  \n",
       "2020-09-14  154.657799                   13533  \n",
       "2020-09-15  148.150691                   13681  \n",
       "2020-09-16  103.883144                   13784  \n",
       "2020-09-17  249.421476                   14033  "
      ]
     },
     "execution_count": 95,
     "metadata": {},
     "output_type": "execute_result"
    }
   ],
   "source": [
    "k_means_4_CB_df"
   ]
  },
  {
   "cell_type": "markdown",
   "metadata": {},
   "source": [
    "Plot of true vs predicted when comparing cases per day and predicted cases per day:"
   ]
  },
  {
   "cell_type": "code",
   "execution_count": 96,
   "metadata": {},
   "outputs": [
    {
     "data": {
      "text/plain": [
       "Text(0, 0.5, 'Cases')"
      ]
     },
     "execution_count": 96,
     "metadata": {},
     "output_type": "execute_result"
    },
    {
     "data": {
      "text/plain": [
       "<Figure size 432x288 with 0 Axes>"
      ]
     },
     "metadata": {},
     "output_type": "display_data"
    },
    {
     "data": {
      "image/png": "[encoded data removed]",
      "text/plain": [
       "<Figure size 792x360 with 1 Axes>"
      ]
     },
     "metadata": {
      "needs_background": "light"
     },
     "output_type": "display_data"
    }
   ],
   "source": [
    "fig = plt.figure()\n",
    "k_means_4_CB_df.plot( y=['Predicted', 'Cases'], label=['Predicted','True'], color=['red','black'], figsize=(11,5))\n",
    "plt.ylabel('Cases')"
   ]
  },
  {
   "cell_type": "markdown",
   "metadata": {},
   "source": [
    "Plot of true vs. predicted when comparing total cases and accumulated prediction:"
   ]
  },
  {
   "cell_type": "code",
   "execution_count": 97,
   "metadata": {},
   "outputs": [
    {
     "data": {
      "text/plain": [
       "Text(0, 0.5, 'Cases')"
      ]
     },
     "execution_count": 97,
     "metadata": {},
     "output_type": "execute_result"
    },
    {
     "data": {
      "text/plain": [
       "<Figure size 432x288 with 0 Axes>"
      ]
     },
     "metadata": {},
     "output_type": "display_data"
    },
    {
     "data": {
      "image/png": "[encoded data removed]",
      "text/plain": [
       "<Figure size 792x360 with 1 Axes>"
      ]
     },
     "metadata": {
      "needs_background": "light"
     },
     "output_type": "display_data"
    }
   ],
   "source": [
    "fig = plt.figure()\n",
    "k_means_4_CB_df.plot( y=['Accumulated_Prediction', 'cases_tot'], label=['Predicted','True'], color=['red','black'], figsize=(11,5))\n",
    "plt.ylabel('Cases')\n",
    "#plt.savefig(\"Croatia_k_means\", bbox_inches='tight')"
   ]
  },
  {
   "cell_type": "markdown",
   "metadata": {},
   "source": [
    "SMAPE K-means 4:"
   ]
  },
  {
   "cell_type": "code",
   "execution_count": 98,
   "metadata": {},
   "outputs": [
    {
     "data": {
      "text/plain": [
       "0.2699"
      ]
     },
     "execution_count": 98,
     "metadata": {},
     "output_type": "execute_result"
    }
   ],
   "source": [
    "round(SMAPE(k_means_4_CB_df,'cases_tot','Accumulated_Prediction'),4)"
   ]
  },
  {
   "cell_type": "markdown",
   "metadata": {},
   "source": [
    "Saving result to parquet file:"
   ]
  },
  {
   "cell_type": "code",
   "execution_count": 99,
   "metadata": {},
   "outputs": [],
   "source": [
    "#k_means_4_CB_df.to_parquet('../results/forecasting_results/forecast_with_k_means_croatia.parquet')"
   ]
  },
  {
   "cell_type": "markdown",
   "metadata": {},
   "source": [
    "## Hierarchical z trans, cluster 4"
   ]
  },
  {
   "cell_type": "code",
   "execution_count": 100,
   "metadata": {},
   "outputs": [],
   "source": [
    "hac_4_countries = pd.read_parquet('../results/clustering_results/df_hac_z_0.parquet')"
   ]
  },
  {
   "cell_type": "code",
   "execution_count": 101,
   "metadata": {},
   "outputs": [],
   "source": [
    "hac_4_countries_list = list(hac_4_countries.columns)"
   ]
  },
  {
   "cell_type": "markdown",
   "metadata": {},
   "source": [
    "List of countries in cluster:"
   ]
  },
  {
   "cell_type": "code",
   "execution_count": 102,
   "metadata": {},
   "outputs": [
    {
     "data": {
      "text/plain": [
       "['Australia',\n",
       " 'Austria',\n",
       " 'Croatia',\n",
       " 'Cuba',\n",
       " 'Czech Republic',\n",
       " 'Greece',\n",
       " 'Hungary',\n",
       " 'Japan',\n",
       " 'Malta',\n",
       " 'Myanmar',\n",
       " 'Romania',\n",
       " 'Slovakia',\n",
       " 'Slovenia',\n",
       " 'South Korea',\n",
       " 'Tunisia',\n",
       " 'Uruguay',\n",
       " 'Vietnam']"
      ]
     },
     "execution_count": 102,
     "metadata": {},
     "output_type": "execute_result"
    }
   ],
   "source": [
    "hac_4_countries_list"
   ]
  },
  {
   "cell_type": "code",
   "execution_count": 103,
   "metadata": {},
   "outputs": [],
   "source": [
    "hac_4_df = df[df['Country'].isin(hac_4_countries_list)]"
   ]
  },
  {
   "cell_type": "code",
   "execution_count": 104,
   "metadata": {},
   "outputs": [],
   "source": [
    "hac_4_training_df = hac_4_df[(hac_4_df.index.date >= datetime.date(2020, 3, 1)) & \n",
    "                    (hac_4_df.index.date <= datetime.date(2020, 9, 9))].copy()"
   ]
  },
  {
   "cell_type": "code",
   "execution_count": 105,
   "metadata": {},
   "outputs": [],
   "source": [
    "# Generate model\n",
    "feature_list = ['Country','Month','Day','prev_case']\n",
    "params= {'iterations': 5000, 'silent': True}\n",
    "model = CatBoostRegressor(**params)\n",
    "hac_4_CB_df = forecast(model=model, training_df=hac_4_training_df.copy(), \n",
    "                                                             test_df=test_4_df.copy(),\n",
    "                                                             feature_list=feature_list)"
   ]
  },
  {
   "cell_type": "code",
   "execution_count": 106,
   "metadata": {},
   "outputs": [],
   "source": [
    "hac_4_CB_df = accumulated_dataframe_column(Croatia_df,hac_4_CB_df)"
   ]
  },
  {
   "cell_type": "code",
   "execution_count": 107,
   "metadata": {},
   "outputs": [
    {
     "data": {
      "text/html": [
       "<div>\n",
       "<style scoped>\n",
       "    .dataframe tbody tr th:only-of-type {\n",
       "        vertical-align: middle;\n",
       "    }\n",
       "\n",
       "    .dataframe tbody tr th {\n",
       "        vertical-align: top;\n",
       "    }\n",
       "\n",
       "    .dataframe thead th {\n",
       "        text-align: right;\n",
       "    }\n",
       "</style>\n",
       "<table border=\"1\" class=\"dataframe\">\n",
       "  <thead>\n",
       "    <tr style=\"text-align: right;\">\n",
       "      <th></th>\n",
       "      <th>Cases</th>\n",
       "      <th>Country</th>\n",
       "      <th>cases_tot</th>\n",
       "      <th>Month</th>\n",
       "      <th>Day</th>\n",
       "      <th>Weekend</th>\n",
       "      <th>prev_case</th>\n",
       "      <th>Predicted</th>\n",
       "      <th>Accumulated_Prediction</th>\n",
       "    </tr>\n",
       "    <tr>\n",
       "      <th>Date</th>\n",
       "      <th></th>\n",
       "      <th></th>\n",
       "      <th></th>\n",
       "      <th></th>\n",
       "      <th></th>\n",
       "      <th></th>\n",
       "      <th></th>\n",
       "      <th></th>\n",
       "      <th></th>\n",
       "    </tr>\n",
       "  </thead>\n",
       "  <tbody>\n",
       "    <tr>\n",
       "      <th>2020-09-10</th>\n",
       "      <td>341.0</td>\n",
       "      <td>Croatia</td>\n",
       "      <td>12626.0</td>\n",
       "      <td>9</td>\n",
       "      <td>3</td>\n",
       "      <td>0.0</td>\n",
       "      <td>204.0</td>\n",
       "      <td>264.325808</td>\n",
       "      <td>12549</td>\n",
       "    </tr>\n",
       "    <tr>\n",
       "      <th>2020-09-11</th>\n",
       "      <td>291.0</td>\n",
       "      <td>Croatia</td>\n",
       "      <td>12917.0</td>\n",
       "      <td>9</td>\n",
       "      <td>4</td>\n",
       "      <td>0.0</td>\n",
       "      <td>341.0</td>\n",
       "      <td>340.561226</td>\n",
       "      <td>12889</td>\n",
       "    </tr>\n",
       "    <tr>\n",
       "      <th>2020-09-12</th>\n",
       "      <td>190.0</td>\n",
       "      <td>Croatia</td>\n",
       "      <td>13107.0</td>\n",
       "      <td>9</td>\n",
       "      <td>5</td>\n",
       "      <td>1.0</td>\n",
       "      <td>291.0</td>\n",
       "      <td>288.965297</td>\n",
       "      <td>13177</td>\n",
       "    </tr>\n",
       "    <tr>\n",
       "      <th>2020-09-13</th>\n",
       "      <td>261.0</td>\n",
       "      <td>Croatia</td>\n",
       "      <td>13368.0</td>\n",
       "      <td>9</td>\n",
       "      <td>6</td>\n",
       "      <td>1.0</td>\n",
       "      <td>190.0</td>\n",
       "      <td>201.830179</td>\n",
       "      <td>13378</td>\n",
       "    </tr>\n",
       "    <tr>\n",
       "      <th>2020-09-14</th>\n",
       "      <td>165.0</td>\n",
       "      <td>Croatia</td>\n",
       "      <td>13533.0</td>\n",
       "      <td>9</td>\n",
       "      <td>0</td>\n",
       "      <td>0.0</td>\n",
       "      <td>261.0</td>\n",
       "      <td>204.393279</td>\n",
       "      <td>13582</td>\n",
       "    </tr>\n",
       "    <tr>\n",
       "      <th>2020-09-15</th>\n",
       "      <td>65.0</td>\n",
       "      <td>Croatia</td>\n",
       "      <td>13598.0</td>\n",
       "      <td>9</td>\n",
       "      <td>1</td>\n",
       "      <td>0.0</td>\n",
       "      <td>165.0</td>\n",
       "      <td>216.023088</td>\n",
       "      <td>13798</td>\n",
       "    </tr>\n",
       "    <tr>\n",
       "      <th>2020-09-16</th>\n",
       "      <td>151.0</td>\n",
       "      <td>Croatia</td>\n",
       "      <td>13749.0</td>\n",
       "      <td>9</td>\n",
       "      <td>2</td>\n",
       "      <td>0.0</td>\n",
       "      <td>65.0</td>\n",
       "      <td>94.313709</td>\n",
       "      <td>13892</td>\n",
       "    </tr>\n",
       "    <tr>\n",
       "      <th>2020-09-17</th>\n",
       "      <td>280.0</td>\n",
       "      <td>Croatia</td>\n",
       "      <td>14029.0</td>\n",
       "      <td>9</td>\n",
       "      <td>3</td>\n",
       "      <td>0.0</td>\n",
       "      <td>151.0</td>\n",
       "      <td>225.420770</td>\n",
       "      <td>14117</td>\n",
       "    </tr>\n",
       "  </tbody>\n",
       "</table>\n",
       "</div>"
      ],
      "text/plain": [
       "            Cases  Country  cases_tot  Month  Day  Weekend  prev_case  \\\n",
       "Date                                                                    \n",
       "2020-09-10  341.0  Croatia    12626.0      9    3      0.0      204.0   \n",
       "2020-09-11  291.0  Croatia    12917.0      9    4      0.0      341.0   \n",
       "2020-09-12  190.0  Croatia    13107.0      9    5      1.0      291.0   \n",
       "2020-09-13  261.0  Croatia    13368.0      9    6      1.0      190.0   \n",
       "2020-09-14  165.0  Croatia    13533.0      9    0      0.0      261.0   \n",
       "2020-09-15   65.0  Croatia    13598.0      9    1      0.0      165.0   \n",
       "2020-09-16  151.0  Croatia    13749.0      9    2      0.0       65.0   \n",
       "2020-09-17  280.0  Croatia    14029.0      9    3      0.0      151.0   \n",
       "\n",
       "             Predicted  Accumulated_Prediction  \n",
       "Date                                            \n",
       "2020-09-10  264.325808                   12549  \n",
       "2020-09-11  340.561226                   12889  \n",
       "2020-09-12  288.965297                   13177  \n",
       "2020-09-13  201.830179                   13378  \n",
       "2020-09-14  204.393279                   13582  \n",
       "2020-09-15  216.023088                   13798  \n",
       "2020-09-16   94.313709                   13892  \n",
       "2020-09-17  225.420770                   14117  "
      ]
     },
     "execution_count": 107,
     "metadata": {},
     "output_type": "execute_result"
    }
   ],
   "source": [
    "hac_4_CB_df"
   ]
  },
  {
   "cell_type": "markdown",
   "metadata": {},
   "source": [
    "Plot of true vs predicted when comparing cases per day and predicted cases per day:"
   ]
  },
  {
   "cell_type": "code",
   "execution_count": 108,
   "metadata": {},
   "outputs": [
    {
     "data": {
      "text/plain": [
       "Text(0, 0.5, 'Cases')"
      ]
     },
     "execution_count": 108,
     "metadata": {},
     "output_type": "execute_result"
    },
    {
     "data": {
      "text/plain": [
       "<Figure size 432x288 with 0 Axes>"
      ]
     },
     "metadata": {},
     "output_type": "display_data"
    },
    {
     "data": {
      "image/png": "[encoded data removed]",
      "text/plain": [
       "<Figure size 792x360 with 1 Axes>"
      ]
     },
     "metadata": {
      "needs_background": "light"
     },
     "output_type": "display_data"
    }
   ],
   "source": [
    "fig = plt.figure()\n",
    "hac_4_CB_df.plot( y=['Predicted', 'Cases'], label=['Predicted','True'], color=['red','black'], figsize=(11,5))\n",
    "plt.ylabel('Cases')"
   ]
  },
  {
   "cell_type": "markdown",
   "metadata": {},
   "source": [
    "Plot of true vs. predicted when comparing total cases and accumulated prediction:"
   ]
  },
  {
   "cell_type": "code",
   "execution_count": 109,
   "metadata": {},
   "outputs": [
    {
     "data": {
      "text/plain": [
       "Text(0, 0.5, 'Cases')"
      ]
     },
     "execution_count": 109,
     "metadata": {},
     "output_type": "execute_result"
    },
    {
     "data": {
      "text/plain": [
       "<Figure size 432x288 with 0 Axes>"
      ]
     },
     "metadata": {},
     "output_type": "display_data"
    },
    {
     "data": {
      "image/png": "[encoded data removed]",
      "text/plain": [
       "<Figure size 792x360 with 1 Axes>"
      ]
     },
     "metadata": {
      "needs_background": "light"
     },
     "output_type": "display_data"
    }
   ],
   "source": [
    "fig = plt.figure()\n",
    "hac_4_CB_df.plot( y=['Accumulated_Prediction', 'cases_tot'], label=['Predicted','True'], color=['red','black'], figsize=(11,5))\n",
    "plt.ylabel('Cases')\n",
    "#plt.savefig(\"Croatia_hac\", bbox_inches='tight')"
   ]
  },
  {
   "cell_type": "markdown",
   "metadata": {},
   "source": [
    "SMAPE Hierarchical 4:"
   ]
  },
  {
   "cell_type": "code",
   "execution_count": 110,
   "metadata": {},
   "outputs": [
    {
     "data": {
      "text/plain": [
       "0.6147"
      ]
     },
     "execution_count": 110,
     "metadata": {},
     "output_type": "execute_result"
    }
   ],
   "source": [
    "round(SMAPE(hac_4_CB_df,'cases_tot','Accumulated_Prediction'),4)"
   ]
  },
  {
   "cell_type": "markdown",
   "metadata": {},
   "source": [
    "Saving result to parquet file:"
   ]
  },
  {
   "cell_type": "code",
   "execution_count": 111,
   "metadata": {},
   "outputs": [],
   "source": [
    "#hac_4_CB_df.to_parquet('../results/forecasting_results/forecast_with_hac_croatia.parquet')"
   ]
  },
  {
   "cell_type": "markdown",
   "metadata": {},
   "source": [
    "## Summary:"
   ]
  },
  {
   "cell_type": "code",
   "execution_count": 112,
   "metadata": {},
   "outputs": [
    {
     "data": {
      "text/html": [
       "<table>\n",
       "<tbody>\n",
       "<tr><td>Test Country:</td><td>K_means SMAPE:</td><td>HAC SMAPE:</td></tr>\n",
       "<tr><td>Algeria      </td><td>0.2163        </td><td>0.323     </td></tr>\n",
       "<tr><td>Belgium      </td><td>0.6949        </td><td>0.6529    </td></tr>\n",
       "<tr><td>Bangladesh   </td><td>0.2227        </td><td>0.199     </td></tr>\n",
       "<tr><td>Croatia      </td><td>0.2699        </td><td>0.6147    </td></tr>\n",
       "<tr><td>Total SMAPE: </td><td>1.4037        </td><td>1.7896    </td></tr>\n",
       "</tbody>\n",
       "</table>"
      ],
      "text/plain": [
       "<IPython.core.display.HTML object>"
      ]
     },
     "metadata": {},
     "output_type": "display_data"
    }
   ],
   "source": [
    "table = [[\"Test Country:\", \"K_means SMAPE:\", \"HAC SMAPE:\"],\n",
    "        [\"Algeria\",round(SMAPE(k_means_1_CB_df,'cases_tot','Accumulated_Prediction'),4),\n",
    "        round(SMAPE(hac_1_CB_df,'cases_tot','Accumulated_Prediction'),4)],\n",
    "        [\"Belgium\",round(SMAPE(k_means_2_CB_df,'cases_tot','Accumulated_Prediction'),4),\n",
    "        round(SMAPE(hac_2_CB_df,'cases_tot','Accumulated_Prediction'),4)],\n",
    "        [\"Bangladesh\",round(SMAPE(k_means_3_CB_df,'cases_tot','Accumulated_Prediction'),4),\n",
    "        round(SMAPE(hac_3_CB_df,'cases_tot','Accumulated_Prediction'),4)],\n",
    "        [\"Croatia\",round(SMAPE(k_means_4_CB_df,'cases_tot','Accumulated_Prediction'),4),\n",
    "        round(SMAPE(hac_4_CB_df,'cases_tot','Accumulated_Prediction'),4)],\n",
    "        [\"Total SMAPE:\",\n",
    "         round(SMAPE(k_means_1_CB_df,'cases_tot','Accumulated_Prediction')+\n",
    "         SMAPE(k_means_2_CB_df,'cases_tot','Accumulated_Prediction')+\n",
    "         SMAPE(k_means_3_CB_df,'cases_tot','Accumulated_Prediction')+\n",
    "         SMAPE(k_means_4_CB_df,'cases_tot','Accumulated_Prediction'),4),\n",
    "         round(SMAPE(hac_1_CB_df,'cases_tot','Accumulated_Prediction')+\n",
    "         SMAPE(hac_2_CB_df,'cases_tot','Accumulated_Prediction')+\n",
    "         SMAPE(hac_3_CB_df,'cases_tot','Accumulated_Prediction')+\n",
    "         SMAPE(hac_4_CB_df,'cases_tot','Accumulated_Prediction'),4)]]\n",
    "\n",
    "display(HTML(tabulate.tabulate(table, tablefmt='html')))"
   ]
  }
 ],
 "metadata": {
  "kernelspec": {
   "display_name": "Python 3",
   "language": "python",
   "name": "python3"
  },
  "language_info": {
   "codemirror_mode": {
    "name": "ipython",
    "version": 3
   },
   "file_extension": ".py",
   "mimetype": "text/x-python",
   "name": "python",
   "nbconvert_exporter": "python",
   "pygments_lexer": "ipython3",
   "version": "3.6.10"
  }
 },
 "nbformat": 4,
 "nbformat_minor": 4
}
