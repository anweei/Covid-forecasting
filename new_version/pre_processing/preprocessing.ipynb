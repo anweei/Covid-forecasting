{
 "cells": [
  {
   "cell_type": "code",
   "execution_count": 1,
   "metadata": {},
   "outputs": [],
   "source": [
    "#pip install fastparquet <- needs to be installed first time running"
   ]
  },
  {
   "cell_type": "code",
   "execution_count": 2,
   "metadata": {},
   "outputs": [],
   "source": [
    "#pip install pyarrow"
   ]
  },
  {
   "cell_type": "code",
   "execution_count": 3,
   "metadata": {},
   "outputs": [],
   "source": [
    "import pandas as pd\n",
    "from matplotlib import pyplot as plt"
   ]
  },
  {
   "cell_type": "code",
   "execution_count": 4,
   "metadata": {},
   "outputs": [],
   "source": [
    "import sys  \n",
    "sys.path.insert(0, '../misc')\n",
    "from extract_func import extract_func"
   ]
  },
  {
   "cell_type": "code",
   "execution_count": 5,
   "metadata": {},
   "outputs": [],
   "source": [
    "df_org_data = pd.read_csv('../data/data_raw.csv')"
   ]
  },
  {
   "cell_type": "markdown",
   "metadata": {},
   "source": [
    "# Preprocessing dataframe #"
   ]
  },
  {
   "cell_type": "markdown",
   "metadata": {},
   "source": [
    "## Introduction"
   ]
  },
  {
   "cell_type": "markdown",
   "metadata": {},
   "source": [
    "This notebook was used to preprocess the raw covid data.csv file to generate a dataframe appropiate for clustering. The covid data.csv file has been splitt up into two dataframes, to avoid unecessary high dimennsion. All duplicate information such as Continent, Latitude, Longitude, Average temperature per year etc. has been removed from the resulting dataframes in this notebook, and rather stored in lookup table, see misc->generating_lookup_table.  "
   ]
  },
  {
   "cell_type": "markdown",
   "metadata": {},
   "source": [
    "Chocen start date: 2020-03-01, end date: 2020-09-17"
   ]
  },
  {
   "cell_type": "markdown",
   "metadata": {},
   "source": [
    "## Formating ##"
   ]
  },
  {
   "cell_type": "markdown",
   "metadata": {},
   "source": [
    "Original dataframe:"
   ]
  },
  {
   "cell_type": "code",
   "execution_count": 6,
   "metadata": {},
   "outputs": [
    {
     "data": {
      "text/html": [
       "<div>\n",
       "<style scoped>\n",
       "    .dataframe tbody tr th:only-of-type {\n",
       "        vertical-align: middle;\n",
       "    }\n",
       "\n",
       "    .dataframe tbody tr th {\n",
       "        vertical-align: top;\n",
       "    }\n",
       "\n",
       "    .dataframe thead th {\n",
       "        text-align: right;\n",
       "    }\n",
       "</style>\n",
       "<table border=\"1\" class=\"dataframe\">\n",
       "  <thead>\n",
       "    <tr style=\"text-align: right;\">\n",
       "      <th></th>\n",
       "      <th>Entity</th>\n",
       "      <th>Continent</th>\n",
       "      <th>Latitude</th>\n",
       "      <th>Longitude</th>\n",
       "      <th>Average temperature per year</th>\n",
       "      <th>Hospital beds per 1000 people</th>\n",
       "      <th>Medical doctors per 1000 people</th>\n",
       "      <th>GDP/Capita</th>\n",
       "      <th>Population</th>\n",
       "      <th>Median age</th>\n",
       "      <th>Population aged 65 and over (%)</th>\n",
       "      <th>Date</th>\n",
       "      <th>Daily tests</th>\n",
       "      <th>Cases</th>\n",
       "      <th>Deaths</th>\n",
       "    </tr>\n",
       "  </thead>\n",
       "  <tbody>\n",
       "    <tr>\n",
       "      <th>0</th>\n",
       "      <td>Algeria</td>\n",
       "      <td>Africa</td>\n",
       "      <td>28.03</td>\n",
       "      <td>1.66</td>\n",
       "      <td>25</td>\n",
       "      <td>1.9</td>\n",
       "      <td>1.83</td>\n",
       "      <td>4044.3</td>\n",
       "      <td>41318142</td>\n",
       "      <td>29</td>\n",
       "      <td>6</td>\n",
       "      <td>2019-12-31</td>\n",
       "      <td>NaN</td>\n",
       "      <td>0.0</td>\n",
       "      <td>0.0</td>\n",
       "    </tr>\n",
       "    <tr>\n",
       "      <th>1</th>\n",
       "      <td>Algeria</td>\n",
       "      <td>Africa</td>\n",
       "      <td>28.03</td>\n",
       "      <td>1.66</td>\n",
       "      <td>25</td>\n",
       "      <td>1.9</td>\n",
       "      <td>1.83</td>\n",
       "      <td>4044.3</td>\n",
       "      <td>41318142</td>\n",
       "      <td>29</td>\n",
       "      <td>6</td>\n",
       "      <td>2020-01-01</td>\n",
       "      <td>NaN</td>\n",
       "      <td>0.0</td>\n",
       "      <td>0.0</td>\n",
       "    </tr>\n",
       "    <tr>\n",
       "      <th>2</th>\n",
       "      <td>Algeria</td>\n",
       "      <td>Africa</td>\n",
       "      <td>28.03</td>\n",
       "      <td>1.66</td>\n",
       "      <td>25</td>\n",
       "      <td>1.9</td>\n",
       "      <td>1.83</td>\n",
       "      <td>4044.3</td>\n",
       "      <td>41318142</td>\n",
       "      <td>29</td>\n",
       "      <td>6</td>\n",
       "      <td>2020-01-02</td>\n",
       "      <td>NaN</td>\n",
       "      <td>0.0</td>\n",
       "      <td>0.0</td>\n",
       "    </tr>\n",
       "    <tr>\n",
       "      <th>3</th>\n",
       "      <td>Algeria</td>\n",
       "      <td>Africa</td>\n",
       "      <td>28.03</td>\n",
       "      <td>1.66</td>\n",
       "      <td>25</td>\n",
       "      <td>1.9</td>\n",
       "      <td>1.83</td>\n",
       "      <td>4044.3</td>\n",
       "      <td>41318142</td>\n",
       "      <td>29</td>\n",
       "      <td>6</td>\n",
       "      <td>2020-01-03</td>\n",
       "      <td>NaN</td>\n",
       "      <td>0.0</td>\n",
       "      <td>0.0</td>\n",
       "    </tr>\n",
       "  </tbody>\n",
       "</table>\n",
       "</div>"
      ],
      "text/plain": [
       "    Entity Continent  Latitude  Longitude  Average temperature per year  \\\n",
       "0  Algeria    Africa     28.03       1.66                            25   \n",
       "1  Algeria    Africa     28.03       1.66                            25   \n",
       "2  Algeria    Africa     28.03       1.66                            25   \n",
       "3  Algeria    Africa     28.03       1.66                            25   \n",
       "\n",
       "   Hospital beds per 1000 people  Medical doctors per 1000 people  GDP/Capita  \\\n",
       "0                            1.9                             1.83      4044.3   \n",
       "1                            1.9                             1.83      4044.3   \n",
       "2                            1.9                             1.83      4044.3   \n",
       "3                            1.9                             1.83      4044.3   \n",
       "\n",
       "   Population  Median age  Population aged 65 and over (%)        Date  \\\n",
       "0    41318142          29                                6  2019-12-31   \n",
       "1    41318142          29                                6  2020-01-01   \n",
       "2    41318142          29                                6  2020-01-02   \n",
       "3    41318142          29                                6  2020-01-03   \n",
       "\n",
       "   Daily tests  Cases  Deaths  \n",
       "0          NaN    0.0     0.0  \n",
       "1          NaN    0.0     0.0  \n",
       "2          NaN    0.0     0.0  \n",
       "3          NaN    0.0     0.0  "
      ]
     },
     "execution_count": 6,
     "metadata": {},
     "output_type": "execute_result"
    }
   ],
   "source": [
    "df_org_data.head(4)"
   ]
  },
  {
   "cell_type": "markdown",
   "metadata": {},
   "source": [
    "Copy of original dataframe:"
   ]
  },
  {
   "cell_type": "code",
   "execution_count": 7,
   "metadata": {},
   "outputs": [],
   "source": [
    "df_mod = df_org_data.copy()"
   ]
  },
  {
   "cell_type": "markdown",
   "metadata": {},
   "source": [
    "Removing all irrelevant columns:"
   ]
  },
  {
   "cell_type": "code",
   "execution_count": 8,
   "metadata": {},
   "outputs": [],
   "source": [
    "df_mod.drop(['Continent', 'Latitude', 'Longitude', 'Average temperature per year', 'Hospital beds per 1000 people', 'Medical doctors per 1000 people', 'GDP/Capita','Population', 'Median age', 'Population aged 65 and over (%)','Daily tests', 'Deaths'], axis=1, inplace=True)"
   ]
  },
  {
   "cell_type": "markdown",
   "metadata": {},
   "source": [
    "#### Continues time series"
   ]
  },
  {
   "cell_type": "markdown",
   "metadata": {},
   "source": [
    "Observe that Algeria misses data for 2020-03-03, the \"Date\" column jumps from 2020-03-02 -> 2020-03-04. Method implemented below to correct this:\n",
    "<br>\n",
    "1). Add NaN value for all days betweenn start date and end date where day origianl was missing. \n",
    "<br>\n",
    "2). Convert all NaN values to zero\n",
    "<br>\n",
    "3). Use forward fill to convert all zeros appearing after first detected case to most recent past value"
   ]
  },
  {
   "cell_type": "code",
   "execution_count": 9,
   "metadata": {
    "scrolled": true
   },
   "outputs": [
    {
     "data": {
      "text/html": [
       "<div>\n",
       "<style scoped>\n",
       "    .dataframe tbody tr th:only-of-type {\n",
       "        vertical-align: middle;\n",
       "    }\n",
       "\n",
       "    .dataframe tbody tr th {\n",
       "        vertical-align: top;\n",
       "    }\n",
       "\n",
       "    .dataframe thead th {\n",
       "        text-align: right;\n",
       "    }\n",
       "</style>\n",
       "<table border=\"1\" class=\"dataframe\">\n",
       "  <thead>\n",
       "    <tr style=\"text-align: right;\">\n",
       "      <th></th>\n",
       "      <th>Entity</th>\n",
       "      <th>Continent</th>\n",
       "      <th>Latitude</th>\n",
       "      <th>Longitude</th>\n",
       "      <th>Average temperature per year</th>\n",
       "      <th>Hospital beds per 1000 people</th>\n",
       "      <th>Medical doctors per 1000 people</th>\n",
       "      <th>GDP/Capita</th>\n",
       "      <th>Population</th>\n",
       "      <th>Median age</th>\n",
       "      <th>Population aged 65 and over (%)</th>\n",
       "      <th>Date</th>\n",
       "      <th>Daily tests</th>\n",
       "      <th>Cases</th>\n",
       "      <th>Deaths</th>\n",
       "    </tr>\n",
       "  </thead>\n",
       "  <tbody>\n",
       "    <tr>\n",
       "      <th>61</th>\n",
       "      <td>Algeria</td>\n",
       "      <td>Africa</td>\n",
       "      <td>28.03</td>\n",
       "      <td>1.66</td>\n",
       "      <td>25</td>\n",
       "      <td>1.9</td>\n",
       "      <td>1.83</td>\n",
       "      <td>4044.3</td>\n",
       "      <td>41318142</td>\n",
       "      <td>29</td>\n",
       "      <td>6</td>\n",
       "      <td>2020-03-01</td>\n",
       "      <td>NaN</td>\n",
       "      <td>3.0</td>\n",
       "      <td>0.0</td>\n",
       "    </tr>\n",
       "    <tr>\n",
       "      <th>62</th>\n",
       "      <td>Algeria</td>\n",
       "      <td>Africa</td>\n",
       "      <td>28.03</td>\n",
       "      <td>1.66</td>\n",
       "      <td>25</td>\n",
       "      <td>1.9</td>\n",
       "      <td>1.83</td>\n",
       "      <td>4044.3</td>\n",
       "      <td>41318142</td>\n",
       "      <td>29</td>\n",
       "      <td>6</td>\n",
       "      <td>2020-03-02</td>\n",
       "      <td>NaN</td>\n",
       "      <td>3.0</td>\n",
       "      <td>0.0</td>\n",
       "    </tr>\n",
       "    <tr>\n",
       "      <th>63</th>\n",
       "      <td>Algeria</td>\n",
       "      <td>Africa</td>\n",
       "      <td>28.03</td>\n",
       "      <td>1.66</td>\n",
       "      <td>25</td>\n",
       "      <td>1.9</td>\n",
       "      <td>1.83</td>\n",
       "      <td>4044.3</td>\n",
       "      <td>41318142</td>\n",
       "      <td>29</td>\n",
       "      <td>6</td>\n",
       "      <td>2020-03-04</td>\n",
       "      <td>NaN</td>\n",
       "      <td>5.0</td>\n",
       "      <td>0.0</td>\n",
       "    </tr>\n",
       "  </tbody>\n",
       "</table>\n",
       "</div>"
      ],
      "text/plain": [
       "     Entity Continent  Latitude  Longitude  Average temperature per year  \\\n",
       "61  Algeria    Africa     28.03       1.66                            25   \n",
       "62  Algeria    Africa     28.03       1.66                            25   \n",
       "63  Algeria    Africa     28.03       1.66                            25   \n",
       "\n",
       "    Hospital beds per 1000 people  Medical doctors per 1000 people  \\\n",
       "61                            1.9                             1.83   \n",
       "62                            1.9                             1.83   \n",
       "63                            1.9                             1.83   \n",
       "\n",
       "    GDP/Capita  Population  Median age  Population aged 65 and over (%)  \\\n",
       "61      4044.3    41318142          29                                6   \n",
       "62      4044.3    41318142          29                                6   \n",
       "63      4044.3    41318142          29                                6   \n",
       "\n",
       "          Date  Daily tests  Cases  Deaths  \n",
       "61  2020-03-01          NaN    3.0     0.0  \n",
       "62  2020-03-02          NaN    3.0     0.0  \n",
       "63  2020-03-04          NaN    5.0     0.0  "
      ]
     },
     "execution_count": 9,
     "metadata": {},
     "output_type": "execute_result"
    }
   ],
   "source": [
    "df_org_data[61:64]"
   ]
  },
  {
   "cell_type": "markdown",
   "metadata": {},
   "source": [
    "Converting df_mod to use \"Date\" column as index:"
   ]
  },
  {
   "cell_type": "code",
   "execution_count": 10,
   "metadata": {},
   "outputs": [],
   "source": [
    "df_mod.set_index('Date', inplace=True)"
   ]
  },
  {
   "cell_type": "code",
   "execution_count": 11,
   "metadata": {},
   "outputs": [],
   "source": [
    "df_mod.index = pd.to_datetime(df_mod.index)"
   ]
  },
  {
   "cell_type": "markdown",
   "metadata": {},
   "source": [
    "Creating referance DatetimeIndex dataframe with desired start and end date"
   ]
  },
  {
   "cell_type": "code",
   "execution_count": 12,
   "metadata": {},
   "outputs": [],
   "source": [
    "df_index = pd.date_range(start='3/1/2020', end='09/17/2020')"
   ]
  },
  {
   "cell_type": "code",
   "execution_count": 13,
   "metadata": {
    "scrolled": true
   },
   "outputs": [
    {
     "data": {
      "text/plain": [
       "DatetimeIndex(['2020-03-01', '2020-03-02', '2020-03-03', '2020-03-04',\n",
       "               '2020-03-05', '2020-03-06', '2020-03-07', '2020-03-08',\n",
       "               '2020-03-09', '2020-03-10',\n",
       "               ...\n",
       "               '2020-09-08', '2020-09-09', '2020-09-10', '2020-09-11',\n",
       "               '2020-09-12', '2020-09-13', '2020-09-14', '2020-09-15',\n",
       "               '2020-09-16', '2020-09-17'],\n",
       "              dtype='datetime64[ns]', length=201, freq='D')"
      ]
     },
     "execution_count": 13,
     "metadata": {},
     "output_type": "execute_result"
    }
   ],
   "source": [
    "df_index"
   ]
  },
  {
   "cell_type": "code",
   "execution_count": 14,
   "metadata": {
    "scrolled": true
   },
   "outputs": [],
   "source": [
    "df_empty_index = pd.DataFrame(columns=[], index=df_index)"
   ]
  },
  {
   "cell_type": "code",
   "execution_count": 15,
   "metadata": {},
   "outputs": [
    {
     "data": {
      "text/html": [
       "<div>\n",
       "<style scoped>\n",
       "    .dataframe tbody tr th:only-of-type {\n",
       "        vertical-align: middle;\n",
       "    }\n",
       "\n",
       "    .dataframe tbody tr th {\n",
       "        vertical-align: top;\n",
       "    }\n",
       "\n",
       "    .dataframe thead th {\n",
       "        text-align: right;\n",
       "    }\n",
       "</style>\n",
       "<table border=\"1\" class=\"dataframe\">\n",
       "  <thead>\n",
       "    <tr style=\"text-align: right;\">\n",
       "      <th></th>\n",
       "    </tr>\n",
       "  </thead>\n",
       "  <tbody>\n",
       "    <tr>\n",
       "      <th>2020-03-01</th>\n",
       "    </tr>\n",
       "    <tr>\n",
       "      <th>2020-03-02</th>\n",
       "    </tr>\n",
       "    <tr>\n",
       "      <th>2020-03-03</th>\n",
       "    </tr>\n",
       "    <tr>\n",
       "      <th>2020-03-04</th>\n",
       "    </tr>\n",
       "  </tbody>\n",
       "</table>\n",
       "</div>"
      ],
      "text/plain": [
       "Empty DataFrame\n",
       "Columns: []\n",
       "Index: [2020-03-01 00:00:00, 2020-03-02 00:00:00, 2020-03-03 00:00:00, 2020-03-04 00:00:00]"
      ]
     },
     "execution_count": 15,
     "metadata": {},
     "output_type": "execute_result"
    }
   ],
   "source": [
    "df_empty_index.head(4)"
   ]
  },
  {
   "cell_type": "markdown",
   "metadata": {},
   "source": [
    "Converting df_mod to desired format with country as column name and Date as index:"
   ]
  },
  {
   "cell_type": "code",
   "execution_count": 16,
   "metadata": {},
   "outputs": [],
   "source": [
    "countries = df_mod['Entity'].unique()"
   ]
  },
  {
   "cell_type": "code",
   "execution_count": 17,
   "metadata": {},
   "outputs": [],
   "source": [
    "frame={}\n",
    "for country in countries:\n",
    "    temp_segment = df_mod[df_mod['Entity'] == country].copy()\n",
    "    frame.update({country: temp_segment['Cases']})\n",
    "df_temp = pd.concat(frame, join='outer', axis=1)"
   ]
  },
  {
   "cell_type": "code",
   "execution_count": 18,
   "metadata": {
    "scrolled": true
   },
   "outputs": [
    {
     "data": {
      "text/html": [
       "<div>\n",
       "<style scoped>\n",
       "    .dataframe tbody tr th:only-of-type {\n",
       "        vertical-align: middle;\n",
       "    }\n",
       "\n",
       "    .dataframe tbody tr th {\n",
       "        vertical-align: top;\n",
       "    }\n",
       "\n",
       "    .dataframe thead th {\n",
       "        text-align: right;\n",
       "    }\n",
       "</style>\n",
       "<table border=\"1\" class=\"dataframe\">\n",
       "  <thead>\n",
       "    <tr style=\"text-align: right;\">\n",
       "      <th></th>\n",
       "      <th>Algeria</th>\n",
       "      <th>Argentina</th>\n",
       "      <th>Australia</th>\n",
       "      <th>Austria</th>\n",
       "      <th>Bahrain</th>\n",
       "      <th>Bangladesh</th>\n",
       "      <th>Belarus</th>\n",
       "      <th>Belgium</th>\n",
       "      <th>Bolivia</th>\n",
       "      <th>Bulgaria</th>\n",
       "      <th>...</th>\n",
       "      <th>Turkey</th>\n",
       "      <th>Uganda</th>\n",
       "      <th>Ukraine</th>\n",
       "      <th>United Arab Emirates</th>\n",
       "      <th>United Kingdom</th>\n",
       "      <th>United States</th>\n",
       "      <th>Uruguay</th>\n",
       "      <th>Vietnam</th>\n",
       "      <th>Zambia</th>\n",
       "      <th>Zimbabwe</th>\n",
       "    </tr>\n",
       "    <tr>\n",
       "      <th>Date</th>\n",
       "      <th></th>\n",
       "      <th></th>\n",
       "      <th></th>\n",
       "      <th></th>\n",
       "      <th></th>\n",
       "      <th></th>\n",
       "      <th></th>\n",
       "      <th></th>\n",
       "      <th></th>\n",
       "      <th></th>\n",
       "      <th></th>\n",
       "      <th></th>\n",
       "      <th></th>\n",
       "      <th></th>\n",
       "      <th></th>\n",
       "      <th></th>\n",
       "      <th></th>\n",
       "      <th></th>\n",
       "      <th></th>\n",
       "      <th></th>\n",
       "      <th></th>\n",
       "    </tr>\n",
       "  </thead>\n",
       "  <tbody>\n",
       "    <tr>\n",
       "      <th>2019-12-31</th>\n",
       "      <td>0.0</td>\n",
       "      <td>NaN</td>\n",
       "      <td>0.0</td>\n",
       "      <td>0.0</td>\n",
       "      <td>0.0</td>\n",
       "      <td>NaN</td>\n",
       "      <td>0.0</td>\n",
       "      <td>0.0</td>\n",
       "      <td>NaN</td>\n",
       "      <td>NaN</td>\n",
       "      <td>...</td>\n",
       "      <td>NaN</td>\n",
       "      <td>NaN</td>\n",
       "      <td>NaN</td>\n",
       "      <td>0.0</td>\n",
       "      <td>0.0</td>\n",
       "      <td>0.0</td>\n",
       "      <td>NaN</td>\n",
       "      <td>0.0</td>\n",
       "      <td>NaN</td>\n",
       "      <td>NaN</td>\n",
       "    </tr>\n",
       "    <tr>\n",
       "      <th>2020-01-01</th>\n",
       "      <td>0.0</td>\n",
       "      <td>NaN</td>\n",
       "      <td>0.0</td>\n",
       "      <td>0.0</td>\n",
       "      <td>0.0</td>\n",
       "      <td>NaN</td>\n",
       "      <td>0.0</td>\n",
       "      <td>0.0</td>\n",
       "      <td>NaN</td>\n",
       "      <td>NaN</td>\n",
       "      <td>...</td>\n",
       "      <td>NaN</td>\n",
       "      <td>NaN</td>\n",
       "      <td>NaN</td>\n",
       "      <td>0.0</td>\n",
       "      <td>0.0</td>\n",
       "      <td>0.0</td>\n",
       "      <td>NaN</td>\n",
       "      <td>0.0</td>\n",
       "      <td>NaN</td>\n",
       "      <td>NaN</td>\n",
       "    </tr>\n",
       "    <tr>\n",
       "      <th>2020-01-02</th>\n",
       "      <td>0.0</td>\n",
       "      <td>NaN</td>\n",
       "      <td>0.0</td>\n",
       "      <td>0.0</td>\n",
       "      <td>0.0</td>\n",
       "      <td>NaN</td>\n",
       "      <td>0.0</td>\n",
       "      <td>0.0</td>\n",
       "      <td>NaN</td>\n",
       "      <td>NaN</td>\n",
       "      <td>...</td>\n",
       "      <td>NaN</td>\n",
       "      <td>NaN</td>\n",
       "      <td>NaN</td>\n",
       "      <td>0.0</td>\n",
       "      <td>0.0</td>\n",
       "      <td>0.0</td>\n",
       "      <td>NaN</td>\n",
       "      <td>0.0</td>\n",
       "      <td>NaN</td>\n",
       "      <td>NaN</td>\n",
       "    </tr>\n",
       "  </tbody>\n",
       "</table>\n",
       "<p>3 rows × 91 columns</p>\n",
       "</div>"
      ],
      "text/plain": [
       "            Algeria  Argentina  Australia  Austria  Bahrain  Bangladesh  \\\n",
       "Date                                                                      \n",
       "2019-12-31      0.0        NaN        0.0      0.0      0.0         NaN   \n",
       "2020-01-01      0.0        NaN        0.0      0.0      0.0         NaN   \n",
       "2020-01-02      0.0        NaN        0.0      0.0      0.0         NaN   \n",
       "\n",
       "            Belarus  Belgium  Bolivia  Bulgaria  ...  Turkey  Uganda  Ukraine  \\\n",
       "Date                                             ...                            \n",
       "2019-12-31      0.0      0.0      NaN       NaN  ...     NaN     NaN      NaN   \n",
       "2020-01-01      0.0      0.0      NaN       NaN  ...     NaN     NaN      NaN   \n",
       "2020-01-02      0.0      0.0      NaN       NaN  ...     NaN     NaN      NaN   \n",
       "\n",
       "            United Arab Emirates  United Kingdom  United States  Uruguay  \\\n",
       "Date                                                                       \n",
       "2019-12-31                   0.0             0.0            0.0      NaN   \n",
       "2020-01-01                   0.0             0.0            0.0      NaN   \n",
       "2020-01-02                   0.0             0.0            0.0      NaN   \n",
       "\n",
       "            Vietnam  Zambia  Zimbabwe  \n",
       "Date                                   \n",
       "2019-12-31      0.0     NaN       NaN  \n",
       "2020-01-01      0.0     NaN       NaN  \n",
       "2020-01-02      0.0     NaN       NaN  \n",
       "\n",
       "[3 rows x 91 columns]"
      ]
     },
     "execution_count": 18,
     "metadata": {},
     "output_type": "execute_result"
    }
   ],
   "source": [
    "df_temp.head(3)"
   ]
  },
  {
   "cell_type": "markdown",
   "metadata": {},
   "source": [
    "Joining df_temp with df_empty_index (containg desired index) to achive desired index start, end and interval in df_temp:"
   ]
  },
  {
   "cell_type": "code",
   "execution_count": 19,
   "metadata": {},
   "outputs": [],
   "source": [
    "df_res = df_empty_index.join(df_temp)"
   ]
  },
  {
   "cell_type": "code",
   "execution_count": 20,
   "metadata": {
    "scrolled": true
   },
   "outputs": [
    {
     "data": {
      "text/html": [
       "<div>\n",
       "<style scoped>\n",
       "    .dataframe tbody tr th:only-of-type {\n",
       "        vertical-align: middle;\n",
       "    }\n",
       "\n",
       "    .dataframe tbody tr th {\n",
       "        vertical-align: top;\n",
       "    }\n",
       "\n",
       "    .dataframe thead th {\n",
       "        text-align: right;\n",
       "    }\n",
       "</style>\n",
       "<table border=\"1\" class=\"dataframe\">\n",
       "  <thead>\n",
       "    <tr style=\"text-align: right;\">\n",
       "      <th></th>\n",
       "      <th>Algeria</th>\n",
       "      <th>Argentina</th>\n",
       "      <th>Australia</th>\n",
       "      <th>Austria</th>\n",
       "      <th>Bahrain</th>\n",
       "      <th>Bangladesh</th>\n",
       "      <th>Belarus</th>\n",
       "      <th>Belgium</th>\n",
       "      <th>Bolivia</th>\n",
       "      <th>Bulgaria</th>\n",
       "      <th>...</th>\n",
       "      <th>Turkey</th>\n",
       "      <th>Uganda</th>\n",
       "      <th>Ukraine</th>\n",
       "      <th>United Arab Emirates</th>\n",
       "      <th>United Kingdom</th>\n",
       "      <th>United States</th>\n",
       "      <th>Uruguay</th>\n",
       "      <th>Vietnam</th>\n",
       "      <th>Zambia</th>\n",
       "      <th>Zimbabwe</th>\n",
       "    </tr>\n",
       "  </thead>\n",
       "  <tbody>\n",
       "    <tr>\n",
       "      <th>2020-03-01</th>\n",
       "      <td>3.0</td>\n",
       "      <td>NaN</td>\n",
       "      <td>26.0</td>\n",
       "      <td>10.0</td>\n",
       "      <td>41.0</td>\n",
       "      <td>NaN</td>\n",
       "      <td>1.0</td>\n",
       "      <td>1.0</td>\n",
       "      <td>NaN</td>\n",
       "      <td>NaN</td>\n",
       "      <td>...</td>\n",
       "      <td>NaN</td>\n",
       "      <td>NaN</td>\n",
       "      <td>NaN</td>\n",
       "      <td>21.0</td>\n",
       "      <td>42.0</td>\n",
       "      <td>69.0</td>\n",
       "      <td>NaN</td>\n",
       "      <td>16.0</td>\n",
       "      <td>NaN</td>\n",
       "      <td>NaN</td>\n",
       "    </tr>\n",
       "    <tr>\n",
       "      <th>2020-03-02</th>\n",
       "      <td>3.0</td>\n",
       "      <td>NaN</td>\n",
       "      <td>29.0</td>\n",
       "      <td>14.0</td>\n",
       "      <td>47.0</td>\n",
       "      <td>NaN</td>\n",
       "      <td>1.0</td>\n",
       "      <td>19.0</td>\n",
       "      <td>NaN</td>\n",
       "      <td>NaN</td>\n",
       "      <td>...</td>\n",
       "      <td>NaN</td>\n",
       "      <td>NaN</td>\n",
       "      <td>NaN</td>\n",
       "      <td>21.0</td>\n",
       "      <td>47.0</td>\n",
       "      <td>89.0</td>\n",
       "      <td>NaN</td>\n",
       "      <td>16.0</td>\n",
       "      <td>NaN</td>\n",
       "      <td>NaN</td>\n",
       "    </tr>\n",
       "    <tr>\n",
       "      <th>2020-03-03</th>\n",
       "      <td>NaN</td>\n",
       "      <td>NaN</td>\n",
       "      <td>33.0</td>\n",
       "      <td>18.0</td>\n",
       "      <td>NaN</td>\n",
       "      <td>NaN</td>\n",
       "      <td>NaN</td>\n",
       "      <td>38.0</td>\n",
       "      <td>NaN</td>\n",
       "      <td>NaN</td>\n",
       "      <td>...</td>\n",
       "      <td>NaN</td>\n",
       "      <td>NaN</td>\n",
       "      <td>NaN</td>\n",
       "      <td>NaN</td>\n",
       "      <td>69.0</td>\n",
       "      <td>103.0</td>\n",
       "      <td>NaN</td>\n",
       "      <td>NaN</td>\n",
       "      <td>NaN</td>\n",
       "      <td>NaN</td>\n",
       "    </tr>\n",
       "    <tr>\n",
       "      <th>2020-03-04</th>\n",
       "      <td>5.0</td>\n",
       "      <td>1.0</td>\n",
       "      <td>41.0</td>\n",
       "      <td>24.0</td>\n",
       "      <td>49.0</td>\n",
       "      <td>NaN</td>\n",
       "      <td>4.0</td>\n",
       "      <td>72.0</td>\n",
       "      <td>NaN</td>\n",
       "      <td>NaN</td>\n",
       "      <td>...</td>\n",
       "      <td>NaN</td>\n",
       "      <td>NaN</td>\n",
       "      <td>1.0</td>\n",
       "      <td>27.0</td>\n",
       "      <td>109.0</td>\n",
       "      <td>125.0</td>\n",
       "      <td>NaN</td>\n",
       "      <td>NaN</td>\n",
       "      <td>NaN</td>\n",
       "      <td>NaN</td>\n",
       "    </tr>\n",
       "  </tbody>\n",
       "</table>\n",
       "<p>4 rows × 91 columns</p>\n",
       "</div>"
      ],
      "text/plain": [
       "            Algeria  Argentina  Australia  Austria  Bahrain  Bangladesh  \\\n",
       "2020-03-01      3.0        NaN       26.0     10.0     41.0         NaN   \n",
       "2020-03-02      3.0        NaN       29.0     14.0     47.0         NaN   \n",
       "2020-03-03      NaN        NaN       33.0     18.0      NaN         NaN   \n",
       "2020-03-04      5.0        1.0       41.0     24.0     49.0         NaN   \n",
       "\n",
       "            Belarus  Belgium  Bolivia  Bulgaria  ...  Turkey  Uganda  Ukraine  \\\n",
       "2020-03-01      1.0      1.0      NaN       NaN  ...     NaN     NaN      NaN   \n",
       "2020-03-02      1.0     19.0      NaN       NaN  ...     NaN     NaN      NaN   \n",
       "2020-03-03      NaN     38.0      NaN       NaN  ...     NaN     NaN      NaN   \n",
       "2020-03-04      4.0     72.0      NaN       NaN  ...     NaN     NaN      1.0   \n",
       "\n",
       "            United Arab Emirates  United Kingdom  United States  Uruguay  \\\n",
       "2020-03-01                  21.0            42.0           69.0      NaN   \n",
       "2020-03-02                  21.0            47.0           89.0      NaN   \n",
       "2020-03-03                   NaN            69.0          103.0      NaN   \n",
       "2020-03-04                  27.0           109.0          125.0      NaN   \n",
       "\n",
       "            Vietnam  Zambia  Zimbabwe  \n",
       "2020-03-01     16.0     NaN       NaN  \n",
       "2020-03-02     16.0     NaN       NaN  \n",
       "2020-03-03      NaN     NaN       NaN  \n",
       "2020-03-04      NaN     NaN       NaN  \n",
       "\n",
       "[4 rows x 91 columns]"
      ]
     },
     "execution_count": 20,
     "metadata": {},
     "output_type": "execute_result"
    }
   ],
   "source": [
    "df_res.head(4)"
   ]
  },
  {
   "cell_type": "markdown",
   "metadata": {},
   "source": [
    "Replace all NaN values with zero:"
   ]
  },
  {
   "cell_type": "code",
   "execution_count": 21,
   "metadata": {},
   "outputs": [],
   "source": [
    "df_res.fillna(0, inplace=True)"
   ]
  },
  {
   "cell_type": "code",
   "execution_count": 22,
   "metadata": {},
   "outputs": [
    {
     "data": {
      "text/html": [
       "<div>\n",
       "<style scoped>\n",
       "    .dataframe tbody tr th:only-of-type {\n",
       "        vertical-align: middle;\n",
       "    }\n",
       "\n",
       "    .dataframe tbody tr th {\n",
       "        vertical-align: top;\n",
       "    }\n",
       "\n",
       "    .dataframe thead th {\n",
       "        text-align: right;\n",
       "    }\n",
       "</style>\n",
       "<table border=\"1\" class=\"dataframe\">\n",
       "  <thead>\n",
       "    <tr style=\"text-align: right;\">\n",
       "      <th></th>\n",
       "      <th>Algeria</th>\n",
       "      <th>Argentina</th>\n",
       "      <th>Australia</th>\n",
       "      <th>Austria</th>\n",
       "      <th>Bahrain</th>\n",
       "      <th>Bangladesh</th>\n",
       "      <th>Belarus</th>\n",
       "      <th>Belgium</th>\n",
       "      <th>Bolivia</th>\n",
       "      <th>Bulgaria</th>\n",
       "      <th>...</th>\n",
       "      <th>Turkey</th>\n",
       "      <th>Uganda</th>\n",
       "      <th>Ukraine</th>\n",
       "      <th>United Arab Emirates</th>\n",
       "      <th>United Kingdom</th>\n",
       "      <th>United States</th>\n",
       "      <th>Uruguay</th>\n",
       "      <th>Vietnam</th>\n",
       "      <th>Zambia</th>\n",
       "      <th>Zimbabwe</th>\n",
       "    </tr>\n",
       "  </thead>\n",
       "  <tbody>\n",
       "    <tr>\n",
       "      <th>2020-03-01</th>\n",
       "      <td>3.0</td>\n",
       "      <td>0.0</td>\n",
       "      <td>26.0</td>\n",
       "      <td>10.0</td>\n",
       "      <td>41.0</td>\n",
       "      <td>0.0</td>\n",
       "      <td>1.0</td>\n",
       "      <td>1.0</td>\n",
       "      <td>0.0</td>\n",
       "      <td>0.0</td>\n",
       "      <td>...</td>\n",
       "      <td>0.0</td>\n",
       "      <td>0.0</td>\n",
       "      <td>0.0</td>\n",
       "      <td>21.0</td>\n",
       "      <td>42.0</td>\n",
       "      <td>69.0</td>\n",
       "      <td>0.0</td>\n",
       "      <td>16.0</td>\n",
       "      <td>0.0</td>\n",
       "      <td>0.0</td>\n",
       "    </tr>\n",
       "    <tr>\n",
       "      <th>2020-03-02</th>\n",
       "      <td>3.0</td>\n",
       "      <td>0.0</td>\n",
       "      <td>29.0</td>\n",
       "      <td>14.0</td>\n",
       "      <td>47.0</td>\n",
       "      <td>0.0</td>\n",
       "      <td>1.0</td>\n",
       "      <td>19.0</td>\n",
       "      <td>0.0</td>\n",
       "      <td>0.0</td>\n",
       "      <td>...</td>\n",
       "      <td>0.0</td>\n",
       "      <td>0.0</td>\n",
       "      <td>0.0</td>\n",
       "      <td>21.0</td>\n",
       "      <td>47.0</td>\n",
       "      <td>89.0</td>\n",
       "      <td>0.0</td>\n",
       "      <td>16.0</td>\n",
       "      <td>0.0</td>\n",
       "      <td>0.0</td>\n",
       "    </tr>\n",
       "    <tr>\n",
       "      <th>2020-03-03</th>\n",
       "      <td>0.0</td>\n",
       "      <td>0.0</td>\n",
       "      <td>33.0</td>\n",
       "      <td>18.0</td>\n",
       "      <td>0.0</td>\n",
       "      <td>0.0</td>\n",
       "      <td>0.0</td>\n",
       "      <td>38.0</td>\n",
       "      <td>0.0</td>\n",
       "      <td>0.0</td>\n",
       "      <td>...</td>\n",
       "      <td>0.0</td>\n",
       "      <td>0.0</td>\n",
       "      <td>0.0</td>\n",
       "      <td>0.0</td>\n",
       "      <td>69.0</td>\n",
       "      <td>103.0</td>\n",
       "      <td>0.0</td>\n",
       "      <td>0.0</td>\n",
       "      <td>0.0</td>\n",
       "      <td>0.0</td>\n",
       "    </tr>\n",
       "    <tr>\n",
       "      <th>2020-03-04</th>\n",
       "      <td>5.0</td>\n",
       "      <td>1.0</td>\n",
       "      <td>41.0</td>\n",
       "      <td>24.0</td>\n",
       "      <td>49.0</td>\n",
       "      <td>0.0</td>\n",
       "      <td>4.0</td>\n",
       "      <td>72.0</td>\n",
       "      <td>0.0</td>\n",
       "      <td>0.0</td>\n",
       "      <td>...</td>\n",
       "      <td>0.0</td>\n",
       "      <td>0.0</td>\n",
       "      <td>1.0</td>\n",
       "      <td>27.0</td>\n",
       "      <td>109.0</td>\n",
       "      <td>125.0</td>\n",
       "      <td>0.0</td>\n",
       "      <td>0.0</td>\n",
       "      <td>0.0</td>\n",
       "      <td>0.0</td>\n",
       "    </tr>\n",
       "  </tbody>\n",
       "</table>\n",
       "<p>4 rows × 91 columns</p>\n",
       "</div>"
      ],
      "text/plain": [
       "            Algeria  Argentina  Australia  Austria  Bahrain  Bangladesh  \\\n",
       "2020-03-01      3.0        0.0       26.0     10.0     41.0         0.0   \n",
       "2020-03-02      3.0        0.0       29.0     14.0     47.0         0.0   \n",
       "2020-03-03      0.0        0.0       33.0     18.0      0.0         0.0   \n",
       "2020-03-04      5.0        1.0       41.0     24.0     49.0         0.0   \n",
       "\n",
       "            Belarus  Belgium  Bolivia  Bulgaria  ...  Turkey  Uganda  Ukraine  \\\n",
       "2020-03-01      1.0      1.0      0.0       0.0  ...     0.0     0.0      0.0   \n",
       "2020-03-02      1.0     19.0      0.0       0.0  ...     0.0     0.0      0.0   \n",
       "2020-03-03      0.0     38.0      0.0       0.0  ...     0.0     0.0      0.0   \n",
       "2020-03-04      4.0     72.0      0.0       0.0  ...     0.0     0.0      1.0   \n",
       "\n",
       "            United Arab Emirates  United Kingdom  United States  Uruguay  \\\n",
       "2020-03-01                  21.0            42.0           69.0      0.0   \n",
       "2020-03-02                  21.0            47.0           89.0      0.0   \n",
       "2020-03-03                   0.0            69.0          103.0      0.0   \n",
       "2020-03-04                  27.0           109.0          125.0      0.0   \n",
       "\n",
       "            Vietnam  Zambia  Zimbabwe  \n",
       "2020-03-01     16.0     0.0       0.0  \n",
       "2020-03-02     16.0     0.0       0.0  \n",
       "2020-03-03      0.0     0.0       0.0  \n",
       "2020-03-04      0.0     0.0       0.0  \n",
       "\n",
       "[4 rows x 91 columns]"
      ]
     },
     "execution_count": 22,
     "metadata": {},
     "output_type": "execute_result"
    }
   ],
   "source": [
    "df_res.head(4)"
   ]
  },
  {
   "cell_type": "markdown",
   "metadata": {},
   "source": [
    "Fill all zero values that appear post a value greater than zero with most recent past value:"
   ]
  },
  {
   "cell_type": "code",
   "execution_count": 23,
   "metadata": {},
   "outputs": [
    {
     "data": {
      "text/plain": [
       "Algeria          None\n",
       "Argentina        None\n",
       "Australia        None\n",
       "Austria          None\n",
       "Bahrain          None\n",
       "                 ... \n",
       "United States    None\n",
       "Uruguay          None\n",
       "Vietnam          None\n",
       "Zambia           None\n",
       "Zimbabwe         None\n",
       "Length: 91, dtype: object"
      ]
     },
     "execution_count": 23,
     "metadata": {},
     "output_type": "execute_result"
    }
   ],
   "source": [
    "df_res.replace(to_replace=0, method='ffill', inplace=True)"
   ]
  },
  {
   "cell_type": "code",
   "execution_count": 24,
   "metadata": {},
   "outputs": [
    {
     "data": {
      "text/html": [
       "<div>\n",
       "<style scoped>\n",
       "    .dataframe tbody tr th:only-of-type {\n",
       "        vertical-align: middle;\n",
       "    }\n",
       "\n",
       "    .dataframe tbody tr th {\n",
       "        vertical-align: top;\n",
       "    }\n",
       "\n",
       "    .dataframe thead th {\n",
       "        text-align: right;\n",
       "    }\n",
       "</style>\n",
       "<table border=\"1\" class=\"dataframe\">\n",
       "  <thead>\n",
       "    <tr style=\"text-align: right;\">\n",
       "      <th></th>\n",
       "      <th>Algeria</th>\n",
       "      <th>Argentina</th>\n",
       "      <th>Australia</th>\n",
       "      <th>Austria</th>\n",
       "      <th>Bahrain</th>\n",
       "      <th>Bangladesh</th>\n",
       "      <th>Belarus</th>\n",
       "      <th>Belgium</th>\n",
       "      <th>Bolivia</th>\n",
       "      <th>Bulgaria</th>\n",
       "      <th>...</th>\n",
       "      <th>Turkey</th>\n",
       "      <th>Uganda</th>\n",
       "      <th>Ukraine</th>\n",
       "      <th>United Arab Emirates</th>\n",
       "      <th>United Kingdom</th>\n",
       "      <th>United States</th>\n",
       "      <th>Uruguay</th>\n",
       "      <th>Vietnam</th>\n",
       "      <th>Zambia</th>\n",
       "      <th>Zimbabwe</th>\n",
       "    </tr>\n",
       "  </thead>\n",
       "  <tbody>\n",
       "    <tr>\n",
       "      <th>2020-03-01</th>\n",
       "      <td>3.0</td>\n",
       "      <td>0.0</td>\n",
       "      <td>26.0</td>\n",
       "      <td>10.0</td>\n",
       "      <td>41.0</td>\n",
       "      <td>0.0</td>\n",
       "      <td>1.0</td>\n",
       "      <td>1.0</td>\n",
       "      <td>0.0</td>\n",
       "      <td>0.0</td>\n",
       "      <td>...</td>\n",
       "      <td>0.0</td>\n",
       "      <td>0.0</td>\n",
       "      <td>0.0</td>\n",
       "      <td>21.0</td>\n",
       "      <td>42.0</td>\n",
       "      <td>69.0</td>\n",
       "      <td>0.0</td>\n",
       "      <td>16.0</td>\n",
       "      <td>0.0</td>\n",
       "      <td>0.0</td>\n",
       "    </tr>\n",
       "    <tr>\n",
       "      <th>2020-03-02</th>\n",
       "      <td>3.0</td>\n",
       "      <td>0.0</td>\n",
       "      <td>29.0</td>\n",
       "      <td>14.0</td>\n",
       "      <td>47.0</td>\n",
       "      <td>0.0</td>\n",
       "      <td>1.0</td>\n",
       "      <td>19.0</td>\n",
       "      <td>0.0</td>\n",
       "      <td>0.0</td>\n",
       "      <td>...</td>\n",
       "      <td>0.0</td>\n",
       "      <td>0.0</td>\n",
       "      <td>0.0</td>\n",
       "      <td>21.0</td>\n",
       "      <td>47.0</td>\n",
       "      <td>89.0</td>\n",
       "      <td>0.0</td>\n",
       "      <td>16.0</td>\n",
       "      <td>0.0</td>\n",
       "      <td>0.0</td>\n",
       "    </tr>\n",
       "    <tr>\n",
       "      <th>2020-03-03</th>\n",
       "      <td>3.0</td>\n",
       "      <td>0.0</td>\n",
       "      <td>33.0</td>\n",
       "      <td>18.0</td>\n",
       "      <td>47.0</td>\n",
       "      <td>0.0</td>\n",
       "      <td>1.0</td>\n",
       "      <td>38.0</td>\n",
       "      <td>0.0</td>\n",
       "      <td>0.0</td>\n",
       "      <td>...</td>\n",
       "      <td>0.0</td>\n",
       "      <td>0.0</td>\n",
       "      <td>0.0</td>\n",
       "      <td>21.0</td>\n",
       "      <td>69.0</td>\n",
       "      <td>103.0</td>\n",
       "      <td>0.0</td>\n",
       "      <td>16.0</td>\n",
       "      <td>0.0</td>\n",
       "      <td>0.0</td>\n",
       "    </tr>\n",
       "    <tr>\n",
       "      <th>2020-03-04</th>\n",
       "      <td>5.0</td>\n",
       "      <td>1.0</td>\n",
       "      <td>41.0</td>\n",
       "      <td>24.0</td>\n",
       "      <td>49.0</td>\n",
       "      <td>0.0</td>\n",
       "      <td>4.0</td>\n",
       "      <td>72.0</td>\n",
       "      <td>0.0</td>\n",
       "      <td>0.0</td>\n",
       "      <td>...</td>\n",
       "      <td>0.0</td>\n",
       "      <td>0.0</td>\n",
       "      <td>1.0</td>\n",
       "      <td>27.0</td>\n",
       "      <td>109.0</td>\n",
       "      <td>125.0</td>\n",
       "      <td>0.0</td>\n",
       "      <td>16.0</td>\n",
       "      <td>0.0</td>\n",
       "      <td>0.0</td>\n",
       "    </tr>\n",
       "  </tbody>\n",
       "</table>\n",
       "<p>4 rows × 91 columns</p>\n",
       "</div>"
      ],
      "text/plain": [
       "            Algeria  Argentina  Australia  Austria  Bahrain  Bangladesh  \\\n",
       "2020-03-01      3.0        0.0       26.0     10.0     41.0         0.0   \n",
       "2020-03-02      3.0        0.0       29.0     14.0     47.0         0.0   \n",
       "2020-03-03      3.0        0.0       33.0     18.0     47.0         0.0   \n",
       "2020-03-04      5.0        1.0       41.0     24.0     49.0         0.0   \n",
       "\n",
       "            Belarus  Belgium  Bolivia  Bulgaria  ...  Turkey  Uganda  Ukraine  \\\n",
       "2020-03-01      1.0      1.0      0.0       0.0  ...     0.0     0.0      0.0   \n",
       "2020-03-02      1.0     19.0      0.0       0.0  ...     0.0     0.0      0.0   \n",
       "2020-03-03      1.0     38.0      0.0       0.0  ...     0.0     0.0      0.0   \n",
       "2020-03-04      4.0     72.0      0.0       0.0  ...     0.0     0.0      1.0   \n",
       "\n",
       "            United Arab Emirates  United Kingdom  United States  Uruguay  \\\n",
       "2020-03-01                  21.0            42.0           69.0      0.0   \n",
       "2020-03-02                  21.0            47.0           89.0      0.0   \n",
       "2020-03-03                  21.0            69.0          103.0      0.0   \n",
       "2020-03-04                  27.0           109.0          125.0      0.0   \n",
       "\n",
       "            Vietnam  Zambia  Zimbabwe  \n",
       "2020-03-01     16.0     0.0       0.0  \n",
       "2020-03-02     16.0     0.0       0.0  \n",
       "2020-03-03     16.0     0.0       0.0  \n",
       "2020-03-04     16.0     0.0       0.0  \n",
       "\n",
       "[4 rows x 91 columns]"
      ]
     },
     "execution_count": 24,
     "metadata": {},
     "output_type": "execute_result"
    }
   ],
   "source": [
    "df_res.head(4)"
   ]
  },
  {
   "cell_type": "markdown",
   "metadata": {},
   "source": [
    "## Removing outliers"
   ]
  },
  {
   "cell_type": "markdown",
   "metadata": {},
   "source": [
    "Testing has shown that Bahrain and Quatars covid case timeseries behave like outliers, and these countries are therefore removed from the dataframe"
   ]
  },
  {
   "cell_type": "code",
   "execution_count": 25,
   "metadata": {},
   "outputs": [],
   "source": [
    "#df_res.drop(['Bahrain','Qatar'], axis=1, inplace=True)"
   ]
  },
  {
   "cell_type": "markdown",
   "metadata": {},
   "source": [
    "It was observed when plottinng that a handfull countries had a drop in the accumulated infection trend, se exampel below. Possible reasoning could be correction in number infected. It was decided to remove these countries from the data."
   ]
  },
  {
   "cell_type": "markdown",
   "metadata": {},
   "source": [
    "Exampel of country with drop in the accumulated infection trend"
   ]
  },
  {
   "cell_type": "code",
   "execution_count": 28,
   "metadata": {},
   "outputs": [
    {
     "data": {
      "text/plain": [
       "<matplotlib.axes._subplots.AxesSubplot at 0x115562520>"
      ]
     },
     "execution_count": 28,
     "metadata": {},
     "output_type": "execute_result"
    },
    {
     "data": {
      "image/png": "[encoded data removed]",
      "text/plain": [
       "<Figure size 432x288 with 1 Axes>"
      ]
     },
     "metadata": {
      "needs_background": "light"
     },
     "output_type": "display_data"
    }
   ],
   "source": [
    "df_res.plot(y=['Spain','Ecuador'])"
   ]
  },
  {
   "cell_type": "markdown",
   "metadata": {},
   "source": [
    "Detect countries where cases day x is higher compared to cases day x+1:"
   ]
  },
  {
   "cell_type": "code",
   "execution_count": 29,
   "metadata": {},
   "outputs": [],
   "source": [
    "liste = []\n",
    "for country in df_res.columns:\n",
    "    max_v = 0\n",
    "    temp = df_res[country][0]\n",
    "    for i in range(1,len(df_res)):\n",
    "        if df_res[country][i] >= max_v:\n",
    "            max_v = df_res[country][i]\n",
    "        else:\n",
    "            liste.append(country)"
   ]
  },
  {
   "cell_type": "markdown",
   "metadata": {},
   "source": [
    "In case of duplicates, make list containing only unique elements:"
   ]
  },
  {
   "cell_type": "code",
   "execution_count": 30,
   "metadata": {},
   "outputs": [],
   "source": [
    "outlier_countries_list = list(set(liste))"
   ]
  },
  {
   "cell_type": "markdown",
   "metadata": {},
   "source": [
    "Detected outlier countries:"
   ]
  },
  {
   "cell_type": "code",
   "execution_count": 31,
   "metadata": {},
   "outputs": [
    {
     "data": {
      "text/plain": [
       "['Ecuador',\n",
       " 'Luxembourg',\n",
       " 'France',\n",
       " 'Lithuania',\n",
       " 'Spain',\n",
       " 'Uganda',\n",
       " 'Portugal',\n",
       " 'Italy']"
      ]
     },
     "execution_count": 31,
     "metadata": {},
     "output_type": "execute_result"
    }
   ],
   "source": [
    "outlier_countries_list"
   ]
  },
  {
   "cell_type": "markdown",
   "metadata": {},
   "source": [
    "Remove outlier countries from dataframe:"
   ]
  },
  {
   "cell_type": "code",
   "execution_count": 32,
   "metadata": {},
   "outputs": [],
   "source": [
    "df_res.drop(outlier_countries_list, axis=1, inplace=True)"
   ]
  },
  {
   "cell_type": "markdown",
   "metadata": {},
   "source": [
    "Save dataframe to parquet:"
   ]
  },
  {
   "cell_type": "code",
   "execution_count": 33,
   "metadata": {},
   "outputs": [],
   "source": [
    "#df_res.to_parquet('../data/pre_processed/data_covid_cases.parquet')"
   ]
  },
  {
   "cell_type": "markdown",
   "metadata": {},
   "source": [
    "## Data transformation ##"
   ]
  },
  {
   "cell_type": "markdown",
   "metadata": {},
   "source": [
    "As the difference in number of cases varies very between countries, it is necessary to transform the dataframe to achive a similar scale. Two transformations where tested, z-transform and dividing the infection trend by the population in the respective country. See implementation and comparesent below. For more factual information, see the associated paper. "
   ]
  },
  {
   "cell_type": "markdown",
   "metadata": {},
   "source": [
    "### Z-transform ###"
   ]
  },
  {
   "cell_type": "markdown",
   "metadata": {},
   "source": [
    "Finding mean and standard deviation of each column in the dataframe:"
   ]
  },
  {
   "cell_type": "code",
   "execution_count": 34,
   "metadata": {},
   "outputs": [],
   "source": [
    "means=df_res.mean(axis=0)\n",
    "stds=df_res.std(axis=0)"
   ]
  },
  {
   "cell_type": "markdown",
   "metadata": {},
   "source": [
    "Creating a new copy of the dataframe, replacing each cell with its z-transformed value:"
   ]
  },
  {
   "cell_type": "code",
   "execution_count": 35,
   "metadata": {},
   "outputs": [],
   "source": [
    "z_df=df_res.copy()\n",
    "for col in df_res.columns:\n",
    "    z_df[col]=(df_res[col]-means[col])/stds[col]"
   ]
  },
  {
   "cell_type": "markdown",
   "metadata": {},
   "source": [
    "Resulting dataframe:"
   ]
  },
  {
   "cell_type": "code",
   "execution_count": 36,
   "metadata": {},
   "outputs": [
    {
     "data": {
      "text/html": [
       "<div>\n",
       "<style scoped>\n",
       "    .dataframe tbody tr th:only-of-type {\n",
       "        vertical-align: middle;\n",
       "    }\n",
       "\n",
       "    .dataframe tbody tr th {\n",
       "        vertical-align: top;\n",
       "    }\n",
       "\n",
       "    .dataframe thead th {\n",
       "        text-align: right;\n",
       "    }\n",
       "</style>\n",
       "<table border=\"1\" class=\"dataframe\">\n",
       "  <thead>\n",
       "    <tr style=\"text-align: right;\">\n",
       "      <th></th>\n",
       "      <th>Algeria</th>\n",
       "      <th>Argentina</th>\n",
       "      <th>Australia</th>\n",
       "      <th>Austria</th>\n",
       "      <th>Bahrain</th>\n",
       "      <th>Bangladesh</th>\n",
       "      <th>Belarus</th>\n",
       "      <th>Belgium</th>\n",
       "      <th>Bolivia</th>\n",
       "      <th>Bulgaria</th>\n",
       "      <th>...</th>\n",
       "      <th>Tunisia</th>\n",
       "      <th>Turkey</th>\n",
       "      <th>Ukraine</th>\n",
       "      <th>United Arab Emirates</th>\n",
       "      <th>United Kingdom</th>\n",
       "      <th>United States</th>\n",
       "      <th>Uruguay</th>\n",
       "      <th>Vietnam</th>\n",
       "      <th>Zambia</th>\n",
       "      <th>Zimbabwe</th>\n",
       "    </tr>\n",
       "  </thead>\n",
       "  <tbody>\n",
       "    <tr>\n",
       "      <th>2020-03-01</th>\n",
       "      <td>-1.016766</td>\n",
       "      <td>-0.704723</td>\n",
       "      <td>-1.314497</td>\n",
       "      <td>-2.128248</td>\n",
       "      <td>-1.062776</td>\n",
       "      <td>-0.974537</td>\n",
       "      <td>-1.383280</td>\n",
       "      <td>-2.021154</td>\n",
       "      <td>-0.852664</td>\n",
       "      <td>-0.982762</td>\n",
       "      <td>...</td>\n",
       "      <td>-0.994483</td>\n",
       "      <td>-1.677526</td>\n",
       "      <td>-0.977963</td>\n",
       "      <td>-1.334201</td>\n",
       "      <td>-1.828760</td>\n",
       "      <td>-1.206989</td>\n",
       "      <td>-1.733456</td>\n",
       "      <td>-1.337746</td>\n",
       "      <td>-0.739615</td>\n",
       "      <td>-0.683331</td>\n",
       "    </tr>\n",
       "    <tr>\n",
       "      <th>2020-03-02</th>\n",
       "      <td>-1.016766</td>\n",
       "      <td>-0.704723</td>\n",
       "      <td>-1.314127</td>\n",
       "      <td>-2.127737</td>\n",
       "      <td>-1.062476</td>\n",
       "      <td>-0.974537</td>\n",
       "      <td>-1.383280</td>\n",
       "      <td>-2.020472</td>\n",
       "      <td>-0.852664</td>\n",
       "      <td>-0.982762</td>\n",
       "      <td>...</td>\n",
       "      <td>-0.994483</td>\n",
       "      <td>-1.677526</td>\n",
       "      <td>-0.977963</td>\n",
       "      <td>-1.334201</td>\n",
       "      <td>-1.828718</td>\n",
       "      <td>-1.206979</td>\n",
       "      <td>-1.733456</td>\n",
       "      <td>-1.337746</td>\n",
       "      <td>-0.739615</td>\n",
       "      <td>-0.683331</td>\n",
       "    </tr>\n",
       "    <tr>\n",
       "      <th>2020-03-03</th>\n",
       "      <td>-1.016766</td>\n",
       "      <td>-0.704723</td>\n",
       "      <td>-1.313633</td>\n",
       "      <td>-2.127226</td>\n",
       "      <td>-1.062476</td>\n",
       "      <td>-0.974537</td>\n",
       "      <td>-1.383280</td>\n",
       "      <td>-2.019753</td>\n",
       "      <td>-0.852664</td>\n",
       "      <td>-0.982762</td>\n",
       "      <td>...</td>\n",
       "      <td>-0.993805</td>\n",
       "      <td>-1.677526</td>\n",
       "      <td>-0.977963</td>\n",
       "      <td>-1.334201</td>\n",
       "      <td>-1.828530</td>\n",
       "      <td>-1.206972</td>\n",
       "      <td>-1.733456</td>\n",
       "      <td>-1.337746</td>\n",
       "      <td>-0.739615</td>\n",
       "      <td>-0.683331</td>\n",
       "    </tr>\n",
       "    <tr>\n",
       "      <th>2020-03-04</th>\n",
       "      <td>-1.016640</td>\n",
       "      <td>-0.704717</td>\n",
       "      <td>-1.312644</td>\n",
       "      <td>-2.126459</td>\n",
       "      <td>-1.062375</td>\n",
       "      <td>-0.974537</td>\n",
       "      <td>-1.383176</td>\n",
       "      <td>-2.018465</td>\n",
       "      <td>-0.852664</td>\n",
       "      <td>-0.982762</td>\n",
       "      <td>...</td>\n",
       "      <td>-0.993805</td>\n",
       "      <td>-1.677526</td>\n",
       "      <td>-0.977941</td>\n",
       "      <td>-1.333975</td>\n",
       "      <td>-1.828189</td>\n",
       "      <td>-1.206962</td>\n",
       "      <td>-1.733456</td>\n",
       "      <td>-1.337746</td>\n",
       "      <td>-0.739615</td>\n",
       "      <td>-0.683331</td>\n",
       "    </tr>\n",
       "  </tbody>\n",
       "</table>\n",
       "<p>4 rows × 83 columns</p>\n",
       "</div>"
      ],
      "text/plain": [
       "             Algeria  Argentina  Australia   Austria   Bahrain  Bangladesh  \\\n",
       "2020-03-01 -1.016766  -0.704723  -1.314497 -2.128248 -1.062776   -0.974537   \n",
       "2020-03-02 -1.016766  -0.704723  -1.314127 -2.127737 -1.062476   -0.974537   \n",
       "2020-03-03 -1.016766  -0.704723  -1.313633 -2.127226 -1.062476   -0.974537   \n",
       "2020-03-04 -1.016640  -0.704717  -1.312644 -2.126459 -1.062375   -0.974537   \n",
       "\n",
       "             Belarus   Belgium   Bolivia  Bulgaria  ...   Tunisia    Turkey  \\\n",
       "2020-03-01 -1.383280 -2.021154 -0.852664 -0.982762  ... -0.994483 -1.677526   \n",
       "2020-03-02 -1.383280 -2.020472 -0.852664 -0.982762  ... -0.994483 -1.677526   \n",
       "2020-03-03 -1.383280 -2.019753 -0.852664 -0.982762  ... -0.993805 -1.677526   \n",
       "2020-03-04 -1.383176 -2.018465 -0.852664 -0.982762  ... -0.993805 -1.677526   \n",
       "\n",
       "             Ukraine  United Arab Emirates  United Kingdom  United States  \\\n",
       "2020-03-01 -0.977963             -1.334201       -1.828760      -1.206989   \n",
       "2020-03-02 -0.977963             -1.334201       -1.828718      -1.206979   \n",
       "2020-03-03 -0.977963             -1.334201       -1.828530      -1.206972   \n",
       "2020-03-04 -0.977941             -1.333975       -1.828189      -1.206962   \n",
       "\n",
       "             Uruguay   Vietnam    Zambia  Zimbabwe  \n",
       "2020-03-01 -1.733456 -1.337746 -0.739615 -0.683331  \n",
       "2020-03-02 -1.733456 -1.337746 -0.739615 -0.683331  \n",
       "2020-03-03 -1.733456 -1.337746 -0.739615 -0.683331  \n",
       "2020-03-04 -1.733456 -1.337746 -0.739615 -0.683331  \n",
       "\n",
       "[4 rows x 83 columns]"
      ]
     },
     "execution_count": 36,
     "metadata": {},
     "output_type": "execute_result"
    }
   ],
   "source": [
    "z_df.head(4)"
   ]
  },
  {
   "cell_type": "markdown",
   "metadata": {},
   "source": [
    "Plot of all countries z-transformed:"
   ]
  },
  {
   "cell_type": "code",
   "execution_count": 37,
   "metadata": {},
   "outputs": [
    {
     "data": {
      "text/plain": [
       "<matplotlib.axes._subplots.AxesSubplot at 0x115546e80>"
      ]
     },
     "execution_count": 37,
     "metadata": {},
     "output_type": "execute_result"
    },
    {
     "data": {
      "image/png": "[encoded data removed]",
      "text/plain": [
       "<Figure size 432x288 with 1 Axes>"
      ]
     },
     "metadata": {
      "needs_background": "light"
     },
     "output_type": "display_data"
    }
   ],
   "source": [
    "z_df.plot(legend='')"
   ]
  },
  {
   "cell_type": "code",
   "execution_count": 39,
   "metadata": {},
   "outputs": [
    {
     "data": {
      "text/plain": [
       "<matplotlib.axes._subplots.AxesSubplot at 0x11539a040>"
      ]
     },
     "execution_count": 39,
     "metadata": {},
     "output_type": "execute_result"
    },
    {
     "data": {
      "image/png": "[encoded data removed]",
      "text/plain": [
       "<Figure size 432x288 with 1 Axes>"
      ]
     },
     "metadata": {
      "needs_background": "light"
     },
     "output_type": "display_data"
    }
   ],
   "source": [
    "z_df.plot(y=['Bahrain','Qatar'])"
   ]
  },
  {
   "cell_type": "markdown",
   "metadata": {},
   "source": [
    "Save dataframe to parquet:"
   ]
  },
  {
   "cell_type": "code",
   "execution_count": null,
   "metadata": {},
   "outputs": [],
   "source": [
    "#z_df.to_parquet('../data/pre_processed/covid_cases_z_trans.parquet')"
   ]
  },
  {
   "cell_type": "markdown",
   "metadata": {},
   "source": [
    "### Cases per population ###"
   ]
  },
  {
   "cell_type": "markdown",
   "metadata": {},
   "source": [
    "Creating a new copy of the dataframe, dividing each cell with the corresponding population of that country (column name):\n",
    "<br>\n",
    "Using extract function to retrive population from lookup table"
   ]
  },
  {
   "cell_type": "code",
   "execution_count": null,
   "metadata": {},
   "outputs": [],
   "source": [
    "cases_popu=df_res.copy()\n",
    "for col in df_res.columns:\n",
    "    cases_popu[col] = df_res[col].div(extract_func(col,'Population'))"
   ]
  },
  {
   "cell_type": "markdown",
   "metadata": {},
   "source": [
    "Resulting dataframe:"
   ]
  },
  {
   "cell_type": "code",
   "execution_count": null,
   "metadata": {},
   "outputs": [],
   "source": [
    "cases_popu.head(4)"
   ]
  },
  {
   "cell_type": "markdown",
   "metadata": {},
   "source": [
    "Plot of infection for each country divided by population:"
   ]
  },
  {
   "cell_type": "code",
   "execution_count": null,
   "metadata": {},
   "outputs": [],
   "source": [
    "cases_popu.plot(legend='')"
   ]
  },
  {
   "cell_type": "markdown",
   "metadata": {},
   "source": [
    "Save dataframe to parquet:"
   ]
  },
  {
   "cell_type": "code",
   "execution_count": null,
   "metadata": {},
   "outputs": [],
   "source": [
    "#cases_popu.to_parquet('../data/pre_processed/cases_per_popu.parquet')"
   ]
  },
  {
   "cell_type": "markdown",
   "metadata": {},
   "source": [
    "## Comparing the differnet transformations"
   ]
  },
  {
   "cell_type": "code",
   "execution_count": null,
   "metadata": {},
   "outputs": [],
   "source": [
    "fig, axs = plt.subplots(1, 3)\n",
    "fig.set_figheight(6)\n",
    "fig.set_figwidth(40)\n",
    "\n",
    "\n",
    "df_res.plot(legend='',ax=axs[0])\n",
    "\n",
    "cases_popu.plot(legend='', ax=axs[1])\n",
    "\n",
    "z_df.plot(legend='', ax=axs[2])\n",
    "axs[0].set_title('Cases per country')\n",
    "axs[1].set_title('Cases per country, divided by population')\n",
    "axs[2].set_title('Cases per country, z-transformed')\n",
    "\n",
    "for ax in axs.flat:\n",
    "    ax.set(xlabel='Month')\n",
    "\n",
    "#plt.savefig(\"data_formats\", bbox_inches='tight')"
   ]
  }
 ],
 "metadata": {
  "kernelspec": {
   "display_name": "Python 3",
   "language": "python",
   "name": "python3"
  },
  "language_info": {
   "codemirror_mode": {
    "name": "ipython",
    "version": 3
   },
   "file_extension": ".py",
   "mimetype": "text/x-python",
   "name": "python",
   "nbconvert_exporter": "python",
   "pygments_lexer": "ipython3",
   "version": "3.8.3"
  }
 },
 "nbformat": 4,
 "nbformat_minor": 4
}
