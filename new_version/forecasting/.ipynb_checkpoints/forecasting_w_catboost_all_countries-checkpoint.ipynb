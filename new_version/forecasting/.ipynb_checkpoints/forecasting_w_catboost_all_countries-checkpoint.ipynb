{
 "cells": [
  {
   "cell_type": "code",
   "execution_count": 1,
   "metadata": {},
   "outputs": [],
   "source": [
    "#pip install catboost <- run first time this notebook is executed\n",
    "#pip install sklearn\n",
    "#pip install tabulate"
   ]
  },
  {
   "cell_type": "code",
   "execution_count": 2,
   "metadata": {},
   "outputs": [],
   "source": [
    "import pandas as pd\n",
    "from catboost import CatBoostRegressor\n",
    "import datetime\n",
    "from sklearn import preprocessing\n",
    "import numpy as np\n",
    "from matplotlib import pyplot as plt\n",
    "import math"
   ]
  },
  {
   "cell_type": "code",
   "execution_count": 3,
   "metadata": {},
   "outputs": [],
   "source": [
    "from IPython.display import HTML, display\n",
    "import tabulate"
   ]
  },
  {
   "cell_type": "code",
   "execution_count": 4,
   "metadata": {},
   "outputs": [],
   "source": [
    "df = pd.read_parquet('../data/forecasting_format/dataframe_forecasting_with_features.parquet')"
   ]
  },
  {
   "cell_type": "markdown",
   "metadata": {},
   "source": [
    "# Forecasting, traning with all data"
   ]
  },
  {
   "cell_type": "markdown",
   "metadata": {},
   "source": [
    "This notebook performs forecasting with Catboost, when trained with all data. This notebook can be seen in connection with forecasting_w_catboost_clusters and forecasting_w_catboost_single_country, as the ovjective of these notebooks are the same, however the training data differs."
   ]
  },
  {
   "cell_type": "markdown",
   "metadata": {},
   "source": [
    "As mentioned, the forecasting model is trained with all available data. This data is pre-processed using the pre_processing -> pre_processing notebook, formatted using the pre_processing -> forecasting_fromat_cases_per_day notebook and been given features by the pre_processing -> adding_features notebook. There has been selected 4 test countries that are the same for all forecasting. These where chosen at random with the condition that each country needed to be present in one of the k-means clusters and one of the hierarchical clusters. This to ensure a so fair comparesent of the forecasts as possible.\n",
    "<br>\n",
    "<br>\n",
    "Training period: 01-03-2020 -> 09-09-2020\n",
    "<br>\n",
    "Testinng period: 10-09-2020 -> 17-09-2020"
   ]
  },
  {
   "cell_type": "markdown",
   "metadata": {},
   "source": [
    "Under testing, predictions where done with all combinations of features, this resulted in that the features 'weekday' and 'cases_tot' were disregarded, as prediction accuracy overall where effected negatively by these features. The used features are: 'Country', 'Month', 'Day', 'prev_case' where the last feature is a t-1 shift. These features are used for all forecasting predictions to ensure a fair basis of comparison as possible."
   ]
  },
  {
   "cell_type": "markdown",
   "metadata": {},
   "source": [
    "To evaluate accuracy, this and all forecasting notebooks utilize MAPE, see paper for explanation and evaluation of this method of computing accuracy."
   ]
  },
  {
   "cell_type": "code",
   "execution_count": 5,
   "metadata": {},
   "outputs": [],
   "source": [
    "#Function used to perform prediction. Input: forecasting model, traning dataframe, test dataframe, \n",
    "#list of features, and number of predictions, default 8. Returns dataframe with same format as\n",
    "#additional test_df, with an additional column with predictions.\n",
    "\n",
    "def forecast(model, training_df, test_df, feature_list, num_predictions=8):\n",
    "    start_period = 0\n",
    "    end_period = num_predictions\n",
    "    prediction_list = []\n",
    "    \n",
    "    #Generating an encoder for country feature by converting country string to int value\n",
    "    if 'Country' in feature_list:\n",
    "        ns_encoder = preprocessing.LabelEncoder()\n",
    "        training_df['Country'] =  ns_encoder.fit_transform(training_df['Country'])\n",
    "    \n",
    "    #Dataframe with all features\n",
    "    x_training_df = training_df[feature_list].copy()\n",
    "    #Dataframe with all cases\n",
    "    y_training_df = training_df['Cases'].copy().to_frame()\n",
    "    model.fit(x_training_df, np.ravel(y_training_df))\n",
    "    \n",
    "    # Predicting on test set, while end period is not equal to end of length of test_df\n",
    "    while end_period <= len(test_df):\n",
    "        # Collect features from start to end and predict (10-10-2020->17-10-2020)\n",
    "        features_df = test_df[feature_list][start_period:end_period].copy()\n",
    "        #Generating an encoder for country feature by converting country string to int value\n",
    "        if 'Country' in feature_list:\n",
    "            features_df['Country'] = ns_encoder.transform(features_df['Country'])\n",
    "        true_df = test_df[['Cases']][start_period:end_period].copy()\n",
    "        predictions = model.predict(features_df)\n",
    "       \n",
    "        # Add the predicted data\n",
    "        predicted_df = pd.DataFrame(predictions, columns=['predicted'])\n",
    "        predicted_df.index = true_df.index.copy()        \n",
    "        prediction_list.extend(predictions)\n",
    "        # Move to next period\n",
    "        start_period += 1\n",
    "        end_period += 1\n",
    "    \n",
    "    df_result = test_df.assign(Predicted=prediction_list)\n",
    "    return df_result"
   ]
  },
  {
   "cell_type": "code",
   "execution_count": 6,
   "metadata": {},
   "outputs": [],
   "source": [
    "#Function that computes a MAPE. Input: dataframe including true and prediction,\n",
    "#true_column that specifies which column of df holds the true values and \n",
    "#pred_column that specifies which column of df hold the predicted values\n",
    "def MAPE(df,true_column,pred_column):\n",
    "    true_list = df[true_column].to_numpy()\n",
    "    pred_list = df[pred_column].to_numpy()\n",
    "    return np.mean(np.abs((true_list - pred_list) / true_list)) * 100"
   ]
  },
  {
   "cell_type": "code",
   "execution_count": 7,
   "metadata": {},
   "outputs": [],
   "source": [
    "#Function computes an additional column which sums predicted value together to form an accumulated\n",
    "#prediction. Prediction for day 0 is summed to the known total cases the day before.\n",
    "#Input: dataframe contanint all data on test country and dataframe including predictions produced\n",
    "#by def forecast. \n",
    "def accumulated_dataframe_column(df_test_country,CB_df):\n",
    "    test_start_value = df_test_country.loc[df_test_country.index == datetime.datetime(2020,9,9), 'cases_tot'].values[0]\n",
    "    accumulated_list = [math.floor(test_start_value+CB_df['Predicted'][0])]\n",
    "    for i in range(1,len(CB_df)):\n",
    "        accumulated_list.append(math.floor(accumulated_list[i-1]+CB_df['Predicted'][i]))\n",
    "    df_result = CB_df.copy()\n",
    "    df_result['Accumulated_Prediction'] = accumulated_list\n",
    "    return df_result"
   ]
  },
  {
   "cell_type": "markdown",
   "metadata": {},
   "source": [
    "## Selecting test countries"
   ]
  },
  {
   "cell_type": "code",
   "execution_count": 8,
   "metadata": {},
   "outputs": [],
   "source": [
    "Algeria_df = df[df['Country'].isin(['Algeria'])]"
   ]
  },
  {
   "cell_type": "code",
   "execution_count": 9,
   "metadata": {},
   "outputs": [],
   "source": [
    "test_1_df =  Algeria_df[(Algeria_df.index.date > datetime.date(2020, 9, 9)) & \n",
    "                    (Algeria_df.index.date <= datetime.date(2020, 9, 17))].copy()"
   ]
  },
  {
   "cell_type": "code",
   "execution_count": 10,
   "metadata": {},
   "outputs": [],
   "source": [
    "Belgium_df = df[df['Country'].isin(['Belgium'])]"
   ]
  },
  {
   "cell_type": "code",
   "execution_count": 11,
   "metadata": {},
   "outputs": [],
   "source": [
    "test_2_df = Belgium_df[(Belgium_df.index.date > datetime.date(2020, 9, 9)) & \n",
    "                    (Belgium_df.index.date <= datetime.date(2020, 9, 17))].copy()"
   ]
  },
  {
   "cell_type": "code",
   "execution_count": 12,
   "metadata": {},
   "outputs": [],
   "source": [
    "Bangladesh_df = df[df['Country'].isin(['Bangladesh'])]"
   ]
  },
  {
   "cell_type": "code",
   "execution_count": 13,
   "metadata": {},
   "outputs": [],
   "source": [
    "test_3_df =  Bangladesh_df[(Bangladesh_df.index.date > datetime.date(2020, 9, 9)) & \n",
    "                    (Bangladesh_df.index.date <= datetime.date(2020, 9, 17))].copy()"
   ]
  },
  {
   "cell_type": "code",
   "execution_count": 14,
   "metadata": {},
   "outputs": [],
   "source": [
    "Croatia_df = df[df['Country'].isin(['Croatia'])]"
   ]
  },
  {
   "cell_type": "code",
   "execution_count": 15,
   "metadata": {},
   "outputs": [],
   "source": [
    "test_4_df =  Croatia_df[(Croatia_df.index.date > datetime.date(2020, 9, 9)) & \n",
    "                    (Croatia_df.index.date <= datetime.date(2020, 9, 17))].copy()"
   ]
  },
  {
   "cell_type": "markdown",
   "metadata": {},
   "source": [
    "## Test country 1, Algeria"
   ]
  },
  {
   "cell_type": "code",
   "execution_count": 16,
   "metadata": {},
   "outputs": [],
   "source": [
    "training_1_df = df[(df.index.date >= datetime.date(2020, 3, 1)) & \n",
    "                    (df.index.date <= datetime.date(2020, 9, 9))].copy()"
   ]
  },
  {
   "cell_type": "code",
   "execution_count": 17,
   "metadata": {},
   "outputs": [],
   "source": [
    "# Generate model\n",
    "feature_list = ['Country','Month','Day','prev_case']\n",
    "params= {'iterations': 5000, 'silent': True}\n",
    "model = CatBoostRegressor(**params)\n",
    "Algeria_CB_df = forecast(model=model, training_df=training_1_df.copy(), \n",
    "                                                             test_df=test_1_df.copy(),\n",
    "                                                             feature_list=feature_list)"
   ]
  },
  {
   "cell_type": "code",
   "execution_count": 18,
   "metadata": {},
   "outputs": [],
   "source": [
    "Algeria_CB_df = accumulated_dataframe_column(Algeria_df,Algeria_CB_df.copy())"
   ]
  },
  {
   "cell_type": "code",
   "execution_count": 19,
   "metadata": {},
   "outputs": [
    {
     "data": {
      "text/html": [
       "<div>\n",
       "<style scoped>\n",
       "    .dataframe tbody tr th:only-of-type {\n",
       "        vertical-align: middle;\n",
       "    }\n",
       "\n",
       "    .dataframe tbody tr th {\n",
       "        vertical-align: top;\n",
       "    }\n",
       "\n",
       "    .dataframe thead th {\n",
       "        text-align: right;\n",
       "    }\n",
       "</style>\n",
       "<table border=\"1\" class=\"dataframe\">\n",
       "  <thead>\n",
       "    <tr style=\"text-align: right;\">\n",
       "      <th></th>\n",
       "      <th>Cases</th>\n",
       "      <th>Country</th>\n",
       "      <th>cases_tot</th>\n",
       "      <th>Month</th>\n",
       "      <th>Day</th>\n",
       "      <th>Weekend</th>\n",
       "      <th>prev_case</th>\n",
       "      <th>Predicted</th>\n",
       "      <th>Accumulated_Prediction</th>\n",
       "    </tr>\n",
       "    <tr>\n",
       "      <th>Date</th>\n",
       "      <th></th>\n",
       "      <th></th>\n",
       "      <th></th>\n",
       "      <th></th>\n",
       "      <th></th>\n",
       "      <th></th>\n",
       "      <th></th>\n",
       "      <th></th>\n",
       "      <th></th>\n",
       "    </tr>\n",
       "  </thead>\n",
       "  <tbody>\n",
       "    <tr>\n",
       "      <th>2020-09-10</th>\n",
       "      <td>278.0</td>\n",
       "      <td>Algeria</td>\n",
       "      <td>47216.0</td>\n",
       "      <td>9</td>\n",
       "      <td>3</td>\n",
       "      <td>0.0</td>\n",
       "      <td>285.0</td>\n",
       "      <td>310.759102</td>\n",
       "      <td>47248</td>\n",
       "    </tr>\n",
       "    <tr>\n",
       "      <th>2020-09-11</th>\n",
       "      <td>272.0</td>\n",
       "      <td>Algeria</td>\n",
       "      <td>47488.0</td>\n",
       "      <td>9</td>\n",
       "      <td>4</td>\n",
       "      <td>0.0</td>\n",
       "      <td>278.0</td>\n",
       "      <td>277.749928</td>\n",
       "      <td>47525</td>\n",
       "    </tr>\n",
       "    <tr>\n",
       "      <th>2020-09-12</th>\n",
       "      <td>264.0</td>\n",
       "      <td>Algeria</td>\n",
       "      <td>47752.0</td>\n",
       "      <td>9</td>\n",
       "      <td>5</td>\n",
       "      <td>1.0</td>\n",
       "      <td>272.0</td>\n",
       "      <td>223.697434</td>\n",
       "      <td>47748</td>\n",
       "    </tr>\n",
       "    <tr>\n",
       "      <th>2020-09-13</th>\n",
       "      <td>255.0</td>\n",
       "      <td>Algeria</td>\n",
       "      <td>48007.0</td>\n",
       "      <td>9</td>\n",
       "      <td>6</td>\n",
       "      <td>1.0</td>\n",
       "      <td>264.0</td>\n",
       "      <td>265.952073</td>\n",
       "      <td>48013</td>\n",
       "    </tr>\n",
       "    <tr>\n",
       "      <th>2020-09-14</th>\n",
       "      <td>247.0</td>\n",
       "      <td>Algeria</td>\n",
       "      <td>48254.0</td>\n",
       "      <td>9</td>\n",
       "      <td>0</td>\n",
       "      <td>0.0</td>\n",
       "      <td>255.0</td>\n",
       "      <td>216.407376</td>\n",
       "      <td>48229</td>\n",
       "    </tr>\n",
       "    <tr>\n",
       "      <th>2020-09-15</th>\n",
       "      <td>242.0</td>\n",
       "      <td>Algeria</td>\n",
       "      <td>48496.0</td>\n",
       "      <td>9</td>\n",
       "      <td>1</td>\n",
       "      <td>0.0</td>\n",
       "      <td>247.0</td>\n",
       "      <td>342.828918</td>\n",
       "      <td>48571</td>\n",
       "    </tr>\n",
       "    <tr>\n",
       "      <th>2020-09-16</th>\n",
       "      <td>238.0</td>\n",
       "      <td>Algeria</td>\n",
       "      <td>48734.0</td>\n",
       "      <td>9</td>\n",
       "      <td>2</td>\n",
       "      <td>0.0</td>\n",
       "      <td>242.0</td>\n",
       "      <td>206.302287</td>\n",
       "      <td>48777</td>\n",
       "    </tr>\n",
       "    <tr>\n",
       "      <th>2020-09-17</th>\n",
       "      <td>232.0</td>\n",
       "      <td>Algeria</td>\n",
       "      <td>48966.0</td>\n",
       "      <td>9</td>\n",
       "      <td>3</td>\n",
       "      <td>0.0</td>\n",
       "      <td>238.0</td>\n",
       "      <td>280.862577</td>\n",
       "      <td>49057</td>\n",
       "    </tr>\n",
       "  </tbody>\n",
       "</table>\n",
       "</div>"
      ],
      "text/plain": [
       "            Cases  Country  cases_tot  Month  Day  Weekend  prev_case  \\\n",
       "Date                                                                    \n",
       "2020-09-10  278.0  Algeria    47216.0      9    3      0.0      285.0   \n",
       "2020-09-11  272.0  Algeria    47488.0      9    4      0.0      278.0   \n",
       "2020-09-12  264.0  Algeria    47752.0      9    5      1.0      272.0   \n",
       "2020-09-13  255.0  Algeria    48007.0      9    6      1.0      264.0   \n",
       "2020-09-14  247.0  Algeria    48254.0      9    0      0.0      255.0   \n",
       "2020-09-15  242.0  Algeria    48496.0      9    1      0.0      247.0   \n",
       "2020-09-16  238.0  Algeria    48734.0      9    2      0.0      242.0   \n",
       "2020-09-17  232.0  Algeria    48966.0      9    3      0.0      238.0   \n",
       "\n",
       "             Predicted  Accumulated_Prediction  \n",
       "Date                                            \n",
       "2020-09-10  310.759102                   47248  \n",
       "2020-09-11  277.749928                   47525  \n",
       "2020-09-12  223.697434                   47748  \n",
       "2020-09-13  265.952073                   48013  \n",
       "2020-09-14  216.407376                   48229  \n",
       "2020-09-15  342.828918                   48571  \n",
       "2020-09-16  206.302287                   48777  \n",
       "2020-09-17  280.862577                   49057  "
      ]
     },
     "execution_count": 19,
     "metadata": {},
     "output_type": "execute_result"
    }
   ],
   "source": [
    "Algeria_CB_df"
   ]
  },
  {
   "cell_type": "markdown",
   "metadata": {},
   "source": [
    "Plot of true vs predicted when comparing cases per day and predicted cases per day:"
   ]
  },
  {
   "cell_type": "code",
   "execution_count": 20,
   "metadata": {},
   "outputs": [
    {
     "data": {
      "text/plain": [
       "Text(0, 0.5, 'Cases')"
      ]
     },
     "execution_count": 20,
     "metadata": {},
     "output_type": "execute_result"
    },
    {
     "data": {
      "text/plain": [
       "<Figure size 432x288 with 0 Axes>"
      ]
     },
     "metadata": {},
     "output_type": "display_data"
    },
    {
     "data": {
      "image/png": "[encoded data removed]",
      "text/plain": [
       "<Figure size 792x360 with 1 Axes>"
      ]
     },
     "metadata": {
      "needs_background": "light"
     },
     "output_type": "display_data"
    }
   ],
   "source": [
    "fig = plt.figure()\n",
    "Algeria_CB_df.plot( y=['Predicted', 'Cases'], label=['Predicted','True'], color=['red','black'], figsize=(11,5))\n",
    "plt.ylabel('Cases')"
   ]
  },
  {
   "cell_type": "markdown",
   "metadata": {},
   "source": [
    "Plot of true vs. predicted when comparing total cases and accumulated prediction:"
   ]
  },
  {
   "cell_type": "code",
   "execution_count": 21,
   "metadata": {},
   "outputs": [
    {
     "data": {
      "text/plain": [
       "<Figure size 432x288 with 0 Axes>"
      ]
     },
     "metadata": {},
     "output_type": "display_data"
    },
    {
     "data": {
      "image/png": "[encoded data removed]",
      "text/plain": [
       "<Figure size 792x360 with 1 Axes>"
      ]
     },
     "metadata": {
      "needs_background": "light"
     },
     "output_type": "display_data"
    }
   ],
   "source": [
    "fig = plt.figure()\n",
    "Algeria_CB_df.plot( y=['Accumulated_Prediction', 'cases_tot'], label=['Predicted','True'], color=['red','black'], figsize=(11,5))\n",
    "plt.ylabel('Cases')\n",
    "#plt.savefig(\"Algeria_all_data\", bbox_inches='tight')"
   ]
  },
  {
   "cell_type": "code",
   "execution_count": 22,
   "metadata": {},
   "outputs": [
    {
     "data": {
      "text/plain": [
       "0.0809"
      ]
     },
     "execution_count": 22,
     "metadata": {},
     "output_type": "execute_result"
    }
   ],
   "source": [
    "round(MAPE(Algeria_CB_df,'cases_tot','Accumulated_Prediction'),4)"
   ]
  },
  {
   "cell_type": "markdown",
   "metadata": {},
   "source": [
    "Saving result to parquet file:"
   ]
  },
  {
   "cell_type": "code",
   "execution_count": 23,
   "metadata": {},
   "outputs": [],
   "source": [
    "#Algeria_CB_df.to_parquet('../results/forecasting_results/forecast_with_all_data_algeria.parquet')"
   ]
  },
  {
   "cell_type": "markdown",
   "metadata": {},
   "source": [
    "## Test country 2, Belgium"
   ]
  },
  {
   "cell_type": "code",
   "execution_count": 24,
   "metadata": {},
   "outputs": [],
   "source": [
    "training_2_df = df[(df.index.date >= datetime.date(2020, 3, 1)) & \n",
    "                    (df.index.date <= datetime.date(2020, 9, 9))].copy()"
   ]
  },
  {
   "cell_type": "code",
   "execution_count": 25,
   "metadata": {},
   "outputs": [],
   "source": [
    "# Generate model\n",
    "feature_list = ['Country','Month','Day','prev_case']\n",
    "params= {'iterations': 5000, 'silent': True}\n",
    "model = CatBoostRegressor(**params)\n",
    "Belgium_CB_df = forecast(model=model, training_df=training_2_df.copy(), \n",
    "                                                             test_df=test_2_df.copy(),\n",
    "                                                             feature_list=feature_list)"
   ]
  },
  {
   "cell_type": "code",
   "execution_count": 26,
   "metadata": {},
   "outputs": [],
   "source": [
    "Belgium_CB_df = accumulated_dataframe_column(Belgium_df,Belgium_CB_df)"
   ]
  },
  {
   "cell_type": "code",
   "execution_count": 27,
   "metadata": {},
   "outputs": [
    {
     "data": {
      "text/html": [
       "<div>\n",
       "<style scoped>\n",
       "    .dataframe tbody tr th:only-of-type {\n",
       "        vertical-align: middle;\n",
       "    }\n",
       "\n",
       "    .dataframe tbody tr th {\n",
       "        vertical-align: top;\n",
       "    }\n",
       "\n",
       "    .dataframe thead th {\n",
       "        text-align: right;\n",
       "    }\n",
       "</style>\n",
       "<table border=\"1\" class=\"dataframe\">\n",
       "  <thead>\n",
       "    <tr style=\"text-align: right;\">\n",
       "      <th></th>\n",
       "      <th>Cases</th>\n",
       "      <th>Country</th>\n",
       "      <th>cases_tot</th>\n",
       "      <th>Month</th>\n",
       "      <th>Day</th>\n",
       "      <th>Weekend</th>\n",
       "      <th>prev_case</th>\n",
       "      <th>Predicted</th>\n",
       "      <th>Accumulated_Prediction</th>\n",
       "    </tr>\n",
       "    <tr>\n",
       "      <th>Date</th>\n",
       "      <th></th>\n",
       "      <th></th>\n",
       "      <th></th>\n",
       "      <th></th>\n",
       "      <th></th>\n",
       "      <th></th>\n",
       "      <th></th>\n",
       "      <th></th>\n",
       "      <th></th>\n",
       "    </tr>\n",
       "  </thead>\n",
       "  <tbody>\n",
       "    <tr>\n",
       "      <th>2020-09-10</th>\n",
       "      <td>1023.0</td>\n",
       "      <td>Belgium</td>\n",
       "      <td>91868.0</td>\n",
       "      <td>9</td>\n",
       "      <td>3</td>\n",
       "      <td>0.0</td>\n",
       "      <td>872.0</td>\n",
       "      <td>869.964365</td>\n",
       "      <td>91714</td>\n",
       "    </tr>\n",
       "    <tr>\n",
       "      <th>2020-09-11</th>\n",
       "      <td>1141.0</td>\n",
       "      <td>Belgium</td>\n",
       "      <td>93009.0</td>\n",
       "      <td>9</td>\n",
       "      <td>4</td>\n",
       "      <td>0.0</td>\n",
       "      <td>1023.0</td>\n",
       "      <td>1008.837752</td>\n",
       "      <td>92722</td>\n",
       "    </tr>\n",
       "    <tr>\n",
       "      <th>2020-09-12</th>\n",
       "      <td>1281.0</td>\n",
       "      <td>Belgium</td>\n",
       "      <td>94290.0</td>\n",
       "      <td>9</td>\n",
       "      <td>5</td>\n",
       "      <td>1.0</td>\n",
       "      <td>1141.0</td>\n",
       "      <td>1041.135059</td>\n",
       "      <td>93763</td>\n",
       "    </tr>\n",
       "    <tr>\n",
       "      <th>2020-09-13</th>\n",
       "      <td>610.0</td>\n",
       "      <td>Belgium</td>\n",
       "      <td>94900.0</td>\n",
       "      <td>9</td>\n",
       "      <td>6</td>\n",
       "      <td>1.0</td>\n",
       "      <td>1281.0</td>\n",
       "      <td>1208.121776</td>\n",
       "      <td>94971</td>\n",
       "    </tr>\n",
       "    <tr>\n",
       "      <th>2020-09-14</th>\n",
       "      <td>296.0</td>\n",
       "      <td>Belgium</td>\n",
       "      <td>95196.0</td>\n",
       "      <td>9</td>\n",
       "      <td>0</td>\n",
       "      <td>0.0</td>\n",
       "      <td>610.0</td>\n",
       "      <td>477.147674</td>\n",
       "      <td>95448</td>\n",
       "    </tr>\n",
       "    <tr>\n",
       "      <th>2020-09-15</th>\n",
       "      <td>1625.0</td>\n",
       "      <td>Belgium</td>\n",
       "      <td>96821.0</td>\n",
       "      <td>9</td>\n",
       "      <td>1</td>\n",
       "      <td>0.0</td>\n",
       "      <td>296.0</td>\n",
       "      <td>476.261555</td>\n",
       "      <td>95924</td>\n",
       "    </tr>\n",
       "    <tr>\n",
       "      <th>2020-09-16</th>\n",
       "      <td>898.0</td>\n",
       "      <td>Belgium</td>\n",
       "      <td>97719.0</td>\n",
       "      <td>9</td>\n",
       "      <td>2</td>\n",
       "      <td>0.0</td>\n",
       "      <td>1625.0</td>\n",
       "      <td>1568.877228</td>\n",
       "      <td>97492</td>\n",
       "    </tr>\n",
       "    <tr>\n",
       "      <th>2020-09-17</th>\n",
       "      <td>163.0</td>\n",
       "      <td>Belgium</td>\n",
       "      <td>97882.0</td>\n",
       "      <td>9</td>\n",
       "      <td>3</td>\n",
       "      <td>0.0</td>\n",
       "      <td>898.0</td>\n",
       "      <td>881.724669</td>\n",
       "      <td>98373</td>\n",
       "    </tr>\n",
       "  </tbody>\n",
       "</table>\n",
       "</div>"
      ],
      "text/plain": [
       "             Cases  Country  cases_tot  Month  Day  Weekend  prev_case  \\\n",
       "Date                                                                     \n",
       "2020-09-10  1023.0  Belgium    91868.0      9    3      0.0      872.0   \n",
       "2020-09-11  1141.0  Belgium    93009.0      9    4      0.0     1023.0   \n",
       "2020-09-12  1281.0  Belgium    94290.0      9    5      1.0     1141.0   \n",
       "2020-09-13   610.0  Belgium    94900.0      9    6      1.0     1281.0   \n",
       "2020-09-14   296.0  Belgium    95196.0      9    0      0.0      610.0   \n",
       "2020-09-15  1625.0  Belgium    96821.0      9    1      0.0      296.0   \n",
       "2020-09-16   898.0  Belgium    97719.0      9    2      0.0     1625.0   \n",
       "2020-09-17   163.0  Belgium    97882.0      9    3      0.0      898.0   \n",
       "\n",
       "              Predicted  Accumulated_Prediction  \n",
       "Date                                             \n",
       "2020-09-10   869.964365                   91714  \n",
       "2020-09-11  1008.837752                   92722  \n",
       "2020-09-12  1041.135059                   93763  \n",
       "2020-09-13  1208.121776                   94971  \n",
       "2020-09-14   477.147674                   95448  \n",
       "2020-09-15   476.261555                   95924  \n",
       "2020-09-16  1568.877228                   97492  \n",
       "2020-09-17   881.724669                   98373  "
      ]
     },
     "execution_count": 27,
     "metadata": {},
     "output_type": "execute_result"
    }
   ],
   "source": [
    "Belgium_CB_df"
   ]
  },
  {
   "cell_type": "markdown",
   "metadata": {},
   "source": [
    "Plot of true vs predicted when comparing cases per day and predicted cases per day:"
   ]
  },
  {
   "cell_type": "code",
   "execution_count": 28,
   "metadata": {},
   "outputs": [
    {
     "data": {
      "text/plain": [
       "Text(0, 0.5, 'Cases')"
      ]
     },
     "execution_count": 28,
     "metadata": {},
     "output_type": "execute_result"
    },
    {
     "data": {
      "text/plain": [
       "<Figure size 432x288 with 0 Axes>"
      ]
     },
     "metadata": {},
     "output_type": "display_data"
    },
    {
     "data": {
      "image/png": "[encoded data removed]",
      "text/plain": [
       "<Figure size 792x360 with 1 Axes>"
      ]
     },
     "metadata": {
      "needs_background": "light"
     },
     "output_type": "display_data"
    }
   ],
   "source": [
    "fig = plt.figure()\n",
    "Belgium_CB_df.plot( y=['Predicted', 'Cases'], label=['Predicted','True'], color=['red','black'], figsize=(11,5))\n",
    "plt.ylabel('Cases')"
   ]
  },
  {
   "cell_type": "markdown",
   "metadata": {},
   "source": [
    "Plot of true vs. predicted when comparing total cases and accumulated prediction:"
   ]
  },
  {
   "cell_type": "code",
   "execution_count": 29,
   "metadata": {},
   "outputs": [
    {
     "data": {
      "text/plain": [
       "<Figure size 432x288 with 0 Axes>"
      ]
     },
     "metadata": {},
     "output_type": "display_data"
    },
    {
     "data": {
      "image/png": "[encoded data removed]",
      "text/plain": [
       "<Figure size 792x360 with 1 Axes>"
      ]
     },
     "metadata": {
      "needs_background": "light"
     },
     "output_type": "display_data"
    }
   ],
   "source": [
    "fig = plt.figure()\n",
    "Belgium_CB_df.plot( y=['Accumulated_Prediction', 'cases_tot'], label=['Predicted','True'], color=['red','black'],figsize=(11,5))\n",
    "plt.ylabel('Cases')\n",
    "#plt.savefig(\"Belgium_all_data\", bbox_inches='tight')"
   ]
  },
  {
   "cell_type": "code",
   "execution_count": 30,
   "metadata": {},
   "outputs": [
    {
     "data": {
      "text/plain": [
       "0.3794"
      ]
     },
     "execution_count": 30,
     "metadata": {},
     "output_type": "execute_result"
    }
   ],
   "source": [
    "round(MAPE(Belgium_CB_df,'cases_tot','Accumulated_Prediction'),4)"
   ]
  },
  {
   "cell_type": "markdown",
   "metadata": {},
   "source": [
    "Saving result to parquet file:"
   ]
  },
  {
   "cell_type": "code",
   "execution_count": 31,
   "metadata": {},
   "outputs": [],
   "source": [
    "#Belgium_CB_df.to_parquet('../results/forecasting_results/forecast_with_all_data_belgium.parquet')"
   ]
  },
  {
   "cell_type": "markdown",
   "metadata": {},
   "source": [
    "## Test country 3, Bangladesh"
   ]
  },
  {
   "cell_type": "code",
   "execution_count": 32,
   "metadata": {},
   "outputs": [],
   "source": [
    "training_3_df = df[(df.index.date >= datetime.date(2020, 3, 1)) & \n",
    "                    (df.index.date <= datetime.date(2020, 9, 9))].copy()"
   ]
  },
  {
   "cell_type": "code",
   "execution_count": 33,
   "metadata": {},
   "outputs": [],
   "source": [
    "# Generate model\n",
    "feature_list = ['Country','Month','Day','prev_case']\n",
    "params= {'iterations': 5000, 'silent': True}\n",
    "model = CatBoostRegressor(**params)\n",
    "Bangladesh_CB_df = forecast(model=model, training_df=training_3_df.copy(), \n",
    "                                                             test_df=test_3_df.copy(),\n",
    "                                                             feature_list=feature_list)\n",
    "\n"
   ]
  },
  {
   "cell_type": "code",
   "execution_count": 34,
   "metadata": {},
   "outputs": [],
   "source": [
    "Bangladesh_CB_df = accumulated_dataframe_column(Bangladesh_df,Bangladesh_CB_df)"
   ]
  },
  {
   "cell_type": "code",
   "execution_count": 35,
   "metadata": {},
   "outputs": [
    {
     "data": {
      "text/html": [
       "<div>\n",
       "<style scoped>\n",
       "    .dataframe tbody tr th:only-of-type {\n",
       "        vertical-align: middle;\n",
       "    }\n",
       "\n",
       "    .dataframe tbody tr th {\n",
       "        vertical-align: top;\n",
       "    }\n",
       "\n",
       "    .dataframe thead th {\n",
       "        text-align: right;\n",
       "    }\n",
       "</style>\n",
       "<table border=\"1\" class=\"dataframe\">\n",
       "  <thead>\n",
       "    <tr style=\"text-align: right;\">\n",
       "      <th></th>\n",
       "      <th>Cases</th>\n",
       "      <th>Country</th>\n",
       "      <th>cases_tot</th>\n",
       "      <th>Month</th>\n",
       "      <th>Day</th>\n",
       "      <th>Weekend</th>\n",
       "      <th>prev_case</th>\n",
       "      <th>Predicted</th>\n",
       "      <th>Accumulated_Prediction</th>\n",
       "    </tr>\n",
       "    <tr>\n",
       "      <th>Date</th>\n",
       "      <th></th>\n",
       "      <th></th>\n",
       "      <th></th>\n",
       "      <th></th>\n",
       "      <th></th>\n",
       "      <th></th>\n",
       "      <th></th>\n",
       "      <th></th>\n",
       "      <th></th>\n",
       "    </tr>\n",
       "  </thead>\n",
       "  <tbody>\n",
       "    <tr>\n",
       "      <th>2020-09-10</th>\n",
       "      <td>1827.0</td>\n",
       "      <td>Bangladesh</td>\n",
       "      <td>331078.0</td>\n",
       "      <td>9</td>\n",
       "      <td>3</td>\n",
       "      <td>0.0</td>\n",
       "      <td>1892.0</td>\n",
       "      <td>2126.630095</td>\n",
       "      <td>331377</td>\n",
       "    </tr>\n",
       "    <tr>\n",
       "      <th>2020-09-11</th>\n",
       "      <td>1892.0</td>\n",
       "      <td>Bangladesh</td>\n",
       "      <td>332970.0</td>\n",
       "      <td>9</td>\n",
       "      <td>4</td>\n",
       "      <td>0.0</td>\n",
       "      <td>1827.0</td>\n",
       "      <td>1981.490455</td>\n",
       "      <td>333358</td>\n",
       "    </tr>\n",
       "    <tr>\n",
       "      <th>2020-09-12</th>\n",
       "      <td>1792.0</td>\n",
       "      <td>Bangladesh</td>\n",
       "      <td>334762.0</td>\n",
       "      <td>9</td>\n",
       "      <td>5</td>\n",
       "      <td>1.0</td>\n",
       "      <td>1892.0</td>\n",
       "      <td>1903.535301</td>\n",
       "      <td>335261</td>\n",
       "    </tr>\n",
       "    <tr>\n",
       "      <th>2020-09-13</th>\n",
       "      <td>1282.0</td>\n",
       "      <td>Bangladesh</td>\n",
       "      <td>336044.0</td>\n",
       "      <td>9</td>\n",
       "      <td>6</td>\n",
       "      <td>1.0</td>\n",
       "      <td>1792.0</td>\n",
       "      <td>1736.323114</td>\n",
       "      <td>336997</td>\n",
       "    </tr>\n",
       "    <tr>\n",
       "      <th>2020-09-14</th>\n",
       "      <td>1476.0</td>\n",
       "      <td>Bangladesh</td>\n",
       "      <td>337520.0</td>\n",
       "      <td>9</td>\n",
       "      <td>0</td>\n",
       "      <td>0.0</td>\n",
       "      <td>1282.0</td>\n",
       "      <td>1284.748762</td>\n",
       "      <td>338281</td>\n",
       "    </tr>\n",
       "    <tr>\n",
       "      <th>2020-09-15</th>\n",
       "      <td>1812.0</td>\n",
       "      <td>Bangladesh</td>\n",
       "      <td>339332.0</td>\n",
       "      <td>9</td>\n",
       "      <td>1</td>\n",
       "      <td>0.0</td>\n",
       "      <td>1476.0</td>\n",
       "      <td>1729.270870</td>\n",
       "      <td>340010</td>\n",
       "    </tr>\n",
       "    <tr>\n",
       "      <th>2020-09-16</th>\n",
       "      <td>1724.0</td>\n",
       "      <td>Bangladesh</td>\n",
       "      <td>341056.0</td>\n",
       "      <td>9</td>\n",
       "      <td>2</td>\n",
       "      <td>0.0</td>\n",
       "      <td>1812.0</td>\n",
       "      <td>2009.202774</td>\n",
       "      <td>342019</td>\n",
       "    </tr>\n",
       "    <tr>\n",
       "      <th>2020-09-17</th>\n",
       "      <td>1615.0</td>\n",
       "      <td>Bangladesh</td>\n",
       "      <td>342671.0</td>\n",
       "      <td>9</td>\n",
       "      <td>3</td>\n",
       "      <td>0.0</td>\n",
       "      <td>1724.0</td>\n",
       "      <td>1901.906773</td>\n",
       "      <td>343920</td>\n",
       "    </tr>\n",
       "  </tbody>\n",
       "</table>\n",
       "</div>"
      ],
      "text/plain": [
       "             Cases     Country  cases_tot  Month  Day  Weekend  prev_case  \\\n",
       "Date                                                                        \n",
       "2020-09-10  1827.0  Bangladesh   331078.0      9    3      0.0     1892.0   \n",
       "2020-09-11  1892.0  Bangladesh   332970.0      9    4      0.0     1827.0   \n",
       "2020-09-12  1792.0  Bangladesh   334762.0      9    5      1.0     1892.0   \n",
       "2020-09-13  1282.0  Bangladesh   336044.0      9    6      1.0     1792.0   \n",
       "2020-09-14  1476.0  Bangladesh   337520.0      9    0      0.0     1282.0   \n",
       "2020-09-15  1812.0  Bangladesh   339332.0      9    1      0.0     1476.0   \n",
       "2020-09-16  1724.0  Bangladesh   341056.0      9    2      0.0     1812.0   \n",
       "2020-09-17  1615.0  Bangladesh   342671.0      9    3      0.0     1724.0   \n",
       "\n",
       "              Predicted  Accumulated_Prediction  \n",
       "Date                                             \n",
       "2020-09-10  2126.630095                  331377  \n",
       "2020-09-11  1981.490455                  333358  \n",
       "2020-09-12  1903.535301                  335261  \n",
       "2020-09-13  1736.323114                  336997  \n",
       "2020-09-14  1284.748762                  338281  \n",
       "2020-09-15  1729.270870                  340010  \n",
       "2020-09-16  2009.202774                  342019  \n",
       "2020-09-17  1901.906773                  343920  "
      ]
     },
     "execution_count": 35,
     "metadata": {},
     "output_type": "execute_result"
    }
   ],
   "source": [
    "Bangladesh_CB_df"
   ]
  },
  {
   "cell_type": "markdown",
   "metadata": {},
   "source": [
    "Plot of true vs predicted when comparing cases per day and predicted cases per day:"
   ]
  },
  {
   "cell_type": "code",
   "execution_count": 36,
   "metadata": {},
   "outputs": [
    {
     "data": {
      "text/plain": [
       "Text(0, 0.5, 'Cases')"
      ]
     },
     "execution_count": 36,
     "metadata": {},
     "output_type": "execute_result"
    },
    {
     "data": {
      "text/plain": [
       "<Figure size 432x288 with 0 Axes>"
      ]
     },
     "metadata": {},
     "output_type": "display_data"
    },
    {
     "data": {
      "image/png": "[encoded data removed]",
      "text/plain": [
       "<Figure size 792x360 with 1 Axes>"
      ]
     },
     "metadata": {
      "needs_background": "light"
     },
     "output_type": "display_data"
    }
   ],
   "source": [
    "fig = plt.figure()\n",
    "Bangladesh_CB_df.plot( y=['Predicted', 'Cases'], label=['Predicted','True'], color=['red','black'], figsize=(11,5))\n",
    "plt.ylabel('Cases')"
   ]
  },
  {
   "cell_type": "markdown",
   "metadata": {},
   "source": [
    "Plot of true vs. predicted when comparing total cases and accumulated prediction:"
   ]
  },
  {
   "cell_type": "code",
   "execution_count": 37,
   "metadata": {},
   "outputs": [
    {
     "data": {
      "text/plain": [
       "Text(0, 0.5, 'Cases')"
      ]
     },
     "execution_count": 37,
     "metadata": {},
     "output_type": "execute_result"
    },
    {
     "data": {
      "text/plain": [
       "<Figure size 432x288 with 0 Axes>"
      ]
     },
     "metadata": {},
     "output_type": "display_data"
    },
    {
     "data": {
      "image/png": "[encoded data removed]",
      "text/plain": [
       "<Figure size 792x360 with 1 Axes>"
      ]
     },
     "metadata": {
      "needs_background": "light"
     },
     "output_type": "display_data"
    }
   ],
   "source": [
    "fig = plt.figure()\n",
    "Bangladesh_CB_df.plot( y=['Accumulated_Prediction', 'cases_tot'], label=['Predicted','True'], color=['red','black'],figsize=(11,5))\n",
    "plt.ylabel('Cases')\n",
    "#plt.savefig(\"Bangladesh_all_data\", bbox_inches='tight')"
   ]
  },
  {
   "cell_type": "code",
   "execution_count": 38,
   "metadata": {},
   "outputs": [
    {
     "data": {
      "text/plain": [
       "0.214"
      ]
     },
     "execution_count": 38,
     "metadata": {},
     "output_type": "execute_result"
    }
   ],
   "source": [
    "round(MAPE(Bangladesh_CB_df,'cases_tot','Accumulated_Prediction'),4)"
   ]
  },
  {
   "cell_type": "markdown",
   "metadata": {},
   "source": [
    "Saving result to parquet file:"
   ]
  },
  {
   "cell_type": "code",
   "execution_count": 39,
   "metadata": {},
   "outputs": [],
   "source": [
    "#Bangladesh_CB_df.to_parquet('../results/forecasting_results/forecast_with_all_data_bangladesh.parquet')"
   ]
  },
  {
   "cell_type": "markdown",
   "metadata": {},
   "source": [
    "## Test country 4, Croatia"
   ]
  },
  {
   "cell_type": "code",
   "execution_count": 40,
   "metadata": {},
   "outputs": [],
   "source": [
    "training_4_df = df[(df.index.date >= datetime.date(2020, 3, 1)) & \n",
    "                    (df.index.date <= datetime.date(2020, 9, 9))].copy()"
   ]
  },
  {
   "cell_type": "code",
   "execution_count": 41,
   "metadata": {},
   "outputs": [],
   "source": [
    "# Generate model\n",
    "feature_list = ['Country','Month','Day','prev_case']\n",
    "params= {'iterations': 5000, 'silent': True}\n",
    "model = CatBoostRegressor(**params)\n",
    "Croatia_CB_df = forecast(model=model, training_df=training_4_df.copy(), \n",
    "                                                             test_df=test_4_df.copy(),\n",
    "                                                             feature_list=feature_list)"
   ]
  },
  {
   "cell_type": "code",
   "execution_count": 42,
   "metadata": {},
   "outputs": [],
   "source": [
    "Croatia_CB_df = accumulated_dataframe_column(Croatia_df,Croatia_CB_df)"
   ]
  },
  {
   "cell_type": "code",
   "execution_count": 43,
   "metadata": {},
   "outputs": [
    {
     "data": {
      "text/html": [
       "<div>\n",
       "<style scoped>\n",
       "    .dataframe tbody tr th:only-of-type {\n",
       "        vertical-align: middle;\n",
       "    }\n",
       "\n",
       "    .dataframe tbody tr th {\n",
       "        vertical-align: top;\n",
       "    }\n",
       "\n",
       "    .dataframe thead th {\n",
       "        text-align: right;\n",
       "    }\n",
       "</style>\n",
       "<table border=\"1\" class=\"dataframe\">\n",
       "  <thead>\n",
       "    <tr style=\"text-align: right;\">\n",
       "      <th></th>\n",
       "      <th>Cases</th>\n",
       "      <th>Country</th>\n",
       "      <th>cases_tot</th>\n",
       "      <th>Month</th>\n",
       "      <th>Day</th>\n",
       "      <th>Weekend</th>\n",
       "      <th>prev_case</th>\n",
       "      <th>Predicted</th>\n",
       "      <th>Accumulated_Prediction</th>\n",
       "    </tr>\n",
       "    <tr>\n",
       "      <th>Date</th>\n",
       "      <th></th>\n",
       "      <th></th>\n",
       "      <th></th>\n",
       "      <th></th>\n",
       "      <th></th>\n",
       "      <th></th>\n",
       "      <th></th>\n",
       "      <th></th>\n",
       "      <th></th>\n",
       "    </tr>\n",
       "  </thead>\n",
       "  <tbody>\n",
       "    <tr>\n",
       "      <th>2020-09-10</th>\n",
       "      <td>341.0</td>\n",
       "      <td>Croatia</td>\n",
       "      <td>12626.0</td>\n",
       "      <td>9</td>\n",
       "      <td>3</td>\n",
       "      <td>0.0</td>\n",
       "      <td>204.0</td>\n",
       "      <td>250.094155</td>\n",
       "      <td>12535</td>\n",
       "    </tr>\n",
       "    <tr>\n",
       "      <th>2020-09-11</th>\n",
       "      <td>291.0</td>\n",
       "      <td>Croatia</td>\n",
       "      <td>12917.0</td>\n",
       "      <td>9</td>\n",
       "      <td>4</td>\n",
       "      <td>0.0</td>\n",
       "      <td>341.0</td>\n",
       "      <td>413.708907</td>\n",
       "      <td>12948</td>\n",
       "    </tr>\n",
       "    <tr>\n",
       "      <th>2020-09-12</th>\n",
       "      <td>190.0</td>\n",
       "      <td>Croatia</td>\n",
       "      <td>13107.0</td>\n",
       "      <td>9</td>\n",
       "      <td>5</td>\n",
       "      <td>1.0</td>\n",
       "      <td>291.0</td>\n",
       "      <td>219.602410</td>\n",
       "      <td>13167</td>\n",
       "    </tr>\n",
       "    <tr>\n",
       "      <th>2020-09-13</th>\n",
       "      <td>261.0</td>\n",
       "      <td>Croatia</td>\n",
       "      <td>13368.0</td>\n",
       "      <td>9</td>\n",
       "      <td>6</td>\n",
       "      <td>1.0</td>\n",
       "      <td>190.0</td>\n",
       "      <td>240.047198</td>\n",
       "      <td>13407</td>\n",
       "    </tr>\n",
       "    <tr>\n",
       "      <th>2020-09-14</th>\n",
       "      <td>165.0</td>\n",
       "      <td>Croatia</td>\n",
       "      <td>13533.0</td>\n",
       "      <td>9</td>\n",
       "      <td>0</td>\n",
       "      <td>0.0</td>\n",
       "      <td>261.0</td>\n",
       "      <td>142.693039</td>\n",
       "      <td>13549</td>\n",
       "    </tr>\n",
       "    <tr>\n",
       "      <th>2020-09-15</th>\n",
       "      <td>65.0</td>\n",
       "      <td>Croatia</td>\n",
       "      <td>13598.0</td>\n",
       "      <td>9</td>\n",
       "      <td>1</td>\n",
       "      <td>0.0</td>\n",
       "      <td>165.0</td>\n",
       "      <td>283.379278</td>\n",
       "      <td>13832</td>\n",
       "    </tr>\n",
       "    <tr>\n",
       "      <th>2020-09-16</th>\n",
       "      <td>151.0</td>\n",
       "      <td>Croatia</td>\n",
       "      <td>13749.0</td>\n",
       "      <td>9</td>\n",
       "      <td>2</td>\n",
       "      <td>0.0</td>\n",
       "      <td>65.0</td>\n",
       "      <td>73.424594</td>\n",
       "      <td>13905</td>\n",
       "    </tr>\n",
       "    <tr>\n",
       "      <th>2020-09-17</th>\n",
       "      <td>280.0</td>\n",
       "      <td>Croatia</td>\n",
       "      <td>14029.0</td>\n",
       "      <td>9</td>\n",
       "      <td>3</td>\n",
       "      <td>0.0</td>\n",
       "      <td>151.0</td>\n",
       "      <td>199.698884</td>\n",
       "      <td>14104</td>\n",
       "    </tr>\n",
       "  </tbody>\n",
       "</table>\n",
       "</div>"
      ],
      "text/plain": [
       "            Cases  Country  cases_tot  Month  Day  Weekend  prev_case  \\\n",
       "Date                                                                    \n",
       "2020-09-10  341.0  Croatia    12626.0      9    3      0.0      204.0   \n",
       "2020-09-11  291.0  Croatia    12917.0      9    4      0.0      341.0   \n",
       "2020-09-12  190.0  Croatia    13107.0      9    5      1.0      291.0   \n",
       "2020-09-13  261.0  Croatia    13368.0      9    6      1.0      190.0   \n",
       "2020-09-14  165.0  Croatia    13533.0      9    0      0.0      261.0   \n",
       "2020-09-15   65.0  Croatia    13598.0      9    1      0.0      165.0   \n",
       "2020-09-16  151.0  Croatia    13749.0      9    2      0.0       65.0   \n",
       "2020-09-17  280.0  Croatia    14029.0      9    3      0.0      151.0   \n",
       "\n",
       "             Predicted  Accumulated_Prediction  \n",
       "Date                                            \n",
       "2020-09-10  250.094155                   12535  \n",
       "2020-09-11  413.708907                   12948  \n",
       "2020-09-12  219.602410                   13167  \n",
       "2020-09-13  240.047198                   13407  \n",
       "2020-09-14  142.693039                   13549  \n",
       "2020-09-15  283.379278                   13832  \n",
       "2020-09-16   73.424594                   13905  \n",
       "2020-09-17  199.698884                   14104  "
      ]
     },
     "execution_count": 43,
     "metadata": {},
     "output_type": "execute_result"
    }
   ],
   "source": [
    "Croatia_CB_df"
   ]
  },
  {
   "cell_type": "markdown",
   "metadata": {},
   "source": [
    "Plot of true vs predicted when comparing cases per day and predicted cases per day:"
   ]
  },
  {
   "cell_type": "code",
   "execution_count": 44,
   "metadata": {},
   "outputs": [
    {
     "data": {
      "text/plain": [
       "Text(0, 0.5, 'Cases')"
      ]
     },
     "execution_count": 44,
     "metadata": {},
     "output_type": "execute_result"
    },
    {
     "data": {
      "text/plain": [
       "<Figure size 432x288 with 0 Axes>"
      ]
     },
     "metadata": {},
     "output_type": "display_data"
    },
    {
     "data": {
      "image/png": "[encoded data removed]",
      "text/plain": [
       "<Figure size 792x360 with 1 Axes>"
      ]
     },
     "metadata": {
      "needs_background": "light"
     },
     "output_type": "display_data"
    }
   ],
   "source": [
    "fig = plt.figure()\n",
    "Croatia_CB_df.plot( y=['Predicted', 'Cases'], label=['Predicted','True'], color=['red','black'], figsize=(11,5))\n",
    "plt.ylabel('Cases')"
   ]
  },
  {
   "cell_type": "markdown",
   "metadata": {},
   "source": [
    "Plot of true vs. predicted when comparing total cases and accumulated prediction:"
   ]
  },
  {
   "cell_type": "code",
   "execution_count": 45,
   "metadata": {},
   "outputs": [
    {
     "data": {
      "text/plain": [
       "Text(0, 0.5, 'Cases')"
      ]
     },
     "execution_count": 45,
     "metadata": {},
     "output_type": "execute_result"
    },
    {
     "data": {
      "text/plain": [
       "<Figure size 432x288 with 0 Axes>"
      ]
     },
     "metadata": {},
     "output_type": "display_data"
    },
    {
     "data": {
      "image/png": "[encoded data removed]",
      "text/plain": [
       "<Figure size 792x360 with 1 Axes>"
      ]
     },
     "metadata": {
      "needs_background": "light"
     },
     "output_type": "display_data"
    }
   ],
   "source": [
    "fig = plt.figure()\n",
    "Croatia_CB_df.plot( y=['Accumulated_Prediction', 'cases_tot'], label=['Predicted','True'], color=['red','black'],figsize=(11,5))\n",
    "plt.ylabel('Cases')\n",
    "#plt.savefig(\"Croatia_all_data\", bbox_inches='tight')"
   ]
  },
  {
   "cell_type": "code",
   "execution_count": 46,
   "metadata": {},
   "outputs": [
    {
     "data": {
      "text/plain": [
       "0.6523"
      ]
     },
     "execution_count": 46,
     "metadata": {},
     "output_type": "execute_result"
    }
   ],
   "source": [
    "round(MAPE(Croatia_CB_df,'cases_tot','Accumulated_Prediction'),4)"
   ]
  },
  {
   "cell_type": "markdown",
   "metadata": {},
   "source": [
    "Saving result to parquet file:"
   ]
  },
  {
   "cell_type": "code",
   "execution_count": 47,
   "metadata": {},
   "outputs": [],
   "source": [
    "#Croatia_CB_df.to_parquet('../results/forecasting_results/forecast_with_all_data_croatia.parquet')"
   ]
  },
  {
   "cell_type": "markdown",
   "metadata": {},
   "source": [
    "## Summary:"
   ]
  },
  {
   "cell_type": "code",
   "execution_count": 48,
   "metadata": {},
   "outputs": [
    {
     "data": {
      "text/html": [
       "<table>\n",
       "<tbody>\n",
       "<tr><td>Test Country:</td><td>MAPE: </td></tr>\n",
       "<tr><td>Algeria      </td><td>0.0809</td></tr>\n",
       "<tr><td>Belgium      </td><td>0.3794</td></tr>\n",
       "<tr><td>Bangladesh   </td><td>0.214 </td></tr>\n",
       "<tr><td>Croatia      </td><td>0.6523</td></tr>\n",
       "<tr><td>Total MAPE:  </td><td>1.3265</td></tr>\n",
       "</tbody>\n",
       "</table>"
      ],
      "text/plain": [
       "<IPython.core.display.HTML object>"
      ]
     },
     "metadata": {},
     "output_type": "display_data"
    }
   ],
   "source": [
    "table = [[\"Test Country:\", \"MAPE:\"],\n",
    "        [\"Algeria\",round(MAPE(Algeria_CB_df,'cases_tot','Accumulated_Prediction'),4)],\n",
    "        [\"Belgium\",round(MAPE(Belgium_CB_df,'cases_tot','Accumulated_Prediction'),4)],\n",
    "        [\"Bangladesh\",round(MAPE(Bangladesh_CB_df,'cases_tot','Accumulated_Prediction'),4)],\n",
    "        [\"Croatia\",round(MAPE(Croatia_CB_df,'cases_tot','Accumulated_Prediction'),4)],\n",
    "        [\"Total MAPE:\",round(MAPE(Algeria_CB_df,'cases_tot','Accumulated_Prediction')+\n",
    "                       MAPE(Croatia_CB_df,'cases_tot','Accumulated_Prediction')+\n",
    "                       MAPE(Belgium_CB_df,'cases_tot','Accumulated_Prediction')+\n",
    "                       MAPE(Bangladesh_CB_df,'cases_tot','Accumulated_Prediction'),4)]]\n",
    "\n",
    "display(HTML(tabulate.tabulate(table, tablefmt='html')))"
   ]
  }
 ],
 "metadata": {
  "kernelspec": {
   "display_name": "Python 3",
   "language": "python",
   "name": "python3"
  },
  "language_info": {
   "codemirror_mode": {
    "name": "ipython",
    "version": 3
   },
   "file_extension": ".py",
   "mimetype": "text/x-python",
   "name": "python",
   "nbconvert_exporter": "python",
   "pygments_lexer": "ipython3",
   "version": "3.8.3"
  }
 },
 "nbformat": 4,
 "nbformat_minor": 4
}
