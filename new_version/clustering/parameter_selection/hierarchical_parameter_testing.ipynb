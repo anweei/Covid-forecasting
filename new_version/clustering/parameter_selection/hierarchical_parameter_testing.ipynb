{
 "cells": [
  {
   "cell_type": "code",
   "execution_count": 1,
   "metadata": {},
   "outputs": [],
   "source": [
    "import pandas as pd\n",
    "import matplotlib.pyplot as plt\n",
    "from sklearn.cluster import AgglomerativeClustering\n",
    "import numpy as np\n",
    "from catboost import CatBoostRegressor\n",
    "import datetime\n",
    "from sklearn import preprocessing\n",
    "from matplotlib import pyplot as plt"
   ]
  },
  {
   "cell_type": "code",
   "execution_count": 2,
   "metadata": {},
   "outputs": [],
   "source": [
    "import warnings\n",
    "warnings.filterwarnings('ignore')"
   ]
  },
  {
   "cell_type": "code",
   "execution_count": 3,
   "metadata": {},
   "outputs": [],
   "source": [
    "def predict_horizon(model, training_df, test_df, feature_list, num_predictions=8):\n",
    "    start_period = 0\n",
    "    end_period = num_predictions\n",
    "    prediction_list = []\n",
    "    \n",
    "    # We generate an encoder for ns feature\n",
    "    if 'Country' in feature_list:\n",
    "        ns_encoder = preprocessing.LabelEncoder()\n",
    "        training_df['Country'] =  ns_encoder.fit_transform(training_df['Country'])\n",
    "    \n",
    "    x_training_df = training_df[feature_list].copy()\n",
    "    y_training_df = training_df['Cases'].copy().to_frame()\n",
    "    model.fit(x_training_df, np.ravel(y_training_df))\n",
    "    \n",
    "    # Predicting on test set, while end period is not equal to end of length of test_df\n",
    "    while end_period <= len(test_df):\n",
    "        # Collect features from start to end (67 hours) and predict\n",
    "        features_df = test_df[feature_list][start_period:end_period].copy()\n",
    "        if 'Country' in feature_list:\n",
    "            features_df['Country'] = ns_encoder.transform(features_df['Country'])\n",
    "        true_df = test_df[['Cases']][start_period:end_period].copy()\n",
    "        predictions = model.predict(features_df)\n",
    "       \n",
    "        # Add the predicted data\n",
    "        predicted_df = pd.DataFrame(predictions, columns=['predicted'])\n",
    "        predicted_df.index = true_df.index.copy()        \n",
    "        prediction_list.extend(predictions)\n",
    "        # Move to next period\n",
    "        start_period += 1\n",
    "        end_period += 1\n",
    "    \n",
    "    test_df = test_df.assign(Predicted=prediction_list)\n",
    "    return test_df\n"
   ]
  },
  {
   "cell_type": "code",
   "execution_count": 4,
   "metadata": {},
   "outputs": [],
   "source": [
    "def MAPE(df,true_column,pred_column):\n",
    "    true_list = df[true_column].to_numpy()\n",
    "    pred_list = df[pred_column].to_numpy()\n",
    "\n",
    "    return np.mean(np.abs((true_list - pred_list) / true_list)) * 100"
   ]
  },
  {
   "cell_type": "code",
   "execution_count": 5,
   "metadata": {},
   "outputs": [],
   "source": [
    "def true_predicted_fig(true_df, predicted_df, title_str):\n",
    "    fig,ax = plt.subplots(figsize=[12,4])\n",
    "    p_t_max = np.max(np.maximum(true_df[:8]['Cases'].values,predicted_df[:8]['Predicted'].values))\n",
    "    p_t_min = np.min(np.minimum(true_df[:8]['Cases'].values,predicted_df[:8]['Predicted'].values))\n",
    "    t1 = ax.plot(true_df.index[:8], true_df[:8]['Cases'], 'black')\n",
    "    ax.set_ylabel('Cases')\n",
    "    ax.tick_params(axis='x', rotation=45)\n",
    "    ax.set_title(title_str)\n",
    "    p1 = ax.plot(predicted_df.index[:8], predicted_df[:8]['Predicted'], 'Red', linewidth=3)\n",
    "    ax.legend((t1[0], p1[0]), ('True', 'Predicted'), loc=1, frameon=True)"
   ]
  },
  {
   "cell_type": "code",
   "execution_count": 6,
   "metadata": {},
   "outputs": [],
   "source": [
    "def accumulated_dataframe_column(df_test,cluster_CB_df):\n",
    "    test_start_value = df_test.loc[df_test.index == datetime.datetime(2020,9,9), 'cases_tot'].values[0]\n",
    "    cluster_CB_df['Accumulated_Prediction']=0\n",
    "    cluster_CB_df['Accumulated_Prediction'][0] = test_start_value + cluster_CB_df['Predicted'][0]\n",
    "    for i in range(1,len(cluster_CB_df)):\n",
    "        cluster_CB_df['Accumulated_Prediction'][i] = cluster_CB_df['Accumulated_Prediction'][i-1]+cluster_CB_df['Predicted'][i]\n",
    "    return cluster_CB_df"
   ]
  },
  {
   "cell_type": "code",
   "execution_count": 7,
   "metadata": {},
   "outputs": [],
   "source": [
    "df_z = pd.read_parquet('../../data/pre_processed/covid_cases_z_trans.parquet')"
   ]
  },
  {
   "cell_type": "code",
   "execution_count": 8,
   "metadata": {},
   "outputs": [],
   "source": [
    "hac_z = AgglomerativeClustering(n_clusters=4, affinity='cosine', linkage='single')\n",
    "hac_z= hac_z.fit(df_z.T)"
   ]
  },
  {
   "cell_type": "code",
   "execution_count": 9,
   "metadata": {},
   "outputs": [
    {
     "data": {
      "text/plain": [
       "array([0, 0, 0, 0, 0, 0, 0, 0, 0, 0, 0, 0, 0, 0, 0, 0, 0, 0, 0, 0, 0, 3,\n",
       "       0, 0, 0, 2, 0, 0, 0, 0, 0, 0, 0, 0, 0, 0, 0, 0, 0, 0, 0, 0, 0, 0,\n",
       "       1, 0, 0, 0, 0, 0, 0, 0, 0, 0, 0, 0, 0, 0, 0, 0, 0, 0, 0, 0, 0, 0,\n",
       "       0, 0, 0, 0, 0, 0, 0, 0, 0, 0, 0, 0, 0, 0, 0])"
      ]
     },
     "execution_count": 9,
     "metadata": {},
     "output_type": "execute_result"
    }
   ],
   "source": [
    "#The labels for the HAC-clustering \n",
    "labels_hac_z = hac_z.labels_\n",
    "labels_hac_z"
   ]
  },
  {
   "cell_type": "code",
   "execution_count": 10,
   "metadata": {},
   "outputs": [
    {
     "name": "stdout",
     "output_type": "stream",
     "text": [
      "HAC:\n",
      "Countries in cluster 0: 78\n",
      "Countries in cluster 1: 1\n",
      "Countries in cluster 2: 1\n",
      "Countries in cluster 3: 1\n"
     ]
    }
   ],
   "source": [
    "print(\"HAC:\")\n",
    "print(\"Countries in cluster 0:\", np.count_nonzero(labels_hac_z == 0))\n",
    "print(\"Countries in cluster 1:\", np.count_nonzero(labels_hac_z == 1))\n",
    "print(\"Countries in cluster 2:\", np.count_nonzero(labels_hac_z == 2))\n",
    "print(\"Countries in cluster 3:\", np.count_nonzero(labels_hac_z == 3))"
   ]
  },
  {
   "cell_type": "code",
   "execution_count": 11,
   "metadata": {},
   "outputs": [],
   "source": [
    "#Make a new data frame for each cluster\n",
    "df_hac_z_0 = df_z.T.loc[labels_hac_z == 0].transpose()\n",
    "df_hac_z_1 = df_z.T.loc[labels_hac_z == 1].transpose()\n",
    "df_hac_z_2 = df_z.T.loc[labels_hac_z == 2].transpose()\n",
    "df_hac_z_3 = df_z.T.loc[labels_hac_z == 3].transpose()"
   ]
  },
  {
   "cell_type": "code",
   "execution_count": 12,
   "metadata": {},
   "outputs": [
    {
     "data": {
      "text/plain": [
       "<matplotlib.axes._subplots.AxesSubplot at 0x120704070>"
      ]
     },
     "execution_count": 12,
     "metadata": {},
     "output_type": "execute_result"
    },
    {
     "data": {
      "image/png": "[encoded data removed]",
      "text/plain": [
       "<Figure size 936x504 with 4 Axes>"
      ]
     },
     "metadata": {
      "needs_background": "light"
     },
     "output_type": "display_data"
    }
   ],
   "source": [
    "#Make a figure with the four clusters\n",
    "fig, axes = plt.subplots(nrows=2, ncols=2)\n",
    "fig.set_size_inches(13, 7)\n",
    "df_hac_z_0.plot(legend='', ax=axes[0,0])\n",
    "df_hac_z_1.plot(legend='', ax=axes[0,1])\n",
    "df_hac_z_2.plot(legend='', ax=axes[1,0])\n",
    "df_hac_z_3.plot(legend='', ax=axes[1,1])"
   ]
  },
  {
   "cell_type": "markdown",
   "metadata": {},
   "source": [
    "## Selecting test countries"
   ]
  },
  {
   "cell_type": "code",
   "execution_count": 13,
   "metadata": {},
   "outputs": [],
   "source": [
    "df_forecasting = pd.read_parquet('../../data/forecasting_format/dataframe_forecasting_with_features.parquet')"
   ]
  },
  {
   "cell_type": "code",
   "execution_count": 14,
   "metadata": {},
   "outputs": [],
   "source": [
    "Algeria_df = df_forecasting [df_forecasting['Country'].isin(['Algeria'])]"
   ]
  },
  {
   "cell_type": "code",
   "execution_count": 15,
   "metadata": {},
   "outputs": [],
   "source": [
    "test_1_df =  Algeria_df[(Algeria_df.index.date > datetime.date(2020, 9, 9)) & \n",
    "                    (Algeria_df.index.date <= datetime.date(2020, 9, 17))].copy()"
   ]
  },
  {
   "cell_type": "code",
   "execution_count": 16,
   "metadata": {},
   "outputs": [],
   "source": [
    "Belgium_df = df_forecasting[df_forecasting['Country'].isin(['Belgium'])]"
   ]
  },
  {
   "cell_type": "code",
   "execution_count": 17,
   "metadata": {},
   "outputs": [],
   "source": [
    "test_2_df =  Belgium_df[(Belgium_df.index.date > datetime.date(2020, 9, 9)) & \n",
    "                    (Belgium_df.index.date <= datetime.date(2020, 9, 17))].copy()"
   ]
  },
  {
   "cell_type": "code",
   "execution_count": 18,
   "metadata": {},
   "outputs": [],
   "source": [
    "Bangladesh_df = df_forecasting[df_forecasting['Country'].isin(['Bangladesh'])]"
   ]
  },
  {
   "cell_type": "code",
   "execution_count": 19,
   "metadata": {},
   "outputs": [],
   "source": [
    "test_3_df =  Bangladesh_df[(Bangladesh_df.index.date > datetime.date(2020, 9, 9)) & \n",
    "                    (Bangladesh_df.index.date <= datetime.date(2020, 9, 17))].copy()"
   ]
  },
  {
   "cell_type": "code",
   "execution_count": 20,
   "metadata": {},
   "outputs": [],
   "source": [
    "Croatia_df = df_forecasting[df_forecasting['Country'].isin(['Croatia'])]"
   ]
  },
  {
   "cell_type": "code",
   "execution_count": 21,
   "metadata": {},
   "outputs": [],
   "source": [
    "test_4_df =  Croatia_df[(Croatia_df.index.date > datetime.date(2020, 9, 9)) & \n",
    "                    (Croatia_df.index.date <= datetime.date(2020, 9, 17))].copy()"
   ]
  },
  {
   "cell_type": "code",
   "execution_count": 22,
   "metadata": {},
   "outputs": [],
   "source": [
    "selected_clusters = []\n",
    "test_countries_not_used = []"
   ]
  },
  {
   "cell_type": "code",
   "execution_count": 23,
   "metadata": {},
   "outputs": [],
   "source": [
    "def forecasting(hac_countries_list,hac_df,country_df,test_df):\n",
    "    hac_df = df_forecasting[df_forecasting['Country'].isin(hac_countries_list)]\n",
    "    hac_training_df = hac_df[(hac_df.index.date >= datetime.date(2020, 3, 1)) & \n",
    "                    (hac_df.index.date <= datetime.date(2020, 9, 9))].copy()\n",
    "    feature_list = ['Country','Month','Day','prev_case']\n",
    "    params= {'iterations': 5000, 'silent': True}\n",
    "    model = CatBoostRegressor(**params)\n",
    "    hac_CB_df = predict_horizon(model=model, training_df=hac_training_df.copy(), \n",
    "                                                             test_df=test_df.copy(),\n",
    "                                                             feature_list=feature_list)\n",
    "    hac_CB_df = accumulated_dataframe_column(country_df,hac_CB_df)\n",
    "    return hac_CB_df"
   ]
  },
  {
   "cell_type": "markdown",
   "metadata": {},
   "source": [
    "## Hierarchical, cluster with Algeria"
   ]
  },
  {
   "cell_type": "markdown",
   "metadata": {},
   "source": [
    "Select correct cluster"
   ]
  },
  {
   "cell_type": "code",
   "execution_count": 24,
   "metadata": {},
   "outputs": [],
   "source": [
    "if 'Algeria' in df_hac_z_0.columns and 'df_hac_z_0' not in selected_clusters:\n",
    "    hac_1_df = df_hac_z_0.copy()\n",
    "    selected_clusters.append('df_hac_z_0')\n",
    "elif 'Algeria' in df_hac_z_1.columns and 'df_hac_z_1' not in selected_clusters:\n",
    "    hac_1_df = df_hac_z_1.copy()\n",
    "    selected_clusters.append('df_hac_z_1')\n",
    "elif 'Algeria' in df_hac_z_2.columns and 'df_hac_z_2' not in selected_clusters:\n",
    "    hac_1_df = df_hac_z_2.copy()\n",
    "    selected_clusters.append('df_hac_z_2')\n",
    "elif 'Algeria' in df_hac_z_3.columns and 'df_hac_z_3' not in selected_clusters:\n",
    "    hac_1_df = df_hac_z_3.copy()\n",
    "    selected_clusters.append('df_hac_z_3')\n",
    "else:\n",
    "    test_countries_not_used.append('Algeria')"
   ]
  },
  {
   "cell_type": "code",
   "execution_count": 25,
   "metadata": {},
   "outputs": [
    {
     "name": "stdout",
     "output_type": "stream",
     "text": [
      "['df_hac_z_0']\n",
      "[]\n"
     ]
    }
   ],
   "source": [
    "print(selected_clusters)\n",
    "print(test_countries_not_used)"
   ]
  },
  {
   "cell_type": "code",
   "execution_count": 26,
   "metadata": {},
   "outputs": [],
   "source": [
    "if 'Algeria' not in test_countries_not_used:\n",
    "    hac_1_countries_list = list(hac_1_df.columns)\n",
    "    hac_1_CB_df = forecasting(hac_1_countries_list,hac_1_df,Algeria_df,test_1_df)"
   ]
  },
  {
   "cell_type": "code",
   "execution_count": 27,
   "metadata": {},
   "outputs": [
    {
     "name": "stdout",
     "output_type": "stream",
     "text": [
      "['Algeria', 'Argentina', 'Australia', 'Austria', 'Bangladesh', 'Belarus', 'Belgium', 'Bolivia', 'Bulgaria', 'Canada', 'Chile', 'Colombia', 'Costa Rica', 'Croatia', 'Cuba', 'Czech Republic', 'Denmark', 'Dominican Republic', 'El Salvador', 'Estonia', 'Ethiopia', 'Finland', 'Ghana', 'Greece', 'Iceland', 'India', 'Indonesia', 'Iran', 'Iraq', 'Ireland', 'Israel', 'Japan', 'Kazakhstan', 'Kenya', 'Kuwait', 'Latvia', 'Malawi', 'Malaysia', 'Malta', 'Mexico', 'Morocco', 'Mozambique', 'Nepal', 'New Zealand', 'Nigeria', 'Norway', 'Oman', 'Pakistan', 'Panama', 'Paraguay', 'Peru', 'Philippines', 'Poland', 'Romania', 'Russia', 'Rwanda', 'Saudi Arabia', 'Senegal', 'Serbia', 'Slovakia', 'Slovenia', 'South Africa', 'South Korea', 'Sri Lanka', 'Sweden', 'Switzerland', 'Thailand', 'Togo', 'Tunisia', 'Turkey', 'Ukraine', 'United Arab Emirates', 'United Kingdom', 'United States', 'Uruguay', 'Vietnam', 'Zambia', 'Zimbabwe']\n"
     ]
    }
   ],
   "source": [
    "print(hac_1_countries_list)"
   ]
  },
  {
   "cell_type": "code",
   "execution_count": 28,
   "metadata": {},
   "outputs": [
    {
     "name": "stdout",
     "output_type": "stream",
     "text": [
      "78\n"
     ]
    }
   ],
   "source": [
    "print(len(hac_1_countries_list))"
   ]
  },
  {
   "cell_type": "code",
   "execution_count": 29,
   "metadata": {},
   "outputs": [
    {
     "data": {
      "image/png": "[encoded data removed]",
      "text/plain": [
       "<Figure size 864x288 with 1 Axes>"
      ]
     },
     "metadata": {
      "needs_background": "light"
     },
     "output_type": "display_data"
    }
   ],
   "source": [
    "title_str =''\n",
    "true_predicted_fig(test_1_df,hac_1_CB_df,title_str)"
   ]
  },
  {
   "cell_type": "code",
   "execution_count": 30,
   "metadata": {},
   "outputs": [
    {
     "data": {
      "text/plain": [
       "<matplotlib.axes._subplots.AxesSubplot at 0x1047863d0>"
      ]
     },
     "execution_count": 30,
     "metadata": {},
     "output_type": "execute_result"
    },
    {
     "data": {
      "image/png": "[encoded data removed]",
      "text/plain": [
       "<Figure size 720x360 with 1 Axes>"
      ]
     },
     "metadata": {
      "needs_background": "light"
     },
     "output_type": "display_data"
    }
   ],
   "source": [
    "hac_1_CB_df.plot( y=['Accumulated_Prediction', 'cases_tot'], label=['Predicted','True'], color=['red','black'], figsize=(10,5))"
   ]
  },
  {
   "cell_type": "markdown",
   "metadata": {},
   "source": [
    "MAPE k_means 1:"
   ]
  },
  {
   "cell_type": "code",
   "execution_count": 31,
   "metadata": {},
   "outputs": [
    {
     "data": {
      "text/plain": [
       "0.1754"
      ]
     },
     "execution_count": 31,
     "metadata": {},
     "output_type": "execute_result"
    }
   ],
   "source": [
    "round(MAPE(hac_1_CB_df,'cases_tot','Accumulated_Prediction'),4)"
   ]
  },
  {
   "cell_type": "markdown",
   "metadata": {},
   "source": [
    "## Hierarcical cluster with Belgium"
   ]
  },
  {
   "cell_type": "markdown",
   "metadata": {},
   "source": [
    "Select correct cluster"
   ]
  },
  {
   "cell_type": "code",
   "execution_count": 36,
   "metadata": {},
   "outputs": [],
   "source": [
    "if 'Belgium' in df_hac_z_0.columns and 'df_hac_z_0' not in selected_clusters:\n",
    "    hac_2_df = df_hac_z_0.copy()\n",
    "    selected_clusters.append('df_hac_z_0')\n",
    "elif 'Belgium' in df_hac_z_1.columns and 'df_hac_z_1' not in selected_clusters:\n",
    "    hac_2_df = df_hac_z_1.copy()\n",
    "    selected_clusters.append('df_hac_z_1')\n",
    "elif 'Belgium' in df_hac_z_2.columns and 'df_hac_z_2' not in selected_clusters:\n",
    "    hac_2_df = df_hac_z_2.copy()\n",
    "    selected_clusters.append('df_hac_z_2')\n",
    "elif 'Belgium' in df_hac_z_3.columns and 'df_hac_z_3' not in selected_clusters:\n",
    "    hac_2_df = df_hac_z_3.copy()\n",
    "    selected_clusters.append('df_hac_z_3')\n",
    "else:\n",
    "    test_countries_not_used.append('Belgium')"
   ]
  },
  {
   "cell_type": "code",
   "execution_count": 33,
   "metadata": {},
   "outputs": [
    {
     "name": "stdout",
     "output_type": "stream",
     "text": [
      "['df_hac_z_0']\n",
      "['Belgium']\n"
     ]
    }
   ],
   "source": [
    "print(selected_clusters)\n",
    "print(test_countries_not_used)"
   ]
  },
  {
   "cell_type": "code",
   "execution_count": 34,
   "metadata": {},
   "outputs": [],
   "source": [
    "if 'Belgium' not in test_countries_not_used:\n",
    "    hac_2_countries_list = list(hac_2_df.columns)\n",
    "    hac_2_CB_df = forecasting(hac_2_countries_list,hac_2_df,Belgium_df,test_2_df)"
   ]
  },
  {
   "cell_type": "code",
   "execution_count": 35,
   "metadata": {},
   "outputs": [
    {
     "ename": "NameError",
     "evalue": "name 'hac_2_countries_list' is not defined",
     "output_type": "error",
     "traceback": [
      "\u001b[0;31m---------------------------------------------------------------------------\u001b[0m",
      "\u001b[0;31mNameError\u001b[0m                                 Traceback (most recent call last)",
      "\u001b[0;32m<ipython-input-35-4622a1469b2f>\u001b[0m in \u001b[0;36m<module>\u001b[0;34m\u001b[0m\n\u001b[0;32m----> 1\u001b[0;31m \u001b[0mprint\u001b[0m\u001b[0;34m(\u001b[0m\u001b[0mhac_2_countries_list\u001b[0m\u001b[0;34m)\u001b[0m\u001b[0;34m\u001b[0m\u001b[0;34m\u001b[0m\u001b[0m\n\u001b[0m",
      "\u001b[0;31mNameError\u001b[0m: name 'hac_2_countries_list' is not defined"
     ]
    }
   ],
   "source": [
    "print(hac_2_countries_list)"
   ]
  },
  {
   "cell_type": "code",
   "execution_count": null,
   "metadata": {},
   "outputs": [],
   "source": [
    "print(len(hac_2_countries_list))"
   ]
  },
  {
   "cell_type": "code",
   "execution_count": null,
   "metadata": {},
   "outputs": [],
   "source": [
    "title_str =''\n",
    "true_predicted_fig(test_2_df,hac_2_CB_df,title_str)"
   ]
  },
  {
   "cell_type": "code",
   "execution_count": null,
   "metadata": {},
   "outputs": [],
   "source": [
    "hac_2_CB_df.plot( y=['Accumulated_Prediction', 'cases_tot'], label=['Predicted','True'], color=['red','black'], figsize=(10,5))"
   ]
  },
  {
   "cell_type": "markdown",
   "metadata": {},
   "source": [
    "MAPE hac 2:"
   ]
  },
  {
   "cell_type": "code",
   "execution_count": null,
   "metadata": {},
   "outputs": [],
   "source": [
    "round(MAPE(hac_2_CB_df,'cases_tot','Accumulated_Prediction'),4)"
   ]
  },
  {
   "cell_type": "markdown",
   "metadata": {},
   "source": [
    "## HAC, cluster with Bangladesh"
   ]
  },
  {
   "cell_type": "markdown",
   "metadata": {},
   "source": [
    "Select correct cluster"
   ]
  },
  {
   "cell_type": "code",
   "execution_count": 37,
   "metadata": {},
   "outputs": [],
   "source": [
    "if 'Bangladesh' in df_hac_z_0.columns and 'df_hac_z_0' not in selected_clusters:\n",
    "    hac_3_df = df_hac_z_0.copy()\n",
    "    selected_clusters.append('df_hac_z_0')\n",
    "elif 'Bangladesh' in df_hac_z_1.columns and 'df_hac_z_1' not in selected_clusters:\n",
    "    hac_3_df = df_hac_z_1.copy()\n",
    "    selected_clusters.append('df_hac_z_1')\n",
    "elif 'Bangladesh' in df_hac_z_2.columns and 'df_hac_z_2' not in selected_clusters:\n",
    "    hac_3_df = df_hac_z_2.copy()\n",
    "    selected_clusters.append('df_hac_z_2')\n",
    "elif 'Bangladesh' in df_hac_z_3.columns and 'df_hac_z_3' not in selected_clusters:\n",
    "    hac_3_df = df_hac_z_3.copy()\n",
    "    selected_clusters.append('df_hac_z_3')\n",
    "else:\n",
    "    test_countries_not_used.append('Bangladesh')"
   ]
  },
  {
   "cell_type": "code",
   "execution_count": 38,
   "metadata": {},
   "outputs": [
    {
     "data": {
      "text/plain": [
       "Index(['Fiji'], dtype='object')"
      ]
     },
     "execution_count": 38,
     "metadata": {},
     "output_type": "execute_result"
    }
   ],
   "source": [
    "df_hac_z_3.columns"
   ]
  },
  {
   "cell_type": "code",
   "execution_count": 39,
   "metadata": {},
   "outputs": [
    {
     "name": "stdout",
     "output_type": "stream",
     "text": [
      "['df_hac_z_0']\n",
      "['Belgium', 'Belgium', 'Bangladesh']\n"
     ]
    }
   ],
   "source": [
    "print(selected_clusters)\n",
    "print(test_countries_not_used)"
   ]
  },
  {
   "cell_type": "code",
   "execution_count": 40,
   "metadata": {},
   "outputs": [],
   "source": [
    "if 'Bangladesh' not in test_countries_not_used:\n",
    "    hac_3_countries_list = list(hac_3_df.columns)\n",
    "    hac_3_CB_df = forecasting(hac_3_countries_list,hac_3_df,Bangladesh_df,test_3_df)"
   ]
  },
  {
   "cell_type": "code",
   "execution_count": 41,
   "metadata": {},
   "outputs": [
    {
     "ename": "NameError",
     "evalue": "name 'hac_3_countries_list' is not defined",
     "output_type": "error",
     "traceback": [
      "\u001b[0;31m---------------------------------------------------------------------------\u001b[0m",
      "\u001b[0;31mNameError\u001b[0m                                 Traceback (most recent call last)",
      "\u001b[0;32m<ipython-input-41-6296fb23869d>\u001b[0m in \u001b[0;36m<module>\u001b[0;34m\u001b[0m\n\u001b[0;32m----> 1\u001b[0;31m \u001b[0mprint\u001b[0m\u001b[0;34m(\u001b[0m\u001b[0mhac_3_countries_list\u001b[0m\u001b[0;34m)\u001b[0m\u001b[0;34m\u001b[0m\u001b[0;34m\u001b[0m\u001b[0m\n\u001b[0m",
      "\u001b[0;31mNameError\u001b[0m: name 'hac_3_countries_list' is not defined"
     ]
    }
   ],
   "source": [
    "print(hac_3_countries_list)"
   ]
  },
  {
   "cell_type": "code",
   "execution_count": null,
   "metadata": {},
   "outputs": [],
   "source": [
    "print(len(hac_3_countries_list))"
   ]
  },
  {
   "cell_type": "code",
   "execution_count": null,
   "metadata": {},
   "outputs": [],
   "source": [
    "title_str =''\n",
    "true_predicted_fig(test_3_df,hac_3_CB_df,title_str)"
   ]
  },
  {
   "cell_type": "code",
   "execution_count": null,
   "metadata": {},
   "outputs": [],
   "source": [
    "hac_3_CB_df.plot( y=['Accumulated_Prediction', 'cases_tot'], label=['Predicted','True'], color=['red','black'], figsize=(10,5))"
   ]
  },
  {
   "cell_type": "markdown",
   "metadata": {},
   "source": [
    "MAPE hac 3:"
   ]
  },
  {
   "cell_type": "code",
   "execution_count": null,
   "metadata": {},
   "outputs": [],
   "source": [
    "round(MAPE(hac_3_CB_df,'cases_tot','Accumulated_Prediction'),4)"
   ]
  },
  {
   "cell_type": "markdown",
   "metadata": {},
   "source": [
    "## HAC, cluster with Croatia"
   ]
  },
  {
   "cell_type": "markdown",
   "metadata": {},
   "source": [
    "Select correct cluster"
   ]
  },
  {
   "cell_type": "code",
   "execution_count": 42,
   "metadata": {},
   "outputs": [],
   "source": [
    "if 'Croatia' in df_hac_z_0.columns and 'df_hac_z_0' not in selected_clusters:\n",
    "    hac_4_df = df_hac_z_0.copy()\n",
    "    selected_clusters.append('df_hac_z_0')\n",
    "elif 'Croatia' in df_hac_z_1.columns and 'df_hac_z_1' not in selected_clusters:\n",
    "    hac_4_df = df_hac_z_1.copy()\n",
    "    selected_clusters.append('df_hac_z_1')\n",
    "elif 'Croatia' in df_hac_z_2.columns and 'df_hac_z_2' not in selected_clusters:\n",
    "    hac_4_df = df_hac_z_2.copy()\n",
    "    selected_clusters.append('df_hac_z_2')\n",
    "elif 'Croatia' in df_hac_z_3.columns and 'df_hac_z_3' not in selected_clusters:\n",
    "    hac_4_df = df_hac_z_3.copy()\n",
    "    selected_clusters.append('df_hac_z_3')\n",
    "else:\n",
    "    test_countries_not_used.append('Croatia')"
   ]
  },
  {
   "cell_type": "code",
   "execution_count": 43,
   "metadata": {},
   "outputs": [
    {
     "name": "stdout",
     "output_type": "stream",
     "text": [
      "['df_hac_z_0']\n",
      "['Belgium', 'Belgium', 'Bangladesh', 'Croatia']\n"
     ]
    }
   ],
   "source": [
    "print(selected_clusters)\n",
    "print(test_countries_not_used)"
   ]
  },
  {
   "cell_type": "code",
   "execution_count": 44,
   "metadata": {},
   "outputs": [],
   "source": [
    "if 'Croatia' not in test_countries_not_used:\n",
    "    hac_4_countries_list = list(hac_4_df.columns)\n",
    "    hac_4_CB_df = forecasting(hac_4_countries_list,hac_4_df,Croatia_df,test_4_df)"
   ]
  },
  {
   "cell_type": "code",
   "execution_count": 45,
   "metadata": {},
   "outputs": [
    {
     "ename": "NameError",
     "evalue": "name 'hac_4_countries_list' is not defined",
     "output_type": "error",
     "traceback": [
      "\u001b[0;31m---------------------------------------------------------------------------\u001b[0m",
      "\u001b[0;31mNameError\u001b[0m                                 Traceback (most recent call last)",
      "\u001b[0;32m<ipython-input-45-3883dfed3ca6>\u001b[0m in \u001b[0;36m<module>\u001b[0;34m\u001b[0m\n\u001b[0;32m----> 1\u001b[0;31m \u001b[0mprint\u001b[0m\u001b[0;34m(\u001b[0m\u001b[0mhac_4_countries_list\u001b[0m\u001b[0;34m)\u001b[0m\u001b[0;34m\u001b[0m\u001b[0;34m\u001b[0m\u001b[0m\n\u001b[0m",
      "\u001b[0;31mNameError\u001b[0m: name 'hac_4_countries_list' is not defined"
     ]
    }
   ],
   "source": [
    "print(hac_4_countries_list)"
   ]
  },
  {
   "cell_type": "code",
   "execution_count": null,
   "metadata": {},
   "outputs": [],
   "source": [
    "print(len(hac_4_countries_list))"
   ]
  },
  {
   "cell_type": "code",
   "execution_count": null,
   "metadata": {},
   "outputs": [],
   "source": [
    "title_str =''\n",
    "true_predicted_fig(test_4_df,hac_4_CB_df,title_str)"
   ]
  },
  {
   "cell_type": "code",
   "execution_count": null,
   "metadata": {},
   "outputs": [],
   "source": [
    "hac_4_CB_df.plot( y=['Accumulated_Prediction', 'cases_tot'], label=['Predicted','True'], color=['red','black'], figsize=(10,5))"
   ]
  },
  {
   "cell_type": "markdown",
   "metadata": {},
   "source": [
    "MAPE hac 4:"
   ]
  },
  {
   "cell_type": "code",
   "execution_count": null,
   "metadata": {},
   "outputs": [],
   "source": [
    "round(MAPE(hac_4_CB_df,'cases_tot','Accumulated_Prediction'),4)"
   ]
  },
  {
   "cell_type": "markdown",
   "metadata": {},
   "source": [
    "Total MAPE"
   ]
  },
  {
   "cell_type": "code",
   "execution_count": null,
   "metadata": {},
   "outputs": [],
   "source": [
    "round(MAPE(hac_1_CB_df,'cases_tot','Accumulated_Prediction')+MAPE(hac_2_CB_df,'cases_tot','Accumulated_Prediction')+MAPE(hac_3_CB_df,'cases_tot','Accumulated_Prediction')+MAPE(hac_4_CB_df,'cases_tot','Accumulated_Prediction'),4)"
   ]
  }
 ],
 "metadata": {
  "kernelspec": {
   "display_name": "Python 3",
   "language": "python",
   "name": "python3"
  },
  "language_info": {
   "codemirror_mode": {
    "name": "ipython",
    "version": 3
   },
   "file_extension": ".py",
   "mimetype": "text/x-python",
   "name": "python",
   "nbconvert_exporter": "python",
   "pygments_lexer": "ipython3",
   "version": "3.8.3"
  }
 },
 "nbformat": 4,
 "nbformat_minor": 4
}
