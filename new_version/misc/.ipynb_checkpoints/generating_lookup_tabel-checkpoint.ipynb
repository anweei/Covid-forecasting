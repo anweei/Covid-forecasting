{
 "cells": [
  {
   "cell_type": "code",
   "execution_count": 1,
   "metadata": {},
   "outputs": [],
   "source": [
    "import pandas as pd"
   ]
  },
  {
   "cell_type": "markdown",
   "metadata": {},
   "source": [
    "# Generating lookup table #"
   ]
  },
  {
   "cell_type": "markdown",
   "metadata": {},
   "source": [
    "This notebook was used to convert the original raw covid data.csv file into a lookup table. "
   ]
  },
  {
   "cell_type": "markdown",
   "metadata": {},
   "source": [
    "Load data.csv file (raw covid data):"
   ]
  },
  {
   "cell_type": "code",
   "execution_count": 2,
   "metadata": {},
   "outputs": [],
   "source": [
    "df_org_data = pd.read_csv('../data/data_raw.csv')"
   ]
  },
  {
   "cell_type": "code",
   "execution_count": 3,
   "metadata": {},
   "outputs": [
    {
     "data": {
      "text/html": [
       "<div>\n",
       "<style scoped>\n",
       "    .dataframe tbody tr th:only-of-type {\n",
       "        vertical-align: middle;\n",
       "    }\n",
       "\n",
       "    .dataframe tbody tr th {\n",
       "        vertical-align: top;\n",
       "    }\n",
       "\n",
       "    .dataframe thead th {\n",
       "        text-align: right;\n",
       "    }\n",
       "</style>\n",
       "<table border=\"1\" class=\"dataframe\">\n",
       "  <thead>\n",
       "    <tr style=\"text-align: right;\">\n",
       "      <th></th>\n",
       "      <th>Entity</th>\n",
       "      <th>Continent</th>\n",
       "      <th>Latitude</th>\n",
       "      <th>Longitude</th>\n",
       "      <th>Average temperature per year</th>\n",
       "      <th>Hospital beds per 1000 people</th>\n",
       "      <th>Medical doctors per 1000 people</th>\n",
       "      <th>GDP/Capita</th>\n",
       "      <th>Population</th>\n",
       "      <th>Median age</th>\n",
       "      <th>Population aged 65 and over (%)</th>\n",
       "      <th>Date</th>\n",
       "      <th>Daily tests</th>\n",
       "      <th>Cases</th>\n",
       "      <th>Deaths</th>\n",
       "    </tr>\n",
       "  </thead>\n",
       "  <tbody>\n",
       "    <tr>\n",
       "      <th>0</th>\n",
       "      <td>Algeria</td>\n",
       "      <td>Africa</td>\n",
       "      <td>28.03</td>\n",
       "      <td>1.66</td>\n",
       "      <td>25</td>\n",
       "      <td>1.9</td>\n",
       "      <td>1.83</td>\n",
       "      <td>4044.3</td>\n",
       "      <td>41318142</td>\n",
       "      <td>29</td>\n",
       "      <td>6</td>\n",
       "      <td>2019-12-31</td>\n",
       "      <td>NaN</td>\n",
       "      <td>0.0</td>\n",
       "      <td>0.0</td>\n",
       "    </tr>\n",
       "    <tr>\n",
       "      <th>1</th>\n",
       "      <td>Algeria</td>\n",
       "      <td>Africa</td>\n",
       "      <td>28.03</td>\n",
       "      <td>1.66</td>\n",
       "      <td>25</td>\n",
       "      <td>1.9</td>\n",
       "      <td>1.83</td>\n",
       "      <td>4044.3</td>\n",
       "      <td>41318142</td>\n",
       "      <td>29</td>\n",
       "      <td>6</td>\n",
       "      <td>2020-01-01</td>\n",
       "      <td>NaN</td>\n",
       "      <td>0.0</td>\n",
       "      <td>0.0</td>\n",
       "    </tr>\n",
       "    <tr>\n",
       "      <th>2</th>\n",
       "      <td>Algeria</td>\n",
       "      <td>Africa</td>\n",
       "      <td>28.03</td>\n",
       "      <td>1.66</td>\n",
       "      <td>25</td>\n",
       "      <td>1.9</td>\n",
       "      <td>1.83</td>\n",
       "      <td>4044.3</td>\n",
       "      <td>41318142</td>\n",
       "      <td>29</td>\n",
       "      <td>6</td>\n",
       "      <td>2020-01-02</td>\n",
       "      <td>NaN</td>\n",
       "      <td>0.0</td>\n",
       "      <td>0.0</td>\n",
       "    </tr>\n",
       "  </tbody>\n",
       "</table>\n",
       "</div>"
      ],
      "text/plain": [
       "    Entity Continent  Latitude  Longitude  Average temperature per year  \\\n",
       "0  Algeria    Africa     28.03       1.66                            25   \n",
       "1  Algeria    Africa     28.03       1.66                            25   \n",
       "2  Algeria    Africa     28.03       1.66                            25   \n",
       "\n",
       "   Hospital beds per 1000 people  Medical doctors per 1000 people  GDP/Capita  \\\n",
       "0                            1.9                             1.83      4044.3   \n",
       "1                            1.9                             1.83      4044.3   \n",
       "2                            1.9                             1.83      4044.3   \n",
       "\n",
       "   Population  Median age  Population aged 65 and over (%)        Date  \\\n",
       "0    41318142          29                                6  2019-12-31   \n",
       "1    41318142          29                                6  2020-01-01   \n",
       "2    41318142          29                                6  2020-01-02   \n",
       "\n",
       "   Daily tests  Cases  Deaths  \n",
       "0          NaN    0.0     0.0  \n",
       "1          NaN    0.0     0.0  \n",
       "2          NaN    0.0     0.0  "
      ]
     },
     "execution_count": 3,
     "metadata": {},
     "output_type": "execute_result"
    }
   ],
   "source": [
    "df_org_data.head(3)"
   ]
  },
  {
   "cell_type": "code",
   "execution_count": 4,
   "metadata": {},
   "outputs": [],
   "source": [
    "df_lookup = df_org_data.copy()"
   ]
  },
  {
   "cell_type": "markdown",
   "metadata": {},
   "source": [
    "Remove not relevant columns:"
   ]
  },
  {
   "cell_type": "code",
   "execution_count": 5,
   "metadata": {},
   "outputs": [],
   "source": [
    "df_lookup.drop(['Date','Daily tests', 'Deaths', 'Cases'], axis=1, inplace=True)"
   ]
  },
  {
   "cell_type": "markdown",
   "metadata": {},
   "source": [
    "Set \"Entity\" as index and rename to \"Country\":"
   ]
  },
  {
   "cell_type": "code",
   "execution_count": 6,
   "metadata": {},
   "outputs": [],
   "source": [
    "df_lookup.set_axis(df_lookup['Entity'], inplace=True)"
   ]
  },
  {
   "cell_type": "code",
   "execution_count": 7,
   "metadata": {},
   "outputs": [],
   "source": [
    "df_lookup.rename_axis('Country', inplace=True)\n",
    "df_lookup.drop(['Entity'], axis=1, inplace=True)"
   ]
  },
  {
   "cell_type": "markdown",
   "metadata": {},
   "source": [
    "Remove all dulpicate country entries, only keep first apperence of each country:"
   ]
  },
  {
   "cell_type": "code",
   "execution_count": 8,
   "metadata": {},
   "outputs": [],
   "source": [
    "df_lookup = df_lookup[~df_lookup.index.duplicated(keep='first')] "
   ]
  },
  {
   "cell_type": "code",
   "execution_count": 9,
   "metadata": {
    "scrolled": true
   },
   "outputs": [
    {
     "data": {
      "text/html": [
       "<div>\n",
       "<style scoped>\n",
       "    .dataframe tbody tr th:only-of-type {\n",
       "        vertical-align: middle;\n",
       "    }\n",
       "\n",
       "    .dataframe tbody tr th {\n",
       "        vertical-align: top;\n",
       "    }\n",
       "\n",
       "    .dataframe thead th {\n",
       "        text-align: right;\n",
       "    }\n",
       "</style>\n",
       "<table border=\"1\" class=\"dataframe\">\n",
       "  <thead>\n",
       "    <tr style=\"text-align: right;\">\n",
       "      <th></th>\n",
       "      <th>Continent</th>\n",
       "      <th>Latitude</th>\n",
       "      <th>Longitude</th>\n",
       "      <th>Average temperature per year</th>\n",
       "      <th>Hospital beds per 1000 people</th>\n",
       "      <th>Medical doctors per 1000 people</th>\n",
       "      <th>GDP/Capita</th>\n",
       "      <th>Population</th>\n",
       "      <th>Median age</th>\n",
       "      <th>Population aged 65 and over (%)</th>\n",
       "    </tr>\n",
       "    <tr>\n",
       "      <th>Country</th>\n",
       "      <th></th>\n",
       "      <th></th>\n",
       "      <th></th>\n",
       "      <th></th>\n",
       "      <th></th>\n",
       "      <th></th>\n",
       "      <th></th>\n",
       "      <th></th>\n",
       "      <th></th>\n",
       "      <th></th>\n",
       "    </tr>\n",
       "  </thead>\n",
       "  <tbody>\n",
       "    <tr>\n",
       "      <th>Algeria</th>\n",
       "      <td>Africa</td>\n",
       "      <td>28.03</td>\n",
       "      <td>1.66</td>\n",
       "      <td>25</td>\n",
       "      <td>1.90</td>\n",
       "      <td>1.83</td>\n",
       "      <td>4044.30</td>\n",
       "      <td>41318142</td>\n",
       "      <td>29</td>\n",
       "      <td>6</td>\n",
       "    </tr>\n",
       "    <tr>\n",
       "      <th>Argentina</th>\n",
       "      <td>South America</td>\n",
       "      <td>-38.42</td>\n",
       "      <td>-63.62</td>\n",
       "      <td>14</td>\n",
       "      <td>5.00</td>\n",
       "      <td>3.91</td>\n",
       "      <td>18933.91</td>\n",
       "      <td>44271041</td>\n",
       "      <td>31</td>\n",
       "      <td>11</td>\n",
       "    </tr>\n",
       "    <tr>\n",
       "      <th>Australia</th>\n",
       "      <td>Oceania</td>\n",
       "      <td>-25.27</td>\n",
       "      <td>133.78</td>\n",
       "      <td>22</td>\n",
       "      <td>3.84</td>\n",
       "      <td>3.50</td>\n",
       "      <td>44648.71</td>\n",
       "      <td>24598933</td>\n",
       "      <td>37</td>\n",
       "      <td>16</td>\n",
       "    </tr>\n",
       "    <tr>\n",
       "      <th>Austria</th>\n",
       "      <td>Europe</td>\n",
       "      <td>47.52</td>\n",
       "      <td>14.55</td>\n",
       "      <td>8</td>\n",
       "      <td>7.37</td>\n",
       "      <td>5.23</td>\n",
       "      <td>45436.69</td>\n",
       "      <td>8809212</td>\n",
       "      <td>44</td>\n",
       "      <td>19</td>\n",
       "    </tr>\n",
       "    <tr>\n",
       "      <th>Bahrain</th>\n",
       "      <td>Asia</td>\n",
       "      <td>25.93</td>\n",
       "      <td>50.64</td>\n",
       "      <td>27</td>\n",
       "      <td>2.00</td>\n",
       "      <td>0.92</td>\n",
       "      <td>43290.70</td>\n",
       "      <td>1492584</td>\n",
       "      <td>32</td>\n",
       "      <td>2</td>\n",
       "    </tr>\n",
       "  </tbody>\n",
       "</table>\n",
       "</div>"
      ],
      "text/plain": [
       "               Continent  Latitude  Longitude  Average temperature per year  \\\n",
       "Country                                                                       \n",
       "Algeria           Africa     28.03       1.66                            25   \n",
       "Argentina  South America    -38.42     -63.62                            14   \n",
       "Australia        Oceania    -25.27     133.78                            22   \n",
       "Austria           Europe     47.52      14.55                             8   \n",
       "Bahrain             Asia     25.93      50.64                            27   \n",
       "\n",
       "           Hospital beds per 1000 people  Medical doctors per 1000 people  \\\n",
       "Country                                                                     \n",
       "Algeria                             1.90                             1.83   \n",
       "Argentina                           5.00                             3.91   \n",
       "Australia                           3.84                             3.50   \n",
       "Austria                             7.37                             5.23   \n",
       "Bahrain                             2.00                             0.92   \n",
       "\n",
       "           GDP/Capita  Population  Median age  Population aged 65 and over (%)  \n",
       "Country                                                                         \n",
       "Algeria       4044.30    41318142          29                                6  \n",
       "Argentina    18933.91    44271041          31                               11  \n",
       "Australia    44648.71    24598933          37                               16  \n",
       "Austria      45436.69     8809212          44                               19  \n",
       "Bahrain      43290.70     1492584          32                                2  "
      ]
     },
     "execution_count": 9,
     "metadata": {},
     "output_type": "execute_result"
    }
   ],
   "source": [
    "df_lookup.head(5)"
   ]
  },
  {
   "cell_type": "markdown",
   "metadata": {},
   "source": [
    "Save dataframe to csv file:"
   ]
  },
  {
   "cell_type": "code",
   "execution_count": 10,
   "metadata": {},
   "outputs": [],
   "source": [
    "#df_lookup.to_parquet('../data/df_lookup_table.parquet')"
   ]
  }
 ],
 "metadata": {
  "kernelspec": {
   "display_name": "Python 3",
   "language": "python",
   "name": "python3"
  },
  "language_info": {
   "codemirror_mode": {
    "name": "ipython",
    "version": 3
   },
   "file_extension": ".py",
   "mimetype": "text/x-python",
   "name": "python",
   "nbconvert_exporter": "python",
   "pygments_lexer": "ipython3",
   "version": "3.8.3"
  }
 },
 "nbformat": 4,
 "nbformat_minor": 4
}
