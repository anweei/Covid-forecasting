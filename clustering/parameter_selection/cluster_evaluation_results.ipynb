{
 "cells": [
  {
   "cell_type": "markdown",
   "metadata": {},
   "source": [
    "# **Cluster evaluation results**"
   ]
  },
  {
   "cell_type": "code",
   "execution_count": 1,
   "metadata": {},
   "outputs": [
    {
     "data": {
      "text/html": [
       "<style>\n",
       "table {float:left}\n",
       "</style>\n"
      ],
      "text/plain": [
       "<IPython.core.display.HTML object>"
      ]
     },
     "metadata": {},
     "output_type": "display_data"
    }
   ],
   "source": [
    "%%html\n",
    "<style>\n",
    "table {float:left}\n",
    "</style>"
   ]
  },
  {
   "cell_type": "markdown",
   "metadata": {},
   "source": [
    "This notebook stores the achieved accuracies when forecasting, with different cluster parameters. This notebook includes both scores for K-means clustering and Hierarchical clustering. The achieved scores are compared, and the parameters giving the highest accuracy are chosen to be used when clustering (see notebook clustering->clustering_k_means and clustering_hierarchical). Note that number of clusters  (n_clusters) was not tested in hierarchical_parameter_testing/k_means_parameter_testing and is therefore constant in this notebook. Number of clusters was determined in the notebook clustering -> determining_k.\n",
    "<br>\n",
    "Note also that the parameter testing for hierarchical was performed with two different set of test countries. This was because the test countries used for k-means dint fit that well for the resulting hierarchical clusters, and to avoid that this became a source of error the cluster parameters were evaluated with two different combinations. \n",
    "<br>\n",
    "<br>\n",
    "Result:\n",
    "<br>\n",
    "K-means (all identical, random chosen):\n",
    "<br>\n",
    " -n_clusters=4, random_state=42, init='k-means++', n_init=100, algorithm='auto'\n",
    "<br>\n",
    "<br>\n",
    "Hierarchical:\n",
    "<br>\n",
    "n_clusters=4, affinity='euclidean', linkage='ward'"
   ]
  },
  {
   "cell_type": "markdown",
   "metadata": {},
   "source": [
    "### K-means Clustering evaluation "
   ]
  },
  {
   "cell_type": "markdown",
   "metadata": {},
   "source": [
    "Parameters: n_clusters=4, random_state=42, init='k-means++', n_init=10, algorithm='elkan'\n",
    "\n",
    "| | Test country | nr. of countries in cluster | MAPE |\n",
    "|:-| :- | :- | :- |\n",
    "| | Algeria | 30 | 0.2163\n",
    "| | Belgium | 17 | 0.6949\n",
    "| | Bangladesh | 24 | 0.2227\n",
    "| | Croatia | 12 | 0.2699\n",
    "|Total:|   | 83 | 1.4037"
   ]
  },
  {
   "cell_type": "markdown",
   "metadata": {},
   "source": [
    "n_clusters=4, random_state=42, init='k-means++', n_init=10, algorithm='auto'\n",
    "\n",
    "| | Test country | nr. of countries in cluster | MAPE |\n",
    "|:-| :- | :- | :- |\n",
    "| | Algeria | 30 | 0.2163\n",
    "| | Belgium | 17 | 0.6949\n",
    "| | Bangladesh | 24 | 0.2227\n",
    "| | Croatia | 12 | 0.2699\n",
    "|Total:|   | 83 | 1.4037"
   ]
  },
  {
   "cell_type": "markdown",
   "metadata": {},
   "source": [
    "n_clusters=4, random_state=42, init='k-means++', n_init=10, algorithm='full'\n",
    "\n",
    "| | Test country | nr. of countries in cluster | MAPE |\n",
    "|:-| :- | :- | :- |\n",
    "| | Algeria | 30 | 0.2163\n",
    "| | Belgium | 17 | 0.6949\n",
    "| | Bangladesh | 24 | 0.2227\n",
    "| | Croatia | 12 | 0.2699\n",
    "|Total:|   | 83 | 1.4037"
   ]
  },
  {
   "cell_type": "markdown",
   "metadata": {},
   "source": [
    "n_clusters=4, random_state=42, init='k-means++', n_init=1, algorithm='auto'\n",
    "\n",
    "| | Test country | nr. of countries in cluster | MAPE |\n",
    "|:-| :- | :- | :- |\n",
    "| | Algeria | 30 | 0.2163\n",
    "| | Belgium | 17 | 0.6949\n",
    "| | Bangladesh | 24 | 0.2227\n",
    "| | Croatia | 12 | 0.2699\n",
    "|Total:|   | 83 | 1.4037"
   ]
  },
  {
   "cell_type": "markdown",
   "metadata": {},
   "source": [
    "n_clusters=4, random_state=42, init='k-means++', n_init=100, algorithm='auto'\n",
    "\n",
    "| | Test country | nr. of countries in cluster | MAPE |\n",
    "|:-| :- | :- | :- |\n",
    "| | Algeria | 30 | 0.2163\n",
    "| | Belgium | 17 | 0.6949\n",
    "| | Bangladesh | 24 | 0.2227\n",
    "| | Croatia | 12 | 0.2699\n",
    "|Total:|   | 83 | 1.4037"
   ]
  },
  {
   "cell_type": "markdown",
   "metadata": {},
   "source": [
    "n_clusters=4, random_state=42, tol=1, init='k-means++', n_init=100, algorithm='auto'\n",
    "\n",
    "| | Test country | nr. of countries in cluster | MAPE |\n",
    "|:-| :- | :- | :- |\n",
    "| | Algeria | 30 | 0.2163\n",
    "| | Belgium | 17 | 0.6949\n",
    "| | Bangladesh | 24 | 0.2227\n",
    "| | Croatia | 12 | 0.2699\n",
    "|Total:|   | 83 | 1.4037"
   ]
  },
  {
   "cell_type": "markdown",
   "metadata": {},
   "source": [
    "n_clusters=4, random_state=42, tol=1e-20, init='k-means++', n_init=100, algorithm='auto'\n",
    "\n",
    "| | Test country | nr. of countries in cluster | MAPE |\n",
    "|:-| :- | :- | :- |\n",
    "| | Algeria | 30 | 0.2167\n",
    "| | Belgium | 17 | 0.6917\n",
    "| | Bangladesh | 22 | 0.223\n",
    "| | Croatia |12  | 0.2703\n",
    "|Total:|   | 81 | 1.4037"
   ]
  },
  {
   "cell_type": "markdown",
   "metadata": {},
   "source": [
    "## Hierarchical Clustering"
   ]
  },
  {
   "cell_type": "markdown",
   "metadata": {},
   "source": [
    "n_clusters=4, affinity='euclidean', linkage='ward'\n",
    "\n",
    "| | Test country | nr. of countries in cluster | MAPE |\n",
    "|:-| :- | :- | :- |\n",
    "| | Algeria | 28 | 0.323\n",
    "| | Belgium | 16 | 0.6529\n",
    "| | Bangladesh | 22 | 0.199\n",
    "| | Croatia | 17 | 0.6147\n",
    "|Total:|   | 83 | 1.7896"
   ]
  },
  {
   "cell_type": "markdown",
   "metadata": {},
   "source": [
    "n_clusters=4, affinity='euclidean', linkage='ward'\n",
    "\n",
    "| | Test country | nr. of countries in cluster | MAPE |\n",
    "|:-| :- | :- | :- |\n",
    "| | Algeria | 28 | 0.3223\n",
    "| | Belgium |16 | 0.65\n",
    "| | Sweden | 20| 0.0631\n",
    "| | Tunisia | 17 | 2.3883\n",
    "|Total:|   |  | 3.4238"
   ]
  },
  {
   "cell_type": "markdown",
   "metadata": {},
   "source": [
    "n_clusters=4, affinity='euclidean', linkage='complete'\n",
    "\n",
    "| | Test country | nr. of countries in cluster | MAPE |\n",
    "|:-| :- | :- | :- |\n",
    "| | Algeria | 38 | 0.1849\n",
    "| | Belgium | 20 | 0.5905\n",
    "| | Bangladesh | 20 | 0.2875\n",
    "| | Croatia | - | -\n",
    "|Total:|   | - | "
   ]
  },
  {
   "cell_type": "markdown",
   "metadata": {},
   "source": [
    "n_clusters=4, affinity='euclidean', linkage='complete'\n",
    "\n",
    "| | Test country | nr. of countries in cluster | MAPE |\n",
    "|:-| :- | :- | :- |\n",
    "| | Algeria | 38 | 0.1849\n",
    "| | Belgium | 20 | 0.5905\n",
    "| | Sweden | 20 | 0.0631\n",
    "| | Tunisia | 3 | 4.7539\n",
    "|Total:|   | - | 5.5924"
   ]
  },
  {
   "cell_type": "markdown",
   "metadata": {},
   "source": [
    "n_clusters=4, affinity='euclidean', linkage='average'\n",
    "\n",
    "| | Test country | nr. of countries in cluster | MAPE |\n",
    "|:-| :- | :- | :- |\n",
    "| | Algeria | 58 | 0.0956\n",
    "| | Belgium | 20 | 0.5905\n",
    "| | Bangladesh | - | -\n",
    "| | Croatia | - | -\n",
    "|Total:|   | - | -"
   ]
  },
  {
   "cell_type": "markdown",
   "metadata": {},
   "source": [
    "n_clusters=4, affinity='euclidean', linkage='average'\n",
    "\n",
    "| | Test country | nr. of countries in cluster | MAPE |\n",
    "|:-| :- | :- | :- |\n",
    "| | Algeria | 58 | 0.0956\n",
    "| | Belgium | 20 | 0.5905\n",
    "| | Sweden | - | -\n",
    "| | Tunisia | 2 | 5.9562\n",
    "|Total:|   | - | -"
   ]
  },
  {
   "cell_type": "markdown",
   "metadata": {},
   "source": [
    "n_clusters=4, affinity='euclidean', linkage='single'\n",
    "\n",
    "| | Test country | nr. of countries in cluster | MAPE |\n",
    "|:-| :- | :- | :- |\n",
    "| | Algeria | 78 | 0.1754\n",
    "| | Belgium | - | -\n",
    "| | Bangladesh | - | -\n",
    "| | Croatia | - | -\n",
    "|Total:|   | - | -"
   ]
  },
  {
   "cell_type": "markdown",
   "metadata": {},
   "source": [
    "n_clusters=4, affinity='euclidean', linkage='single'\n",
    "\n",
    "| | Test country | nr. of countries in cluster | MAPE |\n",
    "|:-| :- | :- | :- |\n",
    "| | Algeria | 78 | 0.1754\n",
    "| | Belgium | - | -\n",
    "| | Sweden | - | -\n",
    "| | Tunisia | - | -\n",
    "|Total:|   | - | -"
   ]
  },
  {
   "cell_type": "markdown",
   "metadata": {},
   "source": [
    "n_clusters=4, affinity='l1', linkage='complete'\n",
    "\n",
    "| | Test country | nr. of countries in cluster | MAPE |\n",
    "|:-| :- | :- | :- |\n",
    "| | Algeria | 38 | 0.1849\n",
    "| | Belgium | 21 | 0.6916\n",
    "| | Bangladesh | 20 | 0.2875\n",
    "| | Croatia | - | -\n",
    "|Total:|   | - | -"
   ]
  },
  {
   "cell_type": "markdown",
   "metadata": {},
   "source": [
    "n_clusters=4, affinity='l1', linkage='complete'\n",
    "\n",
    "| | Test country | nr. of countries in cluster | MAPE |\n",
    "|:-| :- | :- | :- |\n",
    "| | Algeria | 38 | 0.1849\n",
    "| | Belgium | 21 | 0.6916\n",
    "| | Sweden | 20 | 0.0631\n",
    "| | Tunisia | 2 | 5.9562\n",
    "|Total:|   | - | 6.8958"
   ]
  },
  {
   "cell_type": "markdown",
   "metadata": {},
   "source": [
    "n_clusters=4, affinity='l1', linkage='average'\n",
    "\n",
    "| | Test country | nr. of countries in cluster | MAPE |\n",
    "|:-| :- | :- | :- |\n",
    "| | Algeria | 50 | 0.1091\n",
    "| | Belgium | 21 | 0.6916\n",
    "| | Bangladesh | - | -\n",
    "| | Croatia | - | -\n",
    "|Total:|   | - | -"
   ]
  },
  {
   "cell_type": "markdown",
   "metadata": {},
   "source": [
    "n_clusters=4, affinity='l1', linkage='average'\n",
    "\n",
    "| | Test country | nr. of countries in cluster | MAPE |\n",
    "|:-| :- | :- | :- |\n",
    "| | Algeria | 50 | 0.1091\n",
    "| | Belgium | 21 | 0.6916\n",
    "| | Sweden | 8 | 0.0442\n",
    "| | Tunisia | 2| 5.9562\n",
    "|Total:|   | - | 6.8011"
   ]
  },
  {
   "cell_type": "markdown",
   "metadata": {},
   "source": [
    "n_clusters=4, affinity='l1', linkage='single'\n",
    "\n",
    "| | Test country | nr. of countries in cluster | MAPE |\n",
    "|:-| :- | :- | :- |\n",
    "| | Algeria | 78 | 0.1754\n",
    "| | Belgium | - | -\n",
    "| | Bangladesh | - | -\n",
    "| | Croatia | - | -\n",
    "|Total:|   | - | -"
   ]
  },
  {
   "cell_type": "markdown",
   "metadata": {},
   "source": [
    "n_clusters=4, affinity='l1', linkage='single'\n",
    "\n",
    "| | Test country | nr. of countries in cluster | MAPE |\n",
    "|:-| :- | :- | :- |\n",
    "| | Algeria | 78 | 0.1754\n",
    "| | Belgium | - | -\n",
    "| | Sweden | - | -\n",
    "| | Tunisia | - | -\n",
    "|Total:|   | - | -"
   ]
  },
  {
   "cell_type": "markdown",
   "metadata": {},
   "source": [
    "n_clusters=4, affinity='l2', linkage='complete'\n",
    "\n",
    "| | Test country | nr. of countries in cluster | MAPE |\n",
    "|:-| :- | :- | :- |\n",
    "| | Algeria | 38 | 0.1849\n",
    "| | Belgium | 20 | 0.5905\n",
    "| | Bangladesh | 20 | 0.2875\n",
    "| | Croatia | - | -\n",
    "|Total:|   | - | -"
   ]
  },
  {
   "cell_type": "markdown",
   "metadata": {},
   "source": [
    "n_clusters=4, affinity='l2', linkage='complete'\n",
    "\n",
    "| | Test country | nr. of countries in cluster | MAPE |\n",
    "|:-| :- | :- | :- |\n",
    "| | Algeria | 38 | 0.1849\n",
    "| | Belgium | 20 | 0.5905\n",
    "| | Sweden | 20 | 0.0631\n",
    "| | Tunisia | 3 | 4.7539\n",
    "|Total:|   | - | 5.5924"
   ]
  },
  {
   "cell_type": "markdown",
   "metadata": {},
   "source": [
    "n_clusters=4, affinity='l2', linkage='average'\n",
    "\n",
    "| | Test country | nr. of countries in cluster | MAPE |\n",
    "|:-| :- | :- | :- |\n",
    "| | Algeria | 58 | 0.0956\n",
    "| | Belgium | 20 | 0.5905\n",
    "| | Bangladesh | - | -\n",
    "| | Croatia | - | -\n",
    "|Total:|   | - | -"
   ]
  },
  {
   "cell_type": "markdown",
   "metadata": {},
   "source": [
    "n_clusters=4, affinity='l2', linkage='average'\n",
    "\n",
    "| | Test country | nr. of countries in cluster | MAPE |\n",
    "|:-| :- | :- | :- |\n",
    "| | Algeria | 58 | 0.0956\n",
    "| | Belgium | 20 | 0.5905\n",
    "| | Sweden | - | -\n",
    "| | Tunisia | 2 | 5.9562\n",
    "|Total:|   | - | -"
   ]
  },
  {
   "cell_type": "markdown",
   "metadata": {},
   "source": [
    "n_clusters=4, affinity='l2', linkage='single'\n",
    "\n",
    "| | Test country | nr. of countries in cluster | MAPE |\n",
    "|:-| :- | :- | :- |\n",
    "| | Algeria | 78 | 0.1754\n",
    "| | Belgium | - | -\n",
    "| | Bangladesh | - | -\n",
    "| | Croatia | - | -\n",
    "|Total:|   | - | -"
   ]
  },
  {
   "cell_type": "markdown",
   "metadata": {},
   "source": [
    "n_clusters=4, affinity='l2', linkage='single'\n",
    "\n",
    "| | Test country | nr. of countries in cluster | MAPE |\n",
    "|:-| :- | :- | :- |\n",
    "| | Algeria | 78 | 0.1754\n",
    "| | Belgium | - | -\n",
    "| | Sweden | - | -\n",
    "| | Tunisia | - | -\n",
    "|Total:|   | - | -"
   ]
  },
  {
   "cell_type": "markdown",
   "metadata": {},
   "source": [
    "n_clusters=4, affinity='manhattan', linkage='complete'\n",
    "\n",
    "| | Test country | nr. of countries in cluster | MAPE |\n",
    "|:-| :- | :- | :- |\n",
    "| | Algeria | 38 | 0.1849\n",
    "| | Belgium | 21 | 0.6916\n",
    "| | Bangladesh | 20 | 0.2875\n",
    "| | Croatia | - | -\n",
    "|Total:|   | - | -"
   ]
  },
  {
   "cell_type": "markdown",
   "metadata": {},
   "source": [
    "n_clusters=4, affinity='manhattan', linkage='complete'\n",
    "\n",
    "| | Test country | nr. of countries in cluster | MAPE |\n",
    "|:-| :- | :- | :- |\n",
    "| | Algeria | 38 | 0.1849\n",
    "| | Belgium | 21 | 0.6916\n",
    "| | Sweeden | 20 | 0.0631\n",
    "| | Tunisia | 4  | 5.9562\n",
    "|Total:|    | 83  | 6.8958"
   ]
  },
  {
   "cell_type": "markdown",
   "metadata": {},
   "source": [
    "n_clusters=4, affinity='manhattan', linkage='average'\n",
    "\n",
    "| | Test country | nr. of countries in cluster | MAPE |\n",
    "|:-| :- | :- | :- |\n",
    "| | Algeria | 50 | 0.1091\n",
    "| | Belgium | 21 | 0.6916\n",
    "| | Bangladesh | - | -\n",
    "| | Croatia | - | -\n",
    "|Total:|   | - | -"
   ]
  },
  {
   "cell_type": "markdown",
   "metadata": {},
   "source": [
    "n_clusters=4, affinity='manhattan', linkage='average'\n",
    "\n",
    "| | Test country | nr. of countries in cluster | MAPE |\n",
    "|:-| :- | :- | :- |\n",
    "| | Algeria | 50 | 0.1091\n",
    "| | Belgium | 21 | 0.6916\n",
    "| | Sweden  | 8  | 0.0442\n",
    "| | Tunisia | 2  | 5.9562\n",
    "|Total:|    | -  | 6.8011"
   ]
  },
  {
   "cell_type": "markdown",
   "metadata": {},
   "source": [
    "n_clusters=4, affinity='manhattan', linkage='single'\n",
    "\n",
    "| | Test country | nr. of countries in cluster | MAPE |\n",
    "|:-| :- | :- | :- |\n",
    "| | Algeria | 78 | 0.1754\n",
    "| | Belgium |-  | -\n",
    "| | Bangladesh  |  - | -\n",
    "| | Croatia |  - | -\n",
    "|Total:|    | -  | -"
   ]
  },
  {
   "cell_type": "markdown",
   "metadata": {},
   "source": [
    "n_clusters=4, affinity='manhattan', linkage='single'\n",
    "\n",
    "| | Test country | nr. of countries in cluster | MAPE |\n",
    "|:-| :- | :- | :- |\n",
    "| | Algeria |78 | 0.1754\n",
    "| | Belgium | - | -\n",
    "| | Sweden  | -  | -\n",
    "| | Tunisia | -  | -\n",
    "|Total:|    | -  | "
   ]
  },
  {
   "cell_type": "markdown",
   "metadata": {},
   "source": [
    "n_clusters=4, affinity='cosine', linkage='complete'\n",
    "\n",
    "| | Test country | nr. of countries in cluster | MAPE |\n",
    "|:-| :- | :- | :- |\n",
    "| | Algeria | 38 | 0.1849\n",
    "| | Belgium | 20 | 0.5905\n",
    "| | Bangladesh | 20 | 0.2875\n",
    "| | Croatia | - | -\n",
    "|Total:|   | - | -"
   ]
  },
  {
   "cell_type": "markdown",
   "metadata": {},
   "source": [
    "n_clusters=4, affinity='cosine', linkage='complete'\n",
    "\n",
    "| | Test country | nr. of countries in cluster | MAPE |\n",
    "|:-| :- | :- | :- |\n",
    "| | Algeria | 38 | 0.1849\n",
    "| | Belgium | 20 | 0.5905\n",
    "| | Sweden | 20 | 0.0631\n",
    "| | Tunisia | 3| 4.7539\n",
    "|Total:|   | - | 5.5924"
   ]
  },
  {
   "cell_type": "markdown",
   "metadata": {},
   "source": [
    "n_clusters=4, affinity='cosine', linkage='average'\n",
    "\n",
    "| | Test country | nr. of countries in cluster | MAPE |\n",
    "|:-| :- | :- | :- |\n",
    "| | Algeria | 31 | 0.1676\n",
    "| | Belgium | 20 | 0.5905\n",
    "| | Bangladesh | - | -\n",
    "| | Croatia | 27 | 0.4498\n",
    "|Total:|   | - | -"
   ]
  },
  {
   "cell_type": "markdown",
   "metadata": {},
   "source": [
    "n_clusters=4, affinity='cosine', linkage='average'\n",
    "\n",
    "| | Test country | nr. of countries in cluster | MAPE |\n",
    "|:-| :- | :- | :- |\n",
    "| | Algeria | 31 | 0.1676\n",
    "| | Belgium | 20 | 0.5905\n",
    "| | Sweden | - | -\n",
    "| | Tunisia | 3 | 4.7539\n",
    "|Total:|   | - | -"
   ]
  },
  {
   "cell_type": "markdown",
   "metadata": {},
   "source": [
    "n_clusters=4, affinity='cosine', linkage='single'\n",
    "\n",
    "| | Test country | nr. of countries in cluster | MAPE |\n",
    "|:-| :- | :- | :- |\n",
    "| | Algeria | 78 | 0.1754\n",
    "| | Belgium | - | -\n",
    "| | Bangladesh | - | -\n",
    "| | Croatia | - | -\n",
    "|Total:|   | - | -"
   ]
  },
  {
   "cell_type": "markdown",
   "metadata": {},
   "source": [
    "n_clusters=4, affinity='cosine', linkage='single'\n",
    "\n",
    "| | Test country | nr. of countries in cluster | MAPE |\n",
    "|:-| :- | :- | :- |\n",
    "| | Algeria | 78 | 0.1754\n",
    "| | Belgium | - | -\n",
    "| | Sweden | - | -\n",
    "| | Tunisia | - | -\n",
    "|Total:|   | - | -"
   ]
  }
 ],
 "metadata": {
  "kernelspec": {
   "display_name": "Python 3",
   "language": "python",
   "name": "python3"
  },
  "language_info": {
   "codemirror_mode": {
    "name": "ipython",
    "version": 3
   },
   "file_extension": ".py",
   "mimetype": "text/x-python",
   "name": "python",
   "nbconvert_exporter": "python",
   "pygments_lexer": "ipython3",
   "version": "3.6.10"
  }
 },
 "nbformat": 4,
 "nbformat_minor": 4
}
