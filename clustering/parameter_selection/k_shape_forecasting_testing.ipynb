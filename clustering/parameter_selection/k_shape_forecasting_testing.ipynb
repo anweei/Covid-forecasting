{
 "cells": [
  {
   "cell_type": "code",
   "execution_count": 1,
   "metadata": {},
   "outputs": [
    {
     "name": "stderr",
     "output_type": "stream",
     "text": [
      "/opt/anaconda3/lib/python3.8/site-packages/sklearn/utils/deprecation.py:143: FutureWarning: The sklearn.cluster.k_means_ module is  deprecated in version 0.22 and will be removed in version 0.24. The corresponding classes / functions should instead be imported from sklearn.cluster. Anything that cannot be imported from sklearn.cluster is now part of the private API.\n",
      "  warnings.warn(message, FutureWarning)\n"
     ]
    }
   ],
   "source": [
    "import pandas as pd\n",
    "import matplotlib.pyplot as plt\n",
    "from tslearn.clustering import KShape\n",
    "import numpy as np\n",
    "from catboost import CatBoostRegressor\n",
    "import datetime\n",
    "from sklearn import preprocessing\n",
    "from matplotlib import pyplot as plt\n",
    "import math"
   ]
  },
  {
   "cell_type": "code",
   "execution_count": 2,
   "metadata": {},
   "outputs": [],
   "source": [
    "df_z = pd.read_parquet('../../data/pre_processed/covid_cases_z_trans.parquet')"
   ]
  },
  {
   "cell_type": "markdown",
   "metadata": {},
   "source": [
    "# Forecasting with K_shape"
   ]
  },
  {
   "cell_type": "markdown",
   "metadata": {},
   "source": [
    "This notebook was used to test K-shape clustering in combinantion with forecasting. "
   ]
  },
  {
   "cell_type": "code",
   "execution_count": 3,
   "metadata": {},
   "outputs": [],
   "source": [
    "#Function used to perform prediction. Input: forecasting model, traning dataframe, test dataframe, \n",
    "#list of features, and number of predictions, default 8. Returns dataframe with same format as\n",
    "#additional test_df, with an additional column with predictions.\n",
    "\n",
    "def predict(model, training_df, test_df, feature_list, num_predictions=8):\n",
    "    start_period = 0\n",
    "    end_period = num_predictions\n",
    "    prediction_list = []\n",
    "    \n",
    "    #Generating an encoder for country feature by converting country string to int value\n",
    "    if 'Country' in feature_list:\n",
    "        ns_encoder = preprocessing.LabelEncoder()\n",
    "        training_df['Country'] =  ns_encoder.fit_transform(training_df['Country'])\n",
    "    \n",
    "    #Dataframe with all features\n",
    "    x_training_df = training_df[feature_list].copy()\n",
    "    #Dataframe with all cases\n",
    "    y_training_df = training_df['Cases'].copy().to_frame()\n",
    "    model.fit(x_training_df, np.ravel(y_training_df))\n",
    "    \n",
    "    # Predicting on test set, while end period is not equal to end of length of test_df\n",
    "    while end_period <= len(test_df):\n",
    "        # Collect features from start to end and predict (10-10-2020->17-10-2020)\n",
    "        features_df = test_df[feature_list][start_period:end_period].copy()\n",
    "        #Generating an encoder for country feature by converting country string to int value\n",
    "        if 'Country' in feature_list:\n",
    "            features_df['Country'] = ns_encoder.transform(features_df['Country'])\n",
    "        true_df = test_df[['Cases']][start_period:end_period].copy()\n",
    "        predictions = model.predict(features_df)\n",
    "       \n",
    "        # Add the predicted data\n",
    "        predicted_df = pd.DataFrame(predictions, columns=['predicted'])\n",
    "        predicted_df.index = true_df.index.copy()        \n",
    "        prediction_list.extend(predictions)\n",
    "        # Move to next period\n",
    "        start_period += 1\n",
    "        end_period += 1\n",
    "    \n",
    "    df_result = test_df.assign(Predicted=prediction_list)\n",
    "    return df_result"
   ]
  },
  {
   "cell_type": "code",
   "execution_count": 4,
   "metadata": {},
   "outputs": [],
   "source": [
    "#Function that computes a SMAPE. Input: dataframe including true and prediction,\n",
    "#true_column that specifies which column of df holds the true values and \n",
    "#pred_column that specifies which column of df hold the predicted values\n",
    "def SMAPE(df,true_column,pred_column):\n",
    "    true_list = df[true_column].to_numpy()\n",
    "    pred_list = df[pred_column].to_numpy()\n",
    "    return 1/len(true_list)*np.sum(2*np.abs(pred_list-true_list)/(np.abs(true_list)+np.abs(pred_list))*100)"
   ]
  },
  {
   "cell_type": "code",
   "execution_count": 5,
   "metadata": {},
   "outputs": [],
   "source": [
    "#Function computes an additional column which sums predicted value together to form an accumulated\n",
    "#prediction. Prediction for day 0 is summed to the known total cases the day before.\n",
    "#Input: dataframe contanint all data on test country and dataframe including predictions produced\n",
    "#by def forecast. \n",
    "def accumulated_dataframe_column(df_test_country,CB_df):\n",
    "    test_start_value = df_test_country.loc[df_test_country.index == datetime.datetime(2020,9,9), 'cases_tot'].values[0]\n",
    "    accumulated_list = [math.floor(test_start_value+CB_df['Predicted'][0])]\n",
    "    for i in range(1,len(CB_df)):\n",
    "        accumulated_list.append(math.floor(accumulated_list[i-1]+CB_df['Predicted'][i]))\n",
    "    df_result = CB_df.copy()\n",
    "    df_result['Accumulated_Prediction'] = accumulated_list\n",
    "    return df_result"
   ]
  },
  {
   "cell_type": "markdown",
   "metadata": {},
   "source": [
    "## Creating cluster, k-shape"
   ]
  },
  {
   "cell_type": "markdown",
   "metadata": {},
   "source": [
    "K-Shape is very similar to k-means. The difference is that the k-shape algorithm leverages the knowledge that our data point is time series. With time series, we have more room to operate.\n",
    "\n",
    "K-shape is a partitional clustering method with an iterative refinement procedure much like K-means. However, it is differentiated from K-means because the algorithm leverages the knowledge that the data points are a time series. With time series, one have more room to operate. During the refinement procedure, the algorithm is able to minimize the sum of squared distances and manages to both (i) produce homogeneous and well-separated clusters, and (ii) scale linearly with the number of time series. Initially, the time series are randomly assigned into clusters. \n",
    "\n",
    "The algorithm stops either when (i) there are no changes in cluster memberships, or (ii) the maximum number of iterations allowed is reached. The group have been using the K-shape implementation belonging to the python package tslearn, which provides machine learning tools for analysis of time series. \n",
    "\n",
    "Link to the implementation package from tslearn:\n",
    "https://tslearn.readthedocs.io/en/stable/gen_modules/clustering/tslearn.clustering.KShape.html\n",
    "\n",
    "Source: \n",
    "J. Paparrizos. and L. Gravano. (2015). k-Shape: Efficient and Accurate Clustering of Time Series. Retrieved from: http://www1.cs.columbia.edu/~jopa/Papers/PaparrizosSIGMOD2015.pdf"
   ]
  },
  {
   "cell_type": "code",
   "execution_count": 6,
   "metadata": {},
   "outputs": [],
   "source": [
    "df_trans = df_z.T"
   ]
  },
  {
   "cell_type": "code",
   "execution_count": 7,
   "metadata": {},
   "outputs": [],
   "source": [
    "df_array = df_trans.to_numpy()"
   ]
  },
  {
   "cell_type": "code",
   "execution_count": 8,
   "metadata": {},
   "outputs": [
    {
     "data": {
      "text/plain": [
       "(83, 201)"
      ]
     },
     "execution_count": 8,
     "metadata": {},
     "output_type": "execute_result"
    }
   ],
   "source": [
    "df_array.shape"
   ]
  },
  {
   "cell_type": "code",
   "execution_count": 9,
   "metadata": {},
   "outputs": [],
   "source": [
    "seed = 42\n",
    "np.random.seed(seed)\n",
    "\n",
    "ks = KShape(n_clusters=4, n_init=100, random_state=seed)\n",
    "y_pred = ks.fit_predict(df_array)"
   ]
  },
  {
   "cell_type": "code",
   "execution_count": 10,
   "metadata": {},
   "outputs": [],
   "source": [
    "df_kshape_z_0=df_trans.loc[y_pred==0].transpose()\n",
    "df_kshape_z_1=df_trans.loc[y_pred==1].transpose()\n",
    "df_kshape_z_2=df_trans.loc[y_pred==2].transpose()\n",
    "df_kshape_z_3=df_trans.loc[y_pred==3].transpose()"
   ]
  },
  {
   "cell_type": "markdown",
   "metadata": {},
   "source": [
    "## Selecting test countries"
   ]
  },
  {
   "cell_type": "code",
   "execution_count": 11,
   "metadata": {},
   "outputs": [],
   "source": [
    "df_forecasting = pd.read_parquet('../../data/forecasting_format/dataframe_forecasting_with_features.parquet')"
   ]
  },
  {
   "cell_type": "code",
   "execution_count": 12,
   "metadata": {},
   "outputs": [],
   "source": [
    "Algeria_df = df_forecasting [df_forecasting['Country'].isin(['Algeria'])]"
   ]
  },
  {
   "cell_type": "code",
   "execution_count": 13,
   "metadata": {},
   "outputs": [],
   "source": [
    "test_1_df =  Algeria_df[(Algeria_df.index.date > datetime.date(2020, 9, 9)) & \n",
    "                    (Algeria_df.index.date <= datetime.date(2020, 9, 17))].copy()"
   ]
  },
  {
   "cell_type": "code",
   "execution_count": 14,
   "metadata": {},
   "outputs": [],
   "source": [
    "Belgium_df = df_forecasting[df_forecasting['Country'].isin(['Belgium'])]"
   ]
  },
  {
   "cell_type": "code",
   "execution_count": 15,
   "metadata": {},
   "outputs": [],
   "source": [
    "test_2_df =  Belgium_df[(Belgium_df.index.date > datetime.date(2020, 9, 9)) & \n",
    "                    (Belgium_df.index.date <= datetime.date(2020, 9, 17))].copy()"
   ]
  },
  {
   "cell_type": "code",
   "execution_count": 16,
   "metadata": {},
   "outputs": [],
   "source": [
    "Bangladesh_df = df_forecasting[df_forecasting['Country'].isin(['Bangladesh'])]"
   ]
  },
  {
   "cell_type": "code",
   "execution_count": 17,
   "metadata": {},
   "outputs": [],
   "source": [
    "test_3_df =  Bangladesh_df[(Bangladesh_df.index.date > datetime.date(2020, 9, 9)) & \n",
    "                    (Bangladesh_df.index.date <= datetime.date(2020, 9, 17))].copy()"
   ]
  },
  {
   "cell_type": "code",
   "execution_count": 18,
   "metadata": {},
   "outputs": [],
   "source": [
    "Croatia_df = df_forecasting[df_forecasting['Country'].isin(['Croatia'])]"
   ]
  },
  {
   "cell_type": "code",
   "execution_count": 19,
   "metadata": {},
   "outputs": [],
   "source": [
    "test_4_df =  Croatia_df[(Croatia_df.index.date > datetime.date(2020, 9, 9)) & \n",
    "                    (Croatia_df.index.date <= datetime.date(2020, 9, 17))].copy()"
   ]
  },
  {
   "cell_type": "code",
   "execution_count": 20,
   "metadata": {},
   "outputs": [],
   "source": [
    "selected_clusters = []\n",
    "test_countries_not_used = []"
   ]
  },
  {
   "cell_type": "code",
   "execution_count": 21,
   "metadata": {},
   "outputs": [],
   "source": [
    "def forecasting(k_shape_countries_list,k_shape_df,country_df,test_df):\n",
    "    k_shape_df = df_forecasting[df_forecasting['Country'].isin(k_shape_countries_list)]\n",
    "    k_shape_training_df = k_shape_df[(k_shape_df.index.date >= datetime.date(2020, 3, 1)) & \n",
    "                    (k_shape_df.index.date <= datetime.date(2020, 9, 9))].copy()\n",
    "    feature_list = ['Country','Month','Day','prev_case']\n",
    "    params= {'iterations': 5000, 'silent': True}\n",
    "    model = CatBoostRegressor(**params)\n",
    "    k_shape_CB_df = predict(model=model, training_df=k_shape_training_df.copy(), \n",
    "                                                             test_df=test_df.copy(),\n",
    "                                                             feature_list=feature_list)\n",
    "    k_shape_CB_df = accumulated_dataframe_column(country_df,k_shape_CB_df)\n",
    "    return k_shape_CB_df"
   ]
  },
  {
   "cell_type": "markdown",
   "metadata": {},
   "source": [
    "## Forecasting, cluster with Algeria"
   ]
  },
  {
   "cell_type": "markdown",
   "metadata": {},
   "source": [
    "Select correct cluster"
   ]
  },
  {
   "cell_type": "code",
   "execution_count": 22,
   "metadata": {},
   "outputs": [],
   "source": [
    "if 'Algeria' in df_kshape_z_0.columns and 'df_kshape_z_0' not in selected_clusters:\n",
    "    k_shape_1_df = df_kshape_z_0.copy()\n",
    "    selected_clusters.append('df_kshape_z_0')\n",
    "elif 'Algeria' in df_kshape_z_1.columns and 'df_kshape_z_1' not in selected_clusters:\n",
    "    k_shape_1_df = df_kshape_z_1.copy()\n",
    "    selected_clusters.append('df_kshape_z_1')\n",
    "elif 'Algeria' in df_kshape_z_2.columns and 'df_kshape_z_2' not in selected_clusters:\n",
    "    k_shape_1_df = df_kshape_z_2.copy()\n",
    "    selected_clusters.append('df_kshape_z_2')\n",
    "elif 'Algeria' in df_kshape_z_3.columns and 'df_kshape_z_3' not in selected_clusters:\n",
    "    k_shape_1_df = df_kshape_z_3.copy()\n",
    "    selected_clusters.append('df_kshape_z_3')\n",
    "else:\n",
    "    test_countries_not_used.append('Algeria')"
   ]
  },
  {
   "cell_type": "code",
   "execution_count": 23,
   "metadata": {},
   "outputs": [
    {
     "name": "stdout",
     "output_type": "stream",
     "text": [
      "['df_kshape_z_0']\n",
      "[]\n"
     ]
    }
   ],
   "source": [
    "print(selected_clusters)\n",
    "print(test_countries_not_used)"
   ]
  },
  {
   "cell_type": "code",
   "execution_count": 24,
   "metadata": {},
   "outputs": [],
   "source": [
    "if 'Algeria' not in test_countries_not_used:\n",
    "    k_shape_1_countries_list = list(k_shape_1_df.columns)\n",
    "    k_shape_1_CB_df = forecasting(k_shape_1_countries_list,k_shape_1_df,Algeria_df,test_1_df)"
   ]
  },
  {
   "cell_type": "code",
   "execution_count": 25,
   "metadata": {},
   "outputs": [
    {
     "name": "stdout",
     "output_type": "stream",
     "text": [
      "['Algeria', 'Argentina', 'Australia', 'Bolivia', 'Bulgaria', 'Colombia', 'Costa Rica', 'Dominican Republic', 'El Salvador', 'Ethiopia', 'India', 'Indonesia', 'Iraq', 'Israel', 'Japan', 'Kazakhstan', 'Kenya', 'Malawi', 'Mexico', 'Mozambique', 'Nepal', 'Panama', 'Peru', 'Philippines', 'Romania', 'Rwanda', 'South Africa', 'Ukraine', 'Vietnam', 'Zambia', 'Zimbabwe']\n"
     ]
    }
   ],
   "source": [
    "print(k_shape_1_countries_list)"
   ]
  },
  {
   "cell_type": "code",
   "execution_count": 26,
   "metadata": {},
   "outputs": [
    {
     "name": "stdout",
     "output_type": "stream",
     "text": [
      "31\n"
     ]
    }
   ],
   "source": [
    "print(len(k_shape_1_countries_list))"
   ]
  },
  {
   "cell_type": "code",
   "execution_count": 27,
   "metadata": {},
   "outputs": [
    {
     "data": {
      "text/plain": [
       "<matplotlib.axes._subplots.AxesSubplot at 0x102634e50>"
      ]
     },
     "execution_count": 27,
     "metadata": {},
     "output_type": "execute_result"
    },
    {
     "data": {
      "image/png": "[encoded data removed]",
      "text/plain": [
       "<Figure size 720x360 with 1 Axes>"
      ]
     },
     "metadata": {
      "needs_background": "light"
     },
     "output_type": "display_data"
    }
   ],
   "source": [
    "k_shape_1_CB_df.plot( y=['Accumulated_Prediction', 'cases_tot'], label=['Predicted','True'], color=['red','black'], figsize=(10,5))"
   ]
  },
  {
   "cell_type": "markdown",
   "metadata": {},
   "source": [
    "SMAPE k_shape 1:"
   ]
  },
  {
   "cell_type": "code",
   "execution_count": 28,
   "metadata": {},
   "outputs": [
    {
     "data": {
      "text/plain": [
       "0.2892"
      ]
     },
     "execution_count": 28,
     "metadata": {},
     "output_type": "execute_result"
    }
   ],
   "source": [
    "round(SMAPE(k_shape_1_CB_df,'cases_tot','Accumulated_Prediction'),4)"
   ]
  },
  {
   "cell_type": "markdown",
   "metadata": {},
   "source": [
    "# Cluster with Belgium"
   ]
  },
  {
   "cell_type": "markdown",
   "metadata": {},
   "source": [
    "Select correct cluster"
   ]
  },
  {
   "cell_type": "code",
   "execution_count": 29,
   "metadata": {},
   "outputs": [],
   "source": [
    "if 'Belgium' in df_kshape_z_0.columns and 'df_kshape_z_0' not in selected_clusters:\n",
    "    k_shape_2_df = df_kshape_z_0.copy()\n",
    "    selected_clusters.append('df_kshape_z_0')\n",
    "elif 'Belgium' in df_kshape_z_1.columns and 'df_kshape_z_1' not in selected_clusters:\n",
    "    k_shape_2_df = df_kshape_z_1.copy()\n",
    "    selected_clusters.append('df_kshape_z_1')\n",
    "elif 'Belgium' in df_kshape_z_2.columns and 'df_kshape_z_2' not in selected_clusters:\n",
    "    k_shape_2_df = df_kshape_z_2.copy()\n",
    "    selected_clusters.append('df_kshape_z_2')\n",
    "elif 'Belgium' in df_kshape_z_3.columns and 'df_kshape_z_3' not in selected_clusters:\n",
    "    k_shape_2_df = df_kshape_z_3.copy()\n",
    "    selected_clusters.append('df_kshape_z_3')\n",
    "else:\n",
    "    test_countries_not_used.append('Belgium')"
   ]
  },
  {
   "cell_type": "code",
   "execution_count": 30,
   "metadata": {},
   "outputs": [
    {
     "name": "stdout",
     "output_type": "stream",
     "text": [
      "['df_kshape_z_0', 'df_kshape_z_3']\n",
      "[]\n"
     ]
    }
   ],
   "source": [
    "print(selected_clusters)\n",
    "print(test_countries_not_used)"
   ]
  },
  {
   "cell_type": "code",
   "execution_count": 31,
   "metadata": {},
   "outputs": [],
   "source": [
    "if 'Belgium' not in test_countries_not_used:\n",
    "    k_shape_2_countries_list = list(k_shape_2_df.columns)\n",
    "    k_shape_2_CB_df = forecasting(k_shape_2_countries_list,k_shape_2_df,Belgium_df,test_2_df)"
   ]
  },
  {
   "cell_type": "code",
   "execution_count": 32,
   "metadata": {},
   "outputs": [
    {
     "name": "stdout",
     "output_type": "stream",
     "text": [
      "['Austria', 'Belgium', 'Canada', 'Cuba', 'Denmark', 'Estonia', 'Fiji', 'Finland', 'Iceland', 'Ireland', 'Latvia', 'Malaysia', 'New Zealand', 'Norway', 'Slovenia', 'Switzerland', 'Thailand', 'Turkey', 'United Kingdom', 'Uruguay']\n"
     ]
    }
   ],
   "source": [
    "print(k_shape_2_countries_list)"
   ]
  },
  {
   "cell_type": "code",
   "execution_count": 33,
   "metadata": {},
   "outputs": [
    {
     "name": "stdout",
     "output_type": "stream",
     "text": [
      "20\n"
     ]
    }
   ],
   "source": [
    "print(len(k_shape_2_countries_list))"
   ]
  },
  {
   "cell_type": "code",
   "execution_count": 34,
   "metadata": {},
   "outputs": [
    {
     "data": {
      "text/plain": [
       "<matplotlib.axes._subplots.AxesSubplot at 0x123bb3880>"
      ]
     },
     "execution_count": 34,
     "metadata": {},
     "output_type": "execute_result"
    },
    {
     "data": {
      "image/png": "[encoded data removed]",
      "text/plain": [
       "<Figure size 720x360 with 1 Axes>"
      ]
     },
     "metadata": {
      "needs_background": "light"
     },
     "output_type": "display_data"
    }
   ],
   "source": [
    "k_shape_2_CB_df.plot( y=['Accumulated_Prediction', 'cases_tot'], label=['Predicted','True'], color=['red','black'], figsize=(10,5))"
   ]
  },
  {
   "cell_type": "markdown",
   "metadata": {},
   "source": [
    "SMAPE k_shape 2:"
   ]
  },
  {
   "cell_type": "code",
   "execution_count": 35,
   "metadata": {},
   "outputs": [
    {
     "data": {
      "text/plain": [
       "0.593"
      ]
     },
     "execution_count": 35,
     "metadata": {},
     "output_type": "execute_result"
    }
   ],
   "source": [
    "round(SMAPE(k_shape_2_CB_df,'cases_tot','Accumulated_Prediction'),4)"
   ]
  },
  {
   "cell_type": "markdown",
   "metadata": {},
   "source": [
    "## Cluster with Bangladesh"
   ]
  },
  {
   "cell_type": "markdown",
   "metadata": {},
   "source": [
    "Select correct cluster"
   ]
  },
  {
   "cell_type": "code",
   "execution_count": 36,
   "metadata": {},
   "outputs": [],
   "source": [
    "if 'Bangladesh' in df_kshape_z_0.columns and 'df_kshape_z_0' not in selected_clusters:\n",
    "    k_shape_3_df = df_kshape_z_0.copy()\n",
    "    selected_clusters.append('df_kshape_z_0')\n",
    "elif 'Bangladesh' in df_kshape_z_1.columns  and 'df_kshape_z_1' not in selected_clusters:\n",
    "    k_shape_3_df = df_kshape_z_1.copy()\n",
    "    selected_clusters.append('df_kshape_z_1')\n",
    "elif 'Bangladesh' in df_kshape_z_2.columns and 'df_kshape_z_2' not in selected_clusters:\n",
    "    k_shape_3_df = df_kshape_z_2.copy()\n",
    "    selected_clusters.append('df_kshape_z_2')\n",
    "elif 'Bangladesh' in df_kshape_z_3.columns  and 'df_kshape_z_3' not in selected_clusters:\n",
    "    k_shape_3_df = df_shape_z_3.copy()\n",
    "    selected_clusters.append('df_shape_z_3')\n",
    "else:\n",
    "    test_countries_not_used.append('Bangladesh')"
   ]
  },
  {
   "cell_type": "code",
   "execution_count": 37,
   "metadata": {},
   "outputs": [
    {
     "name": "stdout",
     "output_type": "stream",
     "text": [
      "['df_kshape_z_0', 'df_kshape_z_3', 'df_kshape_z_2']\n",
      "[]\n"
     ]
    }
   ],
   "source": [
    "print(selected_clusters)\n",
    "print(test_countries_not_used)"
   ]
  },
  {
   "cell_type": "code",
   "execution_count": 38,
   "metadata": {},
   "outputs": [],
   "source": [
    "if 'Bangladesh' not in test_countries_not_used:\n",
    "    k_shape_3_countries_list = list(k_shape_3_df.columns)\n",
    "    k_shape_3_CB_df = forecasting(k_shape_3_countries_list,k_shape_3_df,Bangladesh_df,test_3_df)"
   ]
  },
  {
   "cell_type": "code",
   "execution_count": 39,
   "metadata": {},
   "outputs": [
    {
     "name": "stdout",
     "output_type": "stream",
     "text": [
      "['Bahrain', 'Bangladesh', 'Belarus', 'Chile', 'Ghana', 'Iran', 'Kuwait', 'Nigeria', 'Oman', 'Pakistan', 'Poland', 'Qatar', 'Russia', 'Saudi Arabia', 'Senegal', 'Serbia', 'Sri Lanka', 'Sweden', 'Togo', 'United Arab Emirates', 'United States']\n"
     ]
    }
   ],
   "source": [
    "print(k_shape_3_countries_list)"
   ]
  },
  {
   "cell_type": "code",
   "execution_count": 40,
   "metadata": {},
   "outputs": [
    {
     "name": "stdout",
     "output_type": "stream",
     "text": [
      "21\n"
     ]
    }
   ],
   "source": [
    "print(len(k_shape_3_countries_list))"
   ]
  },
  {
   "cell_type": "code",
   "execution_count": 41,
   "metadata": {},
   "outputs": [
    {
     "data": {
      "text/plain": [
       "<matplotlib.axes._subplots.AxesSubplot at 0x1250f3460>"
      ]
     },
     "execution_count": 41,
     "metadata": {},
     "output_type": "execute_result"
    },
    {
     "data": {
      "image/png": "[encoded data removed]",
      "text/plain": [
       "<Figure size 720x360 with 1 Axes>"
      ]
     },
     "metadata": {
      "needs_background": "light"
     },
     "output_type": "display_data"
    }
   ],
   "source": [
    "k_shape_3_CB_df.plot( y=['Accumulated_Prediction', 'cases_tot'], label=['Predicted','True'], color=['red','black'], figsize=(10,5))"
   ]
  },
  {
   "cell_type": "markdown",
   "metadata": {},
   "source": [
    "SMAPE k_shape 3:"
   ]
  },
  {
   "cell_type": "code",
   "execution_count": 42,
   "metadata": {},
   "outputs": [
    {
     "data": {
      "text/plain": [
       "0.2522"
      ]
     },
     "execution_count": 42,
     "metadata": {},
     "output_type": "execute_result"
    }
   ],
   "source": [
    "round(SMAPE(k_shape_3_CB_df,'cases_tot','Accumulated_Prediction'),4)"
   ]
  },
  {
   "cell_type": "markdown",
   "metadata": {},
   "source": [
    "## Cluster with Croatia"
   ]
  },
  {
   "cell_type": "markdown",
   "metadata": {},
   "source": [
    "Select correct cluster"
   ]
  },
  {
   "cell_type": "code",
   "execution_count": 43,
   "metadata": {},
   "outputs": [],
   "source": [
    "if 'Croatia' in df_kshape_z_0.columns and 'df_kshape_z_0' not in selected_clusters:\n",
    "    k_shape_4_df = df_kshape_z_0.copy()\n",
    "    selected_clusters.append('df_kshape_z_0')\n",
    "elif 'Croatia' in df_kshape_z_1.columns and 'df_kshape_z_1' not in selected_clusters:\n",
    "    k_shape_4_df = df_kshape_z_1.copy()\n",
    "    selected_clusters.append('df_kshape_z_1')\n",
    "elif 'Croatia' in df_kshape_z_2.columns and 'df_kshape_z_2' not in selected_clusters:\n",
    "    k_shape_4_df = df_kshape_z_2.copy()\n",
    "    selected_clusters.append('df_kshape_z_2')\n",
    "elif 'Croatia' in df_kshape_z_3.columns and 'df_kshape_z_3' not in selected_clusters:\n",
    "    k_shape_4_df = df_kshape_z_3.copy()\n",
    "    selected_clusters.append('df_kshape_z_3')\n",
    "else:\n",
    "    test_countries_not_used.append('Croatia')"
   ]
  },
  {
   "cell_type": "code",
   "execution_count": 44,
   "metadata": {},
   "outputs": [
    {
     "name": "stdout",
     "output_type": "stream",
     "text": [
      "['df_kshape_z_0', 'df_kshape_z_3', 'df_kshape_z_2', 'df_kshape_z_1']\n",
      "[]\n"
     ]
    }
   ],
   "source": [
    "print(selected_clusters)\n",
    "print(test_countries_not_used)"
   ]
  },
  {
   "cell_type": "code",
   "execution_count": 45,
   "metadata": {},
   "outputs": [],
   "source": [
    "if 'Croatia' not in test_countries_not_used:\n",
    "    k_shape_4_countries_list = list(k_shape_4_df.columns)\n",
    "    k_shape_4_CB_df = forecasting(k_shape_4_countries_list,k_shape_4_df,Croatia_df,test_4_df)"
   ]
  },
  {
   "cell_type": "code",
   "execution_count": 46,
   "metadata": {},
   "outputs": [
    {
     "name": "stdout",
     "output_type": "stream",
     "text": [
      "['Croatia', 'Czech Republic', 'Greece', 'Hungary', 'Malta', 'Morocco', 'Myanmar', 'Paraguay', 'Slovakia', 'South Korea', 'Tunisia']\n"
     ]
    }
   ],
   "source": [
    "print(k_shape_4_countries_list)"
   ]
  },
  {
   "cell_type": "code",
   "execution_count": 47,
   "metadata": {},
   "outputs": [
    {
     "name": "stdout",
     "output_type": "stream",
     "text": [
      "11\n"
     ]
    }
   ],
   "source": [
    "print(len(k_shape_4_countries_list))"
   ]
  },
  {
   "cell_type": "code",
   "execution_count": 48,
   "metadata": {},
   "outputs": [
    {
     "data": {
      "text/plain": [
       "<matplotlib.axes._subplots.AxesSubplot at 0x12512cc10>"
      ]
     },
     "execution_count": 48,
     "metadata": {},
     "output_type": "execute_result"
    },
    {
     "data": {
      "image/png": "[encoded data removed]",
      "text/plain": [
       "<Figure size 720x360 with 1 Axes>"
      ]
     },
     "metadata": {
      "needs_background": "light"
     },
     "output_type": "display_data"
    }
   ],
   "source": [
    "k_shape_4_CB_df.plot( y=['Accumulated_Prediction', 'cases_tot'], label=['Predicted','True'], color=['red','black'], figsize=(10,5))"
   ]
  },
  {
   "cell_type": "markdown",
   "metadata": {},
   "source": [
    "SMAPE k_shape 4:"
   ]
  },
  {
   "cell_type": "code",
   "execution_count": 49,
   "metadata": {},
   "outputs": [
    {
     "data": {
      "text/plain": [
       "0.2838"
      ]
     },
     "execution_count": 49,
     "metadata": {},
     "output_type": "execute_result"
    }
   ],
   "source": [
    "round(SMAPE(k_shape_4_CB_df,'cases_tot','Accumulated_Prediction'),4)"
   ]
  },
  {
   "cell_type": "markdown",
   "metadata": {},
   "source": [
    "Total SMAPE"
   ]
  },
  {
   "cell_type": "code",
   "execution_count": 50,
   "metadata": {},
   "outputs": [
    {
     "data": {
      "text/plain": [
       "1.4182"
      ]
     },
     "execution_count": 50,
     "metadata": {},
     "output_type": "execute_result"
    }
   ],
   "source": [
    "round(SMAPE(k_shape_1_CB_df,'cases_tot','Accumulated_Prediction'),4)+round(SMAPE(k_shape_2_CB_df,'cases_tot','Accumulated_Prediction'),4)+round(SMAPE(k_shape_3_CB_df,'cases_tot','Accumulated_Prediction'),4)+round(SMAPE(k_shape_4_CB_df,'cases_tot','Accumulated_Prediction'),4)"
   ]
  }
 ],
 "metadata": {
  "kernelspec": {
   "display_name": "Python 3",
   "language": "python",
   "name": "python3"
  },
  "language_info": {
   "codemirror_mode": {
    "name": "ipython",
    "version": 3
   },
   "file_extension": ".py",
   "mimetype": "text/x-python",
   "name": "python",
   "nbconvert_exporter": "python",
   "pygments_lexer": "ipython3",
   "version": "3.8.3"
  }
 },
 "nbformat": 4,
 "nbformat_minor": 4
}
