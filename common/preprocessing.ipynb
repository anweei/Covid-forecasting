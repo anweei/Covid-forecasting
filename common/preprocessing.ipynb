{
 "cells": [
  {
   "cell_type": "code",
   "execution_count": null,
   "metadata": {},
   "outputs": [],
   "source": [
    "#pip install fastparquet <- needs to be installed first time running"
   ]
  },
  {
   "cell_type": "code",
   "execution_count": null,
   "metadata": {},
   "outputs": [],
   "source": [
    "#pip install pyarrow"
   ]
  },
  {
   "cell_type": "code",
   "execution_count": 3,
   "metadata": {},
   "outputs": [],
   "source": [
    "import pandas as pd"
   ]
  },
  {
   "cell_type": "code",
   "execution_count": 4,
   "metadata": {},
   "outputs": [],
   "source": [
    "df_org_data = pd.read_csv('Data.csv')"
   ]
  },
  {
   "cell_type": "markdown",
   "metadata": {},
   "source": [
    "# Preprocessing dataframe #"
   ]
  },
  {
   "cell_type": "markdown",
   "metadata": {},
   "source": [
    "## Introduction"
   ]
  },
  {
   "cell_type": "markdown",
   "metadata": {},
   "source": [
    "This notebook was used to preprocess the raw covid data.csv file to generate a dataframe appropiate for clustering. The covid data.csv file has been splitt up into two dataframes, to avoid unecessary high dimennsion. All duplicate information such as Continent, Latitude, Longitude, Average temperature per year etc. has been removed from the resulting dataframes in this notebook, and rather stored in lookup table, see \"generating_lookup_table.ipynb\".  "
   ]
  },
  {
   "cell_type": "markdown",
   "metadata": {},
   "source": [
    "Chocen start date: 2020-03-01, end date: 2020-09-17"
   ]
  },
  {
   "cell_type": "markdown",
   "metadata": {},
   "source": [
    "#### Continues time series"
   ]
  },
  {
   "cell_type": "markdown",
   "metadata": {},
   "source": [
    "Observe that Algeria misses data for 2020-03-03, the \"Date\" column jumps from 2020-03-02 -> 2020-03-04. Solution propossed:\n",
    "1). Add NaN value for all days betweenn start date and end date where day origianl was missing. \n",
    "2). Convert all NaN values to zero\n",
    "3). Use forward fill to convert all zeros appearing after first detected case to most recent past value"
   ]
  },
  {
   "cell_type": "code",
   "execution_count": 5,
   "metadata": {
    "scrolled": true
   },
   "outputs": [
    {
     "data": {
      "text/html": [
       "<div>\n",
       "<style scoped>\n",
       "    .dataframe tbody tr th:only-of-type {\n",
       "        vertical-align: middle;\n",
       "    }\n",
       "\n",
       "    .dataframe tbody tr th {\n",
       "        vertical-align: top;\n",
       "    }\n",
       "\n",
       "    .dataframe thead th {\n",
       "        text-align: right;\n",
       "    }\n",
       "</style>\n",
       "<table border=\"1\" class=\"dataframe\">\n",
       "  <thead>\n",
       "    <tr style=\"text-align: right;\">\n",
       "      <th></th>\n",
       "      <th>Entity</th>\n",
       "      <th>Continent</th>\n",
       "      <th>Latitude</th>\n",
       "      <th>Longitude</th>\n",
       "      <th>Average temperature per year</th>\n",
       "      <th>Hospital beds per 1000 people</th>\n",
       "      <th>Medical doctors per 1000 people</th>\n",
       "      <th>GDP/Capita</th>\n",
       "      <th>Population</th>\n",
       "      <th>Median age</th>\n",
       "      <th>Population aged 65 and over (%)</th>\n",
       "      <th>Date</th>\n",
       "      <th>Daily tests</th>\n",
       "      <th>Cases</th>\n",
       "      <th>Deaths</th>\n",
       "    </tr>\n",
       "  </thead>\n",
       "  <tbody>\n",
       "    <tr>\n",
       "      <th>61</th>\n",
       "      <td>Algeria</td>\n",
       "      <td>Africa</td>\n",
       "      <td>28.03</td>\n",
       "      <td>1.66</td>\n",
       "      <td>25</td>\n",
       "      <td>1.9</td>\n",
       "      <td>1.83</td>\n",
       "      <td>4044.3</td>\n",
       "      <td>41318142</td>\n",
       "      <td>29</td>\n",
       "      <td>6</td>\n",
       "      <td>2020-03-01</td>\n",
       "      <td>NaN</td>\n",
       "      <td>3.0</td>\n",
       "      <td>0.0</td>\n",
       "    </tr>\n",
       "    <tr>\n",
       "      <th>62</th>\n",
       "      <td>Algeria</td>\n",
       "      <td>Africa</td>\n",
       "      <td>28.03</td>\n",
       "      <td>1.66</td>\n",
       "      <td>25</td>\n",
       "      <td>1.9</td>\n",
       "      <td>1.83</td>\n",
       "      <td>4044.3</td>\n",
       "      <td>41318142</td>\n",
       "      <td>29</td>\n",
       "      <td>6</td>\n",
       "      <td>2020-03-02</td>\n",
       "      <td>NaN</td>\n",
       "      <td>3.0</td>\n",
       "      <td>0.0</td>\n",
       "    </tr>\n",
       "    <tr>\n",
       "      <th>63</th>\n",
       "      <td>Algeria</td>\n",
       "      <td>Africa</td>\n",
       "      <td>28.03</td>\n",
       "      <td>1.66</td>\n",
       "      <td>25</td>\n",
       "      <td>1.9</td>\n",
       "      <td>1.83</td>\n",
       "      <td>4044.3</td>\n",
       "      <td>41318142</td>\n",
       "      <td>29</td>\n",
       "      <td>6</td>\n",
       "      <td>2020-03-04</td>\n",
       "      <td>NaN</td>\n",
       "      <td>5.0</td>\n",
       "      <td>0.0</td>\n",
       "    </tr>\n",
       "  </tbody>\n",
       "</table>\n",
       "</div>"
      ],
      "text/plain": [
       "     Entity Continent  Latitude  Longitude  Average temperature per year  \\\n",
       "61  Algeria    Africa     28.03       1.66                            25   \n",
       "62  Algeria    Africa     28.03       1.66                            25   \n",
       "63  Algeria    Africa     28.03       1.66                            25   \n",
       "\n",
       "    Hospital beds per 1000 people  Medical doctors per 1000 people  \\\n",
       "61                            1.9                             1.83   \n",
       "62                            1.9                             1.83   \n",
       "63                            1.9                             1.83   \n",
       "\n",
       "    GDP/Capita  Population  Median age  Population aged 65 and over (%)  \\\n",
       "61      4044.3    41318142          29                                6   \n",
       "62      4044.3    41318142          29                                6   \n",
       "63      4044.3    41318142          29                                6   \n",
       "\n",
       "          Date  Daily tests  Cases  Deaths  \n",
       "61  2020-03-01          NaN    3.0     0.0  \n",
       "62  2020-03-02          NaN    3.0     0.0  \n",
       "63  2020-03-04          NaN    5.0     0.0  "
      ]
     },
     "execution_count": 5,
     "metadata": {},
     "output_type": "execute_result"
    }
   ],
   "source": [
    "df_org_data[61:64]"
   ]
  },
  {
   "cell_type": "markdown",
   "metadata": {},
   "source": [
    "## Formating ##"
   ]
  },
  {
   "cell_type": "code",
   "execution_count": 6,
   "metadata": {},
   "outputs": [
    {
     "data": {
      "text/html": [
       "<div>\n",
       "<style scoped>\n",
       "    .dataframe tbody tr th:only-of-type {\n",
       "        vertical-align: middle;\n",
       "    }\n",
       "\n",
       "    .dataframe tbody tr th {\n",
       "        vertical-align: top;\n",
       "    }\n",
       "\n",
       "    .dataframe thead th {\n",
       "        text-align: right;\n",
       "    }\n",
       "</style>\n",
       "<table border=\"1\" class=\"dataframe\">\n",
       "  <thead>\n",
       "    <tr style=\"text-align: right;\">\n",
       "      <th></th>\n",
       "      <th>Entity</th>\n",
       "      <th>Continent</th>\n",
       "      <th>Latitude</th>\n",
       "      <th>Longitude</th>\n",
       "      <th>Average temperature per year</th>\n",
       "      <th>Hospital beds per 1000 people</th>\n",
       "      <th>Medical doctors per 1000 people</th>\n",
       "      <th>GDP/Capita</th>\n",
       "      <th>Population</th>\n",
       "      <th>Median age</th>\n",
       "      <th>Population aged 65 and over (%)</th>\n",
       "      <th>Date</th>\n",
       "      <th>Daily tests</th>\n",
       "      <th>Cases</th>\n",
       "      <th>Deaths</th>\n",
       "    </tr>\n",
       "  </thead>\n",
       "  <tbody>\n",
       "    <tr>\n",
       "      <th>0</th>\n",
       "      <td>Algeria</td>\n",
       "      <td>Africa</td>\n",
       "      <td>28.03</td>\n",
       "      <td>1.66</td>\n",
       "      <td>25</td>\n",
       "      <td>1.9</td>\n",
       "      <td>1.83</td>\n",
       "      <td>4044.3</td>\n",
       "      <td>41318142</td>\n",
       "      <td>29</td>\n",
       "      <td>6</td>\n",
       "      <td>2019-12-31</td>\n",
       "      <td>NaN</td>\n",
       "      <td>0.0</td>\n",
       "      <td>0.0</td>\n",
       "    </tr>\n",
       "    <tr>\n",
       "      <th>1</th>\n",
       "      <td>Algeria</td>\n",
       "      <td>Africa</td>\n",
       "      <td>28.03</td>\n",
       "      <td>1.66</td>\n",
       "      <td>25</td>\n",
       "      <td>1.9</td>\n",
       "      <td>1.83</td>\n",
       "      <td>4044.3</td>\n",
       "      <td>41318142</td>\n",
       "      <td>29</td>\n",
       "      <td>6</td>\n",
       "      <td>2020-01-01</td>\n",
       "      <td>NaN</td>\n",
       "      <td>0.0</td>\n",
       "      <td>0.0</td>\n",
       "    </tr>\n",
       "    <tr>\n",
       "      <th>2</th>\n",
       "      <td>Algeria</td>\n",
       "      <td>Africa</td>\n",
       "      <td>28.03</td>\n",
       "      <td>1.66</td>\n",
       "      <td>25</td>\n",
       "      <td>1.9</td>\n",
       "      <td>1.83</td>\n",
       "      <td>4044.3</td>\n",
       "      <td>41318142</td>\n",
       "      <td>29</td>\n",
       "      <td>6</td>\n",
       "      <td>2020-01-02</td>\n",
       "      <td>NaN</td>\n",
       "      <td>0.0</td>\n",
       "      <td>0.0</td>\n",
       "    </tr>\n",
       "    <tr>\n",
       "      <th>3</th>\n",
       "      <td>Algeria</td>\n",
       "      <td>Africa</td>\n",
       "      <td>28.03</td>\n",
       "      <td>1.66</td>\n",
       "      <td>25</td>\n",
       "      <td>1.9</td>\n",
       "      <td>1.83</td>\n",
       "      <td>4044.3</td>\n",
       "      <td>41318142</td>\n",
       "      <td>29</td>\n",
       "      <td>6</td>\n",
       "      <td>2020-01-03</td>\n",
       "      <td>NaN</td>\n",
       "      <td>0.0</td>\n",
       "      <td>0.0</td>\n",
       "    </tr>\n",
       "  </tbody>\n",
       "</table>\n",
       "</div>"
      ],
      "text/plain": [
       "    Entity Continent  Latitude  Longitude  Average temperature per year  \\\n",
       "0  Algeria    Africa     28.03       1.66                            25   \n",
       "1  Algeria    Africa     28.03       1.66                            25   \n",
       "2  Algeria    Africa     28.03       1.66                            25   \n",
       "3  Algeria    Africa     28.03       1.66                            25   \n",
       "\n",
       "   Hospital beds per 1000 people  Medical doctors per 1000 people  GDP/Capita  \\\n",
       "0                            1.9                             1.83      4044.3   \n",
       "1                            1.9                             1.83      4044.3   \n",
       "2                            1.9                             1.83      4044.3   \n",
       "3                            1.9                             1.83      4044.3   \n",
       "\n",
       "   Population  Median age  Population aged 65 and over (%)        Date  \\\n",
       "0    41318142          29                                6  2019-12-31   \n",
       "1    41318142          29                                6  2020-01-01   \n",
       "2    41318142          29                                6  2020-01-02   \n",
       "3    41318142          29                                6  2020-01-03   \n",
       "\n",
       "   Daily tests  Cases  Deaths  \n",
       "0          NaN    0.0     0.0  \n",
       "1          NaN    0.0     0.0  \n",
       "2          NaN    0.0     0.0  \n",
       "3          NaN    0.0     0.0  "
      ]
     },
     "execution_count": 6,
     "metadata": {},
     "output_type": "execute_result"
    }
   ],
   "source": [
    "df_org_data.head(4)"
   ]
  },
  {
   "cell_type": "code",
   "execution_count": 7,
   "metadata": {},
   "outputs": [],
   "source": [
    "df_mod = df_org_data.copy()"
   ]
  },
  {
   "cell_type": "markdown",
   "metadata": {},
   "source": [
    "Removing irrelevant columns"
   ]
  },
  {
   "cell_type": "code",
   "execution_count": 8,
   "metadata": {},
   "outputs": [],
   "source": [
    "df_mod.drop(['Continent', 'Latitude', 'Longitude', 'Average temperature per year', 'Hospital beds per 1000 people', 'Medical doctors per 1000 people', 'GDP/Capita','Population', 'Median age', 'Population aged 65 and over (%)','Daily tests', 'Deaths'], axis=1, inplace=True)"
   ]
  },
  {
   "cell_type": "code",
   "execution_count": 9,
   "metadata": {},
   "outputs": [
    {
     "data": {
      "text/html": [
       "<div>\n",
       "<style scoped>\n",
       "    .dataframe tbody tr th:only-of-type {\n",
       "        vertical-align: middle;\n",
       "    }\n",
       "\n",
       "    .dataframe tbody tr th {\n",
       "        vertical-align: top;\n",
       "    }\n",
       "\n",
       "    .dataframe thead th {\n",
       "        text-align: right;\n",
       "    }\n",
       "</style>\n",
       "<table border=\"1\" class=\"dataframe\">\n",
       "  <thead>\n",
       "    <tr style=\"text-align: right;\">\n",
       "      <th></th>\n",
       "      <th>Entity</th>\n",
       "      <th>Date</th>\n",
       "      <th>Cases</th>\n",
       "    </tr>\n",
       "  </thead>\n",
       "  <tbody>\n",
       "    <tr>\n",
       "      <th>0</th>\n",
       "      <td>Algeria</td>\n",
       "      <td>2019-12-31</td>\n",
       "      <td>0.0</td>\n",
       "    </tr>\n",
       "    <tr>\n",
       "      <th>1</th>\n",
       "      <td>Algeria</td>\n",
       "      <td>2020-01-01</td>\n",
       "      <td>0.0</td>\n",
       "    </tr>\n",
       "    <tr>\n",
       "      <th>2</th>\n",
       "      <td>Algeria</td>\n",
       "      <td>2020-01-02</td>\n",
       "      <td>0.0</td>\n",
       "    </tr>\n",
       "    <tr>\n",
       "      <th>3</th>\n",
       "      <td>Algeria</td>\n",
       "      <td>2020-01-03</td>\n",
       "      <td>0.0</td>\n",
       "    </tr>\n",
       "    <tr>\n",
       "      <th>4</th>\n",
       "      <td>Algeria</td>\n",
       "      <td>2020-01-04</td>\n",
       "      <td>0.0</td>\n",
       "    </tr>\n",
       "    <tr>\n",
       "      <th>...</th>\n",
       "      <td>...</td>\n",
       "      <td>...</td>\n",
       "      <td>...</td>\n",
       "    </tr>\n",
       "    <tr>\n",
       "      <th>20943</th>\n",
       "      <td>Zimbabwe</td>\n",
       "      <td>2020-09-14</td>\n",
       "      <td>7526.0</td>\n",
       "    </tr>\n",
       "    <tr>\n",
       "      <th>20944</th>\n",
       "      <td>Zimbabwe</td>\n",
       "      <td>2020-09-15</td>\n",
       "      <td>7531.0</td>\n",
       "    </tr>\n",
       "    <tr>\n",
       "      <th>20945</th>\n",
       "      <td>Zimbabwe</td>\n",
       "      <td>2020-09-16</td>\n",
       "      <td>7576.0</td>\n",
       "    </tr>\n",
       "    <tr>\n",
       "      <th>20946</th>\n",
       "      <td>Zimbabwe</td>\n",
       "      <td>2020-09-17</td>\n",
       "      <td>7598.0</td>\n",
       "    </tr>\n",
       "    <tr>\n",
       "      <th>20947</th>\n",
       "      <td>Zimbabwe</td>\n",
       "      <td>2020-09-18</td>\n",
       "      <td>7633.0</td>\n",
       "    </tr>\n",
       "  </tbody>\n",
       "</table>\n",
       "<p>20948 rows × 3 columns</p>\n",
       "</div>"
      ],
      "text/plain": [
       "         Entity        Date   Cases\n",
       "0       Algeria  2019-12-31     0.0\n",
       "1       Algeria  2020-01-01     0.0\n",
       "2       Algeria  2020-01-02     0.0\n",
       "3       Algeria  2020-01-03     0.0\n",
       "4       Algeria  2020-01-04     0.0\n",
       "...         ...         ...     ...\n",
       "20943  Zimbabwe  2020-09-14  7526.0\n",
       "20944  Zimbabwe  2020-09-15  7531.0\n",
       "20945  Zimbabwe  2020-09-16  7576.0\n",
       "20946  Zimbabwe  2020-09-17  7598.0\n",
       "20947  Zimbabwe  2020-09-18  7633.0\n",
       "\n",
       "[20948 rows x 3 columns]"
      ]
     },
     "execution_count": 9,
     "metadata": {},
     "output_type": "execute_result"
    }
   ],
   "source": [
    "df_mod"
   ]
  },
  {
   "cell_type": "markdown",
   "metadata": {},
   "source": [
    "Remove outlier countries"
   ]
  },
  {
   "cell_type": "code",
   "execution_count": 10,
   "metadata": {},
   "outputs": [],
   "source": [
    "with open('../anne/outlier_country_liste.txt') as f:\n",
    "    outlier_countries_list = f.read().splitlines()"
   ]
  },
  {
   "cell_type": "code",
   "execution_count": 11,
   "metadata": {},
   "outputs": [
    {
     "data": {
      "text/plain": [
       "['Luxembourg',\n",
       " 'Uganda',\n",
       " 'Spain',\n",
       " 'Italy',\n",
       " 'Ecuador',\n",
       " 'Portugal',\n",
       " 'France',\n",
       " 'Lithuania']"
      ]
     },
     "execution_count": 11,
     "metadata": {},
     "output_type": "execute_result"
    }
   ],
   "source": [
    "outlier_countries_list"
   ]
  },
  {
   "cell_type": "code",
   "execution_count": 12,
   "metadata": {},
   "outputs": [],
   "source": [
    "df_mod = df_mod[~df_mod['Entity'].isin(outlier_countries_list)]"
   ]
  },
  {
   "cell_type": "markdown",
   "metadata": {},
   "source": [
    "Converting df_mod to use \"Date\" column as index:"
   ]
  },
  {
   "cell_type": "code",
   "execution_count": 13,
   "metadata": {},
   "outputs": [],
   "source": [
    "df_mod.set_index('Date', inplace=True)"
   ]
  },
  {
   "cell_type": "code",
   "execution_count": 14,
   "metadata": {},
   "outputs": [],
   "source": [
    "df_mod.index = pd.to_datetime(df_mod.index)"
   ]
  },
  {
   "cell_type": "markdown",
   "metadata": {},
   "source": [
    "Creating referance DatetimeIndex dataframe with desired start and end date"
   ]
  },
  {
   "cell_type": "code",
   "execution_count": 15,
   "metadata": {},
   "outputs": [],
   "source": [
    "df_index = pd.date_range(start='3/1/2020', end='09/17/2020')"
   ]
  },
  {
   "cell_type": "code",
   "execution_count": 16,
   "metadata": {
    "scrolled": true
   },
   "outputs": [
    {
     "data": {
      "text/plain": [
       "DatetimeIndex(['2020-03-01', '2020-03-02', '2020-03-03', '2020-03-04',\n",
       "               '2020-03-05', '2020-03-06', '2020-03-07', '2020-03-08',\n",
       "               '2020-03-09', '2020-03-10',\n",
       "               ...\n",
       "               '2020-09-08', '2020-09-09', '2020-09-10', '2020-09-11',\n",
       "               '2020-09-12', '2020-09-13', '2020-09-14', '2020-09-15',\n",
       "               '2020-09-16', '2020-09-17'],\n",
       "              dtype='datetime64[ns]', length=201, freq='D')"
      ]
     },
     "execution_count": 16,
     "metadata": {},
     "output_type": "execute_result"
    }
   ],
   "source": [
    "df_index"
   ]
  },
  {
   "cell_type": "code",
   "execution_count": 17,
   "metadata": {
    "scrolled": true
   },
   "outputs": [],
   "source": [
    "df_empty_index = pd.DataFrame(columns=[], index=df_index)"
   ]
  },
  {
   "cell_type": "code",
   "execution_count": 18,
   "metadata": {},
   "outputs": [
    {
     "data": {
      "text/html": [
       "<div>\n",
       "<style scoped>\n",
       "    .dataframe tbody tr th:only-of-type {\n",
       "        vertical-align: middle;\n",
       "    }\n",
       "\n",
       "    .dataframe tbody tr th {\n",
       "        vertical-align: top;\n",
       "    }\n",
       "\n",
       "    .dataframe thead th {\n",
       "        text-align: right;\n",
       "    }\n",
       "</style>\n",
       "<table border=\"1\" class=\"dataframe\">\n",
       "  <thead>\n",
       "    <tr style=\"text-align: right;\">\n",
       "      <th></th>\n",
       "    </tr>\n",
       "  </thead>\n",
       "  <tbody>\n",
       "    <tr>\n",
       "      <th>2020-03-01</th>\n",
       "    </tr>\n",
       "    <tr>\n",
       "      <th>2020-03-02</th>\n",
       "    </tr>\n",
       "    <tr>\n",
       "      <th>2020-03-03</th>\n",
       "    </tr>\n",
       "    <tr>\n",
       "      <th>2020-03-04</th>\n",
       "    </tr>\n",
       "  </tbody>\n",
       "</table>\n",
       "</div>"
      ],
      "text/plain": [
       "Empty DataFrame\n",
       "Columns: []\n",
       "Index: [2020-03-01 00:00:00, 2020-03-02 00:00:00, 2020-03-03 00:00:00, 2020-03-04 00:00:00]"
      ]
     },
     "execution_count": 18,
     "metadata": {},
     "output_type": "execute_result"
    }
   ],
   "source": [
    "df_empty_index.head(4)"
   ]
  },
  {
   "cell_type": "markdown",
   "metadata": {},
   "source": [
    "Converting df_mod to desired format with country as column name and Date as index:"
   ]
  },
  {
   "cell_type": "code",
   "execution_count": 19,
   "metadata": {},
   "outputs": [],
   "source": [
    "countries = df_mod['Entity'].unique()"
   ]
  },
  {
   "cell_type": "code",
   "execution_count": 20,
   "metadata": {},
   "outputs": [],
   "source": [
    "frame={}\n",
    "for country in countries:\n",
    "    temp_segment = df_mod[df_mod['Entity'] == country].copy()\n",
    "    frame.update({country: temp_segment['Cases']})\n",
    "df_temp = pd.concat(frame, join='outer', axis=1)"
   ]
  },
  {
   "cell_type": "code",
   "execution_count": 21,
   "metadata": {
    "scrolled": true
   },
   "outputs": [
    {
     "data": {
      "text/html": [
       "<div>\n",
       "<style scoped>\n",
       "    .dataframe tbody tr th:only-of-type {\n",
       "        vertical-align: middle;\n",
       "    }\n",
       "\n",
       "    .dataframe tbody tr th {\n",
       "        vertical-align: top;\n",
       "    }\n",
       "\n",
       "    .dataframe thead th {\n",
       "        text-align: right;\n",
       "    }\n",
       "</style>\n",
       "<table border=\"1\" class=\"dataframe\">\n",
       "  <thead>\n",
       "    <tr style=\"text-align: right;\">\n",
       "      <th></th>\n",
       "      <th>Algeria</th>\n",
       "      <th>Argentina</th>\n",
       "      <th>Australia</th>\n",
       "      <th>Austria</th>\n",
       "      <th>Bahrain</th>\n",
       "      <th>Bangladesh</th>\n",
       "      <th>Belarus</th>\n",
       "      <th>Belgium</th>\n",
       "      <th>Bolivia</th>\n",
       "      <th>Bulgaria</th>\n",
       "      <th>...</th>\n",
       "      <th>Tunisia</th>\n",
       "      <th>Turkey</th>\n",
       "      <th>Ukraine</th>\n",
       "      <th>United Arab Emirates</th>\n",
       "      <th>United Kingdom</th>\n",
       "      <th>United States</th>\n",
       "      <th>Uruguay</th>\n",
       "      <th>Vietnam</th>\n",
       "      <th>Zambia</th>\n",
       "      <th>Zimbabwe</th>\n",
       "    </tr>\n",
       "    <tr>\n",
       "      <th>Date</th>\n",
       "      <th></th>\n",
       "      <th></th>\n",
       "      <th></th>\n",
       "      <th></th>\n",
       "      <th></th>\n",
       "      <th></th>\n",
       "      <th></th>\n",
       "      <th></th>\n",
       "      <th></th>\n",
       "      <th></th>\n",
       "      <th></th>\n",
       "      <th></th>\n",
       "      <th></th>\n",
       "      <th></th>\n",
       "      <th></th>\n",
       "      <th></th>\n",
       "      <th></th>\n",
       "      <th></th>\n",
       "      <th></th>\n",
       "      <th></th>\n",
       "      <th></th>\n",
       "    </tr>\n",
       "  </thead>\n",
       "  <tbody>\n",
       "    <tr>\n",
       "      <th>2019-12-31</th>\n",
       "      <td>0.0</td>\n",
       "      <td>NaN</td>\n",
       "      <td>0.0</td>\n",
       "      <td>0.0</td>\n",
       "      <td>0.0</td>\n",
       "      <td>NaN</td>\n",
       "      <td>0.0</td>\n",
       "      <td>0.0</td>\n",
       "      <td>NaN</td>\n",
       "      <td>NaN</td>\n",
       "      <td>...</td>\n",
       "      <td>NaN</td>\n",
       "      <td>NaN</td>\n",
       "      <td>NaN</td>\n",
       "      <td>0.0</td>\n",
       "      <td>0.0</td>\n",
       "      <td>0.0</td>\n",
       "      <td>NaN</td>\n",
       "      <td>0.0</td>\n",
       "      <td>NaN</td>\n",
       "      <td>NaN</td>\n",
       "    </tr>\n",
       "    <tr>\n",
       "      <th>2020-01-01</th>\n",
       "      <td>0.0</td>\n",
       "      <td>NaN</td>\n",
       "      <td>0.0</td>\n",
       "      <td>0.0</td>\n",
       "      <td>0.0</td>\n",
       "      <td>NaN</td>\n",
       "      <td>0.0</td>\n",
       "      <td>0.0</td>\n",
       "      <td>NaN</td>\n",
       "      <td>NaN</td>\n",
       "      <td>...</td>\n",
       "      <td>NaN</td>\n",
       "      <td>NaN</td>\n",
       "      <td>NaN</td>\n",
       "      <td>0.0</td>\n",
       "      <td>0.0</td>\n",
       "      <td>0.0</td>\n",
       "      <td>NaN</td>\n",
       "      <td>0.0</td>\n",
       "      <td>NaN</td>\n",
       "      <td>NaN</td>\n",
       "    </tr>\n",
       "    <tr>\n",
       "      <th>2020-01-02</th>\n",
       "      <td>0.0</td>\n",
       "      <td>NaN</td>\n",
       "      <td>0.0</td>\n",
       "      <td>0.0</td>\n",
       "      <td>0.0</td>\n",
       "      <td>NaN</td>\n",
       "      <td>0.0</td>\n",
       "      <td>0.0</td>\n",
       "      <td>NaN</td>\n",
       "      <td>NaN</td>\n",
       "      <td>...</td>\n",
       "      <td>NaN</td>\n",
       "      <td>NaN</td>\n",
       "      <td>NaN</td>\n",
       "      <td>0.0</td>\n",
       "      <td>0.0</td>\n",
       "      <td>0.0</td>\n",
       "      <td>NaN</td>\n",
       "      <td>0.0</td>\n",
       "      <td>NaN</td>\n",
       "      <td>NaN</td>\n",
       "    </tr>\n",
       "    <tr>\n",
       "      <th>2020-01-03</th>\n",
       "      <td>0.0</td>\n",
       "      <td>NaN</td>\n",
       "      <td>0.0</td>\n",
       "      <td>0.0</td>\n",
       "      <td>0.0</td>\n",
       "      <td>NaN</td>\n",
       "      <td>0.0</td>\n",
       "      <td>0.0</td>\n",
       "      <td>NaN</td>\n",
       "      <td>NaN</td>\n",
       "      <td>...</td>\n",
       "      <td>NaN</td>\n",
       "      <td>NaN</td>\n",
       "      <td>NaN</td>\n",
       "      <td>0.0</td>\n",
       "      <td>0.0</td>\n",
       "      <td>0.0</td>\n",
       "      <td>NaN</td>\n",
       "      <td>0.0</td>\n",
       "      <td>NaN</td>\n",
       "      <td>NaN</td>\n",
       "    </tr>\n",
       "  </tbody>\n",
       "</table>\n",
       "<p>4 rows × 83 columns</p>\n",
       "</div>"
      ],
      "text/plain": [
       "            Algeria  Argentina  Australia  Austria  Bahrain  Bangladesh  \\\n",
       "Date                                                                      \n",
       "2019-12-31      0.0        NaN        0.0      0.0      0.0         NaN   \n",
       "2020-01-01      0.0        NaN        0.0      0.0      0.0         NaN   \n",
       "2020-01-02      0.0        NaN        0.0      0.0      0.0         NaN   \n",
       "2020-01-03      0.0        NaN        0.0      0.0      0.0         NaN   \n",
       "\n",
       "            Belarus  Belgium  Bolivia  Bulgaria  ...  Tunisia  Turkey  \\\n",
       "Date                                             ...                    \n",
       "2019-12-31      0.0      0.0      NaN       NaN  ...      NaN     NaN   \n",
       "2020-01-01      0.0      0.0      NaN       NaN  ...      NaN     NaN   \n",
       "2020-01-02      0.0      0.0      NaN       NaN  ...      NaN     NaN   \n",
       "2020-01-03      0.0      0.0      NaN       NaN  ...      NaN     NaN   \n",
       "\n",
       "            Ukraine  United Arab Emirates  United Kingdom  United States  \\\n",
       "Date                                                                       \n",
       "2019-12-31      NaN                   0.0             0.0            0.0   \n",
       "2020-01-01      NaN                   0.0             0.0            0.0   \n",
       "2020-01-02      NaN                   0.0             0.0            0.0   \n",
       "2020-01-03      NaN                   0.0             0.0            0.0   \n",
       "\n",
       "            Uruguay  Vietnam  Zambia  Zimbabwe  \n",
       "Date                                            \n",
       "2019-12-31      NaN      0.0     NaN       NaN  \n",
       "2020-01-01      NaN      0.0     NaN       NaN  \n",
       "2020-01-02      NaN      0.0     NaN       NaN  \n",
       "2020-01-03      NaN      0.0     NaN       NaN  \n",
       "\n",
       "[4 rows x 83 columns]"
      ]
     },
     "execution_count": 21,
     "metadata": {},
     "output_type": "execute_result"
    }
   ],
   "source": [
    "df_temp.head(4)"
   ]
  },
  {
   "cell_type": "markdown",
   "metadata": {},
   "source": [
    "Joining df_temp with df_empty_index (containg desired index) to achive desired index start, end and interval in df_temp:"
   ]
  },
  {
   "cell_type": "code",
   "execution_count": 22,
   "metadata": {},
   "outputs": [],
   "source": [
    "df_res = df_empty_index.join(df_temp)"
   ]
  },
  {
   "cell_type": "code",
   "execution_count": 23,
   "metadata": {
    "scrolled": true
   },
   "outputs": [
    {
     "data": {
      "text/html": [
       "<div>\n",
       "<style scoped>\n",
       "    .dataframe tbody tr th:only-of-type {\n",
       "        vertical-align: middle;\n",
       "    }\n",
       "\n",
       "    .dataframe tbody tr th {\n",
       "        vertical-align: top;\n",
       "    }\n",
       "\n",
       "    .dataframe thead th {\n",
       "        text-align: right;\n",
       "    }\n",
       "</style>\n",
       "<table border=\"1\" class=\"dataframe\">\n",
       "  <thead>\n",
       "    <tr style=\"text-align: right;\">\n",
       "      <th></th>\n",
       "      <th>Algeria</th>\n",
       "      <th>Argentina</th>\n",
       "      <th>Australia</th>\n",
       "      <th>Austria</th>\n",
       "      <th>Bahrain</th>\n",
       "      <th>Bangladesh</th>\n",
       "      <th>Belarus</th>\n",
       "      <th>Belgium</th>\n",
       "      <th>Bolivia</th>\n",
       "      <th>Bulgaria</th>\n",
       "      <th>...</th>\n",
       "      <th>Tunisia</th>\n",
       "      <th>Turkey</th>\n",
       "      <th>Ukraine</th>\n",
       "      <th>United Arab Emirates</th>\n",
       "      <th>United Kingdom</th>\n",
       "      <th>United States</th>\n",
       "      <th>Uruguay</th>\n",
       "      <th>Vietnam</th>\n",
       "      <th>Zambia</th>\n",
       "      <th>Zimbabwe</th>\n",
       "    </tr>\n",
       "  </thead>\n",
       "  <tbody>\n",
       "    <tr>\n",
       "      <th>2020-03-01</th>\n",
       "      <td>3.0</td>\n",
       "      <td>NaN</td>\n",
       "      <td>26.0</td>\n",
       "      <td>10.0</td>\n",
       "      <td>41.0</td>\n",
       "      <td>NaN</td>\n",
       "      <td>1.0</td>\n",
       "      <td>1.0</td>\n",
       "      <td>NaN</td>\n",
       "      <td>NaN</td>\n",
       "      <td>...</td>\n",
       "      <td>NaN</td>\n",
       "      <td>NaN</td>\n",
       "      <td>NaN</td>\n",
       "      <td>21.0</td>\n",
       "      <td>42.0</td>\n",
       "      <td>69.0</td>\n",
       "      <td>NaN</td>\n",
       "      <td>16.0</td>\n",
       "      <td>NaN</td>\n",
       "      <td>NaN</td>\n",
       "    </tr>\n",
       "    <tr>\n",
       "      <th>2020-03-02</th>\n",
       "      <td>3.0</td>\n",
       "      <td>NaN</td>\n",
       "      <td>29.0</td>\n",
       "      <td>14.0</td>\n",
       "      <td>47.0</td>\n",
       "      <td>NaN</td>\n",
       "      <td>1.0</td>\n",
       "      <td>19.0</td>\n",
       "      <td>NaN</td>\n",
       "      <td>NaN</td>\n",
       "      <td>...</td>\n",
       "      <td>NaN</td>\n",
       "      <td>NaN</td>\n",
       "      <td>NaN</td>\n",
       "      <td>21.0</td>\n",
       "      <td>47.0</td>\n",
       "      <td>89.0</td>\n",
       "      <td>NaN</td>\n",
       "      <td>16.0</td>\n",
       "      <td>NaN</td>\n",
       "      <td>NaN</td>\n",
       "    </tr>\n",
       "    <tr>\n",
       "      <th>2020-03-03</th>\n",
       "      <td>NaN</td>\n",
       "      <td>NaN</td>\n",
       "      <td>33.0</td>\n",
       "      <td>18.0</td>\n",
       "      <td>NaN</td>\n",
       "      <td>NaN</td>\n",
       "      <td>NaN</td>\n",
       "      <td>38.0</td>\n",
       "      <td>NaN</td>\n",
       "      <td>NaN</td>\n",
       "      <td>...</td>\n",
       "      <td>1.0</td>\n",
       "      <td>NaN</td>\n",
       "      <td>NaN</td>\n",
       "      <td>NaN</td>\n",
       "      <td>69.0</td>\n",
       "      <td>103.0</td>\n",
       "      <td>NaN</td>\n",
       "      <td>NaN</td>\n",
       "      <td>NaN</td>\n",
       "      <td>NaN</td>\n",
       "    </tr>\n",
       "    <tr>\n",
       "      <th>2020-03-04</th>\n",
       "      <td>5.0</td>\n",
       "      <td>1.0</td>\n",
       "      <td>41.0</td>\n",
       "      <td>24.0</td>\n",
       "      <td>49.0</td>\n",
       "      <td>NaN</td>\n",
       "      <td>4.0</td>\n",
       "      <td>72.0</td>\n",
       "      <td>NaN</td>\n",
       "      <td>NaN</td>\n",
       "      <td>...</td>\n",
       "      <td>NaN</td>\n",
       "      <td>NaN</td>\n",
       "      <td>1.0</td>\n",
       "      <td>27.0</td>\n",
       "      <td>109.0</td>\n",
       "      <td>125.0</td>\n",
       "      <td>NaN</td>\n",
       "      <td>NaN</td>\n",
       "      <td>NaN</td>\n",
       "      <td>NaN</td>\n",
       "    </tr>\n",
       "  </tbody>\n",
       "</table>\n",
       "<p>4 rows × 83 columns</p>\n",
       "</div>"
      ],
      "text/plain": [
       "            Algeria  Argentina  Australia  Austria  Bahrain  Bangladesh  \\\n",
       "2020-03-01      3.0        NaN       26.0     10.0     41.0         NaN   \n",
       "2020-03-02      3.0        NaN       29.0     14.0     47.0         NaN   \n",
       "2020-03-03      NaN        NaN       33.0     18.0      NaN         NaN   \n",
       "2020-03-04      5.0        1.0       41.0     24.0     49.0         NaN   \n",
       "\n",
       "            Belarus  Belgium  Bolivia  Bulgaria  ...  Tunisia  Turkey  \\\n",
       "2020-03-01      1.0      1.0      NaN       NaN  ...      NaN     NaN   \n",
       "2020-03-02      1.0     19.0      NaN       NaN  ...      NaN     NaN   \n",
       "2020-03-03      NaN     38.0      NaN       NaN  ...      1.0     NaN   \n",
       "2020-03-04      4.0     72.0      NaN       NaN  ...      NaN     NaN   \n",
       "\n",
       "            Ukraine  United Arab Emirates  United Kingdom  United States  \\\n",
       "2020-03-01      NaN                  21.0            42.0           69.0   \n",
       "2020-03-02      NaN                  21.0            47.0           89.0   \n",
       "2020-03-03      NaN                   NaN            69.0          103.0   \n",
       "2020-03-04      1.0                  27.0           109.0          125.0   \n",
       "\n",
       "            Uruguay  Vietnam  Zambia  Zimbabwe  \n",
       "2020-03-01      NaN     16.0     NaN       NaN  \n",
       "2020-03-02      NaN     16.0     NaN       NaN  \n",
       "2020-03-03      NaN      NaN     NaN       NaN  \n",
       "2020-03-04      NaN      NaN     NaN       NaN  \n",
       "\n",
       "[4 rows x 83 columns]"
      ]
     },
     "execution_count": 23,
     "metadata": {},
     "output_type": "execute_result"
    }
   ],
   "source": [
    "df_res.head(4)"
   ]
  },
  {
   "cell_type": "markdown",
   "metadata": {},
   "source": [
    "Replace all NaN values with zero:"
   ]
  },
  {
   "cell_type": "code",
   "execution_count": 24,
   "metadata": {},
   "outputs": [],
   "source": [
    "df_res.fillna(0, inplace=True)"
   ]
  },
  {
   "cell_type": "code",
   "execution_count": 25,
   "metadata": {},
   "outputs": [
    {
     "data": {
      "text/html": [
       "<div>\n",
       "<style scoped>\n",
       "    .dataframe tbody tr th:only-of-type {\n",
       "        vertical-align: middle;\n",
       "    }\n",
       "\n",
       "    .dataframe tbody tr th {\n",
       "        vertical-align: top;\n",
       "    }\n",
       "\n",
       "    .dataframe thead th {\n",
       "        text-align: right;\n",
       "    }\n",
       "</style>\n",
       "<table border=\"1\" class=\"dataframe\">\n",
       "  <thead>\n",
       "    <tr style=\"text-align: right;\">\n",
       "      <th></th>\n",
       "      <th>Algeria</th>\n",
       "      <th>Argentina</th>\n",
       "      <th>Australia</th>\n",
       "      <th>Austria</th>\n",
       "      <th>Bahrain</th>\n",
       "      <th>Bangladesh</th>\n",
       "      <th>Belarus</th>\n",
       "      <th>Belgium</th>\n",
       "      <th>Bolivia</th>\n",
       "      <th>Bulgaria</th>\n",
       "      <th>...</th>\n",
       "      <th>Tunisia</th>\n",
       "      <th>Turkey</th>\n",
       "      <th>Ukraine</th>\n",
       "      <th>United Arab Emirates</th>\n",
       "      <th>United Kingdom</th>\n",
       "      <th>United States</th>\n",
       "      <th>Uruguay</th>\n",
       "      <th>Vietnam</th>\n",
       "      <th>Zambia</th>\n",
       "      <th>Zimbabwe</th>\n",
       "    </tr>\n",
       "  </thead>\n",
       "  <tbody>\n",
       "    <tr>\n",
       "      <th>2020-03-01</th>\n",
       "      <td>3.0</td>\n",
       "      <td>0.0</td>\n",
       "      <td>26.0</td>\n",
       "      <td>10.0</td>\n",
       "      <td>41.0</td>\n",
       "      <td>0.0</td>\n",
       "      <td>1.0</td>\n",
       "      <td>1.0</td>\n",
       "      <td>0.0</td>\n",
       "      <td>0.0</td>\n",
       "      <td>...</td>\n",
       "      <td>0.0</td>\n",
       "      <td>0.0</td>\n",
       "      <td>0.0</td>\n",
       "      <td>21.0</td>\n",
       "      <td>42.0</td>\n",
       "      <td>69.0</td>\n",
       "      <td>0.0</td>\n",
       "      <td>16.0</td>\n",
       "      <td>0.0</td>\n",
       "      <td>0.0</td>\n",
       "    </tr>\n",
       "    <tr>\n",
       "      <th>2020-03-02</th>\n",
       "      <td>3.0</td>\n",
       "      <td>0.0</td>\n",
       "      <td>29.0</td>\n",
       "      <td>14.0</td>\n",
       "      <td>47.0</td>\n",
       "      <td>0.0</td>\n",
       "      <td>1.0</td>\n",
       "      <td>19.0</td>\n",
       "      <td>0.0</td>\n",
       "      <td>0.0</td>\n",
       "      <td>...</td>\n",
       "      <td>0.0</td>\n",
       "      <td>0.0</td>\n",
       "      <td>0.0</td>\n",
       "      <td>21.0</td>\n",
       "      <td>47.0</td>\n",
       "      <td>89.0</td>\n",
       "      <td>0.0</td>\n",
       "      <td>16.0</td>\n",
       "      <td>0.0</td>\n",
       "      <td>0.0</td>\n",
       "    </tr>\n",
       "    <tr>\n",
       "      <th>2020-03-03</th>\n",
       "      <td>0.0</td>\n",
       "      <td>0.0</td>\n",
       "      <td>33.0</td>\n",
       "      <td>18.0</td>\n",
       "      <td>0.0</td>\n",
       "      <td>0.0</td>\n",
       "      <td>0.0</td>\n",
       "      <td>38.0</td>\n",
       "      <td>0.0</td>\n",
       "      <td>0.0</td>\n",
       "      <td>...</td>\n",
       "      <td>1.0</td>\n",
       "      <td>0.0</td>\n",
       "      <td>0.0</td>\n",
       "      <td>0.0</td>\n",
       "      <td>69.0</td>\n",
       "      <td>103.0</td>\n",
       "      <td>0.0</td>\n",
       "      <td>0.0</td>\n",
       "      <td>0.0</td>\n",
       "      <td>0.0</td>\n",
       "    </tr>\n",
       "    <tr>\n",
       "      <th>2020-03-04</th>\n",
       "      <td>5.0</td>\n",
       "      <td>1.0</td>\n",
       "      <td>41.0</td>\n",
       "      <td>24.0</td>\n",
       "      <td>49.0</td>\n",
       "      <td>0.0</td>\n",
       "      <td>4.0</td>\n",
       "      <td>72.0</td>\n",
       "      <td>0.0</td>\n",
       "      <td>0.0</td>\n",
       "      <td>...</td>\n",
       "      <td>0.0</td>\n",
       "      <td>0.0</td>\n",
       "      <td>1.0</td>\n",
       "      <td>27.0</td>\n",
       "      <td>109.0</td>\n",
       "      <td>125.0</td>\n",
       "      <td>0.0</td>\n",
       "      <td>0.0</td>\n",
       "      <td>0.0</td>\n",
       "      <td>0.0</td>\n",
       "    </tr>\n",
       "  </tbody>\n",
       "</table>\n",
       "<p>4 rows × 83 columns</p>\n",
       "</div>"
      ],
      "text/plain": [
       "            Algeria  Argentina  Australia  Austria  Bahrain  Bangladesh  \\\n",
       "2020-03-01      3.0        0.0       26.0     10.0     41.0         0.0   \n",
       "2020-03-02      3.0        0.0       29.0     14.0     47.0         0.0   \n",
       "2020-03-03      0.0        0.0       33.0     18.0      0.0         0.0   \n",
       "2020-03-04      5.0        1.0       41.0     24.0     49.0         0.0   \n",
       "\n",
       "            Belarus  Belgium  Bolivia  Bulgaria  ...  Tunisia  Turkey  \\\n",
       "2020-03-01      1.0      1.0      0.0       0.0  ...      0.0     0.0   \n",
       "2020-03-02      1.0     19.0      0.0       0.0  ...      0.0     0.0   \n",
       "2020-03-03      0.0     38.0      0.0       0.0  ...      1.0     0.0   \n",
       "2020-03-04      4.0     72.0      0.0       0.0  ...      0.0     0.0   \n",
       "\n",
       "            Ukraine  United Arab Emirates  United Kingdom  United States  \\\n",
       "2020-03-01      0.0                  21.0            42.0           69.0   \n",
       "2020-03-02      0.0                  21.0            47.0           89.0   \n",
       "2020-03-03      0.0                   0.0            69.0          103.0   \n",
       "2020-03-04      1.0                  27.0           109.0          125.0   \n",
       "\n",
       "            Uruguay  Vietnam  Zambia  Zimbabwe  \n",
       "2020-03-01      0.0     16.0     0.0       0.0  \n",
       "2020-03-02      0.0     16.0     0.0       0.0  \n",
       "2020-03-03      0.0      0.0     0.0       0.0  \n",
       "2020-03-04      0.0      0.0     0.0       0.0  \n",
       "\n",
       "[4 rows x 83 columns]"
      ]
     },
     "execution_count": 25,
     "metadata": {},
     "output_type": "execute_result"
    }
   ],
   "source": [
    "df_res.head(4)"
   ]
  },
  {
   "cell_type": "markdown",
   "metadata": {},
   "source": [
    "Fill all zero values that appear post a value greater than zero with most recent past value:"
   ]
  },
  {
   "cell_type": "code",
   "execution_count": 26,
   "metadata": {},
   "outputs": [
    {
     "data": {
      "text/plain": [
       "Algeria          None\n",
       "Argentina        None\n",
       "Australia        None\n",
       "Austria          None\n",
       "Bahrain          None\n",
       "                 ... \n",
       "United States    None\n",
       "Uruguay          None\n",
       "Vietnam          None\n",
       "Zambia           None\n",
       "Zimbabwe         None\n",
       "Length: 83, dtype: object"
      ]
     },
     "execution_count": 26,
     "metadata": {},
     "output_type": "execute_result"
    }
   ],
   "source": [
    "df_res.replace(to_replace=0, method='ffill', inplace=True)"
   ]
  },
  {
   "cell_type": "code",
   "execution_count": 27,
   "metadata": {},
   "outputs": [
    {
     "data": {
      "text/html": [
       "<div>\n",
       "<style scoped>\n",
       "    .dataframe tbody tr th:only-of-type {\n",
       "        vertical-align: middle;\n",
       "    }\n",
       "\n",
       "    .dataframe tbody tr th {\n",
       "        vertical-align: top;\n",
       "    }\n",
       "\n",
       "    .dataframe thead th {\n",
       "        text-align: right;\n",
       "    }\n",
       "</style>\n",
       "<table border=\"1\" class=\"dataframe\">\n",
       "  <thead>\n",
       "    <tr style=\"text-align: right;\">\n",
       "      <th></th>\n",
       "      <th>Algeria</th>\n",
       "      <th>Argentina</th>\n",
       "      <th>Australia</th>\n",
       "      <th>Austria</th>\n",
       "      <th>Bahrain</th>\n",
       "      <th>Bangladesh</th>\n",
       "      <th>Belarus</th>\n",
       "      <th>Belgium</th>\n",
       "      <th>Bolivia</th>\n",
       "      <th>Bulgaria</th>\n",
       "      <th>...</th>\n",
       "      <th>Tunisia</th>\n",
       "      <th>Turkey</th>\n",
       "      <th>Ukraine</th>\n",
       "      <th>United Arab Emirates</th>\n",
       "      <th>United Kingdom</th>\n",
       "      <th>United States</th>\n",
       "      <th>Uruguay</th>\n",
       "      <th>Vietnam</th>\n",
       "      <th>Zambia</th>\n",
       "      <th>Zimbabwe</th>\n",
       "    </tr>\n",
       "  </thead>\n",
       "  <tbody>\n",
       "    <tr>\n",
       "      <th>2020-03-01</th>\n",
       "      <td>3.0</td>\n",
       "      <td>0.0</td>\n",
       "      <td>26.0</td>\n",
       "      <td>10.0</td>\n",
       "      <td>41.0</td>\n",
       "      <td>0.0</td>\n",
       "      <td>1.0</td>\n",
       "      <td>1.0</td>\n",
       "      <td>0.0</td>\n",
       "      <td>0.0</td>\n",
       "      <td>...</td>\n",
       "      <td>0.0</td>\n",
       "      <td>0.0</td>\n",
       "      <td>0.0</td>\n",
       "      <td>21.0</td>\n",
       "      <td>42.0</td>\n",
       "      <td>69.0</td>\n",
       "      <td>0.0</td>\n",
       "      <td>16.0</td>\n",
       "      <td>0.0</td>\n",
       "      <td>0.0</td>\n",
       "    </tr>\n",
       "    <tr>\n",
       "      <th>2020-03-02</th>\n",
       "      <td>3.0</td>\n",
       "      <td>0.0</td>\n",
       "      <td>29.0</td>\n",
       "      <td>14.0</td>\n",
       "      <td>47.0</td>\n",
       "      <td>0.0</td>\n",
       "      <td>1.0</td>\n",
       "      <td>19.0</td>\n",
       "      <td>0.0</td>\n",
       "      <td>0.0</td>\n",
       "      <td>...</td>\n",
       "      <td>0.0</td>\n",
       "      <td>0.0</td>\n",
       "      <td>0.0</td>\n",
       "      <td>21.0</td>\n",
       "      <td>47.0</td>\n",
       "      <td>89.0</td>\n",
       "      <td>0.0</td>\n",
       "      <td>16.0</td>\n",
       "      <td>0.0</td>\n",
       "      <td>0.0</td>\n",
       "    </tr>\n",
       "    <tr>\n",
       "      <th>2020-03-03</th>\n",
       "      <td>3.0</td>\n",
       "      <td>0.0</td>\n",
       "      <td>33.0</td>\n",
       "      <td>18.0</td>\n",
       "      <td>47.0</td>\n",
       "      <td>0.0</td>\n",
       "      <td>1.0</td>\n",
       "      <td>38.0</td>\n",
       "      <td>0.0</td>\n",
       "      <td>0.0</td>\n",
       "      <td>...</td>\n",
       "      <td>1.0</td>\n",
       "      <td>0.0</td>\n",
       "      <td>0.0</td>\n",
       "      <td>21.0</td>\n",
       "      <td>69.0</td>\n",
       "      <td>103.0</td>\n",
       "      <td>0.0</td>\n",
       "      <td>16.0</td>\n",
       "      <td>0.0</td>\n",
       "      <td>0.0</td>\n",
       "    </tr>\n",
       "    <tr>\n",
       "      <th>2020-03-04</th>\n",
       "      <td>5.0</td>\n",
       "      <td>1.0</td>\n",
       "      <td>41.0</td>\n",
       "      <td>24.0</td>\n",
       "      <td>49.0</td>\n",
       "      <td>0.0</td>\n",
       "      <td>4.0</td>\n",
       "      <td>72.0</td>\n",
       "      <td>0.0</td>\n",
       "      <td>0.0</td>\n",
       "      <td>...</td>\n",
       "      <td>1.0</td>\n",
       "      <td>0.0</td>\n",
       "      <td>1.0</td>\n",
       "      <td>27.0</td>\n",
       "      <td>109.0</td>\n",
       "      <td>125.0</td>\n",
       "      <td>0.0</td>\n",
       "      <td>16.0</td>\n",
       "      <td>0.0</td>\n",
       "      <td>0.0</td>\n",
       "    </tr>\n",
       "  </tbody>\n",
       "</table>\n",
       "<p>4 rows × 83 columns</p>\n",
       "</div>"
      ],
      "text/plain": [
       "            Algeria  Argentina  Australia  Austria  Bahrain  Bangladesh  \\\n",
       "2020-03-01      3.0        0.0       26.0     10.0     41.0         0.0   \n",
       "2020-03-02      3.0        0.0       29.0     14.0     47.0         0.0   \n",
       "2020-03-03      3.0        0.0       33.0     18.0     47.0         0.0   \n",
       "2020-03-04      5.0        1.0       41.0     24.0     49.0         0.0   \n",
       "\n",
       "            Belarus  Belgium  Bolivia  Bulgaria  ...  Tunisia  Turkey  \\\n",
       "2020-03-01      1.0      1.0      0.0       0.0  ...      0.0     0.0   \n",
       "2020-03-02      1.0     19.0      0.0       0.0  ...      0.0     0.0   \n",
       "2020-03-03      1.0     38.0      0.0       0.0  ...      1.0     0.0   \n",
       "2020-03-04      4.0     72.0      0.0       0.0  ...      1.0     0.0   \n",
       "\n",
       "            Ukraine  United Arab Emirates  United Kingdom  United States  \\\n",
       "2020-03-01      0.0                  21.0            42.0           69.0   \n",
       "2020-03-02      0.0                  21.0            47.0           89.0   \n",
       "2020-03-03      0.0                  21.0            69.0          103.0   \n",
       "2020-03-04      1.0                  27.0           109.0          125.0   \n",
       "\n",
       "            Uruguay  Vietnam  Zambia  Zimbabwe  \n",
       "2020-03-01      0.0     16.0     0.0       0.0  \n",
       "2020-03-02      0.0     16.0     0.0       0.0  \n",
       "2020-03-03      0.0     16.0     0.0       0.0  \n",
       "2020-03-04      0.0     16.0     0.0       0.0  \n",
       "\n",
       "[4 rows x 83 columns]"
      ]
     },
     "execution_count": 27,
     "metadata": {},
     "output_type": "execute_result"
    }
   ],
   "source": [
    "df_res.head(4)"
   ]
  },
  {
   "cell_type": "markdown",
   "metadata": {},
   "source": [
    "Testing has shown that Bahrain and Quatars covid case timeseries behave like outliers, and these countries are therefore removed from the dataframe"
   ]
  },
  {
   "cell_type": "code",
   "execution_count": 28,
   "metadata": {},
   "outputs": [],
   "source": [
    "df_res.drop(['Bahrain','Qatar'], axis=1, inplace=True)"
   ]
  },
  {
   "cell_type": "markdown",
   "metadata": {},
   "source": [
    "Save dataframe to csv:"
   ]
  },
  {
   "cell_type": "code",
   "execution_count": 29,
   "metadata": {},
   "outputs": [],
   "source": [
    "#df_res.to_parquet('covid_cases_ver_2.parquet')"
   ]
  },
  {
   "cell_type": "markdown",
   "metadata": {},
   "source": [
    "## Data transformation ##"
   ]
  },
  {
   "cell_type": "markdown",
   "metadata": {},
   "source": [
    "### Z-transform ###"
   ]
  },
  {
   "cell_type": "code",
   "execution_count": 30,
   "metadata": {},
   "outputs": [],
   "source": [
    "means=df_res.mean(axis=0)\n",
    "stds=df_res.std(axis=0)\n",
    "\n",
    "z_df=df_res.copy()\n",
    "for col in df_res.columns:\n",
    "    z_df[col]=(df_res[col]-means[col])/stds[col]"
   ]
  },
  {
   "cell_type": "code",
   "execution_count": 31,
   "metadata": {},
   "outputs": [
    {
     "data": {
      "text/plain": [
       "<matplotlib.axes._subplots.AxesSubplot at 0x11acdd7f0>"
      ]
     },
     "execution_count": 31,
     "metadata": {},
     "output_type": "execute_result"
    },
    {
     "data": {
      "image/png": "[encoded data removed]",
      "text/plain": [
       "<Figure size 432x288 with 1 Axes>"
      ]
     },
     "metadata": {
      "needs_background": "light"
     },
     "output_type": "display_data"
    }
   ],
   "source": [
    "z_df.plot(legend='')"
   ]
  },
  {
   "cell_type": "code",
   "execution_count": 32,
   "metadata": {},
   "outputs": [
    {
     "data": {
      "text/html": [
       "<div>\n",
       "<style scoped>\n",
       "    .dataframe tbody tr th:only-of-type {\n",
       "        vertical-align: middle;\n",
       "    }\n",
       "\n",
       "    .dataframe tbody tr th {\n",
       "        vertical-align: top;\n",
       "    }\n",
       "\n",
       "    .dataframe thead th {\n",
       "        text-align: right;\n",
       "    }\n",
       "</style>\n",
       "<table border=\"1\" class=\"dataframe\">\n",
       "  <thead>\n",
       "    <tr style=\"text-align: right;\">\n",
       "      <th></th>\n",
       "      <th>Algeria</th>\n",
       "      <th>Argentina</th>\n",
       "      <th>Australia</th>\n",
       "      <th>Austria</th>\n",
       "      <th>Bangladesh</th>\n",
       "      <th>Belarus</th>\n",
       "      <th>Belgium</th>\n",
       "      <th>Bolivia</th>\n",
       "      <th>Bulgaria</th>\n",
       "      <th>Canada</th>\n",
       "      <th>...</th>\n",
       "      <th>Tunisia</th>\n",
       "      <th>Turkey</th>\n",
       "      <th>Ukraine</th>\n",
       "      <th>United Arab Emirates</th>\n",
       "      <th>United Kingdom</th>\n",
       "      <th>United States</th>\n",
       "      <th>Uruguay</th>\n",
       "      <th>Vietnam</th>\n",
       "      <th>Zambia</th>\n",
       "      <th>Zimbabwe</th>\n",
       "    </tr>\n",
       "  </thead>\n",
       "  <tbody>\n",
       "    <tr>\n",
       "      <th>2020-03-01</th>\n",
       "      <td>-1.016766</td>\n",
       "      <td>-0.704723</td>\n",
       "      <td>-1.314497</td>\n",
       "      <td>-2.128248</td>\n",
       "      <td>-0.974537</td>\n",
       "      <td>-1.383280</td>\n",
       "      <td>-2.021154</td>\n",
       "      <td>-0.852664</td>\n",
       "      <td>-0.982762</td>\n",
       "      <td>-1.692528</td>\n",
       "      <td>...</td>\n",
       "      <td>-0.994483</td>\n",
       "      <td>-1.677526</td>\n",
       "      <td>-0.977963</td>\n",
       "      <td>-1.334201</td>\n",
       "      <td>-1.828760</td>\n",
       "      <td>-1.206989</td>\n",
       "      <td>-1.733456</td>\n",
       "      <td>-1.337746</td>\n",
       "      <td>-0.739615</td>\n",
       "      <td>-0.683331</td>\n",
       "    </tr>\n",
       "    <tr>\n",
       "      <th>2020-03-02</th>\n",
       "      <td>-1.016766</td>\n",
       "      <td>-0.704723</td>\n",
       "      <td>-1.314127</td>\n",
       "      <td>-2.127737</td>\n",
       "      <td>-0.974537</td>\n",
       "      <td>-1.383280</td>\n",
       "      <td>-2.020472</td>\n",
       "      <td>-0.852664</td>\n",
       "      <td>-0.982762</td>\n",
       "      <td>-1.692440</td>\n",
       "      <td>...</td>\n",
       "      <td>-0.994483</td>\n",
       "      <td>-1.677526</td>\n",
       "      <td>-0.977963</td>\n",
       "      <td>-1.334201</td>\n",
       "      <td>-1.828718</td>\n",
       "      <td>-1.206979</td>\n",
       "      <td>-1.733456</td>\n",
       "      <td>-1.337746</td>\n",
       "      <td>-0.739615</td>\n",
       "      <td>-0.683331</td>\n",
       "    </tr>\n",
       "    <tr>\n",
       "      <th>2020-03-03</th>\n",
       "      <td>-1.016766</td>\n",
       "      <td>-0.704723</td>\n",
       "      <td>-1.313633</td>\n",
       "      <td>-2.127226</td>\n",
       "      <td>-0.974537</td>\n",
       "      <td>-1.383280</td>\n",
       "      <td>-2.019753</td>\n",
       "      <td>-0.852664</td>\n",
       "      <td>-0.982762</td>\n",
       "      <td>-1.692375</td>\n",
       "      <td>...</td>\n",
       "      <td>-0.993805</td>\n",
       "      <td>-1.677526</td>\n",
       "      <td>-0.977963</td>\n",
       "      <td>-1.334201</td>\n",
       "      <td>-1.828530</td>\n",
       "      <td>-1.206972</td>\n",
       "      <td>-1.733456</td>\n",
       "      <td>-1.337746</td>\n",
       "      <td>-0.739615</td>\n",
       "      <td>-0.683331</td>\n",
       "    </tr>\n",
       "    <tr>\n",
       "      <th>2020-03-04</th>\n",
       "      <td>-1.016640</td>\n",
       "      <td>-0.704717</td>\n",
       "      <td>-1.312644</td>\n",
       "      <td>-2.126459</td>\n",
       "      <td>-0.974537</td>\n",
       "      <td>-1.383176</td>\n",
       "      <td>-2.018465</td>\n",
       "      <td>-0.852664</td>\n",
       "      <td>-0.982762</td>\n",
       "      <td>-1.692310</td>\n",
       "      <td>...</td>\n",
       "      <td>-0.993805</td>\n",
       "      <td>-1.677526</td>\n",
       "      <td>-0.977941</td>\n",
       "      <td>-1.333975</td>\n",
       "      <td>-1.828189</td>\n",
       "      <td>-1.206962</td>\n",
       "      <td>-1.733456</td>\n",
       "      <td>-1.337746</td>\n",
       "      <td>-0.739615</td>\n",
       "      <td>-0.683331</td>\n",
       "    </tr>\n",
       "  </tbody>\n",
       "</table>\n",
       "<p>4 rows × 81 columns</p>\n",
       "</div>"
      ],
      "text/plain": [
       "             Algeria  Argentina  Australia   Austria  Bangladesh   Belarus  \\\n",
       "2020-03-01 -1.016766  -0.704723  -1.314497 -2.128248   -0.974537 -1.383280   \n",
       "2020-03-02 -1.016766  -0.704723  -1.314127 -2.127737   -0.974537 -1.383280   \n",
       "2020-03-03 -1.016766  -0.704723  -1.313633 -2.127226   -0.974537 -1.383280   \n",
       "2020-03-04 -1.016640  -0.704717  -1.312644 -2.126459   -0.974537 -1.383176   \n",
       "\n",
       "             Belgium   Bolivia  Bulgaria    Canada  ...   Tunisia    Turkey  \\\n",
       "2020-03-01 -2.021154 -0.852664 -0.982762 -1.692528  ... -0.994483 -1.677526   \n",
       "2020-03-02 -2.020472 -0.852664 -0.982762 -1.692440  ... -0.994483 -1.677526   \n",
       "2020-03-03 -2.019753 -0.852664 -0.982762 -1.692375  ... -0.993805 -1.677526   \n",
       "2020-03-04 -2.018465 -0.852664 -0.982762 -1.692310  ... -0.993805 -1.677526   \n",
       "\n",
       "             Ukraine  United Arab Emirates  United Kingdom  United States  \\\n",
       "2020-03-01 -0.977963             -1.334201       -1.828760      -1.206989   \n",
       "2020-03-02 -0.977963             -1.334201       -1.828718      -1.206979   \n",
       "2020-03-03 -0.977963             -1.334201       -1.828530      -1.206972   \n",
       "2020-03-04 -0.977941             -1.333975       -1.828189      -1.206962   \n",
       "\n",
       "             Uruguay   Vietnam    Zambia  Zimbabwe  \n",
       "2020-03-01 -1.733456 -1.337746 -0.739615 -0.683331  \n",
       "2020-03-02 -1.733456 -1.337746 -0.739615 -0.683331  \n",
       "2020-03-03 -1.733456 -1.337746 -0.739615 -0.683331  \n",
       "2020-03-04 -1.733456 -1.337746 -0.739615 -0.683331  \n",
       "\n",
       "[4 rows x 81 columns]"
      ]
     },
     "execution_count": 32,
     "metadata": {},
     "output_type": "execute_result"
    }
   ],
   "source": [
    "z_df.head(4)"
   ]
  },
  {
   "cell_type": "code",
   "execution_count": 33,
   "metadata": {},
   "outputs": [],
   "source": [
    "#z_df.to_parquet('covid_cases_z_trans.parquet')"
   ]
  },
  {
   "cell_type": "markdown",
   "metadata": {},
   "source": [
    "### Cases per population ###"
   ]
  },
  {
   "cell_type": "code",
   "execution_count": 34,
   "metadata": {},
   "outputs": [],
   "source": [
    "from extract_func import extract_func"
   ]
  },
  {
   "cell_type": "code",
   "execution_count": 35,
   "metadata": {},
   "outputs": [],
   "source": [
    "cases_popu=df_res.copy()\n",
    "for col in df_res.columns:\n",
    "    cases_popu[col] = df_res[col].div(extract_func(col,'Population'))"
   ]
  },
  {
   "cell_type": "code",
   "execution_count": 36,
   "metadata": {},
   "outputs": [],
   "source": [
    "#cases_popu.to_parquet('cases_per_popu_mod.parquet')"
   ]
  },
  {
   "cell_type": "markdown",
   "metadata": {},
   "source": [
    "## **Ploting of the differnet dataframes:**"
   ]
  },
  {
   "cell_type": "code",
   "execution_count": 37,
   "metadata": {},
   "outputs": [
    {
     "data": {
      "text/plain": [
       "<matplotlib.axes._subplots.AxesSubplot at 0x11c5df5b0>"
      ]
     },
     "execution_count": 37,
     "metadata": {},
     "output_type": "execute_result"
    },
    {
     "data": {
      "image/png": "[encoded data removed]",
      "text/plain": [
       "<Figure size 432x288 with 1 Axes>"
      ]
     },
     "metadata": {
      "needs_background": "light"
     },
     "output_type": "display_data"
    }
   ],
   "source": [
    "cases_popu.plot(legend='')"
   ]
  },
  {
   "cell_type": "code",
   "execution_count": 38,
   "metadata": {},
   "outputs": [
    {
     "data": {
      "text/plain": [
       "<matplotlib.axes._subplots.AxesSubplot at 0x11c8b5dc0>"
      ]
     },
     "execution_count": 38,
     "metadata": {},
     "output_type": "execute_result"
    },
    {
     "data": {
      "image/png": "[encoded data removed]",
      "text/plain": [
       "<Figure size 432x288 with 1 Axes>"
      ]
     },
     "metadata": {
      "needs_background": "light"
     },
     "output_type": "display_data"
    }
   ],
   "source": [
    "df_res.plot(legend='')"
   ]
  },
  {
   "cell_type": "code",
   "execution_count": 39,
   "metadata": {},
   "outputs": [
    {
     "data": {
      "text/plain": [
       "<matplotlib.axes._subplots.AxesSubplot at 0x11cbb6250>"
      ]
     },
     "execution_count": 39,
     "metadata": {},
     "output_type": "execute_result"
    },
    {
     "data": {
      "image/png": "[encoded data removed]",
      "text/plain": [
       "<Figure size 432x288 with 1 Axes>"
      ]
     },
     "metadata": {
      "needs_background": "light"
     },
     "output_type": "display_data"
    }
   ],
   "source": [
    "z_df.plot(legend='')"
   ]
  }
 ],
 "metadata": {
  "kernelspec": {
   "display_name": "Python 3",
   "language": "python",
   "name": "python3"
  },
  "language_info": {
   "codemirror_mode": {
    "name": "ipython",
    "version": 3
   },
   "file_extension": ".py",
   "mimetype": "text/x-python",
   "name": "python",
   "nbconvert_exporter": "python",
   "pygments_lexer": "ipython3",
   "version": "3.8.3"
  }
 },
 "nbformat": 4,
 "nbformat_minor": 4
}
